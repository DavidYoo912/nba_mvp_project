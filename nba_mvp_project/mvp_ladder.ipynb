{
 "cells": [
  {
   "cell_type": "code",
   "execution_count": 1,
   "id": "dab25c33-69ca-4ab2-b68a-799a68494702",
   "metadata": {},
   "outputs": [],
   "source": [
    "import os\n",
    "import numpy as np\n",
    "import pandas as pd\n",
    "from datetime import date, datetime, timedelta\n",
    "from tqdm import tqdm\n",
    "import pickle\n",
    "import json\n",
    "\n",
    "import requests\n",
    "from urllib.error import HTTPError\n",
    "import urllib.request\n",
    "from bs4 import BeautifulSoup\n",
    "\n",
    "from basketball_reference_web_scraper import client\n",
    "from xgboost import XGBRegressor\n",
    "\n",
    "import warnings\n",
    "warnings.filterwarnings('ignore')\n",
    "\n",
    "#pandas show all columns\n",
    "pd.set_option('display.max_columns', None)"
   ]
  },
  {
   "cell_type": "code",
   "execution_count": 2,
   "id": "573bdb05-f67e-4684-b99c-96a1a23f8eba",
   "metadata": {},
   "outputs": [],
   "source": [
    "#load team to abbreviation mapping\n",
    "with open(os.path.dirname(os.getcwd()) + '/scripts' + '/team_to_abbreviations.json') as f:\n",
    "      team_to_abbreviations = json.load(f)"
   ]
  },
  {
   "cell_type": "code",
   "execution_count": 3,
   "id": "03439533-fb83-4254-8d0f-adf944f2217c",
   "metadata": {},
   "outputs": [],
   "source": [
    "filter_advanced = [\n",
    "        'name',\n",
    "        'player_efficiency_rating',\n",
    "         'true_shooting_percentage',\n",
    "         'three_point_attempt_rate',\n",
    "         'free_throw_attempt_rate',\n",
    "         'offensive_rebound_percentage',\n",
    "         'defensive_rebound_percentage',\n",
    "         'total_rebound_percentage',\n",
    "         'assist_percentage',\n",
    "         'steal_percentage',\n",
    "         'block_percentage',\n",
    "         'turnover_percentage',\n",
    "         'usage_percentage',\n",
    "         'offensive_win_shares',\n",
    "         'defensive_win_shares',\n",
    "         'win_shares',\n",
    "         'win_shares_per_48_minutes',\n",
    "         'offensive_box_plus_minus',\n",
    "         'defensive_box_plus_minus',\n",
    "         'box_plus_minus',\n",
    "         'value_over_replacement_player'\n",
    "    ]\n",
    "\n",
    "def extract_advanced_stats(year):\n",
    "    advanced_stats_df = pd.DataFrame(client.players_advanced_season_totals(season_end_year=year))\n",
    "    advanced_stats_df['year'] = year\n",
    "    \n",
    "    advanced_stats_df = advanced_stats_df[filter_advanced]\n",
    "    advanced_stats_df = advanced_stats_df.rename(columns={'name':'Player'})\n",
    "    return advanced_stats_df"
   ]
  },
  {
   "cell_type": "code",
   "execution_count": 4,
   "id": "36d4347f-331c-407e-b9ef-2fae442392b2",
   "metadata": {},
   "outputs": [],
   "source": [
    "year = 2022\n",
    "basic_stats_df = pd.DataFrame(client.players_season_totals(season_end_year=year))\n",
    "\n",
    "advanced_stats_df = pd.DataFrame(client.players_advanced_season_totals(season_end_year=year))\n",
    "advanced_stats_df = advanced_stats_df[filter_advanced]\n",
    "advanced_stats_df = advanced_stats_df.rename(columns={'name':'Player'})"
   ]
  },
  {
   "cell_type": "code",
   "execution_count": 5,
   "id": "75f86175-e634-4d45-b9b1-0bdbdca3db27",
   "metadata": {},
   "outputs": [],
   "source": [
    "filter_basic = [\n",
    "    'name',\n",
    "    'games_played',\n",
    "    'team',\n",
    "    'points',\n",
    "    'assists',\n",
    "    'offensive_rebounds',\n",
    "    'defensive_rebounds',\n",
    "    'steals',\n",
    "    'blocks',\n",
    "    'made_field_goals',\n",
    "    'attempted_field_goals',\n",
    "    'made_three_point_field_goals',\n",
    "    'attempted_three_point_field_goals'\n",
    "]\n",
    "basic_stats_df = basic_stats_df[filter_basic]\n",
    "basic_stats_df = basic_stats_df.rename(columns={'name':'Player',\n",
    "                               'points':'PTS',\n",
    "                               'assists':'AST',\n",
    "                               'steals':'STL',\n",
    "                               'blocks':'BLK',})\n",
    "\n",
    "basic_stats_df['PTS'] = basic_stats_df['PTS'] / basic_stats_df['games_played']\n",
    "basic_stats_df['AST'] = basic_stats_df['AST'] / basic_stats_df['games_played']\n",
    "basic_stats_df['STL'] = basic_stats_df['STL'] / basic_stats_df['games_played']\n",
    "basic_stats_df['BLK'] = basic_stats_df['BLK'] / basic_stats_df['games_played']\n",
    "basic_stats_df['FG%'] = basic_stats_df['made_field_goals'] / basic_stats_df['attempted_field_goals']\n",
    "basic_stats_df['3P%'] = basic_stats_df['made_three_point_field_goals'] / basic_stats_df['attempted_three_point_field_goals']\n",
    "basic_stats_df['TRB'] = (basic_stats_df['offensive_rebounds'] + basic_stats_df['defensive_rebounds']) / basic_stats_df['games_played']\n",
    "\n",
    "basic_stats_df = basic_stats_df[['Player', 'games_played', 'team', 'PTS', 'AST', 'STL', 'BLK', 'FG%' ,'3P%' , 'TRB']]\n",
    "basic_stats_df['team'] = basic_stats_df['team'].astype(str).str.slice(5,)\n",
    "basic_stats_df['team'] = basic_stats_df['team'].astype(str).str.replace('_', ' ').str.lower()"
   ]
  },
  {
   "cell_type": "code",
   "execution_count": 6,
   "id": "785c244e-ea78-423a-bd08-6e5452a158c2",
   "metadata": {},
   "outputs": [],
   "source": [
    "def extract_team_stats_new(year):\n",
    "    url = f\"https://www.basketball-reference.com/leagues/NBA_{year}_standings.html#all_confs_standings_E%22\"\n",
    "\n",
    "    #east\n",
    "    team_east_standing_table = pd.read_html(url)[0]\n",
    "    team_east_standing_table = team_east_standing_table.rename({'Eastern Conference': 'team'}, axis=1)\n",
    "    #remove 'Division' in team column (e.g. Atlantic Division)\n",
    "    team_east_standing_table = team_east_standing_table[team_east_standing_table['team'].str.contains('Division')==False]\n",
    "    new_east = team_east_standing_table[\"team\"].str.split(\"(\", n = 1, expand = True)\n",
    "    team_east_standing_table[\"team\"] = [i[:-1] for i in new_east[0]]\n",
    "    team_east_standing_table[\"seed\"] = [i[:-1] for i in new_east[1]]\n",
    "\n",
    "    #west\n",
    "    team_west_standing_table = pd.read_html(url)[1]\n",
    "    team_west_standing_table = team_west_standing_table.rename({'Western Conference': 'team'}, axis=1)\n",
    "    #remove 'Division' in team column (e.g. Atlantic Division)\n",
    "    team_west_standing_table = team_west_standing_table[team_west_standing_table['team'].str.contains('Division')==False]\n",
    "    new_west = team_west_standing_table[\"team\"].str.split(\"(\", n = 1, expand = True)\n",
    "    team_west_standing_table[\"team\"] = [i[:-1] for i in new_west[0]]\n",
    "    team_west_standing_table[\"seed\"] = [i[:-1] for i in new_west[1]]\n",
    "\n",
    "    #combine east and west \n",
    "    team_standing_table = pd.concat([team_east_standing_table, team_west_standing_table])\n",
    "    \n",
    "    #remove * in team column\n",
    "    team_standing_table.team = team_standing_table.team.str.replace('*', '')\n",
    "        \n",
    "    #map abbreviation to full team name\n",
    "    team_standing_table['Tm'] = team_standing_table['team'].map(team_to_abbreviations)\n",
    "    \n",
    "    #filter only needed columns\n",
    "    team_standing_table_sub = team_standing_table[['Tm', 'team', 'W', 'W/L%', 'seed']]\n",
    "    \n",
    "    return team_standing_table_sub"
   ]
  },
  {
   "cell_type": "code",
   "execution_count": 7,
   "id": "4abfc51b-d982-4ac0-8044-eb22feb58ed2",
   "metadata": {},
   "outputs": [],
   "source": [
    "#left merge mvp candidate with team standings table on team abbreviation\n",
    "team_standing_table_sub = extract_team_stats_new(2022)\n",
    "team_standing_table_sub['team'] = team_standing_table_sub['team'].str.lower()\n",
    "joined_table_2022 = pd.merge(basic_stats_df, team_standing_table_sub, how='left', on='team')\n",
    "joined_table_2022 = pd.merge(joined_table_2022, advanced_stats_df, how='left', on='Player')\n",
    "\n",
    "joined_table_2022.loc[joined_table_2022['Player'] == 'Nikola Jokić', 'Player'] = 'Nikola Jokic'"
   ]
  },
  {
   "cell_type": "code",
   "execution_count": null,
   "id": "ca13dafa-4646-47d5-ab45-adcc6451eef0",
   "metadata": {},
   "outputs": [],
   "source": []
  },
  {
   "cell_type": "code",
   "execution_count": 8,
   "id": "0daced10-7e4f-4063-8f57-1b4d2c158638",
   "metadata": {},
   "outputs": [],
   "source": [
    "#### "
   ]
  },
  {
   "cell_type": "code",
   "execution_count": 9,
   "id": "e2ee1e96-5628-4e24-a3c4-545a9a737bdf",
   "metadata": {},
   "outputs": [],
   "source": [
    "to_drop = [\n",
    "    'Rank',\n",
    "    'Player',\n",
    "    'Age',\n",
    "    'year',\n",
    "    'Tm',\n",
    "    'team',\n",
    "    'First',\n",
    "    'Pts Won',\n",
    "    'Pts Max',\n",
    "    'WS/48',\n",
    "    'WS',\n",
    "    'MP',\n",
    "    'G',\n",
    "    'W', \n",
    "    'FG%',\n",
    "    '3P%',\n",
    "    'STL', \n",
    "    'BLK',\n",
    "    'three_point_attempt_rate',\n",
    "    'total_rebound_percentage',\n",
    "    'offensive_rebound_percentage',\n",
    "    'block_percentage',\n",
    "    'defensive_rebound_percentage',\n",
    "    'steal_percentage',\n",
    "    'turnover_percentage',\n",
    "    'assist_percentage',\n",
    "    'AST',\n",
    "    'TRB',\n",
    "    'FT%',\n",
    "    'win_shares', \n",
    "    'box_plus_minus', \n",
    "    'defensive_box_plus_minus',\n",
    "    'offensive_win_shares', \n",
    "    'defensive_win_shares', \n",
    "    'true_shooting_percentage' \n",
    "]"
   ]
  },
  {
   "cell_type": "code",
   "execution_count": 10,
   "id": "b964a174-f949-4860-9cc5-1f7b445ce161",
   "metadata": {},
   "outputs": [],
   "source": [
    "def extract_mvp_ladder(date):\n",
    "    date_str = date.strftime(format='%m-%d-%Y')\n",
    "    date_str_split = date_str.split('-')\n",
    "    \n",
    "    date_map = {\n",
    "        '01': 'jan',\n",
    "        '02': 'feb',\n",
    "        '03': 'mar',\n",
    "        '04': 'apr',\n",
    "        '05': 'may',\n",
    "        '06': 'jun',\n",
    "        '07': 'jul',\n",
    "        '08': 'aug',\n",
    "        '09': 'sep',\n",
    "        '10': 'oct',\n",
    "        '11': 'nov',\n",
    "        '12': 'dec'\n",
    "    }\n",
    "    \n",
    "    month = date_map[date_str_split[0]]\n",
    "    day = date_str_split[1]\n",
    "    year = date_str_split[2]\n",
    "    \n",
    "    #2022 candidate table\n",
    "    url = f'https://www.nba.com/news/kia-mvp-ladder-{month}-{day}-{year}-edition'\n",
    "    try: \n",
    "        html = requests.get(url).content\n",
    "\n",
    "        soup = BeautifulSoup(html)\n",
    "        remove_line = 'Last week’s ranking'\n",
    "        remove_line2 = 'ET'\n",
    "        remove_line3 = 'The Next Five'\n",
    "\n",
    "        top_five = []\n",
    "        next_five_pre = [] \n",
    "\n",
    "        ######### TOP 5 extract #######\n",
    "        method_1_lst = []\n",
    "        for line in soup.find_all(\"h3\")[1:-1]:\n",
    "            if remove_line not in str(line):\n",
    "                name_raw = str(line).split(',')[0]\n",
    "                name_raw = name_raw.split('.')[1]\n",
    "                name = name_raw[1:]\n",
    "                method_1_lst.append(name)\n",
    "\n",
    "        method_2_lst = []\n",
    "        for line in soup.find_all(\"strong\")[1:-1]:\n",
    "            if remove_line not in str(line):\n",
    "                if remove_line2 not in str(line):\n",
    "                    if remove_line3 not in str(line):\n",
    "                        name_raw = str(line).split(',')[0]\n",
    "                        name_raw = name_raw.split('.')[1]\n",
    "                        name = name_raw[1:]\n",
    "                        method_2_lst.append(name)\n",
    "\n",
    "        top_five = method_1_lst\n",
    "        for i in method_2_lst:\n",
    "            if i not in top_five:\n",
    "                top_five.append(i)\n",
    "        top_five = [i for i in top_five if i != '/strong>']\n",
    "\n",
    "        ######### NEXT 5 extract #######\n",
    "        \n",
    "        for line in soup.find_all(\"p\"):\n",
    "            if 'week: ' in str(line):\n",
    "                name_raw = str(line).split(',')[0]\n",
    "                name_raw = name_raw.split('.')[1]\n",
    "                name = name_raw[1:]\n",
    "                #name = name.split('>')[1][1:]\n",
    "                next_five_pre.append(name)\n",
    "        next_five = [] \n",
    "        for name in next_five_pre:\n",
    "            if '/strong>' in name:\n",
    "                name = name.split('>')[1][1:]\n",
    "                next_five.append(name)\n",
    "            else:\n",
    "                next_five.append(name)\n",
    "\n",
    "        top_ten = top_five + next_five\n",
    "        return top_ten\n",
    "    except HTTPError as err:\n",
    "        print(f'no mvp race has been found for this date yet: {date}')"
   ]
  },
  {
   "cell_type": "code",
   "execution_count": 11,
   "id": "acaba5c0-2a59-4084-b678-a0402cf287fa",
   "metadata": {},
   "outputs": [],
   "source": [
    "#ONLY ADDS INFO FOR DATE THAT IS NOT IN DICT YET\n",
    "def compile_ladder_dict(mvp_ladder_by_date, datetime_lst, joined_table_2022):\n",
    "\n",
    "    for date in datetime_lst:\n",
    "        if date not in list(mvp_ladder_by_date.keys()):\n",
    "            top_ten = extract_mvp_ladder(date=date)\n",
    "            date_str = date.strftime(format='%m-%d-%Y')\n",
    "            print(f'extracting top 10 for {date_str}')\n",
    "\n",
    "            #left merge mvp candidate with team standings table on team abbreviation\n",
    "            team_standing_table_sub = extract_team_stats_new(2022)\n",
    "            team_standing_table_sub['team'] = team_standing_table_sub['team'].str.lower()\n",
    "            joined_table_2022 = pd.merge(basic_stats_df, team_standing_table_sub, how='left', on='team')\n",
    "            joined_table_2022 = pd.merge(joined_table_2022, advanced_stats_df, how='left', on='Player')\n",
    "            joined_table_2022.loc[joined_table_2022['Player'] == 'Nikola Jokić', 'Player'] = 'Nikola Jokic'\n",
    "            \n",
    "            joined_table_2022 = joined_table_2022[joined_table_2022['Player'].isin(top_ten)]\n",
    "            # adjust VORP at the current pace and project to rest of the season\n",
    "            joined_table_2022_sub = joined_table_2022[['Player', 'games_played', 'value_over_replacement_player']]\n",
    "            joined_table_2022_sub['games'] = 82\n",
    "            joined_table_2022_sub['games_left'] = (joined_table_2022_sub['games'] - joined_table_2022_sub['games_played'])\n",
    "            joined_table_2022_sub['vorp/games_played'] = (joined_table_2022_sub['value_over_replacement_player'] / joined_table_2022_sub['games_played'])\n",
    "            joined_table_2022_sub['adjusted_vorp'] = (joined_table_2022_sub['vorp/games_played'] * joined_table_2022_sub['games_left']) + joined_table_2022_sub['value_over_replacement_player']\n",
    "            joined_table_2022['value_over_replacement_player'] = joined_table_2022_sub['adjusted_vorp']\n",
    "\n",
    "            mvp_ladder_by_date[date_str] = {'ladder': top_ten, 'stats': joined_table_2022.to_json()}\n",
    "        return mvp_ladder_by_date"
   ]
  },
  {
   "cell_type": "code",
   "execution_count": 12,
   "id": "5b8bbfcd-0ff4-4bcd-8f13-4d79df4abf06",
   "metadata": {},
   "outputs": [],
   "source": [
    "def prep_train_test(df, forecast_df):\n",
    "    #train; using hitorical data from 1980 - 2021\n",
    "    forecast_X_train_df = df.copy()\n",
    "    forecast_X_train_df.drop(to_drop, axis=1, inplace=True)\n",
    "    forecast_y_train_df = forecast_X_train_df['Share']\n",
    "    forecast_X_train_df.drop(['Share'], axis=1, inplace=True)\n",
    "    \n",
    "    #data to be forecasted: 2022 mvp candidates from NBA's MVP ladder\n",
    "    xgb_cols = ['PTS', 'W/L%', 'seed', 'player_efficiency_rating', 'free_throw_attempt_rate', 'usage_percentage', 'win_shares_per_48_minutes', 'offensive_box_plus_minus', 'value_over_replacement_player']\n",
    "    data_2022_cleaned = forecast_df.copy()\n",
    "    data_2022_cleaned = data_2022_cleaned[list(xgb_cols)]\n",
    "    forecast_X_test_df = data_2022_cleaned\n",
    "    \n",
    "    #print(f'Training dataset columns: \\n{list(forecast_X_train_df.columns)} \\n')\n",
    "    #print(f'Forecasting dataset columns: \\n{list(forecast_X_test_df.columns)}')\n",
    "    return forecast_X_train_df, forecast_y_train_df, forecast_X_test_df"
   ]
  },
  {
   "cell_type": "code",
   "execution_count": 13,
   "id": "5fcdc6fc-8978-4600-87ff-3e364162b2f9",
   "metadata": {},
   "outputs": [],
   "source": [
    "def fit_forecast_model(regressor, data_2022):\n",
    "    model = regressor\n",
    "    model.fit(forecast_X_train_df, forecast_y_train_df) \n",
    "    predictions = model.predict(forecast_X_test_df)\n",
    "    \n",
    "    mvp_race_forecast = data_2022.copy()\n",
    "    mvp_race_forecast['Share Prediction'] = predictions\n",
    "    mvp_race_forecast = mvp_race_forecast.sort_values([\"Share Prediction\"], ascending = (False))\n",
    "    \n",
    "    mvp_race_forecast_sub = mvp_race_forecast[[\n",
    "                                                'Player',\n",
    "                                                'Share Prediction',\n",
    "                                                'PTS',\n",
    "                                               'value_over_replacement_player',\n",
    "                                               'seed',\n",
    "                                                'W/L%',\n",
    "                                               'player_efficiency_rating',\n",
    "                                               'win_shares_per_48_minutes',\n",
    "                                                'offensive_box_plus_minus',\n",
    "                                                'usage_percentage',\n",
    "                                            'free_throw_attempt_rate'\n",
    "                                              ]].reset_index(drop=True)\n",
    "    mvp_race_forecast_sub.head()\n",
    "    return model, mvp_race_forecast_sub"
   ]
  },
  {
   "cell_type": "code",
   "execution_count": 14,
   "id": "84fc8dde-84a5-45bb-8c9a-26e31bd37ed0",
   "metadata": {},
   "outputs": [],
   "source": [
    "def js_r(filename: str):\n",
    "    with open(filename) as f_in:\n",
    "        return json.load(f_in)\n",
    "\n",
    "mvp_ladder_by_date = js_r('mvp_ladder_data.json')"
   ]
  },
  {
   "cell_type": "code",
   "execution_count": 39,
   "id": "2e4ae502-df79-4524-bb02-51a8389cc51e",
   "metadata": {},
   "outputs": [
    {
     "data": {
      "text/plain": [
       "[datetime.datetime(2022, 1, 14, 0, 0), datetime.datetime(2022, 1, 21, 0, 0)]"
      ]
     },
     "execution_count": 39,
     "metadata": {},
     "output_type": "execute_result"
    }
   ],
   "source": [
    "#DATE TO START\n",
    "datetime_object = datetime.strptime('Jan 14 2022', '%b %d %Y')\n",
    "\n",
    "datetime_object_next = datetime_object\n",
    "datetime_lst = [datetime_object_next]\n",
    "\n",
    "for i in range(12):\n",
    "    datetime_object_next = datetime_object_next + timedelta(days=7)\n",
    "    if datetime_object_next <= datetime.today():\n",
    "        datetime_lst.append(datetime_object_next)\n",
    "datetime_lst"
   ]
  },
  {
   "cell_type": "code",
   "execution_count": 40,
   "id": "26a2edde-509e-4929-a89a-6ebb52ada62d",
   "metadata": {},
   "outputs": [
    {
     "name": "stdout",
     "output_type": "stream",
     "text": [
      "extracting top 10 for 01-14-2022\n"
     ]
    }
   ],
   "source": [
    "mvp_ladder_by_date = compile_ladder_dict(mvp_ladder_by_date=mvp_ladder_by_date,\n",
    "                    datetime_lst=datetime_lst,\n",
    "                    joined_table_2022=joined_table_2022)"
   ]
  },
  {
   "cell_type": "code",
   "execution_count": 41,
   "id": "a9644da1-8e73-461e-bdaf-01880748c47c",
   "metadata": {},
   "outputs": [],
   "source": [
    "## PYTHON\n",
    "#from pathlib import Path\n",
    "#data_path = Path(__file__).parents[1] / 'data/master_table.csv'\n",
    "\n",
    "## JUPYTER\n",
    "data_path = os.path.dirname(os.getcwd()) + '/data' + '/master_table.csv'\n",
    "master_table = pd.read_csv(data_path)"
   ]
  },
  {
   "cell_type": "code",
   "execution_count": 45,
   "id": "011ce95d-78c1-453e-aeed-5b3445eb4ba4",
   "metadata": {},
   "outputs": [],
   "source": [
    "#forecast_over_time = pd.DataFrame(columns=['date', 'Player', 'Share Prediction'])\n",
    "forecast_over_time = pd.DataFrame(columns=\n",
    "                                  ['date',\n",
    "                                      'Player',\n",
    "                                     'Share Prediction',\n",
    "                                     'PTS',\n",
    "                                     'value_over_replacement_player',\n",
    "                                     'seed',\n",
    "                                     'W/L%',\n",
    "                                     'player_efficiency_rating',\n",
    "                                     'win_shares_per_48_minutes',\n",
    "                                     'offensive_box_plus_minus',\n",
    "                                     'usage_percentage',\n",
    "                                     'free_throw_attempt_rate'])\n",
    "\n",
    "for date in datetime_lst:\n",
    "    date_str = date.strftime(format='%m-%d-%Y')\n",
    "    stats_df = pd.read_json(mvp_ladder_by_date[date_str]['stats'])\n",
    "    #train on historical data, predict on 2022 data\n",
    "    forecast_X_train_df, forecast_y_train_df, forecast_X_test_df = prep_train_test(df=master_table, forecast_df=stats_df)\n",
    "    \n",
    "    xgb_model, xgb_summary = fit_forecast_model(regressor = XGBRegressor(\n",
    "                                            n_estimators=16,\n",
    "                                            max_depth=5,\n",
    "                                            learning_rate=0.2745),\n",
    "                   data_2022 = stats_df)\n",
    "    \n",
    "    xgb_summary = xgb_summary.head()\n",
    "    #xgb_summary = xgb_summary[['Player', 'Share Prediction']]\n",
    "    xgb_summary['date'] = date_str\n",
    "    forecast_over_time = forecast_over_time.append(xgb_summary)"
   ]
  },
  {
   "cell_type": "code",
   "execution_count": 46,
   "id": "a3462197-2a7a-40a7-84d2-748074af761c",
   "metadata": {},
   "outputs": [
    {
     "data": {
      "application/vnd.plotly.v1+json": {
       "config": {
        "plotlyServerURL": "https://plotly.com"
       },
       "data": [
        {
         "customdata": [
          [
           "Giannis Antetokounmpo",
           4,
           0.604
          ],
          [
           "Giannis Antetokounmpo",
           4,
           0.604
          ]
         ],
         "hovertemplate": "Player=%{customdata[0]}<br>date=%{x}<br>Share Prediction=%{y}<br>seed=%{customdata[1]}<br>W/L%=%{customdata[2]}<extra></extra>",
         "legendgroup": "Giannis Antetokounmpo",
         "line": {
          "color": "#636efa",
          "dash": "solid"
         },
         "mode": "lines",
         "name": "Giannis Antetokounmpo",
         "orientation": "v",
         "showlegend": true,
         "type": "scatter",
         "x": [
          "01-14-2022",
          "01-21-2022"
         ],
         "xaxis": "x",
         "y": [
          0.6705585718154907,
          0.6989391446113586
         ],
         "yaxis": "y"
        },
        {
         "customdata": [
          [
           "Kevin Durant",
           1,
           0.644
          ],
          [
           "Kevin Durant",
           1,
           0.644
          ]
         ],
         "hovertemplate": "Player=%{customdata[0]}<br>date=%{x}<br>Share Prediction=%{y}<br>seed=%{customdata[1]}<br>W/L%=%{customdata[2]}<extra></extra>",
         "legendgroup": "Kevin Durant",
         "line": {
          "color": "#EF553B",
          "dash": "solid"
         },
         "mode": "lines",
         "name": "Kevin Durant",
         "orientation": "v",
         "showlegend": true,
         "type": "scatter",
         "x": [
          "01-14-2022",
          "01-21-2022"
         ],
         "xaxis": "x",
         "y": [
          0.599032461643219,
          0.599032461643219
         ],
         "yaxis": "y"
        },
        {
         "customdata": [
          [
           "Nikola Jokic",
           6,
           0.523
          ],
          [
           "Nikola Jokic",
           6,
           0.523
          ]
         ],
         "hovertemplate": "Player=%{customdata[0]}<br>date=%{x}<br>Share Prediction=%{y}<br>seed=%{customdata[1]}<br>W/L%=%{customdata[2]}<extra></extra>",
         "legendgroup": "Nikola Jokic",
         "line": {
          "color": "#00cc96",
          "dash": "solid"
         },
         "mode": "lines",
         "name": "Nikola Jokic",
         "orientation": "v",
         "showlegend": true,
         "type": "scatter",
         "x": [
          "01-14-2022",
          "01-21-2022"
         ],
         "xaxis": "x",
         "y": [
          0.5033892393112183,
          0.4298498034477234
         ],
         "yaxis": "y"
        },
        {
         "customdata": [
          [
           "Stephen Curry",
           2,
           0.717
          ],
          [
           "Stephen Curry",
           2,
           0.717
          ]
         ],
         "hovertemplate": "Player=%{customdata[0]}<br>date=%{x}<br>Share Prediction=%{y}<br>seed=%{customdata[1]}<br>W/L%=%{customdata[2]}<extra></extra>",
         "legendgroup": "Stephen Curry",
         "line": {
          "color": "#ab63fa",
          "dash": "solid"
         },
         "mode": "lines",
         "name": "Stephen Curry",
         "orientation": "v",
         "showlegend": true,
         "type": "scatter",
         "x": [
          "01-14-2022",
          "01-21-2022"
         ],
         "xaxis": "x",
         "y": [
          0.3327042758464813,
          0.342354953289032
         ],
         "yaxis": "y"
        },
        {
         "customdata": [
          [
           "Rudy Gobert",
           4,
           0.652
          ],
          [
           "Rudy Gobert",
           4,
           0.652
          ]
         ],
         "hovertemplate": "Player=%{customdata[0]}<br>date=%{x}<br>Share Prediction=%{y}<br>seed=%{customdata[1]}<br>W/L%=%{customdata[2]}<extra></extra>",
         "legendgroup": "Rudy Gobert",
         "line": {
          "color": "#FFA15A",
          "dash": "solid"
         },
         "mode": "lines",
         "name": "Rudy Gobert",
         "orientation": "v",
         "showlegend": true,
         "type": "scatter",
         "x": [
          "01-14-2022",
          "01-21-2022"
         ],
         "xaxis": "x",
         "y": [
          0.3315964341163635,
          0.3324592709541321
         ],
         "yaxis": "y"
        }
       ],
       "layout": {
        "autosize": false,
        "height": 700,
        "legend": {
         "title": {
          "text": "Player"
         },
         "tracegroupgap": 0
        },
        "template": {
         "data": {
          "bar": [
           {
            "error_x": {
             "color": "#2a3f5f"
            },
            "error_y": {
             "color": "#2a3f5f"
            },
            "marker": {
             "line": {
              "color": "#E5ECF6",
              "width": 0.5
             },
             "pattern": {
              "fillmode": "overlay",
              "size": 10,
              "solidity": 0.2
             }
            },
            "type": "bar"
           }
          ],
          "barpolar": [
           {
            "marker": {
             "line": {
              "color": "#E5ECF6",
              "width": 0.5
             },
             "pattern": {
              "fillmode": "overlay",
              "size": 10,
              "solidity": 0.2
             }
            },
            "type": "barpolar"
           }
          ],
          "carpet": [
           {
            "aaxis": {
             "endlinecolor": "#2a3f5f",
             "gridcolor": "white",
             "linecolor": "white",
             "minorgridcolor": "white",
             "startlinecolor": "#2a3f5f"
            },
            "baxis": {
             "endlinecolor": "#2a3f5f",
             "gridcolor": "white",
             "linecolor": "white",
             "minorgridcolor": "white",
             "startlinecolor": "#2a3f5f"
            },
            "type": "carpet"
           }
          ],
          "choropleth": [
           {
            "colorbar": {
             "outlinewidth": 0,
             "ticks": ""
            },
            "type": "choropleth"
           }
          ],
          "contour": [
           {
            "colorbar": {
             "outlinewidth": 0,
             "ticks": ""
            },
            "colorscale": [
             [
              0,
              "#0d0887"
             ],
             [
              0.1111111111111111,
              "#46039f"
             ],
             [
              0.2222222222222222,
              "#7201a8"
             ],
             [
              0.3333333333333333,
              "#9c179e"
             ],
             [
              0.4444444444444444,
              "#bd3786"
             ],
             [
              0.5555555555555556,
              "#d8576b"
             ],
             [
              0.6666666666666666,
              "#ed7953"
             ],
             [
              0.7777777777777778,
              "#fb9f3a"
             ],
             [
              0.8888888888888888,
              "#fdca26"
             ],
             [
              1,
              "#f0f921"
             ]
            ],
            "type": "contour"
           }
          ],
          "contourcarpet": [
           {
            "colorbar": {
             "outlinewidth": 0,
             "ticks": ""
            },
            "type": "contourcarpet"
           }
          ],
          "heatmap": [
           {
            "colorbar": {
             "outlinewidth": 0,
             "ticks": ""
            },
            "colorscale": [
             [
              0,
              "#0d0887"
             ],
             [
              0.1111111111111111,
              "#46039f"
             ],
             [
              0.2222222222222222,
              "#7201a8"
             ],
             [
              0.3333333333333333,
              "#9c179e"
             ],
             [
              0.4444444444444444,
              "#bd3786"
             ],
             [
              0.5555555555555556,
              "#d8576b"
             ],
             [
              0.6666666666666666,
              "#ed7953"
             ],
             [
              0.7777777777777778,
              "#fb9f3a"
             ],
             [
              0.8888888888888888,
              "#fdca26"
             ],
             [
              1,
              "#f0f921"
             ]
            ],
            "type": "heatmap"
           }
          ],
          "heatmapgl": [
           {
            "colorbar": {
             "outlinewidth": 0,
             "ticks": ""
            },
            "colorscale": [
             [
              0,
              "#0d0887"
             ],
             [
              0.1111111111111111,
              "#46039f"
             ],
             [
              0.2222222222222222,
              "#7201a8"
             ],
             [
              0.3333333333333333,
              "#9c179e"
             ],
             [
              0.4444444444444444,
              "#bd3786"
             ],
             [
              0.5555555555555556,
              "#d8576b"
             ],
             [
              0.6666666666666666,
              "#ed7953"
             ],
             [
              0.7777777777777778,
              "#fb9f3a"
             ],
             [
              0.8888888888888888,
              "#fdca26"
             ],
             [
              1,
              "#f0f921"
             ]
            ],
            "type": "heatmapgl"
           }
          ],
          "histogram": [
           {
            "marker": {
             "pattern": {
              "fillmode": "overlay",
              "size": 10,
              "solidity": 0.2
             }
            },
            "type": "histogram"
           }
          ],
          "histogram2d": [
           {
            "colorbar": {
             "outlinewidth": 0,
             "ticks": ""
            },
            "colorscale": [
             [
              0,
              "#0d0887"
             ],
             [
              0.1111111111111111,
              "#46039f"
             ],
             [
              0.2222222222222222,
              "#7201a8"
             ],
             [
              0.3333333333333333,
              "#9c179e"
             ],
             [
              0.4444444444444444,
              "#bd3786"
             ],
             [
              0.5555555555555556,
              "#d8576b"
             ],
             [
              0.6666666666666666,
              "#ed7953"
             ],
             [
              0.7777777777777778,
              "#fb9f3a"
             ],
             [
              0.8888888888888888,
              "#fdca26"
             ],
             [
              1,
              "#f0f921"
             ]
            ],
            "type": "histogram2d"
           }
          ],
          "histogram2dcontour": [
           {
            "colorbar": {
             "outlinewidth": 0,
             "ticks": ""
            },
            "colorscale": [
             [
              0,
              "#0d0887"
             ],
             [
              0.1111111111111111,
              "#46039f"
             ],
             [
              0.2222222222222222,
              "#7201a8"
             ],
             [
              0.3333333333333333,
              "#9c179e"
             ],
             [
              0.4444444444444444,
              "#bd3786"
             ],
             [
              0.5555555555555556,
              "#d8576b"
             ],
             [
              0.6666666666666666,
              "#ed7953"
             ],
             [
              0.7777777777777778,
              "#fb9f3a"
             ],
             [
              0.8888888888888888,
              "#fdca26"
             ],
             [
              1,
              "#f0f921"
             ]
            ],
            "type": "histogram2dcontour"
           }
          ],
          "mesh3d": [
           {
            "colorbar": {
             "outlinewidth": 0,
             "ticks": ""
            },
            "type": "mesh3d"
           }
          ],
          "parcoords": [
           {
            "line": {
             "colorbar": {
              "outlinewidth": 0,
              "ticks": ""
             }
            },
            "type": "parcoords"
           }
          ],
          "pie": [
           {
            "automargin": true,
            "type": "pie"
           }
          ],
          "scatter": [
           {
            "marker": {
             "colorbar": {
              "outlinewidth": 0,
              "ticks": ""
             }
            },
            "type": "scatter"
           }
          ],
          "scatter3d": [
           {
            "line": {
             "colorbar": {
              "outlinewidth": 0,
              "ticks": ""
             }
            },
            "marker": {
             "colorbar": {
              "outlinewidth": 0,
              "ticks": ""
             }
            },
            "type": "scatter3d"
           }
          ],
          "scattercarpet": [
           {
            "marker": {
             "colorbar": {
              "outlinewidth": 0,
              "ticks": ""
             }
            },
            "type": "scattercarpet"
           }
          ],
          "scattergeo": [
           {
            "marker": {
             "colorbar": {
              "outlinewidth": 0,
              "ticks": ""
             }
            },
            "type": "scattergeo"
           }
          ],
          "scattergl": [
           {
            "marker": {
             "colorbar": {
              "outlinewidth": 0,
              "ticks": ""
             }
            },
            "type": "scattergl"
           }
          ],
          "scattermapbox": [
           {
            "marker": {
             "colorbar": {
              "outlinewidth": 0,
              "ticks": ""
             }
            },
            "type": "scattermapbox"
           }
          ],
          "scatterpolar": [
           {
            "marker": {
             "colorbar": {
              "outlinewidth": 0,
              "ticks": ""
             }
            },
            "type": "scatterpolar"
           }
          ],
          "scatterpolargl": [
           {
            "marker": {
             "colorbar": {
              "outlinewidth": 0,
              "ticks": ""
             }
            },
            "type": "scatterpolargl"
           }
          ],
          "scatterternary": [
           {
            "marker": {
             "colorbar": {
              "outlinewidth": 0,
              "ticks": ""
             }
            },
            "type": "scatterternary"
           }
          ],
          "surface": [
           {
            "colorbar": {
             "outlinewidth": 0,
             "ticks": ""
            },
            "colorscale": [
             [
              0,
              "#0d0887"
             ],
             [
              0.1111111111111111,
              "#46039f"
             ],
             [
              0.2222222222222222,
              "#7201a8"
             ],
             [
              0.3333333333333333,
              "#9c179e"
             ],
             [
              0.4444444444444444,
              "#bd3786"
             ],
             [
              0.5555555555555556,
              "#d8576b"
             ],
             [
              0.6666666666666666,
              "#ed7953"
             ],
             [
              0.7777777777777778,
              "#fb9f3a"
             ],
             [
              0.8888888888888888,
              "#fdca26"
             ],
             [
              1,
              "#f0f921"
             ]
            ],
            "type": "surface"
           }
          ],
          "table": [
           {
            "cells": {
             "fill": {
              "color": "#EBF0F8"
             },
             "line": {
              "color": "white"
             }
            },
            "header": {
             "fill": {
              "color": "#C8D4E3"
             },
             "line": {
              "color": "white"
             }
            },
            "type": "table"
           }
          ]
         },
         "layout": {
          "annotationdefaults": {
           "arrowcolor": "#2a3f5f",
           "arrowhead": 0,
           "arrowwidth": 1
          },
          "autotypenumbers": "strict",
          "coloraxis": {
           "colorbar": {
            "outlinewidth": 0,
            "ticks": ""
           }
          },
          "colorscale": {
           "diverging": [
            [
             0,
             "#8e0152"
            ],
            [
             0.1,
             "#c51b7d"
            ],
            [
             0.2,
             "#de77ae"
            ],
            [
             0.3,
             "#f1b6da"
            ],
            [
             0.4,
             "#fde0ef"
            ],
            [
             0.5,
             "#f7f7f7"
            ],
            [
             0.6,
             "#e6f5d0"
            ],
            [
             0.7,
             "#b8e186"
            ],
            [
             0.8,
             "#7fbc41"
            ],
            [
             0.9,
             "#4d9221"
            ],
            [
             1,
             "#276419"
            ]
           ],
           "sequential": [
            [
             0,
             "#0d0887"
            ],
            [
             0.1111111111111111,
             "#46039f"
            ],
            [
             0.2222222222222222,
             "#7201a8"
            ],
            [
             0.3333333333333333,
             "#9c179e"
            ],
            [
             0.4444444444444444,
             "#bd3786"
            ],
            [
             0.5555555555555556,
             "#d8576b"
            ],
            [
             0.6666666666666666,
             "#ed7953"
            ],
            [
             0.7777777777777778,
             "#fb9f3a"
            ],
            [
             0.8888888888888888,
             "#fdca26"
            ],
            [
             1,
             "#f0f921"
            ]
           ],
           "sequentialminus": [
            [
             0,
             "#0d0887"
            ],
            [
             0.1111111111111111,
             "#46039f"
            ],
            [
             0.2222222222222222,
             "#7201a8"
            ],
            [
             0.3333333333333333,
             "#9c179e"
            ],
            [
             0.4444444444444444,
             "#bd3786"
            ],
            [
             0.5555555555555556,
             "#d8576b"
            ],
            [
             0.6666666666666666,
             "#ed7953"
            ],
            [
             0.7777777777777778,
             "#fb9f3a"
            ],
            [
             0.8888888888888888,
             "#fdca26"
            ],
            [
             1,
             "#f0f921"
            ]
           ]
          },
          "colorway": [
           "#636efa",
           "#EF553B",
           "#00cc96",
           "#ab63fa",
           "#FFA15A",
           "#19d3f3",
           "#FF6692",
           "#B6E880",
           "#FF97FF",
           "#FECB52"
          ],
          "font": {
           "color": "#2a3f5f"
          },
          "geo": {
           "bgcolor": "white",
           "lakecolor": "white",
           "landcolor": "#E5ECF6",
           "showlakes": true,
           "showland": true,
           "subunitcolor": "white"
          },
          "hoverlabel": {
           "align": "left"
          },
          "hovermode": "closest",
          "mapbox": {
           "style": "light"
          },
          "paper_bgcolor": "white",
          "plot_bgcolor": "#E5ECF6",
          "polar": {
           "angularaxis": {
            "gridcolor": "white",
            "linecolor": "white",
            "ticks": ""
           },
           "bgcolor": "#E5ECF6",
           "radialaxis": {
            "gridcolor": "white",
            "linecolor": "white",
            "ticks": ""
           }
          },
          "scene": {
           "xaxis": {
            "backgroundcolor": "#E5ECF6",
            "gridcolor": "white",
            "gridwidth": 2,
            "linecolor": "white",
            "showbackground": true,
            "ticks": "",
            "zerolinecolor": "white"
           },
           "yaxis": {
            "backgroundcolor": "#E5ECF6",
            "gridcolor": "white",
            "gridwidth": 2,
            "linecolor": "white",
            "showbackground": true,
            "ticks": "",
            "zerolinecolor": "white"
           },
           "zaxis": {
            "backgroundcolor": "#E5ECF6",
            "gridcolor": "white",
            "gridwidth": 2,
            "linecolor": "white",
            "showbackground": true,
            "ticks": "",
            "zerolinecolor": "white"
           }
          },
          "shapedefaults": {
           "line": {
            "color": "#2a3f5f"
           }
          },
          "ternary": {
           "aaxis": {
            "gridcolor": "white",
            "linecolor": "white",
            "ticks": ""
           },
           "baxis": {
            "gridcolor": "white",
            "linecolor": "white",
            "ticks": ""
           },
           "bgcolor": "#E5ECF6",
           "caxis": {
            "gridcolor": "white",
            "linecolor": "white",
            "ticks": ""
           }
          },
          "title": {
           "x": 0.05
          },
          "xaxis": {
           "automargin": true,
           "gridcolor": "white",
           "linecolor": "white",
           "ticks": "",
           "title": {
            "standoff": 15
           },
           "zerolinecolor": "white",
           "zerolinewidth": 2
          },
          "yaxis": {
           "automargin": true,
           "gridcolor": "white",
           "linecolor": "white",
           "ticks": "",
           "title": {
            "standoff": 15
           },
           "zerolinecolor": "white",
           "zerolinewidth": 2
          }
         }
        },
        "title": {
         "text": "Predicted MVP Share Over Time"
        },
        "width": 1000,
        "xaxis": {
         "anchor": "y",
         "autorange": true,
         "domain": [
          0,
          1
         ],
         "range": [
          0,
          1
         ],
         "title": {
          "text": "date"
         },
         "type": "category"
        },
        "yaxis": {
         "anchor": "x",
         "autorange": true,
         "domain": [
          0,
          1
         ],
         "range": [
          0.3111885057555305,
          0.7193470729721917
         ],
         "title": {
          "text": "Share Prediction"
         },
         "type": "linear"
        }
       }
      },
      "image/png": "[encoded data removed]",
      "text/html": [
       "<div>                            <div id=\"c218317e-d068-4deb-9806-39c03317a01b\" class=\"plotly-graph-div\" style=\"height:700px; width:1000px;\"></div>            <script type=\"text/javascript\">                require([\"plotly\"], function(Plotly) {                    window.PLOTLYENV=window.PLOTLYENV || {};                                    if (document.getElementById(\"c218317e-d068-4deb-9806-39c03317a01b\")) {                    Plotly.newPlot(                        \"c218317e-d068-4deb-9806-39c03317a01b\",                        [{\"customdata\":[[\"Giannis Antetokounmpo\",4,0.604],[\"Giannis Antetokounmpo\",4,0.604]],\"hovertemplate\":\"Player=%{customdata[0]}<br>date=%{x}<br>Share Prediction=%{y}<br>seed=%{customdata[1]}<br>W/L%=%{customdata[2]}<extra></extra>\",\"legendgroup\":\"Giannis Antetokounmpo\",\"line\":{\"color\":\"#636efa\",\"dash\":\"solid\"},\"mode\":\"lines\",\"name\":\"Giannis Antetokounmpo\",\"orientation\":\"v\",\"showlegend\":true,\"type\":\"scatter\",\"x\":[\"01-14-2022\",\"01-21-2022\"],\"xaxis\":\"x\",\"y\":[0.6705585718154907,0.6989391446113586],\"yaxis\":\"y\"},{\"customdata\":[[\"Kevin Durant\",1,0.644],[\"Kevin Durant\",1,0.644]],\"hovertemplate\":\"Player=%{customdata[0]}<br>date=%{x}<br>Share Prediction=%{y}<br>seed=%{customdata[1]}<br>W/L%=%{customdata[2]}<extra></extra>\",\"legendgroup\":\"Kevin Durant\",\"line\":{\"color\":\"#EF553B\",\"dash\":\"solid\"},\"mode\":\"lines\",\"name\":\"Kevin Durant\",\"orientation\":\"v\",\"showlegend\":true,\"type\":\"scatter\",\"x\":[\"01-14-2022\",\"01-21-2022\"],\"xaxis\":\"x\",\"y\":[0.599032461643219,0.599032461643219],\"yaxis\":\"y\"},{\"customdata\":[[\"Nikola Jokic\",6,0.523],[\"Nikola Jokic\",6,0.523]],\"hovertemplate\":\"Player=%{customdata[0]}<br>date=%{x}<br>Share Prediction=%{y}<br>seed=%{customdata[1]}<br>W/L%=%{customdata[2]}<extra></extra>\",\"legendgroup\":\"Nikola Jokic\",\"line\":{\"color\":\"#00cc96\",\"dash\":\"solid\"},\"mode\":\"lines\",\"name\":\"Nikola Jokic\",\"orientation\":\"v\",\"showlegend\":true,\"type\":\"scatter\",\"x\":[\"01-14-2022\",\"01-21-2022\"],\"xaxis\":\"x\",\"y\":[0.5033892393112183,0.4298498034477234],\"yaxis\":\"y\"},{\"customdata\":[[\"Stephen Curry\",2,0.717],[\"Stephen Curry\",2,0.717]],\"hovertemplate\":\"Player=%{customdata[0]}<br>date=%{x}<br>Share Prediction=%{y}<br>seed=%{customdata[1]}<br>W/L%=%{customdata[2]}<extra></extra>\",\"legendgroup\":\"Stephen Curry\",\"line\":{\"color\":\"#ab63fa\",\"dash\":\"solid\"},\"mode\":\"lines\",\"name\":\"Stephen Curry\",\"orientation\":\"v\",\"showlegend\":true,\"type\":\"scatter\",\"x\":[\"01-14-2022\",\"01-21-2022\"],\"xaxis\":\"x\",\"y\":[0.3327042758464813,0.342354953289032],\"yaxis\":\"y\"},{\"customdata\":[[\"Rudy Gobert\",4,0.652],[\"Rudy Gobert\",4,0.652]],\"hovertemplate\":\"Player=%{customdata[0]}<br>date=%{x}<br>Share Prediction=%{y}<br>seed=%{customdata[1]}<br>W/L%=%{customdata[2]}<extra></extra>\",\"legendgroup\":\"Rudy Gobert\",\"line\":{\"color\":\"#FFA15A\",\"dash\":\"solid\"},\"mode\":\"lines\",\"name\":\"Rudy Gobert\",\"orientation\":\"v\",\"showlegend\":true,\"type\":\"scatter\",\"x\":[\"01-14-2022\",\"01-21-2022\"],\"xaxis\":\"x\",\"y\":[0.3315964341163635,0.3324592709541321],\"yaxis\":\"y\"}],                        {\"autosize\":false,\"height\":700,\"legend\":{\"title\":{\"text\":\"Player\"},\"tracegroupgap\":0},\"template\":{\"data\":{\"bar\":[{\"error_x\":{\"color\":\"#2a3f5f\"},\"error_y\":{\"color\":\"#2a3f5f\"},\"marker\":{\"line\":{\"color\":\"#E5ECF6\",\"width\":0.5},\"pattern\":{\"fillmode\":\"overlay\",\"size\":10,\"solidity\":0.2}},\"type\":\"bar\"}],\"barpolar\":[{\"marker\":{\"line\":{\"color\":\"#E5ECF6\",\"width\":0.5},\"pattern\":{\"fillmode\":\"overlay\",\"size\":10,\"solidity\":0.2}},\"type\":\"barpolar\"}],\"carpet\":[{\"aaxis\":{\"endlinecolor\":\"#2a3f5f\",\"gridcolor\":\"white\",\"linecolor\":\"white\",\"minorgridcolor\":\"white\",\"startlinecolor\":\"#2a3f5f\"},\"baxis\":{\"endlinecolor\":\"#2a3f5f\",\"gridcolor\":\"white\",\"linecolor\":\"white\",\"minorgridcolor\":\"white\",\"startlinecolor\":\"#2a3f5f\"},\"type\":\"carpet\"}],\"choropleth\":[{\"colorbar\":{\"outlinewidth\":0,\"ticks\":\"\"},\"type\":\"choropleth\"}],\"contour\":[{\"colorbar\":{\"outlinewidth\":0,\"ticks\":\"\"},\"colorscale\":[[0.0,\"#0d0887\"],[0.1111111111111111,\"#46039f\"],[0.2222222222222222,\"#7201a8\"],[0.3333333333333333,\"#9c179e\"],[0.4444444444444444,\"#bd3786\"],[0.5555555555555556,\"#d8576b\"],[0.6666666666666666,\"#ed7953\"],[0.7777777777777778,\"#fb9f3a\"],[0.8888888888888888,\"#fdca26\"],[1.0,\"#f0f921\"]],\"type\":\"contour\"}],\"contourcarpet\":[{\"colorbar\":{\"outlinewidth\":0,\"ticks\":\"\"},\"type\":\"contourcarpet\"}],\"heatmap\":[{\"colorbar\":{\"outlinewidth\":0,\"ticks\":\"\"},\"colorscale\":[[0.0,\"#0d0887\"],[0.1111111111111111,\"#46039f\"],[0.2222222222222222,\"#7201a8\"],[0.3333333333333333,\"#9c179e\"],[0.4444444444444444,\"#bd3786\"],[0.5555555555555556,\"#d8576b\"],[0.6666666666666666,\"#ed7953\"],[0.7777777777777778,\"#fb9f3a\"],[0.8888888888888888,\"#fdca26\"],[1.0,\"#f0f921\"]],\"type\":\"heatmap\"}],\"heatmapgl\":[{\"colorbar\":{\"outlinewidth\":0,\"ticks\":\"\"},\"colorscale\":[[0.0,\"#0d0887\"],[0.1111111111111111,\"#46039f\"],[0.2222222222222222,\"#7201a8\"],[0.3333333333333333,\"#9c179e\"],[0.4444444444444444,\"#bd3786\"],[0.5555555555555556,\"#d8576b\"],[0.6666666666666666,\"#ed7953\"],[0.7777777777777778,\"#fb9f3a\"],[0.8888888888888888,\"#fdca26\"],[1.0,\"#f0f921\"]],\"type\":\"heatmapgl\"}],\"histogram\":[{\"marker\":{\"pattern\":{\"fillmode\":\"overlay\",\"size\":10,\"solidity\":0.2}},\"type\":\"histogram\"}],\"histogram2d\":[{\"colorbar\":{\"outlinewidth\":0,\"ticks\":\"\"},\"colorscale\":[[0.0,\"#0d0887\"],[0.1111111111111111,\"#46039f\"],[0.2222222222222222,\"#7201a8\"],[0.3333333333333333,\"#9c179e\"],[0.4444444444444444,\"#bd3786\"],[0.5555555555555556,\"#d8576b\"],[0.6666666666666666,\"#ed7953\"],[0.7777777777777778,\"#fb9f3a\"],[0.8888888888888888,\"#fdca26\"],[1.0,\"#f0f921\"]],\"type\":\"histogram2d\"}],\"histogram2dcontour\":[{\"colorbar\":{\"outlinewidth\":0,\"ticks\":\"\"},\"colorscale\":[[0.0,\"#0d0887\"],[0.1111111111111111,\"#46039f\"],[0.2222222222222222,\"#7201a8\"],[0.3333333333333333,\"#9c179e\"],[0.4444444444444444,\"#bd3786\"],[0.5555555555555556,\"#d8576b\"],[0.6666666666666666,\"#ed7953\"],[0.7777777777777778,\"#fb9f3a\"],[0.8888888888888888,\"#fdca26\"],[1.0,\"#f0f921\"]],\"type\":\"histogram2dcontour\"}],\"mesh3d\":[{\"colorbar\":{\"outlinewidth\":0,\"ticks\":\"\"},\"type\":\"mesh3d\"}],\"parcoords\":[{\"line\":{\"colorbar\":{\"outlinewidth\":0,\"ticks\":\"\"}},\"type\":\"parcoords\"}],\"pie\":[{\"automargin\":true,\"type\":\"pie\"}],\"scatter\":[{\"marker\":{\"colorbar\":{\"outlinewidth\":0,\"ticks\":\"\"}},\"type\":\"scatter\"}],\"scatter3d\":[{\"line\":{\"colorbar\":{\"outlinewidth\":0,\"ticks\":\"\"}},\"marker\":{\"colorbar\":{\"outlinewidth\":0,\"ticks\":\"\"}},\"type\":\"scatter3d\"}],\"scattercarpet\":[{\"marker\":{\"colorbar\":{\"outlinewidth\":0,\"ticks\":\"\"}},\"type\":\"scattercarpet\"}],\"scattergeo\":[{\"marker\":{\"colorbar\":{\"outlinewidth\":0,\"ticks\":\"\"}},\"type\":\"scattergeo\"}],\"scattergl\":[{\"marker\":{\"colorbar\":{\"outlinewidth\":0,\"ticks\":\"\"}},\"type\":\"scattergl\"}],\"scattermapbox\":[{\"marker\":{\"colorbar\":{\"outlinewidth\":0,\"ticks\":\"\"}},\"type\":\"scattermapbox\"}],\"scatterpolar\":[{\"marker\":{\"colorbar\":{\"outlinewidth\":0,\"ticks\":\"\"}},\"type\":\"scatterpolar\"}],\"scatterpolargl\":[{\"marker\":{\"colorbar\":{\"outlinewidth\":0,\"ticks\":\"\"}},\"type\":\"scatterpolargl\"}],\"scatterternary\":[{\"marker\":{\"colorbar\":{\"outlinewidth\":0,\"ticks\":\"\"}},\"type\":\"scatterternary\"}],\"surface\":[{\"colorbar\":{\"outlinewidth\":0,\"ticks\":\"\"},\"colorscale\":[[0.0,\"#0d0887\"],[0.1111111111111111,\"#46039f\"],[0.2222222222222222,\"#7201a8\"],[0.3333333333333333,\"#9c179e\"],[0.4444444444444444,\"#bd3786\"],[0.5555555555555556,\"#d8576b\"],[0.6666666666666666,\"#ed7953\"],[0.7777777777777778,\"#fb9f3a\"],[0.8888888888888888,\"#fdca26\"],[1.0,\"#f0f921\"]],\"type\":\"surface\"}],\"table\":[{\"cells\":{\"fill\":{\"color\":\"#EBF0F8\"},\"line\":{\"color\":\"white\"}},\"header\":{\"fill\":{\"color\":\"#C8D4E3\"},\"line\":{\"color\":\"white\"}},\"type\":\"table\"}]},\"layout\":{\"annotationdefaults\":{\"arrowcolor\":\"#2a3f5f\",\"arrowhead\":0,\"arrowwidth\":1},\"autotypenumbers\":\"strict\",\"coloraxis\":{\"colorbar\":{\"outlinewidth\":0,\"ticks\":\"\"}},\"colorscale\":{\"diverging\":[[0,\"#8e0152\"],[0.1,\"#c51b7d\"],[0.2,\"#de77ae\"],[0.3,\"#f1b6da\"],[0.4,\"#fde0ef\"],[0.5,\"#f7f7f7\"],[0.6,\"#e6f5d0\"],[0.7,\"#b8e186\"],[0.8,\"#7fbc41\"],[0.9,\"#4d9221\"],[1,\"#276419\"]],\"sequential\":[[0.0,\"#0d0887\"],[0.1111111111111111,\"#46039f\"],[0.2222222222222222,\"#7201a8\"],[0.3333333333333333,\"#9c179e\"],[0.4444444444444444,\"#bd3786\"],[0.5555555555555556,\"#d8576b\"],[0.6666666666666666,\"#ed7953\"],[0.7777777777777778,\"#fb9f3a\"],[0.8888888888888888,\"#fdca26\"],[1.0,\"#f0f921\"]],\"sequentialminus\":[[0.0,\"#0d0887\"],[0.1111111111111111,\"#46039f\"],[0.2222222222222222,\"#7201a8\"],[0.3333333333333333,\"#9c179e\"],[0.4444444444444444,\"#bd3786\"],[0.5555555555555556,\"#d8576b\"],[0.6666666666666666,\"#ed7953\"],[0.7777777777777778,\"#fb9f3a\"],[0.8888888888888888,\"#fdca26\"],[1.0,\"#f0f921\"]]},\"colorway\":[\"#636efa\",\"#EF553B\",\"#00cc96\",\"#ab63fa\",\"#FFA15A\",\"#19d3f3\",\"#FF6692\",\"#B6E880\",\"#FF97FF\",\"#FECB52\"],\"font\":{\"color\":\"#2a3f5f\"},\"geo\":{\"bgcolor\":\"white\",\"lakecolor\":\"white\",\"landcolor\":\"#E5ECF6\",\"showlakes\":true,\"showland\":true,\"subunitcolor\":\"white\"},\"hoverlabel\":{\"align\":\"left\"},\"hovermode\":\"closest\",\"mapbox\":{\"style\":\"light\"},\"paper_bgcolor\":\"white\",\"plot_bgcolor\":\"#E5ECF6\",\"polar\":{\"angularaxis\":{\"gridcolor\":\"white\",\"linecolor\":\"white\",\"ticks\":\"\"},\"bgcolor\":\"#E5ECF6\",\"radialaxis\":{\"gridcolor\":\"white\",\"linecolor\":\"white\",\"ticks\":\"\"}},\"scene\":{\"xaxis\":{\"backgroundcolor\":\"#E5ECF6\",\"gridcolor\":\"white\",\"gridwidth\":2,\"linecolor\":\"white\",\"showbackground\":true,\"ticks\":\"\",\"zerolinecolor\":\"white\"},\"yaxis\":{\"backgroundcolor\":\"#E5ECF6\",\"gridcolor\":\"white\",\"gridwidth\":2,\"linecolor\":\"white\",\"showbackground\":true,\"ticks\":\"\",\"zerolinecolor\":\"white\"},\"zaxis\":{\"backgroundcolor\":\"#E5ECF6\",\"gridcolor\":\"white\",\"gridwidth\":2,\"linecolor\":\"white\",\"showbackground\":true,\"ticks\":\"\",\"zerolinecolor\":\"white\"}},\"shapedefaults\":{\"line\":{\"color\":\"#2a3f5f\"}},\"ternary\":{\"aaxis\":{\"gridcolor\":\"white\",\"linecolor\":\"white\",\"ticks\":\"\"},\"baxis\":{\"gridcolor\":\"white\",\"linecolor\":\"white\",\"ticks\":\"\"},\"bgcolor\":\"#E5ECF6\",\"caxis\":{\"gridcolor\":\"white\",\"linecolor\":\"white\",\"ticks\":\"\"}},\"title\":{\"x\":0.05},\"xaxis\":{\"automargin\":true,\"gridcolor\":\"white\",\"linecolor\":\"white\",\"ticks\":\"\",\"title\":{\"standoff\":15},\"zerolinecolor\":\"white\",\"zerolinewidth\":2},\"yaxis\":{\"automargin\":true,\"gridcolor\":\"white\",\"linecolor\":\"white\",\"ticks\":\"\",\"title\":{\"standoff\":15},\"zerolinecolor\":\"white\",\"zerolinewidth\":2}}},\"title\":{\"text\":\"Predicted MVP Share Over Time\"},\"width\":1000,\"xaxis\":{\"anchor\":\"y\",\"domain\":[0.0,1.0],\"title\":{\"text\":\"date\"}},\"yaxis\":{\"anchor\":\"x\",\"domain\":[0.0,1.0],\"title\":{\"text\":\"Share Prediction\"}}},                        {\"responsive\": true}                    ).then(function(){\n",
       "                            \n",
       "var gd = document.getElementById('c218317e-d068-4deb-9806-39c03317a01b');\n",
       "var x = new MutationObserver(function (mutations, observer) {{\n",
       "        var display = window.getComputedStyle(gd).display;\n",
       "        if (!display || display === 'none') {{\n",
       "            console.log([gd, 'removed!']);\n",
       "            Plotly.purge(gd);\n",
       "            observer.disconnect();\n",
       "        }}\n",
       "}});\n",
       "\n",
       "// Listen for the removal of the full notebook cells\n",
       "var notebookContainer = gd.closest('#notebook-container');\n",
       "if (notebookContainer) {{\n",
       "    x.observe(notebookContainer, {childList: true});\n",
       "}}\n",
       "\n",
       "// Listen for the clearing of the current output cell\n",
       "var outputEl = gd.closest('.output');\n",
       "if (outputEl) {{\n",
       "    x.observe(outputEl, {childList: true});\n",
       "}}\n",
       "\n",
       "                        })                };                });            </script>        </div>"
      ]
     },
     "metadata": {},
     "output_type": "display_data"
    }
   ],
   "source": [
    "import plotly.express as px\n",
    "\n",
    "fig = px.line(\n",
    "    data_frame = forecast_over_time,\n",
    "    x = 'date',\n",
    "    y = 'Share Prediction',\n",
    "    color= 'Player',\n",
    "    hover_data= {\n",
    "        'date':True,\n",
    "        'Player':True,\n",
    "        'Share Prediction':True,\n",
    "        'seed':True,\n",
    "        'W/L%':True,\n",
    "    },\n",
    "    title = 'Predicted MVP Share Over Time')\n",
    "\n",
    "fig.update_layout(\n",
    "    autosize=False,\n",
    "    width=1000,\n",
    "    height=700,)\n",
    "\n",
    "fig.show()"
   ]
  },
  {
   "cell_type": "code",
   "execution_count": null,
   "id": "ef0b558d-bd25-4064-8b4f-4f7933061044",
   "metadata": {},
   "outputs": [],
   "source": []
  },
  {
   "cell_type": "code",
   "execution_count": 48,
   "id": "e9213713-14b3-4603-83dd-532993a3f8e6",
   "metadata": {},
   "outputs": [],
   "source": [
    "with open(\"mvp_ladder_data.json\", \"w\") as outfile:\n",
    "    json.dump(mvp_ladder_by_date, outfile)"
   ]
  },
  {
   "cell_type": "code",
   "execution_count": null,
   "id": "a3a11da6-90bc-4a43-8661-351edf23092f",
   "metadata": {},
   "outputs": [],
   "source": []
  },
  {
   "cell_type": "code",
   "execution_count": null,
   "id": "f511966c-c28a-45b7-9aee-bf20ee111f5b",
   "metadata": {},
   "outputs": [],
   "source": []
  },
  {
   "cell_type": "code",
   "execution_count": null,
   "id": "f39eb40d-0855-4a03-a0e4-95ea95d5d3ee",
   "metadata": {},
   "outputs": [],
   "source": []
  },
  {
   "cell_type": "code",
   "execution_count": null,
   "id": "7acc8210-f909-42e4-bede-3133d538f8c5",
   "metadata": {},
   "outputs": [],
   "source": []
  },
  {
   "cell_type": "code",
   "execution_count": null,
   "id": "56756212-e736-4701-bb98-42d692203348",
   "metadata": {},
   "outputs": [],
   "source": []
  },
  {
   "cell_type": "code",
   "execution_count": null,
   "id": "3c9d96ca-9c25-44b3-a4b4-cb4e92fd84e1",
   "metadata": {},
   "outputs": [],
   "source": []
  },
  {
   "cell_type": "code",
   "execution_count": null,
   "id": "644617a3-03ac-4f47-bc35-aea876f3ad11",
   "metadata": {},
   "outputs": [],
   "source": [
    "################## UNDER THE HOOD ##################"
   ]
  },
  {
   "cell_type": "code",
   "execution_count": 49,
   "id": "b4a05f07-57a6-4ff9-85fe-c884fce8daea",
   "metadata": {},
   "outputs": [],
   "source": [
    "## try 01-21-2022\n",
    "stats_df = pd.read_json(mvp_ladder_by_date['01-21-2022']['stats'])\n",
    "#train on historical data, predict on 2022 data\n",
    "forecast_X_train_df, forecast_y_train_df, forecast_X_test_df = prep_train_test(df=master_table, forecast_df=stats_df)\n",
    "\n",
    "xgb_model, xgb_summary = fit_forecast_model(regressor = XGBRegressor(\n",
    "                                        n_estimators=16,\n",
    "                                        max_depth=5,\n",
    "                                        learning_rate=0.2745),\n",
    "               data_2022 = stats_df)"
   ]
  },
  {
   "cell_type": "code",
   "execution_count": 50,
   "id": "b414225a-adc1-4b03-bb26-9fb0dc19fb15",
   "metadata": {},
   "outputs": [
    {
     "data": {
      "text/html": [
       "<div>\n",
       "<style scoped>\n",
       "    .dataframe tbody tr th:only-of-type {\n",
       "        vertical-align: middle;\n",
       "    }\n",
       "\n",
       "    .dataframe tbody tr th {\n",
       "        vertical-align: top;\n",
       "    }\n",
       "\n",
       "    .dataframe thead th {\n",
       "        text-align: right;\n",
       "    }\n",
       "</style>\n",
       "<table border=\"1\" class=\"dataframe\">\n",
       "  <thead>\n",
       "    <tr style=\"text-align: right;\">\n",
       "      <th></th>\n",
       "      <th>Player</th>\n",
       "      <th>Share Prediction</th>\n",
       "      <th>PTS</th>\n",
       "      <th>value_over_replacement_player</th>\n",
       "      <th>seed</th>\n",
       "      <th>W/L%</th>\n",
       "      <th>player_efficiency_rating</th>\n",
       "      <th>win_shares_per_48_minutes</th>\n",
       "      <th>offensive_box_plus_minus</th>\n",
       "      <th>usage_percentage</th>\n",
       "      <th>free_throw_attempt_rate</th>\n",
       "    </tr>\n",
       "  </thead>\n",
       "  <tbody>\n",
       "    <tr>\n",
       "      <th>0</th>\n",
       "      <td>Giannis Antetokounmpo</td>\n",
       "      <td>0.698939</td>\n",
       "      <td>28.578947</td>\n",
       "      <td>8.415789</td>\n",
       "      <td>4</td>\n",
       "      <td>0.604</td>\n",
       "      <td>31.1</td>\n",
       "      <td>0.276</td>\n",
       "      <td>6.8</td>\n",
       "      <td>35.2</td>\n",
       "      <td>0.578</td>\n",
       "    </tr>\n",
       "    <tr>\n",
       "      <th>1</th>\n",
       "      <td>Kevin Durant</td>\n",
       "      <td>0.599032</td>\n",
       "      <td>29.250000</td>\n",
       "      <td>7.061111</td>\n",
       "      <td>1</td>\n",
       "      <td>0.644</td>\n",
       "      <td>26.1</td>\n",
       "      <td>0.215</td>\n",
       "      <td>6.6</td>\n",
       "      <td>31.2</td>\n",
       "      <td>0.350</td>\n",
       "    </tr>\n",
       "    <tr>\n",
       "      <th>2</th>\n",
       "      <td>Nikola Jokic</td>\n",
       "      <td>0.429850</td>\n",
       "      <td>25.921053</td>\n",
       "      <td>10.789474</td>\n",
       "      <td>6</td>\n",
       "      <td>0.523</td>\n",
       "      <td>32.9</td>\n",
       "      <td>0.291</td>\n",
       "      <td>9.3</td>\n",
       "      <td>32.1</td>\n",
       "      <td>0.303</td>\n",
       "    </tr>\n",
       "    <tr>\n",
       "      <th>3</th>\n",
       "      <td>Stephen Curry</td>\n",
       "      <td>0.342355</td>\n",
       "      <td>26.365854</td>\n",
       "      <td>6.400000</td>\n",
       "      <td>2</td>\n",
       "      <td>0.717</td>\n",
       "      <td>22.0</td>\n",
       "      <td>0.191</td>\n",
       "      <td>6.1</td>\n",
       "      <td>32.0</td>\n",
       "      <td>0.239</td>\n",
       "    </tr>\n",
       "    <tr>\n",
       "      <th>4</th>\n",
       "      <td>Rudy Gobert</td>\n",
       "      <td>0.332459</td>\n",
       "      <td>15.850000</td>\n",
       "      <td>4.920000</td>\n",
       "      <td>4</td>\n",
       "      <td>0.652</td>\n",
       "      <td>25.5</td>\n",
       "      <td>0.277</td>\n",
       "      <td>3.2</td>\n",
       "      <td>16.9</td>\n",
       "      <td>0.863</td>\n",
       "    </tr>\n",
       "    <tr>\n",
       "      <th>5</th>\n",
       "      <td>Joel Embiid</td>\n",
       "      <td>0.228048</td>\n",
       "      <td>28.030303</td>\n",
       "      <td>7.206061</td>\n",
       "      <td>6</td>\n",
       "      <td>0.578</td>\n",
       "      <td>30.7</td>\n",
       "      <td>0.254</td>\n",
       "      <td>6.7</td>\n",
       "      <td>35.6</td>\n",
       "      <td>0.594</td>\n",
       "    </tr>\n",
       "    <tr>\n",
       "      <th>6</th>\n",
       "      <td>Ja Morant</td>\n",
       "      <td>0.171785</td>\n",
       "      <td>24.676471</td>\n",
       "      <td>5.305882</td>\n",
       "      <td>3</td>\n",
       "      <td>0.667</td>\n",
       "      <td>24.5</td>\n",
       "      <td>0.175</td>\n",
       "      <td>5.9</td>\n",
       "      <td>31.7</td>\n",
       "      <td>0.329</td>\n",
       "    </tr>\n",
       "    <tr>\n",
       "      <th>7</th>\n",
       "      <td>LeBron James</td>\n",
       "      <td>0.135741</td>\n",
       "      <td>28.848485</td>\n",
       "      <td>7.951515</td>\n",
       "      <td>7</td>\n",
       "      <td>0.500</td>\n",
       "      <td>27.0</td>\n",
       "      <td>0.207</td>\n",
       "      <td>7.1</td>\n",
       "      <td>31.0</td>\n",
       "      <td>0.284</td>\n",
       "    </tr>\n",
       "    <tr>\n",
       "      <th>8</th>\n",
       "      <td>Chris Paul</td>\n",
       "      <td>0.112030</td>\n",
       "      <td>14.022727</td>\n",
       "      <td>4.659091</td>\n",
       "      <td>1</td>\n",
       "      <td>0.795</td>\n",
       "      <td>20.5</td>\n",
       "      <td>0.214</td>\n",
       "      <td>2.6</td>\n",
       "      <td>19.5</td>\n",
       "      <td>0.260</td>\n",
       "    </tr>\n",
       "    <tr>\n",
       "      <th>9</th>\n",
       "      <td>DeMar DeRozan</td>\n",
       "      <td>0.076271</td>\n",
       "      <td>25.725000</td>\n",
       "      <td>2.665000</td>\n",
       "      <td>2</td>\n",
       "      <td>0.636</td>\n",
       "      <td>22.4</td>\n",
       "      <td>0.157</td>\n",
       "      <td>2.9</td>\n",
       "      <td>31.2</td>\n",
       "      <td>0.393</td>\n",
       "    </tr>\n",
       "  </tbody>\n",
       "</table>\n",
       "</div>"
      ],
      "text/plain": [
       "                  Player  Share Prediction        PTS  \\\n",
       "0  Giannis Antetokounmpo          0.698939  28.578947   \n",
       "1           Kevin Durant          0.599032  29.250000   \n",
       "2           Nikola Jokic          0.429850  25.921053   \n",
       "3          Stephen Curry          0.342355  26.365854   \n",
       "4            Rudy Gobert          0.332459  15.850000   \n",
       "5            Joel Embiid          0.228048  28.030303   \n",
       "6              Ja Morant          0.171785  24.676471   \n",
       "7           LeBron James          0.135741  28.848485   \n",
       "8             Chris Paul          0.112030  14.022727   \n",
       "9          DeMar DeRozan          0.076271  25.725000   \n",
       "\n",
       "   value_over_replacement_player  seed   W/L%  player_efficiency_rating  \\\n",
       "0                       8.415789     4  0.604                      31.1   \n",
       "1                       7.061111     1  0.644                      26.1   \n",
       "2                      10.789474     6  0.523                      32.9   \n",
       "3                       6.400000     2  0.717                      22.0   \n",
       "4                       4.920000     4  0.652                      25.5   \n",
       "5                       7.206061     6  0.578                      30.7   \n",
       "6                       5.305882     3  0.667                      24.5   \n",
       "7                       7.951515     7  0.500                      27.0   \n",
       "8                       4.659091     1  0.795                      20.5   \n",
       "9                       2.665000     2  0.636                      22.4   \n",
       "\n",
       "   win_shares_per_48_minutes  offensive_box_plus_minus  usage_percentage  \\\n",
       "0                      0.276                       6.8              35.2   \n",
       "1                      0.215                       6.6              31.2   \n",
       "2                      0.291                       9.3              32.1   \n",
       "3                      0.191                       6.1              32.0   \n",
       "4                      0.277                       3.2              16.9   \n",
       "5                      0.254                       6.7              35.6   \n",
       "6                      0.175                       5.9              31.7   \n",
       "7                      0.207                       7.1              31.0   \n",
       "8                      0.214                       2.6              19.5   \n",
       "9                      0.157                       2.9              31.2   \n",
       "\n",
       "   free_throw_attempt_rate  \n",
       "0                    0.578  \n",
       "1                    0.350  \n",
       "2                    0.303  \n",
       "3                    0.239  \n",
       "4                    0.863  \n",
       "5                    0.594  \n",
       "6                    0.329  \n",
       "7                    0.284  \n",
       "8                    0.260  \n",
       "9                    0.393  "
      ]
     },
     "execution_count": 50,
     "metadata": {},
     "output_type": "execute_result"
    }
   ],
   "source": [
    "xgb_summary"
   ]
  },
  {
   "cell_type": "code",
   "execution_count": 51,
   "id": "f57f2f89-acca-4e69-8c22-4de4eb08b0b7",
   "metadata": {},
   "outputs": [],
   "source": [
    "## try 01-14-2022\n",
    "stats_df = pd.read_json(mvp_ladder_by_date['01-14-2022']['stats'])\n",
    "#train on historical data, predict on 2022 data\n",
    "forecast_X_train_df, forecast_y_train_df, forecast_X_test_df = prep_train_test(df=master_table, forecast_df=stats_df)\n",
    "\n",
    "xgb_model, xgb_summary = fit_forecast_model(regressor = XGBRegressor(\n",
    "                                        n_estimators=16,\n",
    "                                        max_depth=5,\n",
    "                                        learning_rate=0.2745),\n",
    "               data_2022 = stats_df)"
   ]
  },
  {
   "cell_type": "code",
   "execution_count": 52,
   "id": "06807551-4248-4f47-879a-d326c5b339ec",
   "metadata": {},
   "outputs": [
    {
     "data": {
      "text/html": [
       "<div>\n",
       "<style scoped>\n",
       "    .dataframe tbody tr th:only-of-type {\n",
       "        vertical-align: middle;\n",
       "    }\n",
       "\n",
       "    .dataframe tbody tr th {\n",
       "        vertical-align: top;\n",
       "    }\n",
       "\n",
       "    .dataframe thead th {\n",
       "        text-align: right;\n",
       "    }\n",
       "</style>\n",
       "<table border=\"1\" class=\"dataframe\">\n",
       "  <thead>\n",
       "    <tr style=\"text-align: right;\">\n",
       "      <th></th>\n",
       "      <th>Player</th>\n",
       "      <th>Share Prediction</th>\n",
       "      <th>PTS</th>\n",
       "      <th>value_over_replacement_player</th>\n",
       "      <th>seed</th>\n",
       "      <th>W/L%</th>\n",
       "      <th>player_efficiency_rating</th>\n",
       "      <th>win_shares_per_48_minutes</th>\n",
       "      <th>offensive_box_plus_minus</th>\n",
       "      <th>usage_percentage</th>\n",
       "      <th>free_throw_attempt_rate</th>\n",
       "    </tr>\n",
       "  </thead>\n",
       "  <tbody>\n",
       "    <tr>\n",
       "      <th>0</th>\n",
       "      <td>Giannis Antetokounmpo</td>\n",
       "      <td>0.670559</td>\n",
       "      <td>28.615385</td>\n",
       "      <td>8.410256</td>\n",
       "      <td>4</td>\n",
       "      <td>0.604</td>\n",
       "      <td>30.9</td>\n",
       "      <td>0.273</td>\n",
       "      <td>6.7</td>\n",
       "      <td>35.2</td>\n",
       "      <td>0.576</td>\n",
       "    </tr>\n",
       "    <tr>\n",
       "      <th>1</th>\n",
       "      <td>Kevin Durant</td>\n",
       "      <td>0.599032</td>\n",
       "      <td>29.250000</td>\n",
       "      <td>7.061111</td>\n",
       "      <td>1</td>\n",
       "      <td>0.644</td>\n",
       "      <td>26.2</td>\n",
       "      <td>0.215</td>\n",
       "      <td>6.7</td>\n",
       "      <td>31.2</td>\n",
       "      <td>0.350</td>\n",
       "    </tr>\n",
       "    <tr>\n",
       "      <th>2</th>\n",
       "      <td>Nikola Jokic</td>\n",
       "      <td>0.503389</td>\n",
       "      <td>25.923077</td>\n",
       "      <td>10.933333</td>\n",
       "      <td>6</td>\n",
       "      <td>0.523</td>\n",
       "      <td>33.0</td>\n",
       "      <td>0.295</td>\n",
       "      <td>9.5</td>\n",
       "      <td>31.6</td>\n",
       "      <td>0.300</td>\n",
       "    </tr>\n",
       "    <tr>\n",
       "      <th>3</th>\n",
       "      <td>Stephen Curry</td>\n",
       "      <td>0.332704</td>\n",
       "      <td>26.261905</td>\n",
       "      <td>6.247619</td>\n",
       "      <td>2</td>\n",
       "      <td>0.717</td>\n",
       "      <td>21.9</td>\n",
       "      <td>0.190</td>\n",
       "      <td>5.9</td>\n",
       "      <td>31.9</td>\n",
       "      <td>0.242</td>\n",
       "    </tr>\n",
       "    <tr>\n",
       "      <th>4</th>\n",
       "      <td>Rudy Gobert</td>\n",
       "      <td>0.331596</td>\n",
       "      <td>16.048780</td>\n",
       "      <td>5.000000</td>\n",
       "      <td>4</td>\n",
       "      <td>0.652</td>\n",
       "      <td>25.7</td>\n",
       "      <td>0.280</td>\n",
       "      <td>3.3</td>\n",
       "      <td>17.1</td>\n",
       "      <td>0.868</td>\n",
       "    </tr>\n",
       "    <tr>\n",
       "      <th>5</th>\n",
       "      <td>Joel Embiid</td>\n",
       "      <td>0.228048</td>\n",
       "      <td>28.382353</td>\n",
       "      <td>7.235294</td>\n",
       "      <td>6</td>\n",
       "      <td>0.578</td>\n",
       "      <td>30.9</td>\n",
       "      <td>0.256</td>\n",
       "      <td>7.0</td>\n",
       "      <td>35.8</td>\n",
       "      <td>0.587</td>\n",
       "    </tr>\n",
       "    <tr>\n",
       "      <th>6</th>\n",
       "      <td>Ja Morant</td>\n",
       "      <td>0.202879</td>\n",
       "      <td>25.057143</td>\n",
       "      <td>5.388571</td>\n",
       "      <td>3</td>\n",
       "      <td>0.667</td>\n",
       "      <td>24.8</td>\n",
       "      <td>0.176</td>\n",
       "      <td>6.0</td>\n",
       "      <td>31.9</td>\n",
       "      <td>0.328</td>\n",
       "    </tr>\n",
       "    <tr>\n",
       "      <th>7</th>\n",
       "      <td>LeBron James</td>\n",
       "      <td>0.137129</td>\n",
       "      <td>28.852941</td>\n",
       "      <td>7.717647</td>\n",
       "      <td>7</td>\n",
       "      <td>0.500</td>\n",
       "      <td>26.8</td>\n",
       "      <td>0.204</td>\n",
       "      <td>6.9</td>\n",
       "      <td>31.1</td>\n",
       "      <td>0.279</td>\n",
       "    </tr>\n",
       "    <tr>\n",
       "      <th>8</th>\n",
       "      <td>Chris Paul</td>\n",
       "      <td>0.112030</td>\n",
       "      <td>14.022727</td>\n",
       "      <td>4.659091</td>\n",
       "      <td>1</td>\n",
       "      <td>0.795</td>\n",
       "      <td>20.5</td>\n",
       "      <td>0.214</td>\n",
       "      <td>2.6</td>\n",
       "      <td>19.5</td>\n",
       "      <td>0.260</td>\n",
       "    </tr>\n",
       "    <tr>\n",
       "      <th>9</th>\n",
       "      <td>DeMar DeRozan</td>\n",
       "      <td>0.076271</td>\n",
       "      <td>25.951220</td>\n",
       "      <td>3.000000</td>\n",
       "      <td>2</td>\n",
       "      <td>0.636</td>\n",
       "      <td>22.7</td>\n",
       "      <td>0.163</td>\n",
       "      <td>3.1</td>\n",
       "      <td>31.2</td>\n",
       "      <td>0.407</td>\n",
       "    </tr>\n",
       "  </tbody>\n",
       "</table>\n",
       "</div>"
      ],
      "text/plain": [
       "                  Player  Share Prediction        PTS  \\\n",
       "0  Giannis Antetokounmpo          0.670559  28.615385   \n",
       "1           Kevin Durant          0.599032  29.250000   \n",
       "2           Nikola Jokic          0.503389  25.923077   \n",
       "3          Stephen Curry          0.332704  26.261905   \n",
       "4            Rudy Gobert          0.331596  16.048780   \n",
       "5            Joel Embiid          0.228048  28.382353   \n",
       "6              Ja Morant          0.202879  25.057143   \n",
       "7           LeBron James          0.137129  28.852941   \n",
       "8             Chris Paul          0.112030  14.022727   \n",
       "9          DeMar DeRozan          0.076271  25.951220   \n",
       "\n",
       "   value_over_replacement_player  seed   W/L%  player_efficiency_rating  \\\n",
       "0                       8.410256     4  0.604                      30.9   \n",
       "1                       7.061111     1  0.644                      26.2   \n",
       "2                      10.933333     6  0.523                      33.0   \n",
       "3                       6.247619     2  0.717                      21.9   \n",
       "4                       5.000000     4  0.652                      25.7   \n",
       "5                       7.235294     6  0.578                      30.9   \n",
       "6                       5.388571     3  0.667                      24.8   \n",
       "7                       7.717647     7  0.500                      26.8   \n",
       "8                       4.659091     1  0.795                      20.5   \n",
       "9                       3.000000     2  0.636                      22.7   \n",
       "\n",
       "   win_shares_per_48_minutes  offensive_box_plus_minus  usage_percentage  \\\n",
       "0                      0.273                       6.7              35.2   \n",
       "1                      0.215                       6.7              31.2   \n",
       "2                      0.295                       9.5              31.6   \n",
       "3                      0.190                       5.9              31.9   \n",
       "4                      0.280                       3.3              17.1   \n",
       "5                      0.256                       7.0              35.8   \n",
       "6                      0.176                       6.0              31.9   \n",
       "7                      0.204                       6.9              31.1   \n",
       "8                      0.214                       2.6              19.5   \n",
       "9                      0.163                       3.1              31.2   \n",
       "\n",
       "   free_throw_attempt_rate  \n",
       "0                    0.576  \n",
       "1                    0.350  \n",
       "2                    0.300  \n",
       "3                    0.242  \n",
       "4                    0.868  \n",
       "5                    0.587  \n",
       "6                    0.328  \n",
       "7                    0.279  \n",
       "8                    0.260  \n",
       "9                    0.407  "
      ]
     },
     "execution_count": 52,
     "metadata": {},
     "output_type": "execute_result"
    }
   ],
   "source": [
    "xgb_summary"
   ]
  },
  {
   "cell_type": "code",
   "execution_count": null,
   "id": "af9df8ae-d256-4dfc-98ff-7528d99ac6fe",
   "metadata": {},
   "outputs": [],
   "source": []
  }
 ],
 "metadata": {
  "kernelspec": {
   "display_name": "Python [conda env:nba_mvp_project]",
   "language": "python",
   "name": "conda-env-nba_mvp_project-py"
  },
  "language_info": {
   "codemirror_mode": {
    "name": "ipython",
    "version": 3
   },
   "file_extension": ".py",
   "mimetype": "text/x-python",
   "name": "python",
   "nbconvert_exporter": "python",
   "pygments_lexer": "ipython3",
   "version": "3.8.10"
  }
 },
 "nbformat": 4,
 "nbformat_minor": 5
}
