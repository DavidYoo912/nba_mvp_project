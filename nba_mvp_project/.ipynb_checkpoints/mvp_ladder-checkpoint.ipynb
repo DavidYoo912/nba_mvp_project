{
 "cells": [
  {
   "cell_type": "code",
   "execution_count": 1,
   "id": "dab25c33-69ca-4ab2-b68a-799a68494702",
   "metadata": {},
   "outputs": [],
   "source": [
    "import os\n",
    "import numpy as np\n",
    "import pandas as pd\n",
    "from datetime import date, datetime, timedelta\n",
    "from tqdm import tqdm\n",
    "import pickle\n",
    "import json\n",
    "\n",
    "import requests\n",
    "from urllib.error import HTTPError\n",
    "import urllib.request\n",
    "from bs4 import BeautifulSoup\n",
    "\n",
    "from basketball_reference_web_scraper import client\n",
    "from xgboost import XGBRegressor\n",
    "\n",
    "import warnings\n",
    "warnings.filterwarnings('ignore')\n",
    "\n",
    "#pandas show all columns\n",
    "pd.set_option('display.max_columns', None)"
   ]
  },
  {
   "cell_type": "code",
   "execution_count": 2,
   "id": "573bdb05-f67e-4684-b99c-96a1a23f8eba",
   "metadata": {},
   "outputs": [],
   "source": [
    "#load team to abbreviation mapping\n",
    "with open(os.path.dirname(os.getcwd()) + '/scripts' + '/team_to_abbreviations.json') as f:\n",
    "      team_to_abbreviations = json.load(f)"
   ]
  },
  {
   "cell_type": "code",
   "execution_count": 3,
   "id": "03439533-fb83-4254-8d0f-adf944f2217c",
   "metadata": {},
   "outputs": [],
   "source": [
    "filter_advanced = [\n",
    "        'name',\n",
    "        'player_efficiency_rating',\n",
    "         'true_shooting_percentage',\n",
    "         'three_point_attempt_rate',\n",
    "         'free_throw_attempt_rate',\n",
    "         'offensive_rebound_percentage',\n",
    "         'defensive_rebound_percentage',\n",
    "         'total_rebound_percentage',\n",
    "         'assist_percentage',\n",
    "         'steal_percentage',\n",
    "         'block_percentage',\n",
    "         'turnover_percentage',\n",
    "         'usage_percentage',\n",
    "         'offensive_win_shares',\n",
    "         'defensive_win_shares',\n",
    "         'win_shares',\n",
    "         'win_shares_per_48_minutes',\n",
    "         'offensive_box_plus_minus',\n",
    "         'defensive_box_plus_minus',\n",
    "         'box_plus_minus',\n",
    "         'value_over_replacement_player'\n",
    "    ]\n",
    "\n",
    "def extract_advanced_stats(year):\n",
    "    advanced_stats_df = pd.DataFrame(client.players_advanced_season_totals(season_end_year=year))\n",
    "    advanced_stats_df['year'] = year\n",
    "    \n",
    "    advanced_stats_df = advanced_stats_df[filter_advanced]\n",
    "    advanced_stats_df = advanced_stats_df.rename(columns={'name':'Player'})\n",
    "    return advanced_stats_df"
   ]
  },
  {
   "cell_type": "code",
   "execution_count": 4,
   "id": "36d4347f-331c-407e-b9ef-2fae442392b2",
   "metadata": {},
   "outputs": [],
   "source": [
    "year = 2022\n",
    "basic_stats_df = pd.DataFrame(client.players_season_totals(season_end_year=year))\n",
    "\n",
    "advanced_stats_df = pd.DataFrame(client.players_advanced_season_totals(season_end_year=year))\n",
    "advanced_stats_df = advanced_stats_df[filter_advanced]\n",
    "advanced_stats_df = advanced_stats_df.rename(columns={'name':'Player'})"
   ]
  },
  {
   "cell_type": "code",
   "execution_count": 5,
   "id": "75f86175-e634-4d45-b9b1-0bdbdca3db27",
   "metadata": {},
   "outputs": [],
   "source": [
    "filter_basic = [\n",
    "    'name',\n",
    "    'games_played',\n",
    "    'team',\n",
    "    'points',\n",
    "    'assists',\n",
    "    'offensive_rebounds',\n",
    "    'defensive_rebounds',\n",
    "    'steals',\n",
    "    'blocks',\n",
    "    'made_field_goals',\n",
    "    'attempted_field_goals',\n",
    "    'made_three_point_field_goals',\n",
    "    'attempted_three_point_field_goals'\n",
    "]\n",
    "basic_stats_df = basic_stats_df[filter_basic]\n",
    "basic_stats_df = basic_stats_df.rename(columns={'name':'Player',\n",
    "                               'points':'PTS',\n",
    "                               'assists':'AST',\n",
    "                               'steals':'STL',\n",
    "                               'blocks':'BLK',})\n",
    "\n",
    "basic_stats_df['PTS'] = basic_stats_df['PTS'] / basic_stats_df['games_played']\n",
    "basic_stats_df['AST'] = basic_stats_df['AST'] / basic_stats_df['games_played']\n",
    "basic_stats_df['STL'] = basic_stats_df['STL'] / basic_stats_df['games_played']\n",
    "basic_stats_df['BLK'] = basic_stats_df['BLK'] / basic_stats_df['games_played']\n",
    "basic_stats_df['FG%'] = basic_stats_df['made_field_goals'] / basic_stats_df['attempted_field_goals']\n",
    "basic_stats_df['3P%'] = basic_stats_df['made_three_point_field_goals'] / basic_stats_df['attempted_three_point_field_goals']\n",
    "basic_stats_df['TRB'] = (basic_stats_df['offensive_rebounds'] + basic_stats_df['defensive_rebounds']) / basic_stats_df['games_played']\n",
    "\n",
    "basic_stats_df = basic_stats_df[['Player', 'games_played', 'team', 'PTS', 'AST', 'STL', 'BLK', 'FG%' ,'3P%' , 'TRB']]\n",
    "basic_stats_df['team'] = basic_stats_df['team'].astype(str).str.slice(5,)\n",
    "basic_stats_df['team'] = basic_stats_df['team'].astype(str).str.replace('_', ' ').str.lower()"
   ]
  },
  {
   "cell_type": "code",
   "execution_count": 6,
   "id": "785c244e-ea78-423a-bd08-6e5452a158c2",
   "metadata": {},
   "outputs": [],
   "source": [
    "def extract_team_stats_new(year):\n",
    "    url = f\"https://www.basketball-reference.com/leagues/NBA_{year}_standings.html#all_confs_standings_E%22\"\n",
    "\n",
    "    #east\n",
    "    team_east_standing_table = pd.read_html(url)[0]\n",
    "    team_east_standing_table = team_east_standing_table.rename({'Eastern Conference': 'team'}, axis=1)\n",
    "    #remove 'Division' in team column (e.g. Atlantic Division)\n",
    "    team_east_standing_table = team_east_standing_table[team_east_standing_table['team'].str.contains('Division')==False]\n",
    "    new_east = team_east_standing_table[\"team\"].str.split(\"(\", n = 1, expand = True)\n",
    "    team_east_standing_table[\"team\"] = [i[:-1] for i in new_east[0]]\n",
    "    team_east_standing_table[\"seed\"] = [i[:-1] for i in new_east[1]]\n",
    "\n",
    "    #west\n",
    "    team_west_standing_table = pd.read_html(url)[1]\n",
    "    team_west_standing_table = team_west_standing_table.rename({'Western Conference': 'team'}, axis=1)\n",
    "    #remove 'Division' in team column (e.g. Atlantic Division)\n",
    "    team_west_standing_table = team_west_standing_table[team_west_standing_table['team'].str.contains('Division')==False]\n",
    "    new_west = team_west_standing_table[\"team\"].str.split(\"(\", n = 1, expand = True)\n",
    "    team_west_standing_table[\"team\"] = [i[:-1] for i in new_west[0]]\n",
    "    team_west_standing_table[\"seed\"] = [i[:-1] for i in new_west[1]]\n",
    "\n",
    "    #combine east and west \n",
    "    team_standing_table = pd.concat([team_east_standing_table, team_west_standing_table])\n",
    "    \n",
    "    #remove * in team column\n",
    "    team_standing_table.team = team_standing_table.team.str.replace('*', '')\n",
    "        \n",
    "    #map abbreviation to full team name\n",
    "    team_standing_table['Tm'] = team_standing_table['team'].map(team_to_abbreviations)\n",
    "    \n",
    "    #filter only needed columns\n",
    "    team_standing_table_sub = team_standing_table[['Tm', 'team', 'W', 'W/L%', 'seed']]\n",
    "    \n",
    "    return team_standing_table_sub"
   ]
  },
  {
   "cell_type": "code",
   "execution_count": 7,
   "id": "4abfc51b-d982-4ac0-8044-eb22feb58ed2",
   "metadata": {},
   "outputs": [],
   "source": [
    "#left merge mvp candidate with team standings table on team abbreviation\n",
    "team_standing_table_sub = extract_team_stats_new(2022)\n",
    "team_standing_table_sub['team'] = team_standing_table_sub['team'].str.lower()\n",
    "joined_table_2022 = pd.merge(basic_stats_df, team_standing_table_sub, how='left', on='team')\n",
    "joined_table_2022 = pd.merge(joined_table_2022, advanced_stats_df, how='left', on='Player')\n",
    "\n",
    "joined_table_2022.loc[joined_table_2022['Player'] == 'Nikola Jokić', 'Player'] = 'Nikola Jokic'"
   ]
  },
  {
   "cell_type": "code",
   "execution_count": null,
   "id": "ca13dafa-4646-47d5-ab45-adcc6451eef0",
   "metadata": {},
   "outputs": [],
   "source": []
  },
  {
   "cell_type": "code",
   "execution_count": 8,
   "id": "0daced10-7e4f-4063-8f57-1b4d2c158638",
   "metadata": {},
   "outputs": [],
   "source": [
    "#### "
   ]
  },
  {
   "cell_type": "code",
   "execution_count": 9,
   "id": "e2ee1e96-5628-4e24-a3c4-545a9a737bdf",
   "metadata": {},
   "outputs": [],
   "source": [
    "to_drop = [\n",
    "    'Rank',\n",
    "    'Player',\n",
    "    'Age',\n",
    "    'year',\n",
    "    'Tm',\n",
    "    'team',\n",
    "    'First',\n",
    "    'Pts Won',\n",
    "    'Pts Max',\n",
    "    'WS/48',\n",
    "    'WS',\n",
    "    'MP',\n",
    "    'G',\n",
    "    'W', \n",
    "    'FG%',\n",
    "    '3P%',\n",
    "    'STL', \n",
    "    'BLK',\n",
    "    'three_point_attempt_rate',\n",
    "    'total_rebound_percentage',\n",
    "    'offensive_rebound_percentage',\n",
    "    'block_percentage',\n",
    "    'defensive_rebound_percentage',\n",
    "    'steal_percentage',\n",
    "    'turnover_percentage',\n",
    "    'assist_percentage',\n",
    "    'AST',\n",
    "    'TRB',\n",
    "    'FT%',\n",
    "    'win_shares', \n",
    "    'box_plus_minus', \n",
    "    'defensive_box_plus_minus',\n",
    "    'offensive_win_shares', \n",
    "    'defensive_win_shares', \n",
    "    'true_shooting_percentage' \n",
    "]"
   ]
  },
  {
   "cell_type": "code",
   "execution_count": 32,
   "id": "b964a174-f949-4860-9cc5-1f7b445ce161",
   "metadata": {},
   "outputs": [],
   "source": [
    "def extract_mvp_ladder(date):\n",
    "    date_str = date.strftime(format='%m-%d-%Y')\n",
    "    date_str_split = date_str.split('-')\n",
    "    \n",
    "    date_map = {\n",
    "        '01': 'jan',\n",
    "        '02': 'feb',\n",
    "        '03': 'mar',\n",
    "        '04': 'apr',\n",
    "        '05': 'may',\n",
    "        '06': 'jun',\n",
    "        '07': 'jul',\n",
    "        '08': 'aug',\n",
    "        '09': 'sep',\n",
    "        '10': 'oct',\n",
    "        '11': 'nov',\n",
    "        '12': 'dec'\n",
    "    }\n",
    "    \n",
    "    month = date_map[date_str_split[0]]\n",
    "    day = date_str_split[1]\n",
    "    year = date_str_split[2]\n",
    "    \n",
    "    #2022 candidate table\n",
    "    if (month == 'jan') & (day == '28'):\n",
    "        url = 'https://www.nba.com/news/kia-mvp-ladder-jan-28-edition'\n",
    "    else:\n",
    "        url = f'https://www.nba.com/news/kia-mvp-ladder-{month}-{day}-{year}-edition'\n",
    "    \n",
    "    try: \n",
    "        html = requests.get(url).content\n",
    "\n",
    "        soup = BeautifulSoup(html)\n",
    "        remove_line = 'Last week’s ranking'\n",
    "        remove_line2 = 'ET'\n",
    "        remove_line3 = 'The Next Five'\n",
    "\n",
    "        top_five = []\n",
    "        next_five_pre = [] \n",
    "\n",
    "        ######### TOP 5 extract #######\n",
    "        method_1_lst = []\n",
    "        for line in soup.find_all(\"h3\")[1:-1]:\n",
    "            if remove_line not in str(line):\n",
    "                name_raw = str(line).split(',')[0]\n",
    "                name_raw = name_raw.split('.')[1]\n",
    "                name = name_raw[1:]\n",
    "                method_1_lst.append(name)\n",
    "\n",
    "        method_2_lst = []\n",
    "        for line in soup.find_all(\"strong\")[1:-1]:\n",
    "            if remove_line not in str(line):\n",
    "                if remove_line2 not in str(line):\n",
    "                    if remove_line3 not in str(line):\n",
    "                        name_raw = str(line).split(',')[0]\n",
    "                        name_raw = name_raw.split('.')[1]\n",
    "                        name = name_raw[1:]\n",
    "                        method_2_lst.append(name)\n",
    "\n",
    "        top_five = method_1_lst\n",
    "        for i in method_2_lst:\n",
    "            if i not in top_five:\n",
    "                top_five.append(i)\n",
    "        top_five = [i for i in top_five if i != '/strong>']\n",
    "\n",
    "        ######### NEXT 5 extract #######\n",
    "        \n",
    "        for line in soup.find_all(\"p\"):\n",
    "            if 'week: ' in str(line):\n",
    "                name_raw = str(line).split(',')[0]\n",
    "                name_raw = name_raw.split('.')[1]\n",
    "                name = name_raw[1:]\n",
    "                #name = name.split('>')[1][1:]\n",
    "                next_five_pre.append(name)\n",
    "        next_five = [] \n",
    "        for name in next_five_pre:\n",
    "            if '/strong>' in name:\n",
    "                name = name.split('>')[1][1:]\n",
    "                next_five.append(name)\n",
    "            else:\n",
    "                next_five.append(name)\n",
    "\n",
    "        top_ten = top_five + next_five\n",
    "        return top_ten\n",
    "    except HTTPError as err:\n",
    "        print(f'no mvp race has been found for this date yet: {date}')"
   ]
  },
  {
   "cell_type": "code",
   "execution_count": 72,
   "id": "acaba5c0-2a59-4084-b678-a0402cf287fa",
   "metadata": {},
   "outputs": [],
   "source": [
    "#ONLY ADDS INFO FOR DATE THAT IS NOT IN DICT YET\n",
    "def compile_ladder_dict(mvp_ladder_by_date, datetime_lst, joined_table_2022):\n",
    "\n",
    "    dates_initial = list(mvp_ladder_by_date.keys())\n",
    "    \n",
    "    for date in datetime_lst:\n",
    "        date_str = date.strftime(format='%m-%d-%Y')\n",
    "        if date_str not in dates_initial:\n",
    "            top_ten = extract_mvp_ladder(date=date)\n",
    "            print(f'extracting top 10 for {date_str}')\n",
    "\n",
    "            #left merge mvp candidate with team standings table on team abbreviation\n",
    "            team_standing_table_sub = extract_team_stats_new(2022)\n",
    "            team_standing_table_sub['team'] = team_standing_table_sub['team'].str.lower()\n",
    "            joined_table_2022 = pd.merge(basic_stats_df, team_standing_table_sub, how='left', on='team')\n",
    "            joined_table_2022 = pd.merge(joined_table_2022, advanced_stats_df, how='left', on='Player')\n",
    "            joined_table_2022.loc[joined_table_2022['Player'] == 'Nikola Jokić', 'Player'] = 'Nikola Jokic'\n",
    "            \n",
    "            joined_table_2022 = joined_table_2022[joined_table_2022['Player'].isin(top_ten)]\n",
    "            # adjust VORP at the current pace and project to rest of the season\n",
    "            joined_table_2022_sub = joined_table_2022[['Player', 'games_played', 'value_over_replacement_player']]\n",
    "            joined_table_2022_sub['games'] = 82\n",
    "            joined_table_2022_sub['games_left'] = (joined_table_2022_sub['games'] - joined_table_2022_sub['games_played'])\n",
    "            joined_table_2022_sub['vorp/games_played'] = (joined_table_2022_sub['value_over_replacement_player'] / joined_table_2022_sub['games_played'])\n",
    "            joined_table_2022_sub['adjusted_vorp'] = (joined_table_2022_sub['vorp/games_played'] * joined_table_2022_sub['games_left']) + joined_table_2022_sub['value_over_replacement_player']\n",
    "            joined_table_2022['value_over_replacement_player'] = joined_table_2022_sub['adjusted_vorp']\n",
    "\n",
    "            mvp_ladder_by_date[date_str] = {'ladder': top_ten, 'stats': joined_table_2022.to_json()}\n",
    "        return mvp_ladder_by_date"
   ]
  },
  {
   "cell_type": "code",
   "execution_count": 73,
   "id": "f4800ce8-1af8-47e0-a803-8e000dce6b91",
   "metadata": {},
   "outputs": [
    {
     "name": "stdout",
     "output_type": "stream",
     "text": [
      "01-21-2022\n",
      "01-28-2022\n"
     ]
    }
   ],
   "source": [
    "for date in datetime_lst:\n",
    "    date_str = date.strftime(format='%m-%d-%Y')\n",
    "    print(date_str)"
   ]
  },
  {
   "cell_type": "code",
   "execution_count": 85,
   "id": "71453db4-3143-4103-9fc3-167e4fdb9d6f",
   "metadata": {},
   "outputs": [
    {
     "data": {
      "text/plain": [
       "True"
      ]
     },
     "execution_count": 85,
     "metadata": {},
     "output_type": "execute_result"
    }
   ],
   "source": [
    "dates_initial = list(mvp_ladder_by_date.keys())\n",
    "datetime_lst[1].strftime(format='%m-%d-%Y') not in dates_initial"
   ]
  },
  {
   "cell_type": "code",
   "execution_count": 90,
   "id": "d98fa716-4d8e-45c6-8e6b-0c514983ed9e",
   "metadata": {},
   "outputs": [
    {
     "name": "stdout",
     "output_type": "stream",
     "text": [
      "extracting top 10 for 01-28-2022\n"
     ]
    }
   ],
   "source": [
    "date = datetime_lst[1]\n",
    "date_str = date.strftime(format='%m-%d-%Y')\n",
    "top_ten = extract_mvp_ladder(date=datetime_lst[1])\n",
    "print(f'extracting top 10 for {date_str}')\n",
    "\n",
    "#left merge mvp candidate with team standings table on team abbreviation\n",
    "team_standing_table_sub = extract_team_stats_new(2022)\n",
    "team_standing_table_sub['team'] = team_standing_table_sub['team'].str.lower()\n",
    "joined_table_2022 = pd.merge(basic_stats_df, team_standing_table_sub, how='left', on='team')\n",
    "joined_table_2022 = pd.merge(joined_table_2022, advanced_stats_df, how='left', on='Player')\n",
    "joined_table_2022.loc[joined_table_2022['Player'] == 'Nikola Jokić', 'Player'] = 'Nikola Jokic'\n",
    "\n",
    "joined_table_2022 = joined_table_2022[joined_table_2022['Player'].isin(top_ten)]\n",
    "# adjust VORP at the current pace and project to rest of the season\n",
    "joined_table_2022_sub = joined_table_2022[['Player', 'games_played', 'value_over_replacement_player']]\n",
    "joined_table_2022_sub['games'] = 82\n",
    "joined_table_2022_sub['games_left'] = (joined_table_2022_sub['games'] - joined_table_2022_sub['games_played'])\n",
    "joined_table_2022_sub['vorp/games_played'] = (joined_table_2022_sub['value_over_replacement_player'] / joined_table_2022_sub['games_played'])\n",
    "joined_table_2022_sub['adjusted_vorp'] = (joined_table_2022_sub['vorp/games_played'] * joined_table_2022_sub['games_left']) + joined_table_2022_sub['value_over_replacement_player']\n",
    "joined_table_2022['value_over_replacement_player'] = joined_table_2022_sub['adjusted_vorp']\n",
    "\n",
    "mvp_ladder_by_date[date_str] = {'ladder': top_ten, 'stats': joined_table_2022.to_json()}"
   ]
  },
  {
   "cell_type": "code",
   "execution_count": 91,
   "id": "ab46d14d-d2dd-45e6-b9a5-0990c4307881",
   "metadata": {},
   "outputs": [
    {
     "data": {
      "text/plain": [
       "{'01-14-2022': {'ladder': ['Giannis Antetokounmpo',\n",
       "   'Nikola Jokic',\n",
       "   'Kevin Durant',\n",
       "   'Joel Embiid',\n",
       "   'DeMar DeRozan',\n",
       "   'Stephen Curry',\n",
       "   'Ja Morant',\n",
       "   'Chris Paul',\n",
       "   'LeBron James',\n",
       "   'Rudy Gobert'],\n",
       "  'stats': '{\"Player\":{\"14\":\"Giannis Antetokounmpo\",\"131\":\"Stephen Curry\",\"139\":\"DeMar DeRozan\",\"161\":\"Kevin Durant\",\"168\":\"Joel Embiid\",\"216\":\"Rudy Gobert\",\"311\":\"LeBron James\",\"333\":\"Nikola Jokic\",\"444\":\"Ja Morant\",\"491\":\"Chris Paul\"},\"games_played\":{\"14\":39,\"131\":42,\"139\":41,\"161\":36,\"168\":34,\"216\":41,\"311\":34,\"333\":39,\"444\":35,\"491\":44},\"team\":{\"14\":\"milwaukee bucks\",\"131\":\"golden state warriors\",\"139\":\"chicago bulls\",\"161\":\"brooklyn nets\",\"168\":\"philadelphia 76ers\",\"216\":\"utah jazz\",\"311\":\"los angeles lakers\",\"333\":\"denver nuggets\",\"444\":\"memphis grizzlies\",\"491\":\"phoenix suns\"},\"PTS\":{\"14\":28.6153846154,\"131\":26.2619047619,\"139\":25.9512195122,\"161\":29.25,\"168\":28.3823529412,\"216\":16.0487804878,\"311\":28.8529411765,\"333\":25.9230769231,\"444\":25.0571428571,\"491\":14.0227272727},\"AST\":{\"14\":6.0256410256,\"131\":6.2142857143,\"139\":4.8048780488,\"161\":5.75,\"168\":4.2058823529,\"216\":1.1219512195,\"311\":6.3823529412,\"333\":7.5384615385,\"444\":6.8857142857,\"491\":10.0},\"STL\":{\"14\":1.0256410256,\"131\":1.4523809524,\"139\":0.7804878049,\"161\":0.7777777778,\"168\":1.0294117647,\"216\":0.7804878049,\"311\":1.5882352941,\"333\":1.3846153846,\"444\":1.2857142857,\"491\":1.9318181818},\"BLK\":{\"14\":1.4871794872,\"131\":0.4761904762,\"139\":0.3658536585,\"161\":0.9444444444,\"168\":1.3823529412,\"216\":2.3170731707,\"311\":1.1176470588,\"333\":0.7948717949,\"444\":0.4,\"491\":0.3409090909},\"FG%\":{\"14\":0.5308641975,\"131\":0.4196217494,\"139\":0.4891443167,\"161\":0.5198902606,\"168\":0.4983974359,\"216\":0.7138461538,\"311\":0.5169014085,\"333\":0.5718432511,\"444\":0.4887556222,\"491\":0.4785276074},\"3P%\":{\"14\":0.2818791946,\"131\":0.3836126629,\"139\":0.3333333333,\"161\":0.3722222222,\"168\":0.3913043478,\"216\":0.0,\"311\":0.3619402985,\"333\":0.3703703704,\"444\":0.3571428571,\"491\":0.320610687},\"TRB\":{\"14\":11.2820512821,\"131\":5.3333333333,\"139\":4.9756097561,\"161\":7.4166666667,\"168\":10.6470588235,\"216\":15.0,\"311\":7.5882352941,\"333\":13.8717948718,\"444\":5.7714285714,\"491\":4.2954545455},\"Tm\":{\"14\":\"MIL\",\"131\":\"GSW\",\"139\":\"CHI\",\"161\":\"BKN\",\"168\":\"PHI\",\"216\":\"UTA\",\"311\":\"LAL\",\"333\":\"DEN\",\"444\":\"MEM\",\"491\":\"PHO\"},\"W\":{\"14\":29,\"131\":33,\"139\":28,\"161\":29,\"168\":26,\"216\":30,\"311\":23,\"333\":23,\"444\":32,\"491\":35},\"W\\\\/L%\":{\"14\":0.604,\"131\":0.717,\"139\":0.636,\"161\":0.644,\"168\":0.578,\"216\":0.652,\"311\":0.5,\"333\":0.523,\"444\":0.667,\"491\":0.795},\"seed\":{\"14\":\"4\",\"131\":\"2\",\"139\":\"2\",\"161\":\"1\",\"168\":\"6\",\"216\":\"4\",\"311\":\"7\",\"333\":\"6\",\"444\":\"3\",\"491\":\"1\"},\"player_efficiency_rating\":{\"14\":30.9,\"131\":21.9,\"139\":22.7,\"161\":26.2,\"168\":30.9,\"216\":25.7,\"311\":26.8,\"333\":33.0,\"444\":24.8,\"491\":20.5},\"true_shooting_percentage\":{\"14\":0.611,\"131\":0.589,\"139\":0.576,\"161\":0.626,\"168\":0.615,\"216\":0.733,\"311\":0.615,\"333\":0.648,\"444\":0.574,\"491\":0.566},\"three_point_attempt_rate\":{\"14\":0.204,\"131\":0.635,\"139\":0.096,\"161\":0.247,\"168\":0.184,\"216\":0.003,\"311\":0.377,\"333\":0.235,\"444\":0.231,\"491\":0.268},\"free_throw_attempt_rate\":{\"14\":0.576,\"131\":0.242,\"139\":0.407,\"161\":0.35,\"168\":0.587,\"216\":0.868,\"311\":0.279,\"333\":0.3,\"444\":0.328,\"491\":0.26},\"offensive_rebound_percentage\":{\"14\":5.9,\"131\":1.8,\"139\":2.4,\"161\":1.7,\"168\":6.7,\"216\":12.6,\"311\":3.2,\"333\":9.6,\"444\":4.2,\"491\":1.1},\"defensive_rebound_percentage\":{\"14\":29.5,\"131\":14.4,\"139\":13.4,\"161\":19.3,\"168\":28.9,\"216\":36.6,\"311\":18.5,\"333\":36.5,\"444\":14.8,\"491\":12.6},\"total_rebound_percentage\":{\"14\":18.0,\"131\":8.3,\"139\":7.9,\"161\":10.9,\"168\":17.9,\"216\":25.1,\"311\":11.0,\"333\":23.2,\"444\":9.3,\"491\":7.0},\"assist_percentage\":{\"14\":34.5,\"131\":30.5,\"139\":23.5,\"161\":27.4,\"168\":23.9,\"216\":5.1,\"311\":31.3,\"333\":42.5,\"444\":35.7,\"491\":43.2},\"steal_percentage\":{\"14\":1.5,\"131\":2.0,\"139\":1.1,\"161\":1.0,\"168\":1.6,\"216\":1.2,\"311\":2.1,\"333\":2.1,\"444\":1.9,\"491\":2.9},\"block_percentage\":{\"14\":4.5,\"131\":1.3,\"139\":0.9,\"161\":2.3,\"168\":3.8,\"216\":6.1,\"311\":2.8,\"333\":2.2,\"444\":1.1,\"491\":0.9},\"turnover_percentage\":{\"14\":13.0,\"131\":12.8,\"139\":8.8,\"161\":11.3,\"168\":11.4,\"216\":14.5,\"311\":11.9,\"333\":15.0,\"444\":13.1,\"491\":15.2},\"usage_percentage\":{\"14\":35.2,\"131\":31.9,\"139\":31.2,\"161\":31.2,\"168\":35.8,\"216\":17.1,\"311\":31.1,\"333\":31.6,\"444\":31.9,\"491\":19.5},\"offensive_win_shares\":{\"14\":4.8,\"131\":3.1,\"139\":3.8,\"161\":4.4,\"168\":4.1,\"216\":5.0,\"311\":3.7,\"333\":5.6,\"444\":3.0,\"491\":3.8},\"defensive_win_shares\":{\"14\":2.5,\"131\":2.6,\"139\":1.0,\"161\":1.5,\"168\":1.9,\"216\":2.8,\"311\":1.6,\"333\":2.4,\"444\":1.2,\"491\":2.5},\"win_shares\":{\"14\":7.3,\"131\":5.8,\"139\":4.8,\"161\":5.9,\"168\":6.0,\"216\":7.7,\"311\":5.3,\"333\":7.9,\"444\":4.2,\"491\":6.3},\"win_shares_per_48_minutes\":{\"14\":0.273,\"131\":0.19,\"139\":0.163,\"161\":0.215,\"168\":0.256,\"216\":0.28,\"311\":0.204,\"333\":0.295,\"444\":0.176,\"491\":0.214},\"offensive_box_plus_minus\":{\"14\":6.7,\"131\":5.9,\"139\":3.1,\"161\":6.7,\"168\":7.0,\"216\":3.3,\"311\":6.9,\"333\":9.5,\"444\":6.0,\"491\":2.6},\"defensive_box_plus_minus\":{\"14\":3.7,\"131\":0.9,\"139\":-1.0,\"161\":0.7,\"168\":1.9,\"216\":2.0,\"311\":1.3,\"333\":4.7,\"444\":-0.1,\"491\":2.4},\"box_plus_minus\":{\"14\":10.4,\"131\":6.8,\"139\":2.1,\"161\":7.3,\"168\":8.9,\"216\":5.3,\"311\":8.2,\"333\":14.1,\"444\":5.8,\"491\":5.0},\"value_over_replacement_player\":{\"14\":8.4102564103,\"131\":6.2476190476,\"139\":3.0,\"161\":7.0611111111,\"168\":7.2352941176,\"216\":5.0,\"311\":7.7176470588,\"333\":10.9333333333,\"444\":5.3885714286,\"491\":4.6590909091}}'},\n",
       " '01-21-2022': {'ladder': ['Nikola Jokic',\n",
       "   'Giannis Antetokounmpo',\n",
       "   'Joel Embiid',\n",
       "   'Kevin Durant',\n",
       "   'Chris Paul',\n",
       "   'Stephen Curry',\n",
       "   'DeMar DeRozan',\n",
       "   'Ja Morant',\n",
       "   'Rudy Gobert',\n",
       "   'LeBron James'],\n",
       "  'stats': '{\"Player\":{\"14\":\"Giannis Antetokounmpo\",\"131\":\"Stephen Curry\",\"139\":\"DeMar DeRozan\",\"161\":\"Kevin Durant\",\"168\":\"Joel Embiid\",\"213\":\"Rudy Gobert\",\"305\":\"LeBron James\",\"327\":\"Nikola Jokic\",\"438\":\"Ja Morant\",\"485\":\"Chris Paul\"},\"games_played\":{\"14\":38,\"131\":41,\"139\":40,\"161\":36,\"168\":33,\"213\":40,\"305\":33,\"327\":38,\"438\":34,\"485\":44},\"team\":{\"14\":\"milwaukee bucks\",\"131\":\"golden state warriors\",\"139\":\"chicago bulls\",\"161\":\"brooklyn nets\",\"168\":\"philadelphia 76ers\",\"213\":\"utah jazz\",\"305\":\"los angeles lakers\",\"327\":\"denver nuggets\",\"438\":\"memphis grizzlies\",\"485\":\"phoenix suns\"},\"PTS\":{\"14\":28.5789473684,\"131\":26.3658536585,\"139\":25.725,\"161\":29.25,\"168\":28.0303030303,\"213\":15.85,\"305\":28.8484848485,\"327\":25.9210526316,\"438\":24.6764705882,\"485\":14.0227272727},\"AST\":{\"14\":6.1052631579,\"131\":6.0731707317,\"139\":4.85,\"161\":5.75,\"168\":4.1515151515,\"213\":1.125,\"305\":6.4242424242,\"327\":7.4210526316,\"438\":6.9117647059,\"485\":10.0},\"STL\":{\"14\":1.0263157895,\"131\":1.4634146341,\"139\":0.8,\"161\":0.7777777778,\"168\":1.0606060606,\"213\":0.8,\"305\":1.6060606061,\"327\":1.3684210526,\"438\":1.2647058824,\"485\":1.9318181818},\"BLK\":{\"14\":1.4736842105,\"131\":0.4634146341,\"139\":0.375,\"161\":0.9444444444,\"168\":1.3939393939,\"213\":2.275,\"305\":1.1212121212,\"327\":0.7894736842,\"438\":0.4117647059,\"485\":0.3409090909},\"FG%\":{\"14\":0.5325779037,\"131\":0.423030303,\"139\":0.4888888889,\"161\":0.5198902606,\"168\":0.4941569282,\"213\":0.7133757962,\"305\":0.5167394469,\"327\":0.5690936107,\"438\":0.4851794072,\"485\":0.4785276074},\"3P%\":{\"14\":0.2876712329,\"131\":0.3854961832,\"139\":0.3472222222,\"161\":0.3722222222,\"168\":0.375,\"213\":0.0,\"305\":0.3639846743,\"327\":0.3670886076,\"438\":0.3581081081,\"485\":0.320610687},\"TRB\":{\"14\":11.2631578947,\"131\":5.3658536585,\"139\":4.95,\"161\":7.4166666667,\"168\":10.5757575758,\"213\":15.025,\"305\":7.6060606061,\"327\":13.9473684211,\"438\":5.7647058824,\"485\":4.2954545455},\"Tm\":{\"14\":\"MIL\",\"131\":\"GSW\",\"139\":\"CHI\",\"161\":\"BKN\",\"168\":\"PHI\",\"213\":\"UTA\",\"305\":\"LAL\",\"327\":\"DEN\",\"438\":\"MEM\",\"485\":\"PHO\"},\"W\":{\"14\":29,\"131\":33,\"139\":28,\"161\":29,\"168\":26,\"213\":30,\"305\":23,\"327\":23,\"438\":32,\"485\":35},\"W\\\\/L%\":{\"14\":0.604,\"131\":0.717,\"139\":0.636,\"161\":0.644,\"168\":0.578,\"213\":0.652,\"305\":0.5,\"327\":0.523,\"438\":0.667,\"485\":0.795},\"seed\":{\"14\":\"4\",\"131\":\"2\",\"139\":\"2\",\"161\":\"1\",\"168\":\"6\",\"213\":\"4\",\"305\":\"7\",\"327\":\"6\",\"438\":\"3\",\"485\":\"1\"},\"player_efficiency_rating\":{\"14\":31.1,\"131\":22.0,\"139\":22.4,\"161\":26.1,\"168\":30.7,\"213\":25.5,\"305\":27.0,\"327\":32.9,\"438\":24.5,\"485\":20.5},\"true_shooting_percentage\":{\"14\":0.613,\"131\":0.593,\"139\":0.573,\"161\":0.626,\"168\":0.612,\"213\":0.732,\"305\":0.616,\"327\":0.646,\"438\":0.572,\"485\":0.566},\"three_point_attempt_rate\":{\"14\":0.207,\"131\":0.635,\"139\":0.094,\"161\":0.247,\"168\":0.187,\"213\":0.003,\"305\":0.38,\"327\":0.235,\"438\":0.231,\"485\":0.268},\"free_throw_attempt_rate\":{\"14\":0.578,\"131\":0.239,\"139\":0.393,\"161\":0.35,\"168\":0.594,\"213\":0.863,\"305\":0.284,\"327\":0.303,\"438\":0.329,\"485\":0.26},\"offensive_rebound_percentage\":{\"14\":6.0,\"131\":1.9,\"139\":2.4,\"161\":1.7,\"168\":6.4,\"213\":12.5,\"305\":3.2,\"327\":9.6,\"438\":4.0,\"485\":1.1},\"defensive_rebound_percentage\":{\"14\":29.5,\"131\":14.5,\"139\":13.4,\"161\":19.4,\"168\":29.0,\"213\":36.7,\"305\":18.5,\"327\":36.9,\"438\":15.0,\"485\":12.6},\"total_rebound_percentage\":{\"14\":18.0,\"131\":8.4,\"139\":7.9,\"161\":10.9,\"168\":17.9,\"213\":25.1,\"305\":10.9,\"327\":23.5,\"438\":9.3,\"485\":7.0},\"assist_percentage\":{\"14\":34.9,\"131\":30.0,\"139\":23.6,\"161\":27.5,\"168\":23.5,\"213\":5.1,\"305\":31.4,\"327\":42.2,\"438\":35.8,\"485\":43.2},\"steal_percentage\":{\"14\":1.5,\"131\":2.1,\"139\":1.1,\"161\":1.0,\"168\":1.6,\"213\":1.2,\"305\":2.1,\"327\":2.1,\"438\":1.9,\"485\":2.9},\"block_percentage\":{\"14\":4.5,\"131\":1.3,\"139\":0.9,\"161\":2.3,\"168\":3.9,\"213\":6.0,\"305\":2.8,\"327\":2.2,\"438\":1.2,\"485\":0.9},\"turnover_percentage\":{\"14\":13.1,\"131\":12.9,\"139\":8.9,\"161\":11.3,\"168\":11.3,\"213\":14.6,\"305\":11.7,\"327\":15.3,\"438\":12.9,\"485\":15.2},\"usage_percentage\":{\"14\":35.2,\"131\":32.0,\"139\":31.2,\"161\":31.2,\"168\":35.6,\"213\":16.9,\"305\":31.0,\"327\":32.1,\"438\":31.7,\"485\":19.5},\"offensive_win_shares\":{\"14\":4.8,\"131\":3.1,\"139\":3.6,\"161\":4.4,\"168\":3.9,\"213\":4.8,\"305\":3.7,\"327\":5.2,\"438\":2.9,\"485\":3.8},\"defensive_win_shares\":{\"14\":2.3,\"131\":2.6,\"139\":1.0,\"161\":1.4,\"168\":1.8,\"213\":2.7,\"305\":1.5,\"327\":2.4,\"438\":1.2,\"485\":2.5},\"win_shares\":{\"14\":7.1,\"131\":5.6,\"139\":4.5,\"161\":5.9,\"168\":5.7,\"213\":7.5,\"305\":5.2,\"327\":7.6,\"438\":4.0,\"485\":6.3},\"win_shares_per_48_minutes\":{\"14\":0.276,\"131\":0.191,\"139\":0.157,\"161\":0.215,\"168\":0.254,\"213\":0.277,\"305\":0.207,\"327\":0.291,\"438\":0.175,\"485\":0.214},\"offensive_box_plus_minus\":{\"14\":6.8,\"131\":6.1,\"139\":2.9,\"161\":6.6,\"168\":6.7,\"213\":3.2,\"305\":7.1,\"327\":9.3,\"438\":5.9,\"485\":2.6},\"defensive_box_plus_minus\":{\"14\":3.6,\"131\":0.9,\"139\":-1.1,\"161\":0.6,\"168\":1.9,\"213\":2.0,\"305\":1.3,\"327\":4.7,\"438\":0.0,\"485\":2.4},\"box_plus_minus\":{\"14\":10.4,\"131\":6.9,\"139\":1.7,\"161\":7.3,\"168\":8.5,\"213\":5.3,\"305\":8.4,\"327\":14.0,\"438\":5.8,\"485\":5.0},\"value_over_replacement_player\":{\"14\":8.4157894737,\"131\":6.4,\"139\":2.665,\"161\":7.0611111111,\"168\":7.2060606061,\"213\":4.92,\"305\":7.9515151515,\"327\":10.7894736842,\"438\":5.3058823529,\"485\":4.6590909091}}'},\n",
       " '01-28-2022': {'ladder': ['Nikola Jokic',\n",
       "   'Joel Embiid',\n",
       "   'Giannis Antetokounmpo',\n",
       "   'Chris Paul',\n",
       "   'DeMar DeRozan',\n",
       "   'Stephen Curry',\n",
       "   'Kevin Durant',\n",
       "   'Ja Morant',\n",
       "   'Devin Booker',\n",
       "   'LeBron James'],\n",
       "  'stats': '{\"Player\":{\"14\":\"Giannis Antetokounmpo\",\"60\":\"Devin Booker\",\"134\":\"Stephen Curry\",\"142\":\"DeMar DeRozan\",\"164\":\"Kevin Durant\",\"171\":\"Joel Embiid\",\"314\":\"LeBron James\",\"336\":\"Nikola Jokic\",\"447\":\"Ja Morant\",\"494\":\"Chris Paul\"},\"games_played\":{\"14\":42,\"60\":42,\"134\":46,\"142\":45,\"164\":36,\"171\":38,\"314\":36,\"336\":44,\"447\":39,\"494\":49},\"team\":{\"14\":\"milwaukee bucks\",\"60\":\"phoenix suns\",\"134\":\"golden state warriors\",\"142\":\"chicago bulls\",\"164\":\"brooklyn nets\",\"171\":\"philadelphia 76ers\",\"314\":\"los angeles lakers\",\"336\":\"denver nuggets\",\"447\":\"memphis grizzlies\",\"494\":\"phoenix suns\"},\"PTS\":{\"14\":28.7857142857,\"60\":25.1428571429,\"134\":25.6956521739,\"142\":26.4222222222,\"164\":29.25,\"171\":29.1315789474,\"314\":29.0833333333,\"336\":26.0454545455,\"447\":26.0769230769,\"494\":14.7755102041},\"AST\":{\"14\":5.8333333333,\"60\":4.4047619048,\"134\":6.2608695652,\"142\":5.0,\"164\":5.75,\"171\":4.3684210526,\"314\":6.3055555556,\"336\":7.8181818182,\"447\":6.8461538462,\"494\":10.3469387755},\"STL\":{\"14\":1.0238095238,\"60\":1.0,\"134\":1.4782608696,\"142\":0.8,\"164\":0.7777777778,\"171\":0.9473684211,\"314\":1.6388888889,\"336\":1.4318181818,\"447\":1.2820512821,\"494\":1.8775510204},\"BLK\":{\"14\":1.4047619048,\"60\":0.3571428571,\"134\":0.4347826087,\"142\":0.3333333333,\"164\":0.9444444444,\"171\":1.4473684211,\"314\":1.1111111111,\"336\":0.75,\"447\":0.3846153846,\"494\":0.3469387755},\"FG%\":{\"14\":0.5320512821,\"60\":0.4422632794,\"134\":0.4152173913,\"142\":0.5023310023,\"164\":0.5198902606,\"171\":0.4986072423,\"314\":0.5219123506,\"336\":0.5734720416,\"447\":0.4903225806,\"494\":0.4901610018},\"3P%\":{\"14\":0.282208589,\"60\":0.3796610169,\"134\":0.375862069,\"142\":0.3456790123,\"164\":0.3722222222,\"171\":0.3664122137,\"314\":0.3521126761,\"336\":0.3776595745,\"447\":0.3636363636,\"494\":0.3466666667},\"TRB\":{\"14\":11.2142857143,\"60\":5.4523809524,\"134\":5.4782608696,\"142\":5.0222222222,\"164\":7.4166666667,\"171\":10.7631578947,\"314\":7.6666666667,\"336\":13.7045454545,\"447\":5.9743589744,\"494\":4.5510204082},\"Tm\":{\"14\":\"MIL\",\"60\":\"PHO\",\"134\":\"GSW\",\"142\":\"CHI\",\"164\":\"BKN\",\"171\":\"PHI\",\"314\":\"LAL\",\"336\":\"DEN\",\"447\":\"MEM\",\"494\":\"PHO\"},\"W\":{\"14\":31,\"60\":40,\"134\":37,\"142\":31,\"164\":29,\"171\":30,\"314\":24,\"336\":28,\"447\":35,\"494\":40},\"W\\\\/L%\":{\"14\":0.596,\"60\":0.816,\"134\":0.74,\"142\":0.633,\"164\":0.592,\"171\":0.612,\"314\":0.471,\"336\":0.571,\"447\":0.673,\"494\":0.816},\"seed\":{\"14\":\"5\",\"60\":\"1\",\"134\":\"2\",\"142\":\"2\",\"164\":\"6\",\"171\":\"3\",\"314\":\"9\",\"336\":\"5\",\"447\":\"3\",\"494\":\"1\"},\"player_efficiency_rating\":{\"14\":30.9,\"60\":19.8,\"134\":21.3,\"142\":23.5,\"164\":26.1,\"171\":31.5,\"314\":27.3,\"336\":33.3,\"447\":25.1,\"494\":21.1},\"true_shooting_percentage\":{\"14\":0.615,\"60\":0.552,\"134\":0.581,\"142\":0.588,\"164\":0.626,\"171\":0.612,\"314\":0.619,\"336\":0.656,\"447\":0.574,\"494\":0.579},\"three_point_attempt_rate\":{\"14\":0.209,\"60\":0.341,\"134\":0.63,\"142\":0.094,\"164\":0.247,\"171\":0.182,\"314\":0.377,\"336\":0.244,\"447\":0.227,\"494\":0.268},\"free_throw_attempt_rate\":{\"14\":0.594,\"60\":0.239,\"134\":0.238,\"142\":0.406,\"164\":0.35,\"171\":0.589,\"314\":0.282,\"336\":0.309,\"447\":0.325,\"494\":0.268},\"offensive_rebound_percentage\":{\"14\":6.0,\"60\":2.7,\"134\":2.1,\"142\":2.5,\"164\":1.7,\"171\":6.9,\"314\":3.2,\"336\":9.4,\"447\":4.6,\"494\":1.1},\"defensive_rebound_percentage\":{\"14\":29.5,\"60\":14.1,\"134\":14.4,\"142\":13.3,\"164\":19.4,\"171\":29.0,\"314\":19.0,\"336\":36.5,\"447\":14.7,\"494\":13.2},\"total_rebound_percentage\":{\"14\":18.0,\"60\":8.6,\"134\":8.5,\"142\":8.0,\"164\":10.9,\"171\":18.1,\"314\":11.1,\"336\":23.2,\"447\":9.5,\"494\":7.3},\"assist_percentage\":{\"14\":33.5,\"60\":21.2,\"134\":30.3,\"142\":24.3,\"164\":27.4,\"171\":25.1,\"314\":31.2,\"336\":43.5,\"447\":35.4,\"494\":43.8},\"steal_percentage\":{\"14\":1.5,\"60\":1.4,\"134\":2.1,\"142\":1.1,\"164\":1.0,\"171\":1.4,\"314\":2.1,\"336\":2.1,\"447\":1.9,\"494\":2.8},\"block_percentage\":{\"14\":4.2,\"60\":0.9,\"134\":1.2,\"142\":0.8,\"164\":2.3,\"171\":4.0,\"314\":2.8,\"336\":2.1,\"447\":1.1,\"494\":0.9},\"turnover_percentage\":{\"14\":13.1,\"60\":10.0,\"134\":12.9,\"142\":8.8,\"164\":11.3,\"171\":11.1,\"314\":11.6,\"336\":15.1,\"447\":12.8,\"494\":15.4},\"usage_percentage\":{\"14\":35.4,\"60\":32.4,\"134\":31.7,\"142\":31.0,\"164\":31.1,\"171\":36.7,\"314\":31.2,\"336\":31.4,\"447\":32.7,\"494\":19.7},\"offensive_win_shares\":{\"14\":5.1,\"60\":1.9,\"134\":3.2,\"142\":4.7,\"164\":4.4,\"171\":4.7,\"314\":4.0,\"336\":6.7,\"447\":3.5,\"494\":4.6},\"defensive_win_shares\":{\"14\":2.4,\"60\":2.0,\"134\":2.9,\"142\":1.1,\"164\":1.4,\"171\":2.1,\"314\":1.7,\"336\":2.7,\"447\":1.3,\"494\":2.8},\"win_shares\":{\"14\":7.6,\"60\":3.9,\"134\":6.1,\"142\":5.8,\"164\":5.8,\"171\":6.8,\"314\":5.7,\"336\":9.4,\"447\":4.8,\"494\":7.4},\"win_shares_per_48_minutes\":{\"14\":0.266,\"60\":0.133,\"134\":0.182,\"142\":0.176,\"164\":0.211,\"171\":0.262,\"314\":0.208,\"336\":0.31,\"447\":0.179,\"494\":0.221},\"offensive_box_plus_minus\":{\"14\":6.8,\"60\":3.1,\"134\":5.4,\"142\":3.8,\"164\":6.7,\"171\":7.3,\"314\":7.1,\"336\":9.7,\"447\":6.3,\"494\":3.0},\"defensive_box_plus_minus\":{\"14\":3.4,\"60\":-0.2,\"134\":0.8,\"142\":-1.0,\"164\":0.7,\"171\":2.0,\"314\":1.5,\"336\":4.9,\"447\":-0.1,\"494\":2.3},\"box_plus_minus\":{\"14\":10.2,\"60\":2.9,\"134\":6.2,\"142\":2.8,\"164\":7.4,\"171\":9.3,\"314\":8.6,\"336\":14.6,\"447\":6.2,\"494\":5.3},\"value_over_replacement_player\":{\"14\":8.2,\"60\":3.319047619,\"134\":5.8826086957,\"142\":3.4622222222,\"164\":7.0611111111,\"171\":7.5526315789,\"314\":7.9722222222,\"336\":11.3681818182,\"447\":5.6769230769,\"494\":5.0204081633}}'}}"
      ]
     },
     "execution_count": 91,
     "metadata": {},
     "output_type": "execute_result"
    }
   ],
   "source": [
    "mvp_ladder_by_date"
   ]
  },
  {
   "cell_type": "code",
   "execution_count": null,
   "id": "500f377f-0701-49db-b119-56841c76f013",
   "metadata": {},
   "outputs": [],
   "source": []
  },
  {
   "cell_type": "code",
   "execution_count": null,
   "id": "ba242bce-2d21-4268-aa30-0b3cb3629cda",
   "metadata": {},
   "outputs": [],
   "source": []
  },
  {
   "cell_type": "code",
   "execution_count": 93,
   "id": "55e711c1-d1a6-41a2-b919-63a723710820",
   "metadata": {},
   "outputs": [
    {
     "data": {
      "text/plain": [
       "['01-14-2022', '01-21-2022', '01-28-2022']"
      ]
     },
     "execution_count": 93,
     "metadata": {},
     "output_type": "execute_result"
    }
   ],
   "source": [
    "list(mvp_ladder_by_date.keys())"
   ]
  },
  {
   "cell_type": "code",
   "execution_count": 94,
   "id": "5b8bbfcd-0ff4-4bcd-8f13-4d79df4abf06",
   "metadata": {},
   "outputs": [],
   "source": [
    "def prep_train_test(df, forecast_df):\n",
    "    #train; using hitorical data from 1980 - 2021\n",
    "    forecast_X_train_df = df.copy()\n",
    "    forecast_X_train_df.drop(to_drop, axis=1, inplace=True)\n",
    "    forecast_y_train_df = forecast_X_train_df['Share']\n",
    "    forecast_X_train_df.drop(['Share'], axis=1, inplace=True)\n",
    "    \n",
    "    #data to be forecasted: 2022 mvp candidates from NBA's MVP ladder\n",
    "    xgb_cols = ['PTS', 'W/L%', 'seed', 'player_efficiency_rating', 'free_throw_attempt_rate', 'usage_percentage', 'win_shares_per_48_minutes', 'offensive_box_plus_minus', 'value_over_replacement_player']\n",
    "    data_2022_cleaned = forecast_df.copy()\n",
    "    data_2022_cleaned = data_2022_cleaned[list(xgb_cols)]\n",
    "    forecast_X_test_df = data_2022_cleaned\n",
    "    \n",
    "    #print(f'Training dataset columns: \\n{list(forecast_X_train_df.columns)} \\n')\n",
    "    #print(f'Forecasting dataset columns: \\n{list(forecast_X_test_df.columns)}')\n",
    "    return forecast_X_train_df, forecast_y_train_df, forecast_X_test_df"
   ]
  },
  {
   "cell_type": "code",
   "execution_count": 95,
   "id": "5fcdc6fc-8978-4600-87ff-3e364162b2f9",
   "metadata": {},
   "outputs": [],
   "source": [
    "def fit_forecast_model(regressor, data_2022):\n",
    "    model = regressor\n",
    "    model.fit(forecast_X_train_df, forecast_y_train_df) \n",
    "    predictions = model.predict(forecast_X_test_df)\n",
    "    \n",
    "    mvp_race_forecast = data_2022.copy()\n",
    "    mvp_race_forecast['Share Prediction'] = predictions\n",
    "    mvp_race_forecast = mvp_race_forecast.sort_values([\"Share Prediction\"], ascending = (False))\n",
    "    \n",
    "    mvp_race_forecast_sub = mvp_race_forecast[[\n",
    "                                                'Player',\n",
    "                                                'Share Prediction',\n",
    "                                                'PTS',\n",
    "                                               'value_over_replacement_player',\n",
    "                                               'seed',\n",
    "                                                'W/L%',\n",
    "                                               'player_efficiency_rating',\n",
    "                                               'win_shares_per_48_minutes',\n",
    "                                                'offensive_box_plus_minus',\n",
    "                                                'usage_percentage',\n",
    "                                            'free_throw_attempt_rate'\n",
    "                                              ]].reset_index(drop=True)\n",
    "    mvp_race_forecast_sub.head()\n",
    "    return model, mvp_race_forecast_sub"
   ]
  },
  {
   "cell_type": "code",
   "execution_count": 96,
   "id": "84fc8dde-84a5-45bb-8c9a-26e31bd37ed0",
   "metadata": {},
   "outputs": [],
   "source": [
    "def js_r(filename: str):\n",
    "    with open(filename) as f_in:\n",
    "        return json.load(f_in)\n",
    "\n",
    "mvp_ladder_by_date = js_r('mvp_ladder_data.json')"
   ]
  },
  {
   "cell_type": "code",
   "execution_count": 97,
   "id": "2e4ae502-df79-4524-bb02-51a8389cc51e",
   "metadata": {},
   "outputs": [
    {
     "data": {
      "text/plain": [
       "[datetime.datetime(2022, 1, 21, 0, 0), datetime.datetime(2022, 1, 28, 0, 0)]"
      ]
     },
     "execution_count": 97,
     "metadata": {},
     "output_type": "execute_result"
    }
   ],
   "source": [
    "#DATE TO START\n",
    "datetime_object = datetime.strptime('Jan 21 2022', '%b %d %Y')\n",
    "\n",
    "datetime_object_next = datetime_object\n",
    "datetime_lst = [datetime_object_next]\n",
    "\n",
    "for i in range(12):\n",
    "    datetime_object_next = datetime_object_next + timedelta(days=7)\n",
    "    if datetime_object_next <= datetime.today():\n",
    "        datetime_lst.append(datetime_object_next)\n",
    "datetime_lst"
   ]
  },
  {
   "cell_type": "code",
   "execution_count": 98,
   "id": "26a2edde-509e-4929-a89a-6ebb52ada62d",
   "metadata": {},
   "outputs": [],
   "source": [
    "mvp_ladder_by_date = compile_ladder_dict(mvp_ladder_by_date=mvp_ladder_by_date,\n",
    "                    datetime_lst=datetime_lst,\n",
    "                    joined_table_2022=joined_table_2022)"
   ]
  },
  {
   "cell_type": "code",
   "execution_count": 99,
   "id": "a9644da1-8e73-461e-bdaf-01880748c47c",
   "metadata": {},
   "outputs": [],
   "source": [
    "## PYTHON\n",
    "#from pathlib import Path\n",
    "#data_path = Path(__file__).parents[1] / 'data/master_table.csv'\n",
    "\n",
    "## JUPYTER\n",
    "data_path = os.path.dirname(os.getcwd()) + '/data' + '/master_table.csv'\n",
    "master_table = pd.read_csv(data_path)"
   ]
  },
  {
   "cell_type": "code",
   "execution_count": 100,
   "id": "011ce95d-78c1-453e-aeed-5b3445eb4ba4",
   "metadata": {},
   "outputs": [],
   "source": [
    "#forecast_over_time = pd.DataFrame(columns=['date', 'Player', 'Share Prediction'])\n",
    "forecast_over_time = pd.DataFrame(columns=\n",
    "                                  ['date',\n",
    "                                      'Player',\n",
    "                                     'Share Prediction',\n",
    "                                     'PTS',\n",
    "                                     'value_over_replacement_player',\n",
    "                                     'seed',\n",
    "                                     'W/L%',\n",
    "                                     'player_efficiency_rating',\n",
    "                                     'win_shares_per_48_minutes',\n",
    "                                     'offensive_box_plus_minus',\n",
    "                                     'usage_percentage',\n",
    "                                     'free_throw_attempt_rate'])\n",
    "\n",
    "for date in datetime_lst:\n",
    "    date_str = date.strftime(format='%m-%d-%Y')\n",
    "    stats_df = pd.read_json(mvp_ladder_by_date[date_str]['stats'])\n",
    "    #train on historical data, predict on 2022 data\n",
    "    forecast_X_train_df, forecast_y_train_df, forecast_X_test_df = prep_train_test(df=master_table, forecast_df=stats_df)\n",
    "    \n",
    "    xgb_model, xgb_summary = fit_forecast_model(regressor = XGBRegressor(\n",
    "                                            n_estimators=16,\n",
    "                                            max_depth=5,\n",
    "                                            learning_rate=0.2745),\n",
    "                   data_2022 = stats_df)\n",
    "    \n",
    "    xgb_summary = xgb_summary.head()\n",
    "    #xgb_summary = xgb_summary[['Player', 'Share Prediction']]\n",
    "    xgb_summary['date'] = date_str\n",
    "    forecast_over_time = forecast_over_time.append(xgb_summary)"
   ]
  },
  {
   "cell_type": "code",
   "execution_count": 102,
   "id": "59bec778-cc53-4ed8-8e9e-06a5fad605c2",
   "metadata": {},
   "outputs": [
    {
     "data": {
      "text/html": [
       "<div>\n",
       "<style scoped>\n",
       "    .dataframe tbody tr th:only-of-type {\n",
       "        vertical-align: middle;\n",
       "    }\n",
       "\n",
       "    .dataframe tbody tr th {\n",
       "        vertical-align: top;\n",
       "    }\n",
       "\n",
       "    .dataframe thead th {\n",
       "        text-align: right;\n",
       "    }\n",
       "</style>\n",
       "<table border=\"1\" class=\"dataframe\">\n",
       "  <thead>\n",
       "    <tr style=\"text-align: right;\">\n",
       "      <th></th>\n",
       "      <th>date</th>\n",
       "      <th>Player</th>\n",
       "      <th>Share Prediction</th>\n",
       "      <th>PTS</th>\n",
       "      <th>value_over_replacement_player</th>\n",
       "      <th>seed</th>\n",
       "      <th>W/L%</th>\n",
       "      <th>player_efficiency_rating</th>\n",
       "      <th>win_shares_per_48_minutes</th>\n",
       "      <th>offensive_box_plus_minus</th>\n",
       "      <th>usage_percentage</th>\n",
       "      <th>free_throw_attempt_rate</th>\n",
       "    </tr>\n",
       "  </thead>\n",
       "  <tbody>\n",
       "    <tr>\n",
       "      <th>0</th>\n",
       "      <td>01-21-2022</td>\n",
       "      <td>Giannis Antetokounmpo</td>\n",
       "      <td>0.698939</td>\n",
       "      <td>28.578947</td>\n",
       "      <td>8.415789</td>\n",
       "      <td>4</td>\n",
       "      <td>0.604</td>\n",
       "      <td>31.1</td>\n",
       "      <td>0.276</td>\n",
       "      <td>6.8</td>\n",
       "      <td>35.2</td>\n",
       "      <td>0.578</td>\n",
       "    </tr>\n",
       "    <tr>\n",
       "      <th>1</th>\n",
       "      <td>01-21-2022</td>\n",
       "      <td>Kevin Durant</td>\n",
       "      <td>0.599032</td>\n",
       "      <td>29.250000</td>\n",
       "      <td>7.061111</td>\n",
       "      <td>1</td>\n",
       "      <td>0.644</td>\n",
       "      <td>26.1</td>\n",
       "      <td>0.215</td>\n",
       "      <td>6.6</td>\n",
       "      <td>31.2</td>\n",
       "      <td>0.350</td>\n",
       "    </tr>\n",
       "    <tr>\n",
       "      <th>2</th>\n",
       "      <td>01-21-2022</td>\n",
       "      <td>Nikola Jokic</td>\n",
       "      <td>0.429850</td>\n",
       "      <td>25.921053</td>\n",
       "      <td>10.789474</td>\n",
       "      <td>6</td>\n",
       "      <td>0.523</td>\n",
       "      <td>32.9</td>\n",
       "      <td>0.291</td>\n",
       "      <td>9.3</td>\n",
       "      <td>32.1</td>\n",
       "      <td>0.303</td>\n",
       "    </tr>\n",
       "    <tr>\n",
       "      <th>3</th>\n",
       "      <td>01-21-2022</td>\n",
       "      <td>Stephen Curry</td>\n",
       "      <td>0.342355</td>\n",
       "      <td>26.365854</td>\n",
       "      <td>6.400000</td>\n",
       "      <td>2</td>\n",
       "      <td>0.717</td>\n",
       "      <td>22.0</td>\n",
       "      <td>0.191</td>\n",
       "      <td>6.1</td>\n",
       "      <td>32.0</td>\n",
       "      <td>0.239</td>\n",
       "    </tr>\n",
       "    <tr>\n",
       "      <th>4</th>\n",
       "      <td>01-21-2022</td>\n",
       "      <td>Rudy Gobert</td>\n",
       "      <td>0.332459</td>\n",
       "      <td>15.850000</td>\n",
       "      <td>4.920000</td>\n",
       "      <td>4</td>\n",
       "      <td>0.652</td>\n",
       "      <td>25.5</td>\n",
       "      <td>0.277</td>\n",
       "      <td>3.2</td>\n",
       "      <td>16.9</td>\n",
       "      <td>0.863</td>\n",
       "    </tr>\n",
       "    <tr>\n",
       "      <th>0</th>\n",
       "      <td>01-28-2022</td>\n",
       "      <td>Nikola Jokic</td>\n",
       "      <td>0.683240</td>\n",
       "      <td>26.045455</td>\n",
       "      <td>11.368182</td>\n",
       "      <td>5</td>\n",
       "      <td>0.571</td>\n",
       "      <td>33.3</td>\n",
       "      <td>0.310</td>\n",
       "      <td>9.7</td>\n",
       "      <td>31.4</td>\n",
       "      <td>0.309</td>\n",
       "    </tr>\n",
       "    <tr>\n",
       "      <th>1</th>\n",
       "      <td>01-28-2022</td>\n",
       "      <td>Joel Embiid</td>\n",
       "      <td>0.676835</td>\n",
       "      <td>29.131579</td>\n",
       "      <td>7.552632</td>\n",
       "      <td>3</td>\n",
       "      <td>0.612</td>\n",
       "      <td>31.5</td>\n",
       "      <td>0.262</td>\n",
       "      <td>7.3</td>\n",
       "      <td>36.7</td>\n",
       "      <td>0.589</td>\n",
       "    </tr>\n",
       "    <tr>\n",
       "      <th>2</th>\n",
       "      <td>01-28-2022</td>\n",
       "      <td>Giannis Antetokounmpo</td>\n",
       "      <td>0.537168</td>\n",
       "      <td>28.785714</td>\n",
       "      <td>8.200000</td>\n",
       "      <td>5</td>\n",
       "      <td>0.596</td>\n",
       "      <td>30.9</td>\n",
       "      <td>0.266</td>\n",
       "      <td>6.8</td>\n",
       "      <td>35.4</td>\n",
       "      <td>0.594</td>\n",
       "    </tr>\n",
       "    <tr>\n",
       "      <th>3</th>\n",
       "      <td>01-28-2022</td>\n",
       "      <td>Stephen Curry</td>\n",
       "      <td>0.350762</td>\n",
       "      <td>25.695652</td>\n",
       "      <td>5.882609</td>\n",
       "      <td>2</td>\n",
       "      <td>0.740</td>\n",
       "      <td>21.3</td>\n",
       "      <td>0.182</td>\n",
       "      <td>5.4</td>\n",
       "      <td>31.7</td>\n",
       "      <td>0.238</td>\n",
       "    </tr>\n",
       "    <tr>\n",
       "      <th>4</th>\n",
       "      <td>01-28-2022</td>\n",
       "      <td>Kevin Durant</td>\n",
       "      <td>0.324633</td>\n",
       "      <td>29.250000</td>\n",
       "      <td>7.061111</td>\n",
       "      <td>6</td>\n",
       "      <td>0.592</td>\n",
       "      <td>26.1</td>\n",
       "      <td>0.211</td>\n",
       "      <td>6.7</td>\n",
       "      <td>31.1</td>\n",
       "      <td>0.350</td>\n",
       "    </tr>\n",
       "  </tbody>\n",
       "</table>\n",
       "</div>"
      ],
      "text/plain": [
       "         date                 Player  Share Prediction        PTS  \\\n",
       "0  01-21-2022  Giannis Antetokounmpo          0.698939  28.578947   \n",
       "1  01-21-2022           Kevin Durant          0.599032  29.250000   \n",
       "2  01-21-2022           Nikola Jokic          0.429850  25.921053   \n",
       "3  01-21-2022          Stephen Curry          0.342355  26.365854   \n",
       "4  01-21-2022            Rudy Gobert          0.332459  15.850000   \n",
       "0  01-28-2022           Nikola Jokic          0.683240  26.045455   \n",
       "1  01-28-2022            Joel Embiid          0.676835  29.131579   \n",
       "2  01-28-2022  Giannis Antetokounmpo          0.537168  28.785714   \n",
       "3  01-28-2022          Stephen Curry          0.350762  25.695652   \n",
       "4  01-28-2022           Kevin Durant          0.324633  29.250000   \n",
       "\n",
       "   value_over_replacement_player seed   W/L%  player_efficiency_rating  \\\n",
       "0                       8.415789    4  0.604                      31.1   \n",
       "1                       7.061111    1  0.644                      26.1   \n",
       "2                      10.789474    6  0.523                      32.9   \n",
       "3                       6.400000    2  0.717                      22.0   \n",
       "4                       4.920000    4  0.652                      25.5   \n",
       "0                      11.368182    5  0.571                      33.3   \n",
       "1                       7.552632    3  0.612                      31.5   \n",
       "2                       8.200000    5  0.596                      30.9   \n",
       "3                       5.882609    2  0.740                      21.3   \n",
       "4                       7.061111    6  0.592                      26.1   \n",
       "\n",
       "   win_shares_per_48_minutes  offensive_box_plus_minus  usage_percentage  \\\n",
       "0                      0.276                       6.8              35.2   \n",
       "1                      0.215                       6.6              31.2   \n",
       "2                      0.291                       9.3              32.1   \n",
       "3                      0.191                       6.1              32.0   \n",
       "4                      0.277                       3.2              16.9   \n",
       "0                      0.310                       9.7              31.4   \n",
       "1                      0.262                       7.3              36.7   \n",
       "2                      0.266                       6.8              35.4   \n",
       "3                      0.182                       5.4              31.7   \n",
       "4                      0.211                       6.7              31.1   \n",
       "\n",
       "   free_throw_attempt_rate  \n",
       "0                    0.578  \n",
       "1                    0.350  \n",
       "2                    0.303  \n",
       "3                    0.239  \n",
       "4                    0.863  \n",
       "0                    0.309  \n",
       "1                    0.589  \n",
       "2                    0.594  \n",
       "3                    0.238  \n",
       "4                    0.350  "
      ]
     },
     "execution_count": 102,
     "metadata": {},
     "output_type": "execute_result"
    }
   ],
   "source": [
    "forecast_over_time"
   ]
  },
  {
   "cell_type": "code",
   "execution_count": 111,
   "id": "04a4f7f6-8933-46d7-8959-717f06b27c3d",
   "metadata": {},
   "outputs": [
    {
     "data": {
      "application/vnd.plotly.v1+json": {
       "config": {
        "plotlyServerURL": "https://plotly.com"
       },
       "data": [
        {
         "customdata": [
          [
           "Giannis Antetokounmpo",
           4,
           0.604
          ],
          [
           "Kevin Durant",
           1,
           0.644
          ],
          [
           "Nikola Jokic",
           6,
           0.523
          ],
          [
           "Stephen Curry",
           2,
           0.717
          ],
          [
           "Rudy Gobert",
           4,
           0.652
          ],
          [
           "Nikola Jokic",
           5,
           0.5710000000000001
          ],
          [
           "Joel Embiid",
           3,
           0.612
          ],
          [
           "Giannis Antetokounmpo",
           5,
           0.596
          ],
          [
           "Stephen Curry",
           2,
           0.74
          ],
          [
           "Kevin Durant",
           6,
           0.592
          ]
         ],
         "hovertemplate": "date=%{x}<br>Share Prediction=%{y}<br>Player=%{customdata[0]}<br>seed=%{customdata[1]}<br>W/L%=%{customdata[2]}<extra></extra>",
         "legendgroup": "",
         "marker": {
          "color": "#636efa",
          "symbol": "circle"
         },
         "mode": "markers",
         "name": "",
         "orientation": "v",
         "showlegend": false,
         "type": "scatter",
         "x": [
          "01-21-2022",
          "01-21-2022",
          "01-21-2022",
          "01-21-2022",
          "01-21-2022",
          "01-28-2022",
          "01-28-2022",
          "01-28-2022",
          "01-28-2022",
          "01-28-2022"
         ],
         "xaxis": "x",
         "y": [
          0.6989391446113586,
          0.599032461643219,
          0.4298498034477234,
          0.342354953289032,
          0.3324592709541321,
          0.6832401752471924,
          0.6768348217010498,
          0.5371684432029724,
          0.3507615029811859,
          0.32463258504867554
         ],
         "yaxis": "y"
        },
        {
         "customdata": [
          [
           "Giannis Antetokounmpo",
           4,
           0.604
          ],
          [
           "Giannis Antetokounmpo",
           5,
           0.596
          ]
         ],
         "hovertemplate": "Player=%{customdata[0]}<br>date=%{x}<br>Share Prediction=%{y}<br>seed=%{customdata[1]}<br>W/L%=%{customdata[2]}<extra></extra>",
         "legendgroup": "Giannis Antetokounmpo",
         "line": {
          "color": "#636efa",
          "dash": "solid"
         },
         "mode": "lines",
         "name": "Giannis Antetokounmpo",
         "orientation": "v",
         "showlegend": true,
         "type": "scatter",
         "x": [
          "01-21-2022",
          "01-28-2022"
         ],
         "xaxis": "x",
         "y": [
          0.6989391446113586,
          0.5371684432029724
         ],
         "yaxis": "y"
        },
        {
         "customdata": [
          [
           "Kevin Durant",
           1,
           0.644
          ],
          [
           "Kevin Durant",
           6,
           0.592
          ]
         ],
         "hovertemplate": "Player=%{customdata[0]}<br>date=%{x}<br>Share Prediction=%{y}<br>seed=%{customdata[1]}<br>W/L%=%{customdata[2]}<extra></extra>",
         "legendgroup": "Kevin Durant",
         "line": {
          "color": "#EF553B",
          "dash": "solid"
         },
         "mode": "lines",
         "name": "Kevin Durant",
         "orientation": "v",
         "showlegend": true,
         "type": "scatter",
         "x": [
          "01-21-2022",
          "01-28-2022"
         ],
         "xaxis": "x",
         "y": [
          0.599032461643219,
          0.32463258504867554
         ],
         "yaxis": "y"
        },
        {
         "customdata": [
          [
           "Nikola Jokic",
           6,
           0.523
          ],
          [
           "Nikola Jokic",
           5,
           0.5710000000000001
          ]
         ],
         "hovertemplate": "Player=%{customdata[0]}<br>date=%{x}<br>Share Prediction=%{y}<br>seed=%{customdata[1]}<br>W/L%=%{customdata[2]}<extra></extra>",
         "legendgroup": "Nikola Jokic",
         "line": {
          "color": "#00cc96",
          "dash": "solid"
         },
         "mode": "lines",
         "name": "Nikola Jokic",
         "orientation": "v",
         "showlegend": true,
         "type": "scatter",
         "x": [
          "01-21-2022",
          "01-28-2022"
         ],
         "xaxis": "x",
         "y": [
          0.4298498034477234,
          0.6832401752471924
         ],
         "yaxis": "y"
        },
        {
         "customdata": [
          [
           "Stephen Curry",
           2,
           0.717
          ],
          [
           "Stephen Curry",
           2,
           0.74
          ]
         ],
         "hovertemplate": "Player=%{customdata[0]}<br>date=%{x}<br>Share Prediction=%{y}<br>seed=%{customdata[1]}<br>W/L%=%{customdata[2]}<extra></extra>",
         "legendgroup": "Stephen Curry",
         "line": {
          "color": "#ab63fa",
          "dash": "solid"
         },
         "mode": "lines",
         "name": "Stephen Curry",
         "orientation": "v",
         "showlegend": true,
         "type": "scatter",
         "x": [
          "01-21-2022",
          "01-28-2022"
         ],
         "xaxis": "x",
         "y": [
          0.342354953289032,
          0.3507615029811859
         ],
         "yaxis": "y"
        },
        {
         "customdata": [
          [
           "Rudy Gobert",
           4,
           0.652
          ]
         ],
         "hovertemplate": "Player=%{customdata[0]}<br>date=%{x}<br>Share Prediction=%{y}<br>seed=%{customdata[1]}<br>W/L%=%{customdata[2]}<extra></extra>",
         "legendgroup": "Rudy Gobert",
         "line": {
          "color": "#FFA15A",
          "dash": "solid"
         },
         "mode": "lines",
         "name": "Rudy Gobert",
         "orientation": "v",
         "showlegend": true,
         "type": "scatter",
         "x": [
          "01-21-2022"
         ],
         "xaxis": "x",
         "y": [
          0.3324592709541321
         ],
         "yaxis": "y"
        },
        {
         "customdata": [
          [
           "Joel Embiid",
           3,
           0.612
          ]
         ],
         "hovertemplate": "Player=%{customdata[0]}<br>date=%{x}<br>Share Prediction=%{y}<br>seed=%{customdata[1]}<br>W/L%=%{customdata[2]}<extra></extra>",
         "legendgroup": "Joel Embiid",
         "line": {
          "color": "#19d3f3",
          "dash": "solid"
         },
         "mode": "lines",
         "name": "Joel Embiid",
         "orientation": "v",
         "showlegend": true,
         "type": "scatter",
         "x": [
          "01-28-2022"
         ],
         "xaxis": "x",
         "y": [
          0.6768348217010498
         ],
         "yaxis": "y"
        }
       ],
       "layout": {
        "autosize": false,
        "height": 700,
        "template": {
         "data": {
          "bar": [
           {
            "error_x": {
             "color": "#2a3f5f"
            },
            "error_y": {
             "color": "#2a3f5f"
            },
            "marker": {
             "line": {
              "color": "#E5ECF6",
              "width": 0.5
             },
             "pattern": {
              "fillmode": "overlay",
              "size": 10,
              "solidity": 0.2
             }
            },
            "type": "bar"
           }
          ],
          "barpolar": [
           {
            "marker": {
             "line": {
              "color": "#E5ECF6",
              "width": 0.5
             },
             "pattern": {
              "fillmode": "overlay",
              "size": 10,
              "solidity": 0.2
             }
            },
            "type": "barpolar"
           }
          ],
          "carpet": [
           {
            "aaxis": {
             "endlinecolor": "#2a3f5f",
             "gridcolor": "white",
             "linecolor": "white",
             "minorgridcolor": "white",
             "startlinecolor": "#2a3f5f"
            },
            "baxis": {
             "endlinecolor": "#2a3f5f",
             "gridcolor": "white",
             "linecolor": "white",
             "minorgridcolor": "white",
             "startlinecolor": "#2a3f5f"
            },
            "type": "carpet"
           }
          ],
          "choropleth": [
           {
            "colorbar": {
             "outlinewidth": 0,
             "ticks": ""
            },
            "type": "choropleth"
           }
          ],
          "contour": [
           {
            "colorbar": {
             "outlinewidth": 0,
             "ticks": ""
            },
            "colorscale": [
             [
              0,
              "#0d0887"
             ],
             [
              0.1111111111111111,
              "#46039f"
             ],
             [
              0.2222222222222222,
              "#7201a8"
             ],
             [
              0.3333333333333333,
              "#9c179e"
             ],
             [
              0.4444444444444444,
              "#bd3786"
             ],
             [
              0.5555555555555556,
              "#d8576b"
             ],
             [
              0.6666666666666666,
              "#ed7953"
             ],
             [
              0.7777777777777778,
              "#fb9f3a"
             ],
             [
              0.8888888888888888,
              "#fdca26"
             ],
             [
              1,
              "#f0f921"
             ]
            ],
            "type": "contour"
           }
          ],
          "contourcarpet": [
           {
            "colorbar": {
             "outlinewidth": 0,
             "ticks": ""
            },
            "type": "contourcarpet"
           }
          ],
          "heatmap": [
           {
            "colorbar": {
             "outlinewidth": 0,
             "ticks": ""
            },
            "colorscale": [
             [
              0,
              "#0d0887"
             ],
             [
              0.1111111111111111,
              "#46039f"
             ],
             [
              0.2222222222222222,
              "#7201a8"
             ],
             [
              0.3333333333333333,
              "#9c179e"
             ],
             [
              0.4444444444444444,
              "#bd3786"
             ],
             [
              0.5555555555555556,
              "#d8576b"
             ],
             [
              0.6666666666666666,
              "#ed7953"
             ],
             [
              0.7777777777777778,
              "#fb9f3a"
             ],
             [
              0.8888888888888888,
              "#fdca26"
             ],
             [
              1,
              "#f0f921"
             ]
            ],
            "type": "heatmap"
           }
          ],
          "heatmapgl": [
           {
            "colorbar": {
             "outlinewidth": 0,
             "ticks": ""
            },
            "colorscale": [
             [
              0,
              "#0d0887"
             ],
             [
              0.1111111111111111,
              "#46039f"
             ],
             [
              0.2222222222222222,
              "#7201a8"
             ],
             [
              0.3333333333333333,
              "#9c179e"
             ],
             [
              0.4444444444444444,
              "#bd3786"
             ],
             [
              0.5555555555555556,
              "#d8576b"
             ],
             [
              0.6666666666666666,
              "#ed7953"
             ],
             [
              0.7777777777777778,
              "#fb9f3a"
             ],
             [
              0.8888888888888888,
              "#fdca26"
             ],
             [
              1,
              "#f0f921"
             ]
            ],
            "type": "heatmapgl"
           }
          ],
          "histogram": [
           {
            "marker": {
             "pattern": {
              "fillmode": "overlay",
              "size": 10,
              "solidity": 0.2
             }
            },
            "type": "histogram"
           }
          ],
          "histogram2d": [
           {
            "colorbar": {
             "outlinewidth": 0,
             "ticks": ""
            },
            "colorscale": [
             [
              0,
              "#0d0887"
             ],
             [
              0.1111111111111111,
              "#46039f"
             ],
             [
              0.2222222222222222,
              "#7201a8"
             ],
             [
              0.3333333333333333,
              "#9c179e"
             ],
             [
              0.4444444444444444,
              "#bd3786"
             ],
             [
              0.5555555555555556,
              "#d8576b"
             ],
             [
              0.6666666666666666,
              "#ed7953"
             ],
             [
              0.7777777777777778,
              "#fb9f3a"
             ],
             [
              0.8888888888888888,
              "#fdca26"
             ],
             [
              1,
              "#f0f921"
             ]
            ],
            "type": "histogram2d"
           }
          ],
          "histogram2dcontour": [
           {
            "colorbar": {
             "outlinewidth": 0,
             "ticks": ""
            },
            "colorscale": [
             [
              0,
              "#0d0887"
             ],
             [
              0.1111111111111111,
              "#46039f"
             ],
             [
              0.2222222222222222,
              "#7201a8"
             ],
             [
              0.3333333333333333,
              "#9c179e"
             ],
             [
              0.4444444444444444,
              "#bd3786"
             ],
             [
              0.5555555555555556,
              "#d8576b"
             ],
             [
              0.6666666666666666,
              "#ed7953"
             ],
             [
              0.7777777777777778,
              "#fb9f3a"
             ],
             [
              0.8888888888888888,
              "#fdca26"
             ],
             [
              1,
              "#f0f921"
             ]
            ],
            "type": "histogram2dcontour"
           }
          ],
          "mesh3d": [
           {
            "colorbar": {
             "outlinewidth": 0,
             "ticks": ""
            },
            "type": "mesh3d"
           }
          ],
          "parcoords": [
           {
            "line": {
             "colorbar": {
              "outlinewidth": 0,
              "ticks": ""
             }
            },
            "type": "parcoords"
           }
          ],
          "pie": [
           {
            "automargin": true,
            "type": "pie"
           }
          ],
          "scatter": [
           {
            "marker": {
             "colorbar": {
              "outlinewidth": 0,
              "ticks": ""
             }
            },
            "type": "scatter"
           }
          ],
          "scatter3d": [
           {
            "line": {
             "colorbar": {
              "outlinewidth": 0,
              "ticks": ""
             }
            },
            "marker": {
             "colorbar": {
              "outlinewidth": 0,
              "ticks": ""
             }
            },
            "type": "scatter3d"
           }
          ],
          "scattercarpet": [
           {
            "marker": {
             "colorbar": {
              "outlinewidth": 0,
              "ticks": ""
             }
            },
            "type": "scattercarpet"
           }
          ],
          "scattergeo": [
           {
            "marker": {
             "colorbar": {
              "outlinewidth": 0,
              "ticks": ""
             }
            },
            "type": "scattergeo"
           }
          ],
          "scattergl": [
           {
            "marker": {
             "colorbar": {
              "outlinewidth": 0,
              "ticks": ""
             }
            },
            "type": "scattergl"
           }
          ],
          "scattermapbox": [
           {
            "marker": {
             "colorbar": {
              "outlinewidth": 0,
              "ticks": ""
             }
            },
            "type": "scattermapbox"
           }
          ],
          "scatterpolar": [
           {
            "marker": {
             "colorbar": {
              "outlinewidth": 0,
              "ticks": ""
             }
            },
            "type": "scatterpolar"
           }
          ],
          "scatterpolargl": [
           {
            "marker": {
             "colorbar": {
              "outlinewidth": 0,
              "ticks": ""
             }
            },
            "type": "scatterpolargl"
           }
          ],
          "scatterternary": [
           {
            "marker": {
             "colorbar": {
              "outlinewidth": 0,
              "ticks": ""
             }
            },
            "type": "scatterternary"
           }
          ],
          "surface": [
           {
            "colorbar": {
             "outlinewidth": 0,
             "ticks": ""
            },
            "colorscale": [
             [
              0,
              "#0d0887"
             ],
             [
              0.1111111111111111,
              "#46039f"
             ],
             [
              0.2222222222222222,
              "#7201a8"
             ],
             [
              0.3333333333333333,
              "#9c179e"
             ],
             [
              0.4444444444444444,
              "#bd3786"
             ],
             [
              0.5555555555555556,
              "#d8576b"
             ],
             [
              0.6666666666666666,
              "#ed7953"
             ],
             [
              0.7777777777777778,
              "#fb9f3a"
             ],
             [
              0.8888888888888888,
              "#fdca26"
             ],
             [
              1,
              "#f0f921"
             ]
            ],
            "type": "surface"
           }
          ],
          "table": [
           {
            "cells": {
             "fill": {
              "color": "#EBF0F8"
             },
             "line": {
              "color": "white"
             }
            },
            "header": {
             "fill": {
              "color": "#C8D4E3"
             },
             "line": {
              "color": "white"
             }
            },
            "type": "table"
           }
          ]
         },
         "layout": {
          "annotationdefaults": {
           "arrowcolor": "#2a3f5f",
           "arrowhead": 0,
           "arrowwidth": 1
          },
          "autotypenumbers": "strict",
          "coloraxis": {
           "colorbar": {
            "outlinewidth": 0,
            "ticks": ""
           }
          },
          "colorscale": {
           "diverging": [
            [
             0,
             "#8e0152"
            ],
            [
             0.1,
             "#c51b7d"
            ],
            [
             0.2,
             "#de77ae"
            ],
            [
             0.3,
             "#f1b6da"
            ],
            [
             0.4,
             "#fde0ef"
            ],
            [
             0.5,
             "#f7f7f7"
            ],
            [
             0.6,
             "#e6f5d0"
            ],
            [
             0.7,
             "#b8e186"
            ],
            [
             0.8,
             "#7fbc41"
            ],
            [
             0.9,
             "#4d9221"
            ],
            [
             1,
             "#276419"
            ]
           ],
           "sequential": [
            [
             0,
             "#0d0887"
            ],
            [
             0.1111111111111111,
             "#46039f"
            ],
            [
             0.2222222222222222,
             "#7201a8"
            ],
            [
             0.3333333333333333,
             "#9c179e"
            ],
            [
             0.4444444444444444,
             "#bd3786"
            ],
            [
             0.5555555555555556,
             "#d8576b"
            ],
            [
             0.6666666666666666,
             "#ed7953"
            ],
            [
             0.7777777777777778,
             "#fb9f3a"
            ],
            [
             0.8888888888888888,
             "#fdca26"
            ],
            [
             1,
             "#f0f921"
            ]
           ],
           "sequentialminus": [
            [
             0,
             "#0d0887"
            ],
            [
             0.1111111111111111,
             "#46039f"
            ],
            [
             0.2222222222222222,
             "#7201a8"
            ],
            [
             0.3333333333333333,
             "#9c179e"
            ],
            [
             0.4444444444444444,
             "#bd3786"
            ],
            [
             0.5555555555555556,
             "#d8576b"
            ],
            [
             0.6666666666666666,
             "#ed7953"
            ],
            [
             0.7777777777777778,
             "#fb9f3a"
            ],
            [
             0.8888888888888888,
             "#fdca26"
            ],
            [
             1,
             "#f0f921"
            ]
           ]
          },
          "colorway": [
           "#636efa",
           "#EF553B",
           "#00cc96",
           "#ab63fa",
           "#FFA15A",
           "#19d3f3",
           "#FF6692",
           "#B6E880",
           "#FF97FF",
           "#FECB52"
          ],
          "font": {
           "color": "#2a3f5f"
          },
          "geo": {
           "bgcolor": "white",
           "lakecolor": "white",
           "landcolor": "#E5ECF6",
           "showlakes": true,
           "showland": true,
           "subunitcolor": "white"
          },
          "hoverlabel": {
           "align": "left"
          },
          "hovermode": "closest",
          "mapbox": {
           "style": "light"
          },
          "paper_bgcolor": "white",
          "plot_bgcolor": "#E5ECF6",
          "polar": {
           "angularaxis": {
            "gridcolor": "white",
            "linecolor": "white",
            "ticks": ""
           },
           "bgcolor": "#E5ECF6",
           "radialaxis": {
            "gridcolor": "white",
            "linecolor": "white",
            "ticks": ""
           }
          },
          "scene": {
           "xaxis": {
            "backgroundcolor": "#E5ECF6",
            "gridcolor": "white",
            "gridwidth": 2,
            "linecolor": "white",
            "showbackground": true,
            "ticks": "",
            "zerolinecolor": "white"
           },
           "yaxis": {
            "backgroundcolor": "#E5ECF6",
            "gridcolor": "white",
            "gridwidth": 2,
            "linecolor": "white",
            "showbackground": true,
            "ticks": "",
            "zerolinecolor": "white"
           },
           "zaxis": {
            "backgroundcolor": "#E5ECF6",
            "gridcolor": "white",
            "gridwidth": 2,
            "linecolor": "white",
            "showbackground": true,
            "ticks": "",
            "zerolinecolor": "white"
           }
          },
          "shapedefaults": {
           "line": {
            "color": "#2a3f5f"
           }
          },
          "ternary": {
           "aaxis": {
            "gridcolor": "white",
            "linecolor": "white",
            "ticks": ""
           },
           "baxis": {
            "gridcolor": "white",
            "linecolor": "white",
            "ticks": ""
           },
           "bgcolor": "#E5ECF6",
           "caxis": {
            "gridcolor": "white",
            "linecolor": "white",
            "ticks": ""
           }
          },
          "title": {
           "x": 0.05
          },
          "xaxis": {
           "automargin": true,
           "gridcolor": "white",
           "linecolor": "white",
           "ticks": "",
           "title": {
            "standoff": 15
           },
           "zerolinecolor": "white",
           "zerolinewidth": 2
          },
          "yaxis": {
           "automargin": true,
           "gridcolor": "white",
           "linecolor": "white",
           "ticks": "",
           "title": {
            "standoff": 15
           },
           "zerolinecolor": "white",
           "zerolinewidth": 2
          }
         }
        },
        "width": 1000,
        "xaxis": {
         "autorange": true,
         "range": [
          -0.06213484920258962,
          1.0621348492025897
         ],
         "type": "category"
        },
        "yaxis": {
         "autorange": true,
         "range": [
          0.3004509994960375,
          0.7231207301639967
         ],
         "type": "linear"
        }
       }
      },
      "image/png": "[encoded data removed]",
      "text/html": [
       "<div>                            <div id=\"3c8bd7e6-d721-48cb-9d31-58f342438fe0\" class=\"plotly-graph-div\" style=\"height:700px; width:1000px;\"></div>            <script type=\"text/javascript\">                require([\"plotly\"], function(Plotly) {                    window.PLOTLYENV=window.PLOTLYENV || {};                                    if (document.getElementById(\"3c8bd7e6-d721-48cb-9d31-58f342438fe0\")) {                    Plotly.newPlot(                        \"3c8bd7e6-d721-48cb-9d31-58f342438fe0\",                        [{\"customdata\":[[\"Giannis Antetokounmpo\",4,0.604],[\"Kevin Durant\",1,0.644],[\"Nikola Jokic\",6,0.523],[\"Stephen Curry\",2,0.717],[\"Rudy Gobert\",4,0.652],[\"Nikola Jokic\",5,0.5710000000000001],[\"Joel Embiid\",3,0.612],[\"Giannis Antetokounmpo\",5,0.596],[\"Stephen Curry\",2,0.74],[\"Kevin Durant\",6,0.592]],\"hovertemplate\":\"date=%{x}<br>Share Prediction=%{y}<br>Player=%{customdata[0]}<br>seed=%{customdata[1]}<br>W/L%=%{customdata[2]}<extra></extra>\",\"legendgroup\":\"\",\"marker\":{\"color\":\"#636efa\",\"symbol\":\"circle\"},\"mode\":\"markers\",\"name\":\"\",\"orientation\":\"v\",\"showlegend\":false,\"type\":\"scatter\",\"x\":[\"01-21-2022\",\"01-21-2022\",\"01-21-2022\",\"01-21-2022\",\"01-21-2022\",\"01-28-2022\",\"01-28-2022\",\"01-28-2022\",\"01-28-2022\",\"01-28-2022\"],\"xaxis\":\"x\",\"y\":[0.6989391446113586,0.599032461643219,0.4298498034477234,0.342354953289032,0.3324592709541321,0.6832401752471924,0.6768348217010498,0.5371684432029724,0.3507615029811859,0.32463258504867554],\"yaxis\":\"y\"},{\"customdata\":[[\"Giannis Antetokounmpo\",4,0.604],[\"Giannis Antetokounmpo\",5,0.596]],\"hovertemplate\":\"Player=%{customdata[0]}<br>date=%{x}<br>Share Prediction=%{y}<br>seed=%{customdata[1]}<br>W/L%=%{customdata[2]}<extra></extra>\",\"legendgroup\":\"Giannis Antetokounmpo\",\"line\":{\"color\":\"#636efa\",\"dash\":\"solid\"},\"mode\":\"lines\",\"name\":\"Giannis Antetokounmpo\",\"orientation\":\"v\",\"showlegend\":true,\"type\":\"scatter\",\"x\":[\"01-21-2022\",\"01-28-2022\"],\"xaxis\":\"x\",\"y\":[0.6989391446113586,0.5371684432029724],\"yaxis\":\"y\"},{\"customdata\":[[\"Kevin Durant\",1,0.644],[\"Kevin Durant\",6,0.592]],\"hovertemplate\":\"Player=%{customdata[0]}<br>date=%{x}<br>Share Prediction=%{y}<br>seed=%{customdata[1]}<br>W/L%=%{customdata[2]}<extra></extra>\",\"legendgroup\":\"Kevin Durant\",\"line\":{\"color\":\"#EF553B\",\"dash\":\"solid\"},\"mode\":\"lines\",\"name\":\"Kevin Durant\",\"orientation\":\"v\",\"showlegend\":true,\"type\":\"scatter\",\"x\":[\"01-21-2022\",\"01-28-2022\"],\"xaxis\":\"x\",\"y\":[0.599032461643219,0.32463258504867554],\"yaxis\":\"y\"},{\"customdata\":[[\"Nikola Jokic\",6,0.523],[\"Nikola Jokic\",5,0.5710000000000001]],\"hovertemplate\":\"Player=%{customdata[0]}<br>date=%{x}<br>Share Prediction=%{y}<br>seed=%{customdata[1]}<br>W/L%=%{customdata[2]}<extra></extra>\",\"legendgroup\":\"Nikola Jokic\",\"line\":{\"color\":\"#00cc96\",\"dash\":\"solid\"},\"mode\":\"lines\",\"name\":\"Nikola Jokic\",\"orientation\":\"v\",\"showlegend\":true,\"type\":\"scatter\",\"x\":[\"01-21-2022\",\"01-28-2022\"],\"xaxis\":\"x\",\"y\":[0.4298498034477234,0.6832401752471924],\"yaxis\":\"y\"},{\"customdata\":[[\"Stephen Curry\",2,0.717],[\"Stephen Curry\",2,0.74]],\"hovertemplate\":\"Player=%{customdata[0]}<br>date=%{x}<br>Share Prediction=%{y}<br>seed=%{customdata[1]}<br>W/L%=%{customdata[2]}<extra></extra>\",\"legendgroup\":\"Stephen Curry\",\"line\":{\"color\":\"#ab63fa\",\"dash\":\"solid\"},\"mode\":\"lines\",\"name\":\"Stephen Curry\",\"orientation\":\"v\",\"showlegend\":true,\"type\":\"scatter\",\"x\":[\"01-21-2022\",\"01-28-2022\"],\"xaxis\":\"x\",\"y\":[0.342354953289032,0.3507615029811859],\"yaxis\":\"y\"},{\"customdata\":[[\"Rudy Gobert\",4,0.652]],\"hovertemplate\":\"Player=%{customdata[0]}<br>date=%{x}<br>Share Prediction=%{y}<br>seed=%{customdata[1]}<br>W/L%=%{customdata[2]}<extra></extra>\",\"legendgroup\":\"Rudy Gobert\",\"line\":{\"color\":\"#FFA15A\",\"dash\":\"solid\"},\"mode\":\"lines\",\"name\":\"Rudy Gobert\",\"orientation\":\"v\",\"showlegend\":true,\"type\":\"scatter\",\"x\":[\"01-21-2022\"],\"xaxis\":\"x\",\"y\":[0.3324592709541321],\"yaxis\":\"y\"},{\"customdata\":[[\"Joel Embiid\",3,0.612]],\"hovertemplate\":\"Player=%{customdata[0]}<br>date=%{x}<br>Share Prediction=%{y}<br>seed=%{customdata[1]}<br>W/L%=%{customdata[2]}<extra></extra>\",\"legendgroup\":\"Joel Embiid\",\"line\":{\"color\":\"#19d3f3\",\"dash\":\"solid\"},\"mode\":\"lines\",\"name\":\"Joel Embiid\",\"orientation\":\"v\",\"showlegend\":true,\"type\":\"scatter\",\"x\":[\"01-28-2022\"],\"xaxis\":\"x\",\"y\":[0.6768348217010498],\"yaxis\":\"y\"}],                        {\"autosize\":false,\"height\":700,\"template\":{\"data\":{\"bar\":[{\"error_x\":{\"color\":\"#2a3f5f\"},\"error_y\":{\"color\":\"#2a3f5f\"},\"marker\":{\"line\":{\"color\":\"#E5ECF6\",\"width\":0.5},\"pattern\":{\"fillmode\":\"overlay\",\"size\":10,\"solidity\":0.2}},\"type\":\"bar\"}],\"barpolar\":[{\"marker\":{\"line\":{\"color\":\"#E5ECF6\",\"width\":0.5},\"pattern\":{\"fillmode\":\"overlay\",\"size\":10,\"solidity\":0.2}},\"type\":\"barpolar\"}],\"carpet\":[{\"aaxis\":{\"endlinecolor\":\"#2a3f5f\",\"gridcolor\":\"white\",\"linecolor\":\"white\",\"minorgridcolor\":\"white\",\"startlinecolor\":\"#2a3f5f\"},\"baxis\":{\"endlinecolor\":\"#2a3f5f\",\"gridcolor\":\"white\",\"linecolor\":\"white\",\"minorgridcolor\":\"white\",\"startlinecolor\":\"#2a3f5f\"},\"type\":\"carpet\"}],\"choropleth\":[{\"colorbar\":{\"outlinewidth\":0,\"ticks\":\"\"},\"type\":\"choropleth\"}],\"contour\":[{\"colorbar\":{\"outlinewidth\":0,\"ticks\":\"\"},\"colorscale\":[[0.0,\"#0d0887\"],[0.1111111111111111,\"#46039f\"],[0.2222222222222222,\"#7201a8\"],[0.3333333333333333,\"#9c179e\"],[0.4444444444444444,\"#bd3786\"],[0.5555555555555556,\"#d8576b\"],[0.6666666666666666,\"#ed7953\"],[0.7777777777777778,\"#fb9f3a\"],[0.8888888888888888,\"#fdca26\"],[1.0,\"#f0f921\"]],\"type\":\"contour\"}],\"contourcarpet\":[{\"colorbar\":{\"outlinewidth\":0,\"ticks\":\"\"},\"type\":\"contourcarpet\"}],\"heatmap\":[{\"colorbar\":{\"outlinewidth\":0,\"ticks\":\"\"},\"colorscale\":[[0.0,\"#0d0887\"],[0.1111111111111111,\"#46039f\"],[0.2222222222222222,\"#7201a8\"],[0.3333333333333333,\"#9c179e\"],[0.4444444444444444,\"#bd3786\"],[0.5555555555555556,\"#d8576b\"],[0.6666666666666666,\"#ed7953\"],[0.7777777777777778,\"#fb9f3a\"],[0.8888888888888888,\"#fdca26\"],[1.0,\"#f0f921\"]],\"type\":\"heatmap\"}],\"heatmapgl\":[{\"colorbar\":{\"outlinewidth\":0,\"ticks\":\"\"},\"colorscale\":[[0.0,\"#0d0887\"],[0.1111111111111111,\"#46039f\"],[0.2222222222222222,\"#7201a8\"],[0.3333333333333333,\"#9c179e\"],[0.4444444444444444,\"#bd3786\"],[0.5555555555555556,\"#d8576b\"],[0.6666666666666666,\"#ed7953\"],[0.7777777777777778,\"#fb9f3a\"],[0.8888888888888888,\"#fdca26\"],[1.0,\"#f0f921\"]],\"type\":\"heatmapgl\"}],\"histogram\":[{\"marker\":{\"pattern\":{\"fillmode\":\"overlay\",\"size\":10,\"solidity\":0.2}},\"type\":\"histogram\"}],\"histogram2d\":[{\"colorbar\":{\"outlinewidth\":0,\"ticks\":\"\"},\"colorscale\":[[0.0,\"#0d0887\"],[0.1111111111111111,\"#46039f\"],[0.2222222222222222,\"#7201a8\"],[0.3333333333333333,\"#9c179e\"],[0.4444444444444444,\"#bd3786\"],[0.5555555555555556,\"#d8576b\"],[0.6666666666666666,\"#ed7953\"],[0.7777777777777778,\"#fb9f3a\"],[0.8888888888888888,\"#fdca26\"],[1.0,\"#f0f921\"]],\"type\":\"histogram2d\"}],\"histogram2dcontour\":[{\"colorbar\":{\"outlinewidth\":0,\"ticks\":\"\"},\"colorscale\":[[0.0,\"#0d0887\"],[0.1111111111111111,\"#46039f\"],[0.2222222222222222,\"#7201a8\"],[0.3333333333333333,\"#9c179e\"],[0.4444444444444444,\"#bd3786\"],[0.5555555555555556,\"#d8576b\"],[0.6666666666666666,\"#ed7953\"],[0.7777777777777778,\"#fb9f3a\"],[0.8888888888888888,\"#fdca26\"],[1.0,\"#f0f921\"]],\"type\":\"histogram2dcontour\"}],\"mesh3d\":[{\"colorbar\":{\"outlinewidth\":0,\"ticks\":\"\"},\"type\":\"mesh3d\"}],\"parcoords\":[{\"line\":{\"colorbar\":{\"outlinewidth\":0,\"ticks\":\"\"}},\"type\":\"parcoords\"}],\"pie\":[{\"automargin\":true,\"type\":\"pie\"}],\"scatter\":[{\"marker\":{\"colorbar\":{\"outlinewidth\":0,\"ticks\":\"\"}},\"type\":\"scatter\"}],\"scatter3d\":[{\"line\":{\"colorbar\":{\"outlinewidth\":0,\"ticks\":\"\"}},\"marker\":{\"colorbar\":{\"outlinewidth\":0,\"ticks\":\"\"}},\"type\":\"scatter3d\"}],\"scattercarpet\":[{\"marker\":{\"colorbar\":{\"outlinewidth\":0,\"ticks\":\"\"}},\"type\":\"scattercarpet\"}],\"scattergeo\":[{\"marker\":{\"colorbar\":{\"outlinewidth\":0,\"ticks\":\"\"}},\"type\":\"scattergeo\"}],\"scattergl\":[{\"marker\":{\"colorbar\":{\"outlinewidth\":0,\"ticks\":\"\"}},\"type\":\"scattergl\"}],\"scattermapbox\":[{\"marker\":{\"colorbar\":{\"outlinewidth\":0,\"ticks\":\"\"}},\"type\":\"scattermapbox\"}],\"scatterpolar\":[{\"marker\":{\"colorbar\":{\"outlinewidth\":0,\"ticks\":\"\"}},\"type\":\"scatterpolar\"}],\"scatterpolargl\":[{\"marker\":{\"colorbar\":{\"outlinewidth\":0,\"ticks\":\"\"}},\"type\":\"scatterpolargl\"}],\"scatterternary\":[{\"marker\":{\"colorbar\":{\"outlinewidth\":0,\"ticks\":\"\"}},\"type\":\"scatterternary\"}],\"surface\":[{\"colorbar\":{\"outlinewidth\":0,\"ticks\":\"\"},\"colorscale\":[[0.0,\"#0d0887\"],[0.1111111111111111,\"#46039f\"],[0.2222222222222222,\"#7201a8\"],[0.3333333333333333,\"#9c179e\"],[0.4444444444444444,\"#bd3786\"],[0.5555555555555556,\"#d8576b\"],[0.6666666666666666,\"#ed7953\"],[0.7777777777777778,\"#fb9f3a\"],[0.8888888888888888,\"#fdca26\"],[1.0,\"#f0f921\"]],\"type\":\"surface\"}],\"table\":[{\"cells\":{\"fill\":{\"color\":\"#EBF0F8\"},\"line\":{\"color\":\"white\"}},\"header\":{\"fill\":{\"color\":\"#C8D4E3\"},\"line\":{\"color\":\"white\"}},\"type\":\"table\"}]},\"layout\":{\"annotationdefaults\":{\"arrowcolor\":\"#2a3f5f\",\"arrowhead\":0,\"arrowwidth\":1},\"autotypenumbers\":\"strict\",\"coloraxis\":{\"colorbar\":{\"outlinewidth\":0,\"ticks\":\"\"}},\"colorscale\":{\"diverging\":[[0,\"#8e0152\"],[0.1,\"#c51b7d\"],[0.2,\"#de77ae\"],[0.3,\"#f1b6da\"],[0.4,\"#fde0ef\"],[0.5,\"#f7f7f7\"],[0.6,\"#e6f5d0\"],[0.7,\"#b8e186\"],[0.8,\"#7fbc41\"],[0.9,\"#4d9221\"],[1,\"#276419\"]],\"sequential\":[[0.0,\"#0d0887\"],[0.1111111111111111,\"#46039f\"],[0.2222222222222222,\"#7201a8\"],[0.3333333333333333,\"#9c179e\"],[0.4444444444444444,\"#bd3786\"],[0.5555555555555556,\"#d8576b\"],[0.6666666666666666,\"#ed7953\"],[0.7777777777777778,\"#fb9f3a\"],[0.8888888888888888,\"#fdca26\"],[1.0,\"#f0f921\"]],\"sequentialminus\":[[0.0,\"#0d0887\"],[0.1111111111111111,\"#46039f\"],[0.2222222222222222,\"#7201a8\"],[0.3333333333333333,\"#9c179e\"],[0.4444444444444444,\"#bd3786\"],[0.5555555555555556,\"#d8576b\"],[0.6666666666666666,\"#ed7953\"],[0.7777777777777778,\"#fb9f3a\"],[0.8888888888888888,\"#fdca26\"],[1.0,\"#f0f921\"]]},\"colorway\":[\"#636efa\",\"#EF553B\",\"#00cc96\",\"#ab63fa\",\"#FFA15A\",\"#19d3f3\",\"#FF6692\",\"#B6E880\",\"#FF97FF\",\"#FECB52\"],\"font\":{\"color\":\"#2a3f5f\"},\"geo\":{\"bgcolor\":\"white\",\"lakecolor\":\"white\",\"landcolor\":\"#E5ECF6\",\"showlakes\":true,\"showland\":true,\"subunitcolor\":\"white\"},\"hoverlabel\":{\"align\":\"left\"},\"hovermode\":\"closest\",\"mapbox\":{\"style\":\"light\"},\"paper_bgcolor\":\"white\",\"plot_bgcolor\":\"#E5ECF6\",\"polar\":{\"angularaxis\":{\"gridcolor\":\"white\",\"linecolor\":\"white\",\"ticks\":\"\"},\"bgcolor\":\"#E5ECF6\",\"radialaxis\":{\"gridcolor\":\"white\",\"linecolor\":\"white\",\"ticks\":\"\"}},\"scene\":{\"xaxis\":{\"backgroundcolor\":\"#E5ECF6\",\"gridcolor\":\"white\",\"gridwidth\":2,\"linecolor\":\"white\",\"showbackground\":true,\"ticks\":\"\",\"zerolinecolor\":\"white\"},\"yaxis\":{\"backgroundcolor\":\"#E5ECF6\",\"gridcolor\":\"white\",\"gridwidth\":2,\"linecolor\":\"white\",\"showbackground\":true,\"ticks\":\"\",\"zerolinecolor\":\"white\"},\"zaxis\":{\"backgroundcolor\":\"#E5ECF6\",\"gridcolor\":\"white\",\"gridwidth\":2,\"linecolor\":\"white\",\"showbackground\":true,\"ticks\":\"\",\"zerolinecolor\":\"white\"}},\"shapedefaults\":{\"line\":{\"color\":\"#2a3f5f\"}},\"ternary\":{\"aaxis\":{\"gridcolor\":\"white\",\"linecolor\":\"white\",\"ticks\":\"\"},\"baxis\":{\"gridcolor\":\"white\",\"linecolor\":\"white\",\"ticks\":\"\"},\"bgcolor\":\"#E5ECF6\",\"caxis\":{\"gridcolor\":\"white\",\"linecolor\":\"white\",\"ticks\":\"\"}},\"title\":{\"x\":0.05},\"xaxis\":{\"automargin\":true,\"gridcolor\":\"white\",\"linecolor\":\"white\",\"ticks\":\"\",\"title\":{\"standoff\":15},\"zerolinecolor\":\"white\",\"zerolinewidth\":2},\"yaxis\":{\"automargin\":true,\"gridcolor\":\"white\",\"linecolor\":\"white\",\"ticks\":\"\",\"title\":{\"standoff\":15},\"zerolinecolor\":\"white\",\"zerolinewidth\":2}}},\"width\":1000},                        {\"responsive\": true}                    ).then(function(){\n",
       "                            \n",
       "var gd = document.getElementById('3c8bd7e6-d721-48cb-9d31-58f342438fe0');\n",
       "var x = new MutationObserver(function (mutations, observer) {{\n",
       "        var display = window.getComputedStyle(gd).display;\n",
       "        if (!display || display === 'none') {{\n",
       "            console.log([gd, 'removed!']);\n",
       "            Plotly.purge(gd);\n",
       "            observer.disconnect();\n",
       "        }}\n",
       "}});\n",
       "\n",
       "// Listen for the removal of the full notebook cells\n",
       "var notebookContainer = gd.closest('#notebook-container');\n",
       "if (notebookContainer) {{\n",
       "    x.observe(notebookContainer, {childList: true});\n",
       "}}\n",
       "\n",
       "// Listen for the clearing of the current output cell\n",
       "var outputEl = gd.closest('.output');\n",
       "if (outputEl) {{\n",
       "    x.observe(outputEl, {childList: true});\n",
       "}}\n",
       "\n",
       "                        })                };                });            </script>        </div>"
      ]
     },
     "metadata": {},
     "output_type": "display_data"
    }
   ],
   "source": [
    "import plotly.express as px\n",
    "import plotly.graph_objects as go\n",
    "\n",
    "fig = px.scatter(\n",
    "    data_frame = forecast_over_time,\n",
    "    x = 'date',\n",
    "    y = 'Share Prediction',\n",
    "    #color= 'Player',\n",
    "    hover_data= {\n",
    "        'date':True,\n",
    "        'Player':True,\n",
    "        'Share Prediction':True,\n",
    "        'seed':True,\n",
    "        'W/L%':True,\n",
    "    },\n",
    "    title = 'Predicted MVP Share Over Time')\n",
    "\n",
    "fig2 = px.line(\n",
    "    data_frame = forecast_over_time,\n",
    "    x = 'date',\n",
    "    y = 'Share Prediction',\n",
    "    color= 'Player',\n",
    "    hover_data= {\n",
    "        'date':True,\n",
    "        'Player':True,\n",
    "        'Share Prediction':True,\n",
    "        'seed':True,\n",
    "        'W/L%':True,\n",
    "    },\n",
    "    title = 'Predicted MVP Share Over Time')\n",
    "\n",
    "fig3 = go.Figure(data=fig.data + fig2.data)\n",
    "\n",
    "fig3.update_layout(\n",
    "    autosize=False,\n",
    "    width=1000,\n",
    "    height=700,)\n",
    "\n",
    "\n",
    "fig3.show()"
   ]
  },
  {
   "cell_type": "code",
   "execution_count": null,
   "id": "ef0b558d-bd25-4064-8b4f-4f7933061044",
   "metadata": {},
   "outputs": [],
   "source": []
  },
  {
   "cell_type": "code",
   "execution_count": 112,
   "id": "e9213713-14b3-4603-83dd-532993a3f8e6",
   "metadata": {},
   "outputs": [],
   "source": [
    "with open(\"mvp_ladder_data.json\", \"w\") as outfile:\n",
    "    json.dump(mvp_ladder_by_date, outfile)"
   ]
  },
  {
   "cell_type": "code",
   "execution_count": null,
   "id": "a3a11da6-90bc-4a43-8661-351edf23092f",
   "metadata": {},
   "outputs": [],
   "source": []
  },
  {
   "cell_type": "code",
   "execution_count": null,
   "id": "f511966c-c28a-45b7-9aee-bf20ee111f5b",
   "metadata": {},
   "outputs": [],
   "source": []
  },
  {
   "cell_type": "code",
   "execution_count": null,
   "id": "f39eb40d-0855-4a03-a0e4-95ea95d5d3ee",
   "metadata": {},
   "outputs": [],
   "source": []
  },
  {
   "cell_type": "code",
   "execution_count": null,
   "id": "7acc8210-f909-42e4-bede-3133d538f8c5",
   "metadata": {},
   "outputs": [],
   "source": []
  },
  {
   "cell_type": "code",
   "execution_count": null,
   "id": "56756212-e736-4701-bb98-42d692203348",
   "metadata": {},
   "outputs": [],
   "source": []
  },
  {
   "cell_type": "code",
   "execution_count": null,
   "id": "3c9d96ca-9c25-44b3-a4b4-cb4e92fd84e1",
   "metadata": {},
   "outputs": [],
   "source": []
  },
  {
   "cell_type": "code",
   "execution_count": null,
   "id": "644617a3-03ac-4f47-bc35-aea876f3ad11",
   "metadata": {},
   "outputs": [],
   "source": [
    "################## UNDER THE HOOD ##################"
   ]
  },
  {
   "cell_type": "code",
   "execution_count": 49,
   "id": "b4a05f07-57a6-4ff9-85fe-c884fce8daea",
   "metadata": {},
   "outputs": [],
   "source": [
    "## try 01-21-2022\n",
    "stats_df = pd.read_json(mvp_ladder_by_date['01-21-2022']['stats'])\n",
    "#train on historical data, predict on 2022 data\n",
    "forecast_X_train_df, forecast_y_train_df, forecast_X_test_df = prep_train_test(df=master_table, forecast_df=stats_df)\n",
    "\n",
    "xgb_model, xgb_summary = fit_forecast_model(regressor = XGBRegressor(\n",
    "                                        n_estimators=16,\n",
    "                                        max_depth=5,\n",
    "                                        learning_rate=0.2745),\n",
    "               data_2022 = stats_df)"
   ]
  },
  {
   "cell_type": "code",
   "execution_count": 50,
   "id": "b414225a-adc1-4b03-bb26-9fb0dc19fb15",
   "metadata": {},
   "outputs": [
    {
     "data": {
      "text/html": [
       "<div>\n",
       "<style scoped>\n",
       "    .dataframe tbody tr th:only-of-type {\n",
       "        vertical-align: middle;\n",
       "    }\n",
       "\n",
       "    .dataframe tbody tr th {\n",
       "        vertical-align: top;\n",
       "    }\n",
       "\n",
       "    .dataframe thead th {\n",
       "        text-align: right;\n",
       "    }\n",
       "</style>\n",
       "<table border=\"1\" class=\"dataframe\">\n",
       "  <thead>\n",
       "    <tr style=\"text-align: right;\">\n",
       "      <th></th>\n",
       "      <th>Player</th>\n",
       "      <th>Share Prediction</th>\n",
       "      <th>PTS</th>\n",
       "      <th>value_over_replacement_player</th>\n",
       "      <th>seed</th>\n",
       "      <th>W/L%</th>\n",
       "      <th>player_efficiency_rating</th>\n",
       "      <th>win_shares_per_48_minutes</th>\n",
       "      <th>offensive_box_plus_minus</th>\n",
       "      <th>usage_percentage</th>\n",
       "      <th>free_throw_attempt_rate</th>\n",
       "    </tr>\n",
       "  </thead>\n",
       "  <tbody>\n",
       "    <tr>\n",
       "      <th>0</th>\n",
       "      <td>Giannis Antetokounmpo</td>\n",
       "      <td>0.698939</td>\n",
       "      <td>28.578947</td>\n",
       "      <td>8.415789</td>\n",
       "      <td>4</td>\n",
       "      <td>0.604</td>\n",
       "      <td>31.1</td>\n",
       "      <td>0.276</td>\n",
       "      <td>6.8</td>\n",
       "      <td>35.2</td>\n",
       "      <td>0.578</td>\n",
       "    </tr>\n",
       "    <tr>\n",
       "      <th>1</th>\n",
       "      <td>Kevin Durant</td>\n",
       "      <td>0.599032</td>\n",
       "      <td>29.250000</td>\n",
       "      <td>7.061111</td>\n",
       "      <td>1</td>\n",
       "      <td>0.644</td>\n",
       "      <td>26.1</td>\n",
       "      <td>0.215</td>\n",
       "      <td>6.6</td>\n",
       "      <td>31.2</td>\n",
       "      <td>0.350</td>\n",
       "    </tr>\n",
       "    <tr>\n",
       "      <th>2</th>\n",
       "      <td>Nikola Jokic</td>\n",
       "      <td>0.429850</td>\n",
       "      <td>25.921053</td>\n",
       "      <td>10.789474</td>\n",
       "      <td>6</td>\n",
       "      <td>0.523</td>\n",
       "      <td>32.9</td>\n",
       "      <td>0.291</td>\n",
       "      <td>9.3</td>\n",
       "      <td>32.1</td>\n",
       "      <td>0.303</td>\n",
       "    </tr>\n",
       "    <tr>\n",
       "      <th>3</th>\n",
       "      <td>Stephen Curry</td>\n",
       "      <td>0.342355</td>\n",
       "      <td>26.365854</td>\n",
       "      <td>6.400000</td>\n",
       "      <td>2</td>\n",
       "      <td>0.717</td>\n",
       "      <td>22.0</td>\n",
       "      <td>0.191</td>\n",
       "      <td>6.1</td>\n",
       "      <td>32.0</td>\n",
       "      <td>0.239</td>\n",
       "    </tr>\n",
       "    <tr>\n",
       "      <th>4</th>\n",
       "      <td>Rudy Gobert</td>\n",
       "      <td>0.332459</td>\n",
       "      <td>15.850000</td>\n",
       "      <td>4.920000</td>\n",
       "      <td>4</td>\n",
       "      <td>0.652</td>\n",
       "      <td>25.5</td>\n",
       "      <td>0.277</td>\n",
       "      <td>3.2</td>\n",
       "      <td>16.9</td>\n",
       "      <td>0.863</td>\n",
       "    </tr>\n",
       "    <tr>\n",
       "      <th>5</th>\n",
       "      <td>Joel Embiid</td>\n",
       "      <td>0.228048</td>\n",
       "      <td>28.030303</td>\n",
       "      <td>7.206061</td>\n",
       "      <td>6</td>\n",
       "      <td>0.578</td>\n",
       "      <td>30.7</td>\n",
       "      <td>0.254</td>\n",
       "      <td>6.7</td>\n",
       "      <td>35.6</td>\n",
       "      <td>0.594</td>\n",
       "    </tr>\n",
       "    <tr>\n",
       "      <th>6</th>\n",
       "      <td>Ja Morant</td>\n",
       "      <td>0.171785</td>\n",
       "      <td>24.676471</td>\n",
       "      <td>5.305882</td>\n",
       "      <td>3</td>\n",
       "      <td>0.667</td>\n",
       "      <td>24.5</td>\n",
       "      <td>0.175</td>\n",
       "      <td>5.9</td>\n",
       "      <td>31.7</td>\n",
       "      <td>0.329</td>\n",
       "    </tr>\n",
       "    <tr>\n",
       "      <th>7</th>\n",
       "      <td>LeBron James</td>\n",
       "      <td>0.135741</td>\n",
       "      <td>28.848485</td>\n",
       "      <td>7.951515</td>\n",
       "      <td>7</td>\n",
       "      <td>0.500</td>\n",
       "      <td>27.0</td>\n",
       "      <td>0.207</td>\n",
       "      <td>7.1</td>\n",
       "      <td>31.0</td>\n",
       "      <td>0.284</td>\n",
       "    </tr>\n",
       "    <tr>\n",
       "      <th>8</th>\n",
       "      <td>Chris Paul</td>\n",
       "      <td>0.112030</td>\n",
       "      <td>14.022727</td>\n",
       "      <td>4.659091</td>\n",
       "      <td>1</td>\n",
       "      <td>0.795</td>\n",
       "      <td>20.5</td>\n",
       "      <td>0.214</td>\n",
       "      <td>2.6</td>\n",
       "      <td>19.5</td>\n",
       "      <td>0.260</td>\n",
       "    </tr>\n",
       "    <tr>\n",
       "      <th>9</th>\n",
       "      <td>DeMar DeRozan</td>\n",
       "      <td>0.076271</td>\n",
       "      <td>25.725000</td>\n",
       "      <td>2.665000</td>\n",
       "      <td>2</td>\n",
       "      <td>0.636</td>\n",
       "      <td>22.4</td>\n",
       "      <td>0.157</td>\n",
       "      <td>2.9</td>\n",
       "      <td>31.2</td>\n",
       "      <td>0.393</td>\n",
       "    </tr>\n",
       "  </tbody>\n",
       "</table>\n",
       "</div>"
      ],
      "text/plain": [
       "                  Player  Share Prediction        PTS  \\\n",
       "0  Giannis Antetokounmpo          0.698939  28.578947   \n",
       "1           Kevin Durant          0.599032  29.250000   \n",
       "2           Nikola Jokic          0.429850  25.921053   \n",
       "3          Stephen Curry          0.342355  26.365854   \n",
       "4            Rudy Gobert          0.332459  15.850000   \n",
       "5            Joel Embiid          0.228048  28.030303   \n",
       "6              Ja Morant          0.171785  24.676471   \n",
       "7           LeBron James          0.135741  28.848485   \n",
       "8             Chris Paul          0.112030  14.022727   \n",
       "9          DeMar DeRozan          0.076271  25.725000   \n",
       "\n",
       "   value_over_replacement_player  seed   W/L%  player_efficiency_rating  \\\n",
       "0                       8.415789     4  0.604                      31.1   \n",
       "1                       7.061111     1  0.644                      26.1   \n",
       "2                      10.789474     6  0.523                      32.9   \n",
       "3                       6.400000     2  0.717                      22.0   \n",
       "4                       4.920000     4  0.652                      25.5   \n",
       "5                       7.206061     6  0.578                      30.7   \n",
       "6                       5.305882     3  0.667                      24.5   \n",
       "7                       7.951515     7  0.500                      27.0   \n",
       "8                       4.659091     1  0.795                      20.5   \n",
       "9                       2.665000     2  0.636                      22.4   \n",
       "\n",
       "   win_shares_per_48_minutes  offensive_box_plus_minus  usage_percentage  \\\n",
       "0                      0.276                       6.8              35.2   \n",
       "1                      0.215                       6.6              31.2   \n",
       "2                      0.291                       9.3              32.1   \n",
       "3                      0.191                       6.1              32.0   \n",
       "4                      0.277                       3.2              16.9   \n",
       "5                      0.254                       6.7              35.6   \n",
       "6                      0.175                       5.9              31.7   \n",
       "7                      0.207                       7.1              31.0   \n",
       "8                      0.214                       2.6              19.5   \n",
       "9                      0.157                       2.9              31.2   \n",
       "\n",
       "   free_throw_attempt_rate  \n",
       "0                    0.578  \n",
       "1                    0.350  \n",
       "2                    0.303  \n",
       "3                    0.239  \n",
       "4                    0.863  \n",
       "5                    0.594  \n",
       "6                    0.329  \n",
       "7                    0.284  \n",
       "8                    0.260  \n",
       "9                    0.393  "
      ]
     },
     "execution_count": 50,
     "metadata": {},
     "output_type": "execute_result"
    }
   ],
   "source": [
    "xgb_summary"
   ]
  },
  {
   "cell_type": "code",
   "execution_count": 51,
   "id": "f57f2f89-acca-4e69-8c22-4de4eb08b0b7",
   "metadata": {},
   "outputs": [],
   "source": [
    "## try 01-14-2022\n",
    "stats_df = pd.read_json(mvp_ladder_by_date['01-14-2022']['stats'])\n",
    "#train on historical data, predict on 2022 data\n",
    "forecast_X_train_df, forecast_y_train_df, forecast_X_test_df = prep_train_test(df=master_table, forecast_df=stats_df)\n",
    "\n",
    "xgb_model, xgb_summary = fit_forecast_model(regressor = XGBRegressor(\n",
    "                                        n_estimators=16,\n",
    "                                        max_depth=5,\n",
    "                                        learning_rate=0.2745),\n",
    "               data_2022 = stats_df)"
   ]
  },
  {
   "cell_type": "code",
   "execution_count": 52,
   "id": "06807551-4248-4f47-879a-d326c5b339ec",
   "metadata": {},
   "outputs": [
    {
     "data": {
      "text/html": [
       "<div>\n",
       "<style scoped>\n",
       "    .dataframe tbody tr th:only-of-type {\n",
       "        vertical-align: middle;\n",
       "    }\n",
       "\n",
       "    .dataframe tbody tr th {\n",
       "        vertical-align: top;\n",
       "    }\n",
       "\n",
       "    .dataframe thead th {\n",
       "        text-align: right;\n",
       "    }\n",
       "</style>\n",
       "<table border=\"1\" class=\"dataframe\">\n",
       "  <thead>\n",
       "    <tr style=\"text-align: right;\">\n",
       "      <th></th>\n",
       "      <th>Player</th>\n",
       "      <th>Share Prediction</th>\n",
       "      <th>PTS</th>\n",
       "      <th>value_over_replacement_player</th>\n",
       "      <th>seed</th>\n",
       "      <th>W/L%</th>\n",
       "      <th>player_efficiency_rating</th>\n",
       "      <th>win_shares_per_48_minutes</th>\n",
       "      <th>offensive_box_plus_minus</th>\n",
       "      <th>usage_percentage</th>\n",
       "      <th>free_throw_attempt_rate</th>\n",
       "    </tr>\n",
       "  </thead>\n",
       "  <tbody>\n",
       "    <tr>\n",
       "      <th>0</th>\n",
       "      <td>Giannis Antetokounmpo</td>\n",
       "      <td>0.670559</td>\n",
       "      <td>28.615385</td>\n",
       "      <td>8.410256</td>\n",
       "      <td>4</td>\n",
       "      <td>0.604</td>\n",
       "      <td>30.9</td>\n",
       "      <td>0.273</td>\n",
       "      <td>6.7</td>\n",
       "      <td>35.2</td>\n",
       "      <td>0.576</td>\n",
       "    </tr>\n",
       "    <tr>\n",
       "      <th>1</th>\n",
       "      <td>Kevin Durant</td>\n",
       "      <td>0.599032</td>\n",
       "      <td>29.250000</td>\n",
       "      <td>7.061111</td>\n",
       "      <td>1</td>\n",
       "      <td>0.644</td>\n",
       "      <td>26.2</td>\n",
       "      <td>0.215</td>\n",
       "      <td>6.7</td>\n",
       "      <td>31.2</td>\n",
       "      <td>0.350</td>\n",
       "    </tr>\n",
       "    <tr>\n",
       "      <th>2</th>\n",
       "      <td>Nikola Jokic</td>\n",
       "      <td>0.503389</td>\n",
       "      <td>25.923077</td>\n",
       "      <td>10.933333</td>\n",
       "      <td>6</td>\n",
       "      <td>0.523</td>\n",
       "      <td>33.0</td>\n",
       "      <td>0.295</td>\n",
       "      <td>9.5</td>\n",
       "      <td>31.6</td>\n",
       "      <td>0.300</td>\n",
       "    </tr>\n",
       "    <tr>\n",
       "      <th>3</th>\n",
       "      <td>Stephen Curry</td>\n",
       "      <td>0.332704</td>\n",
       "      <td>26.261905</td>\n",
       "      <td>6.247619</td>\n",
       "      <td>2</td>\n",
       "      <td>0.717</td>\n",
       "      <td>21.9</td>\n",
       "      <td>0.190</td>\n",
       "      <td>5.9</td>\n",
       "      <td>31.9</td>\n",
       "      <td>0.242</td>\n",
       "    </tr>\n",
       "    <tr>\n",
       "      <th>4</th>\n",
       "      <td>Rudy Gobert</td>\n",
       "      <td>0.331596</td>\n",
       "      <td>16.048780</td>\n",
       "      <td>5.000000</td>\n",
       "      <td>4</td>\n",
       "      <td>0.652</td>\n",
       "      <td>25.7</td>\n",
       "      <td>0.280</td>\n",
       "      <td>3.3</td>\n",
       "      <td>17.1</td>\n",
       "      <td>0.868</td>\n",
       "    </tr>\n",
       "    <tr>\n",
       "      <th>5</th>\n",
       "      <td>Joel Embiid</td>\n",
       "      <td>0.228048</td>\n",
       "      <td>28.382353</td>\n",
       "      <td>7.235294</td>\n",
       "      <td>6</td>\n",
       "      <td>0.578</td>\n",
       "      <td>30.9</td>\n",
       "      <td>0.256</td>\n",
       "      <td>7.0</td>\n",
       "      <td>35.8</td>\n",
       "      <td>0.587</td>\n",
       "    </tr>\n",
       "    <tr>\n",
       "      <th>6</th>\n",
       "      <td>Ja Morant</td>\n",
       "      <td>0.202879</td>\n",
       "      <td>25.057143</td>\n",
       "      <td>5.388571</td>\n",
       "      <td>3</td>\n",
       "      <td>0.667</td>\n",
       "      <td>24.8</td>\n",
       "      <td>0.176</td>\n",
       "      <td>6.0</td>\n",
       "      <td>31.9</td>\n",
       "      <td>0.328</td>\n",
       "    </tr>\n",
       "    <tr>\n",
       "      <th>7</th>\n",
       "      <td>LeBron James</td>\n",
       "      <td>0.137129</td>\n",
       "      <td>28.852941</td>\n",
       "      <td>7.717647</td>\n",
       "      <td>7</td>\n",
       "      <td>0.500</td>\n",
       "      <td>26.8</td>\n",
       "      <td>0.204</td>\n",
       "      <td>6.9</td>\n",
       "      <td>31.1</td>\n",
       "      <td>0.279</td>\n",
       "    </tr>\n",
       "    <tr>\n",
       "      <th>8</th>\n",
       "      <td>Chris Paul</td>\n",
       "      <td>0.112030</td>\n",
       "      <td>14.022727</td>\n",
       "      <td>4.659091</td>\n",
       "      <td>1</td>\n",
       "      <td>0.795</td>\n",
       "      <td>20.5</td>\n",
       "      <td>0.214</td>\n",
       "      <td>2.6</td>\n",
       "      <td>19.5</td>\n",
       "      <td>0.260</td>\n",
       "    </tr>\n",
       "    <tr>\n",
       "      <th>9</th>\n",
       "      <td>DeMar DeRozan</td>\n",
       "      <td>0.076271</td>\n",
       "      <td>25.951220</td>\n",
       "      <td>3.000000</td>\n",
       "      <td>2</td>\n",
       "      <td>0.636</td>\n",
       "      <td>22.7</td>\n",
       "      <td>0.163</td>\n",
       "      <td>3.1</td>\n",
       "      <td>31.2</td>\n",
       "      <td>0.407</td>\n",
       "    </tr>\n",
       "  </tbody>\n",
       "</table>\n",
       "</div>"
      ],
      "text/plain": [
       "                  Player  Share Prediction        PTS  \\\n",
       "0  Giannis Antetokounmpo          0.670559  28.615385   \n",
       "1           Kevin Durant          0.599032  29.250000   \n",
       "2           Nikola Jokic          0.503389  25.923077   \n",
       "3          Stephen Curry          0.332704  26.261905   \n",
       "4            Rudy Gobert          0.331596  16.048780   \n",
       "5            Joel Embiid          0.228048  28.382353   \n",
       "6              Ja Morant          0.202879  25.057143   \n",
       "7           LeBron James          0.137129  28.852941   \n",
       "8             Chris Paul          0.112030  14.022727   \n",
       "9          DeMar DeRozan          0.076271  25.951220   \n",
       "\n",
       "   value_over_replacement_player  seed   W/L%  player_efficiency_rating  \\\n",
       "0                       8.410256     4  0.604                      30.9   \n",
       "1                       7.061111     1  0.644                      26.2   \n",
       "2                      10.933333     6  0.523                      33.0   \n",
       "3                       6.247619     2  0.717                      21.9   \n",
       "4                       5.000000     4  0.652                      25.7   \n",
       "5                       7.235294     6  0.578                      30.9   \n",
       "6                       5.388571     3  0.667                      24.8   \n",
       "7                       7.717647     7  0.500                      26.8   \n",
       "8                       4.659091     1  0.795                      20.5   \n",
       "9                       3.000000     2  0.636                      22.7   \n",
       "\n",
       "   win_shares_per_48_minutes  offensive_box_plus_minus  usage_percentage  \\\n",
       "0                      0.273                       6.7              35.2   \n",
       "1                      0.215                       6.7              31.2   \n",
       "2                      0.295                       9.5              31.6   \n",
       "3                      0.190                       5.9              31.9   \n",
       "4                      0.280                       3.3              17.1   \n",
       "5                      0.256                       7.0              35.8   \n",
       "6                      0.176                       6.0              31.9   \n",
       "7                      0.204                       6.9              31.1   \n",
       "8                      0.214                       2.6              19.5   \n",
       "9                      0.163                       3.1              31.2   \n",
       "\n",
       "   free_throw_attempt_rate  \n",
       "0                    0.576  \n",
       "1                    0.350  \n",
       "2                    0.300  \n",
       "3                    0.242  \n",
       "4                    0.868  \n",
       "5                    0.587  \n",
       "6                    0.328  \n",
       "7                    0.279  \n",
       "8                    0.260  \n",
       "9                    0.407  "
      ]
     },
     "execution_count": 52,
     "metadata": {},
     "output_type": "execute_result"
    }
   ],
   "source": [
    "xgb_summary"
   ]
  },
  {
   "cell_type": "code",
   "execution_count": null,
   "id": "af9df8ae-d256-4dfc-98ff-7528d99ac6fe",
   "metadata": {},
   "outputs": [],
   "source": []
  }
 ],
 "metadata": {
  "kernelspec": {
   "display_name": "Python [conda env:nba_mvp_project]",
   "language": "python",
   "name": "conda-env-nba_mvp_project-py"
  },
  "language_info": {
   "codemirror_mode": {
    "name": "ipython",
    "version": 3
   },
   "file_extension": ".py",
   "mimetype": "text/x-python",
   "name": "python",
   "nbconvert_exporter": "python",
   "pygments_lexer": "ipython3",
   "version": "3.8.10"
  }
 },
 "nbformat": 4,
 "nbformat_minor": 5
}
