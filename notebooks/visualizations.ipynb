{
 "cells": [
  {
   "cell_type": "markdown",
   "id": "dd6986e1-15d3-47e4-9a7f-af820a4b7973",
   "metadata": {},
   "source": [
    "# NBA MVP Prediction Visualizations"
   ]
  },
  {
   "cell_type": "markdown",
   "id": "6b83ab47-72b0-49ef-8e16-60206f3da267",
   "metadata": {},
   "source": [
    "## Import data/modules <a class=\"anchor\" id=\"import-data\"></a>\n"
   ]
  },
  {
   "cell_type": "code",
   "execution_count": 2,
   "id": "e8e0757c-fed4-4d6e-a362-7da8e468f6c0",
   "metadata": {},
   "outputs": [],
   "source": [
    "#essentials\n",
    "import os\n",
    "import numpy as np\n",
    "import pandas as pd\n",
    "from tqdm import tqdm\n",
    "import pickle\n",
    "import warnings\n",
    "warnings.filterwarnings('ignore')\n",
    "\n",
    "#visualization\n",
    "import matplotlib.pyplot as plt\n",
    "import seaborn as sns\n",
    "import chart_studio\n",
    "import chart_studio.plotly as py\n",
    "import chart_studio.tools as tls\n",
    "import plotly.express as px\n",
    "\n",
    "#tools/metrics\n",
    "from sklearn.preprocessing import StandardScaler\n",
    "from sklearn.metrics import mean_absolute_error\n",
    "from sklearn.metrics import r2_score\n",
    "from sklearn.feature_selection import mutual_info_regression\n",
    "from sklearn.model_selection import train_test_split\n",
    "import shap\n",
    "\n",
    "#modeling\n",
    "from sklearn.ensemble import RandomForestRegressor\n",
    "from sklearn.svm import SVR\n",
    "from sklearn.linear_model import LinearRegression\n",
    "from xgboost import XGBRegressor\n",
    "from lightgbm import LGBMRegressor\n",
    "\n",
    "#pandas show all columns\n",
    "pd.set_option('display.max_columns', None)"
   ]
  },
  {
   "cell_type": "markdown",
   "id": "9913f787-dddb-4c05-8939-b3132f1b8b67",
   "metadata": {},
   "source": [
    "### Read Data"
   ]
  },
  {
   "cell_type": "code",
   "execution_count": 8,
   "id": "adf11118-0cf3-4ced-b56d-869b7f410cdf",
   "metadata": {},
   "outputs": [
    {
     "name": "stdout",
     "output_type": "stream",
     "text": [
      "/Users/dbtjdals/Desktop/nba_mvp_prediction/data/master_table.csv\n"
     ]
    }
   ],
   "source": [
    "data_path = os.path.dirname(os.getcwd()) + '/data' + '/master_table.csv'\n",
    "print(data_path)\n",
    "master_table = pd.read_csv(data_path)"
   ]
  },
  {
   "cell_type": "code",
   "execution_count": 9,
   "id": "4f3b6291-fdcd-4e21-81d2-168aefc5a045",
   "metadata": {},
   "outputs": [
    {
     "data": {
      "text/html": [
       "<div>\n",
       "<style scoped>\n",
       "    .dataframe tbody tr th:only-of-type {\n",
       "        vertical-align: middle;\n",
       "    }\n",
       "\n",
       "    .dataframe tbody tr th {\n",
       "        vertical-align: top;\n",
       "    }\n",
       "\n",
       "    .dataframe thead th {\n",
       "        text-align: right;\n",
       "    }\n",
       "</style>\n",
       "<table border=\"1\" class=\"dataframe\">\n",
       "  <thead>\n",
       "    <tr style=\"text-align: right;\">\n",
       "      <th></th>\n",
       "      <th>Rank</th>\n",
       "      <th>Player</th>\n",
       "      <th>Age</th>\n",
       "      <th>Tm</th>\n",
       "      <th>First</th>\n",
       "      <th>Pts Won</th>\n",
       "      <th>Pts Max</th>\n",
       "      <th>Share</th>\n",
       "      <th>G</th>\n",
       "      <th>MP</th>\n",
       "      <th>PTS</th>\n",
       "      <th>TRB</th>\n",
       "      <th>AST</th>\n",
       "      <th>STL</th>\n",
       "      <th>BLK</th>\n",
       "      <th>FG%</th>\n",
       "      <th>3P%</th>\n",
       "      <th>FT%</th>\n",
       "      <th>WS</th>\n",
       "      <th>WS/48</th>\n",
       "      <th>year</th>\n",
       "      <th>team</th>\n",
       "      <th>W</th>\n",
       "      <th>W/L%</th>\n",
       "      <th>seed</th>\n",
       "      <th>player_efficiency_rating</th>\n",
       "      <th>true_shooting_percentage</th>\n",
       "      <th>three_point_attempt_rate</th>\n",
       "      <th>free_throw_attempt_rate</th>\n",
       "      <th>offensive_rebound_percentage</th>\n",
       "      <th>defensive_rebound_percentage</th>\n",
       "      <th>total_rebound_percentage</th>\n",
       "      <th>assist_percentage</th>\n",
       "      <th>steal_percentage</th>\n",
       "      <th>block_percentage</th>\n",
       "      <th>turnover_percentage</th>\n",
       "      <th>usage_percentage</th>\n",
       "      <th>offensive_win_shares</th>\n",
       "      <th>defensive_win_shares</th>\n",
       "      <th>win_shares</th>\n",
       "      <th>win_shares_per_48_minutes</th>\n",
       "      <th>offensive_box_plus_minus</th>\n",
       "      <th>defensive_box_plus_minus</th>\n",
       "      <th>box_plus_minus</th>\n",
       "      <th>value_over_replacement_player</th>\n",
       "    </tr>\n",
       "  </thead>\n",
       "  <tbody>\n",
       "    <tr>\n",
       "      <th>0</th>\n",
       "      <td>1</td>\n",
       "      <td>Kareem Abdul-Jabbar</td>\n",
       "      <td>32</td>\n",
       "      <td>LAL</td>\n",
       "      <td>147.0</td>\n",
       "      <td>147.0</td>\n",
       "      <td>221</td>\n",
       "      <td>0.665</td>\n",
       "      <td>82</td>\n",
       "      <td>38.3</td>\n",
       "      <td>24.8</td>\n",
       "      <td>10.8</td>\n",
       "      <td>4.5</td>\n",
       "      <td>1.0</td>\n",
       "      <td>3.4</td>\n",
       "      <td>0.604</td>\n",
       "      <td>0.000</td>\n",
       "      <td>0.765</td>\n",
       "      <td>14.8</td>\n",
       "      <td>0.227</td>\n",
       "      <td>1980</td>\n",
       "      <td>Los Angeles Lakers</td>\n",
       "      <td>60.0</td>\n",
       "      <td>0.732</td>\n",
       "      <td>1.0</td>\n",
       "      <td>25.3</td>\n",
       "      <td>0.639</td>\n",
       "      <td>0.001</td>\n",
       "      <td>0.344</td>\n",
       "      <td>7.2</td>\n",
       "      <td>22.2</td>\n",
       "      <td>15.4</td>\n",
       "      <td>16.5</td>\n",
       "      <td>1.2</td>\n",
       "      <td>4.6</td>\n",
       "      <td>15.7</td>\n",
       "      <td>24.1</td>\n",
       "      <td>9.5</td>\n",
       "      <td>5.3</td>\n",
       "      <td>14.8</td>\n",
       "      <td>0.227</td>\n",
       "      <td>4.8</td>\n",
       "      <td>2.4</td>\n",
       "      <td>7.2</td>\n",
       "      <td>7.3</td>\n",
       "    </tr>\n",
       "    <tr>\n",
       "      <th>1</th>\n",
       "      <td>2</td>\n",
       "      <td>Julius Erving</td>\n",
       "      <td>29</td>\n",
       "      <td>PHI</td>\n",
       "      <td>31.5</td>\n",
       "      <td>31.5</td>\n",
       "      <td>221</td>\n",
       "      <td>0.143</td>\n",
       "      <td>78</td>\n",
       "      <td>36.1</td>\n",
       "      <td>26.9</td>\n",
       "      <td>7.4</td>\n",
       "      <td>4.6</td>\n",
       "      <td>2.2</td>\n",
       "      <td>1.8</td>\n",
       "      <td>0.519</td>\n",
       "      <td>0.200</td>\n",
       "      <td>0.787</td>\n",
       "      <td>12.5</td>\n",
       "      <td>0.213</td>\n",
       "      <td>1980</td>\n",
       "      <td>Philadelphia 76ers</td>\n",
       "      <td>59.0</td>\n",
       "      <td>0.720</td>\n",
       "      <td>2.0</td>\n",
       "      <td>25.4</td>\n",
       "      <td>0.568</td>\n",
       "      <td>0.012</td>\n",
       "      <td>0.331</td>\n",
       "      <td>8.6</td>\n",
       "      <td>12.9</td>\n",
       "      <td>10.9</td>\n",
       "      <td>21.4</td>\n",
       "      <td>2.8</td>\n",
       "      <td>2.7</td>\n",
       "      <td>13.3</td>\n",
       "      <td>30.3</td>\n",
       "      <td>7.3</td>\n",
       "      <td>5.2</td>\n",
       "      <td>12.5</td>\n",
       "      <td>0.213</td>\n",
       "      <td>5.7</td>\n",
       "      <td>1.9</td>\n",
       "      <td>7.6</td>\n",
       "      <td>6.8</td>\n",
       "    </tr>\n",
       "    <tr>\n",
       "      <th>2</th>\n",
       "      <td>3</td>\n",
       "      <td>George Gervin</td>\n",
       "      <td>27</td>\n",
       "      <td>SAS</td>\n",
       "      <td>19.0</td>\n",
       "      <td>19.0</td>\n",
       "      <td>221</td>\n",
       "      <td>0.086</td>\n",
       "      <td>78</td>\n",
       "      <td>37.6</td>\n",
       "      <td>33.1</td>\n",
       "      <td>5.2</td>\n",
       "      <td>2.6</td>\n",
       "      <td>1.4</td>\n",
       "      <td>1.0</td>\n",
       "      <td>0.528</td>\n",
       "      <td>0.314</td>\n",
       "      <td>0.852</td>\n",
       "      <td>10.6</td>\n",
       "      <td>0.173</td>\n",
       "      <td>1980</td>\n",
       "      <td>San Antonio Spurs</td>\n",
       "      <td>41.0</td>\n",
       "      <td>0.500</td>\n",
       "      <td>4.5</td>\n",
       "      <td>24.0</td>\n",
       "      <td>0.587</td>\n",
       "      <td>0.053</td>\n",
       "      <td>0.306</td>\n",
       "      <td>5.7</td>\n",
       "      <td>8.9</td>\n",
       "      <td>7.3</td>\n",
       "      <td>11.0</td>\n",
       "      <td>1.6</td>\n",
       "      <td>1.4</td>\n",
       "      <td>10.3</td>\n",
       "      <td>31.7</td>\n",
       "      <td>9.3</td>\n",
       "      <td>1.3</td>\n",
       "      <td>10.6</td>\n",
       "      <td>0.173</td>\n",
       "      <td>5.5</td>\n",
       "      <td>-1.6</td>\n",
       "      <td>3.9</td>\n",
       "      <td>4.4</td>\n",
       "    </tr>\n",
       "    <tr>\n",
       "      <th>3</th>\n",
       "      <td>4</td>\n",
       "      <td>Larry Bird</td>\n",
       "      <td>23</td>\n",
       "      <td>BOS</td>\n",
       "      <td>15.0</td>\n",
       "      <td>15.0</td>\n",
       "      <td>221</td>\n",
       "      <td>0.068</td>\n",
       "      <td>82</td>\n",
       "      <td>36.0</td>\n",
       "      <td>21.3</td>\n",
       "      <td>10.4</td>\n",
       "      <td>4.5</td>\n",
       "      <td>1.7</td>\n",
       "      <td>0.6</td>\n",
       "      <td>0.474</td>\n",
       "      <td>0.406</td>\n",
       "      <td>0.836</td>\n",
       "      <td>11.2</td>\n",
       "      <td>0.182</td>\n",
       "      <td>1980</td>\n",
       "      <td>Boston Celtics</td>\n",
       "      <td>61.0</td>\n",
       "      <td>0.744</td>\n",
       "      <td>1.0</td>\n",
       "      <td>20.5</td>\n",
       "      <td>0.538</td>\n",
       "      <td>0.098</td>\n",
       "      <td>0.246</td>\n",
       "      <td>8.3</td>\n",
       "      <td>23.6</td>\n",
       "      <td>16.0</td>\n",
       "      <td>18.5</td>\n",
       "      <td>2.3</td>\n",
       "      <td>1.0</td>\n",
       "      <td>14.0</td>\n",
       "      <td>25.3</td>\n",
       "      <td>5.6</td>\n",
       "      <td>5.6</td>\n",
       "      <td>11.2</td>\n",
       "      <td>0.182</td>\n",
       "      <td>3.0</td>\n",
       "      <td>1.5</td>\n",
       "      <td>4.5</td>\n",
       "      <td>4.8</td>\n",
       "    </tr>\n",
       "    <tr>\n",
       "      <th>4</th>\n",
       "      <td>5T</td>\n",
       "      <td>Tiny Archibald</td>\n",
       "      <td>31</td>\n",
       "      <td>BOS</td>\n",
       "      <td>2.0</td>\n",
       "      <td>2.0</td>\n",
       "      <td>221</td>\n",
       "      <td>0.009</td>\n",
       "      <td>80</td>\n",
       "      <td>35.8</td>\n",
       "      <td>14.1</td>\n",
       "      <td>2.5</td>\n",
       "      <td>8.4</td>\n",
       "      <td>1.3</td>\n",
       "      <td>0.1</td>\n",
       "      <td>0.482</td>\n",
       "      <td>0.222</td>\n",
       "      <td>0.830</td>\n",
       "      <td>8.9</td>\n",
       "      <td>0.148</td>\n",
       "      <td>1980</td>\n",
       "      <td>Boston Celtics</td>\n",
       "      <td>61.0</td>\n",
       "      <td>0.744</td>\n",
       "      <td>1.0</td>\n",
       "      <td>15.3</td>\n",
       "      <td>0.574</td>\n",
       "      <td>0.023</td>\n",
       "      <td>0.548</td>\n",
       "      <td>2.3</td>\n",
       "      <td>5.3</td>\n",
       "      <td>3.8</td>\n",
       "      <td>30.2</td>\n",
       "      <td>1.7</td>\n",
       "      <td>0.2</td>\n",
       "      <td>19.7</td>\n",
       "      <td>17.0</td>\n",
       "      <td>5.9</td>\n",
       "      <td>2.9</td>\n",
       "      <td>8.9</td>\n",
       "      <td>0.148</td>\n",
       "      <td>1.4</td>\n",
       "      <td>-0.3</td>\n",
       "      <td>1.1</td>\n",
       "      <td>2.3</td>\n",
       "    </tr>\n",
       "  </tbody>\n",
       "</table>\n",
       "</div>"
      ],
      "text/plain": [
       "  Rank               Player  Age   Tm  First  Pts Won  Pts Max  Share   G  \\\n",
       "0    1  Kareem Abdul-Jabbar   32  LAL  147.0    147.0      221  0.665  82   \n",
       "1    2        Julius Erving   29  PHI   31.5     31.5      221  0.143  78   \n",
       "2    3        George Gervin   27  SAS   19.0     19.0      221  0.086  78   \n",
       "3    4           Larry Bird   23  BOS   15.0     15.0      221  0.068  82   \n",
       "4   5T       Tiny Archibald   31  BOS    2.0      2.0      221  0.009  80   \n",
       "\n",
       "     MP   PTS   TRB  AST  STL  BLK    FG%    3P%    FT%    WS  WS/48  year  \\\n",
       "0  38.3  24.8  10.8  4.5  1.0  3.4  0.604  0.000  0.765  14.8  0.227  1980   \n",
       "1  36.1  26.9   7.4  4.6  2.2  1.8  0.519  0.200  0.787  12.5  0.213  1980   \n",
       "2  37.6  33.1   5.2  2.6  1.4  1.0  0.528  0.314  0.852  10.6  0.173  1980   \n",
       "3  36.0  21.3  10.4  4.5  1.7  0.6  0.474  0.406  0.836  11.2  0.182  1980   \n",
       "4  35.8  14.1   2.5  8.4  1.3  0.1  0.482  0.222  0.830   8.9  0.148  1980   \n",
       "\n",
       "                 team     W   W/L%  seed  player_efficiency_rating  \\\n",
       "0  Los Angeles Lakers  60.0  0.732   1.0                      25.3   \n",
       "1  Philadelphia 76ers  59.0  0.720   2.0                      25.4   \n",
       "2   San Antonio Spurs  41.0  0.500   4.5                      24.0   \n",
       "3      Boston Celtics  61.0  0.744   1.0                      20.5   \n",
       "4      Boston Celtics  61.0  0.744   1.0                      15.3   \n",
       "\n",
       "   true_shooting_percentage  three_point_attempt_rate  \\\n",
       "0                     0.639                     0.001   \n",
       "1                     0.568                     0.012   \n",
       "2                     0.587                     0.053   \n",
       "3                     0.538                     0.098   \n",
       "4                     0.574                     0.023   \n",
       "\n",
       "   free_throw_attempt_rate  offensive_rebound_percentage  \\\n",
       "0                    0.344                           7.2   \n",
       "1                    0.331                           8.6   \n",
       "2                    0.306                           5.7   \n",
       "3                    0.246                           8.3   \n",
       "4                    0.548                           2.3   \n",
       "\n",
       "   defensive_rebound_percentage  total_rebound_percentage  assist_percentage  \\\n",
       "0                          22.2                      15.4               16.5   \n",
       "1                          12.9                      10.9               21.4   \n",
       "2                           8.9                       7.3               11.0   \n",
       "3                          23.6                      16.0               18.5   \n",
       "4                           5.3                       3.8               30.2   \n",
       "\n",
       "   steal_percentage  block_percentage  turnover_percentage  usage_percentage  \\\n",
       "0               1.2               4.6                 15.7              24.1   \n",
       "1               2.8               2.7                 13.3              30.3   \n",
       "2               1.6               1.4                 10.3              31.7   \n",
       "3               2.3               1.0                 14.0              25.3   \n",
       "4               1.7               0.2                 19.7              17.0   \n",
       "\n",
       "   offensive_win_shares  defensive_win_shares  win_shares  \\\n",
       "0                   9.5                   5.3        14.8   \n",
       "1                   7.3                   5.2        12.5   \n",
       "2                   9.3                   1.3        10.6   \n",
       "3                   5.6                   5.6        11.2   \n",
       "4                   5.9                   2.9         8.9   \n",
       "\n",
       "   win_shares_per_48_minutes  offensive_box_plus_minus  \\\n",
       "0                      0.227                       4.8   \n",
       "1                      0.213                       5.7   \n",
       "2                      0.173                       5.5   \n",
       "3                      0.182                       3.0   \n",
       "4                      0.148                       1.4   \n",
       "\n",
       "   defensive_box_plus_minus  box_plus_minus  value_over_replacement_player  \n",
       "0                       2.4             7.2                            7.3  \n",
       "1                       1.9             7.6                            6.8  \n",
       "2                      -1.6             3.9                            4.4  \n",
       "3                       1.5             4.5                            4.8  \n",
       "4                      -0.3             1.1                            2.3  "
      ]
     },
     "execution_count": 9,
     "metadata": {},
     "output_type": "execute_result"
    }
   ],
   "source": [
    "master_table.head()"
   ]
  },
  {
   "cell_type": "markdown",
   "id": "ed638b5f-3dca-44dc-92fb-c62609d5e20e",
   "metadata": {},
   "source": [
    "## Exploratory Data Analysis <a class=\"anchor\" id=\"eda\"></a>\n"
   ]
  },
  {
   "cell_type": "markdown",
   "id": "e9dfcbd2-3bc0-4836-8dc6-9eae37355fb9",
   "metadata": {},
   "source": [
    "### Correlation Matrix"
   ]
  },
  {
   "cell_type": "code",
   "execution_count": 8,
   "id": "df33f759-879c-4d10-994d-1716e5cd9885",
   "metadata": {},
   "outputs": [
    {
     "data": {
      "image/png": "[encoded data removed]",
      "text/plain": [
       "<Figure size 1080x1080 with 2 Axes>"
      ]
     },
     "metadata": {},
     "output_type": "display_data"
    }
   ],
   "source": [
    "#correlations of each features\n",
    "corr_matrix = master_table.corr()\n",
    "\n",
    "#plot heat map\n",
    "mask = np.zeros_like(corr_matrix)\n",
    "mask[np.triu_indices_from(mask)] = True\n",
    "with sns.axes_style(\"white\"):\n",
    "    f, ax = plt.subplots(figsize=(15, 15))\n",
    "    ax = sns.heatmap(corr_matrix, mask=mask, vmax=.3, square=True,cmap=\"RdYlGn\")\n"
   ]
  },
  {
   "cell_type": "markdown",
   "id": "5b6f7ca7-3ef6-4d09-9430-d968114fb046",
   "metadata": {},
   "source": [
    "### Visualize significant features vs. MVP Shares"
   ]
  },
  {
   "cell_type": "code",
   "execution_count": 3,
   "id": "eea1c3d9-3d92-43a1-810b-b0d7ab4c927d",
   "metadata": {},
   "outputs": [],
   "source": [
    "username='dbtjdals'\n",
    "api_key='32oRy7C1v1fbEU6pNbPx'\n",
    "\n",
    "chart_studio.tools.set_credentials_file(username=username,\n",
    "                                        api_key=api_key)"
   ]
  },
  {
   "cell_type": "code",
   "execution_count": 5,
   "id": "50b08802-b744-4356-aa1c-c5878e3d50c1",
   "metadata": {},
   "outputs": [],
   "source": [
    "def add_win_lose_col(df):\n",
    "    rank_lst = []\n",
    "    for i in list(df['Rank']):\n",
    "        if i == '1':\n",
    "            rank_lst.append('won')\n",
    "        else:\n",
    "            rank_lst.append('lost')\n",
    "    master_table_rank = df.copy()\n",
    "    master_table_rank['Win/Lose'] = rank_lst\n",
    "    return master_table_rank"
   ]
  },
  {
   "cell_type": "code",
   "execution_count": 17,
   "id": "eb102890-c54d-4b03-aa72-3bbe4fc9dcb8",
   "metadata": {},
   "outputs": [],
   "source": [
    "def show_feature_vs_share(feature, df):\n",
    "    fig = px.scatter(data_frame = df,\n",
    "               x=feature,\n",
    "               y='Share',\n",
    "               color='Win/Lose',\n",
    "               color_discrete_sequence=['blue','gray'], \n",
    "               hover_data={\n",
    "                   'Win/Lose': False,\n",
    "                   'Player': True, \n",
    "                   'year': True,\n",
    "                   'seed': True,\n",
    "                   'W/L%': True, \n",
    "                   'W': True\n",
    "                   \n",
    "               })\n",
    "    fig.update_layout(height=500,\n",
    "                     title = f\"{feature} vs. MVP share\")\n",
    "    return fig"
   ]
  },
  {
   "cell_type": "code",
   "execution_count": 22,
   "id": "656e48fb-af76-4784-a48b-11350351888a",
   "metadata": {},
   "outputs": [],
   "source": [
    "features = ['win_shares', \n",
    "            'player_efficiency_rating',\n",
    "            'value_over_replacement_player',\n",
    "            'box_plus_minus',\n",
    "            'offensive_box_plus_minus',\n",
    "            'usage_percentage',\n",
    "            'seed',\n",
    "            'W',\n",
    "            'W/L%',\n",
    "            'PTS']\n",
    "\n",
    "master_table_rank = add_win_lose_col(df=master_table)\n",
    "\n",
    "fig_vorp = show_feature_vs_share(feature='value_over_replacement_player', df=master_table_rank)\n",
    "fig_usage_percentage = show_feature_vs_share(feature='usage_percentage', df=master_table_rank)\n",
    "fig_seed = show_feature_vs_share(feature='seed', df=master_table_rank)\n",
    "fig_w = show_feature_vs_share(feature='W', df=master_table_rank)"
   ]
  },
  {
   "cell_type": "code",
   "execution_count": 23,
   "id": "5805e323-f721-464a-9c9d-230ff9c631cb",
   "metadata": {},
   "outputs": [
    {
     "data": {
      "application/vnd.plotly.v1+json": {
       "config": {
        "plotlyServerURL": "https://plotly.com"
       },
       "data": [
        {
         "customdata": [
          [
           "won",
           "Kareem Abdul-Jabbar",
           1980,
           1,
           0.732,
           60
          ],
          [
           "won",
           "Julius Erving",
           1981,
           1.5,
           0.756,
           62
          ],
          [
           "won",
           "Moses Malone",
           1982,
           5,
           0.561,
           46
          ],
          [
           "won",
           "Moses Malone",
           1983,
           1,
           0.793,
           65
          ],
          [
           "won",
           "Larry Bird",
           1984,
           1,
           0.756,
           62
          ],
          [
           "won",
           "Larry Bird",
           1985,
           1,
           0.768,
           63
          ],
          [
           "won",
           "Larry Bird",
           1986,
           1,
           0.817,
           67
          ],
          [
           "won",
           "Magic Johnson",
           1987,
           1,
           0.793,
           65
          ],
          [
           "won",
           "Michael Jordan",
           1988,
           3.5,
           0.61,
           50
          ],
          [
           "won",
           "Magic Johnson",
           1989,
           1,
           0.695,
           57
          ],
          [
           "won",
           "Magic Johnson",
           1990,
           1,
           0.768,
           63
          ],
          [
           "won",
           "Michael Jordan",
           1991,
           1,
           0.744,
           61
          ],
          [
           "won",
           "Michael Jordan",
           1992,
           1,
           0.817,
           67
          ],
          [
           "won",
           "Charles Barkley",
           1993,
           1,
           0.756,
           62
          ],
          [
           "won",
           "Hakeem Olajuwon",
           1994,
           2,
           0.707,
           58
          ],
          [
           "won",
           "David Robinson",
           1995,
           1,
           0.756,
           62
          ],
          [
           "won",
           "Michael Jordan",
           1996,
           1,
           0.878,
           72
          ],
          [
           "won",
           "Karl Malone",
           1997,
           1,
           0.78,
           64
          ],
          [
           "won",
           "Michael Jordan",
           1998,
           1,
           0.756,
           62
          ],
          [
           "won",
           "Karl Malone",
           1999,
           3.5,
           0.74,
           37
          ],
          [
           "won",
           "Shaquille O'Neal",
           2000,
           1,
           0.817,
           67
          ],
          [
           "won",
           "Allen Iverson",
           2001,
           1,
           0.683,
           56
          ],
          [
           "won",
           "Tim Duncan",
           2002,
           2.5,
           0.707,
           58
          ],
          [
           "won",
           "Tim Duncan",
           2003,
           1.5,
           0.732,
           60
          ],
          [
           "won",
           "Kevin Garnett",
           2004,
           1,
           0.707,
           58
          ],
          [
           "won",
           "Steve Nash",
           2005,
           1,
           0.756,
           62
          ],
          [
           "won",
           "Steve Nash",
           2006,
           3,
           0.659,
           54
          ],
          [
           "won",
           "Dirk Nowitzki",
           2007,
           1,
           0.817,
           67
          ],
          [
           "won",
           "Kobe Bryant",
           2008,
           1,
           0.695,
           57
          ],
          [
           "won",
           "LeBron James",
           2009,
           1,
           0.805,
           66
          ],
          [
           "won",
           "LeBron James",
           2010,
           1,
           0.744,
           61
          ],
          [
           "won",
           "Derrick Rose",
           2011,
           1,
           0.756,
           62
          ],
          [
           "won",
           "LeBron James",
           2012,
           3,
           0.697,
           46
          ],
          [
           "won",
           "LeBron James",
           2013,
           1,
           0.805,
           66
          ],
          [
           "won",
           "Kevin Durant",
           2014,
           2,
           0.72,
           59
          ],
          [
           "won",
           "Stephen Curry",
           2015,
           1,
           0.817,
           67
          ],
          [
           "won",
           "Stephen Curry",
           2016,
           1,
           0.89,
           73
          ],
          [
           "won",
           "Russell Westbrook",
           2017,
           6,
           0.573,
           47
          ],
          [
           "won",
           "James Harden",
           2018,
           1,
           0.793,
           65
          ],
          [
           "won",
           "Giannis Antetokounmpo",
           2019,
           1,
           0.732,
           60
          ],
          [
           "won",
           "Giannis Antetokounmpo",
           2020,
           1,
           0.767,
           56
          ],
          [
           "won",
           "Nikola Jokić",
           2021,
           3.5,
           0.653,
           47
          ]
         ],
         "hovertemplate": "value_over_replacement_player=%{x}<br>Share=%{y}<br>Player=%{customdata[1]}<br>year=%{customdata[2]}<br>seed=%{customdata[3]}<br>W/L%=%{customdata[4]}<br>W=%{customdata[5]}<extra></extra>",
         "legendgroup": "won",
         "marker": {
          "color": "blue",
          "symbol": "circle"
         },
         "mode": "markers",
         "name": "won",
         "orientation": "v",
         "showlegend": true,
         "type": "scatter",
         "x": [
          7.3,
          6.9,
          5.5,
          4.2,
          7.3,
          8.7,
          8.4,
          8,
          12.5,
          8.3,
          8.9,
          10.8,
          9.2,
          7.1,
          7.3,
          8.7,
          9.8,
          7.8,
          7.1,
          4,
          9,
          6.1,
          8,
          7.7,
          10,
          4.4,
          4.9,
          7.4,
          6.3,
          11.8,
          10.3,
          6.7,
          7.6,
          9.9,
          9.6,
          7.9,
          9.5,
          9.3,
          7.7,
          7.4,
          6.6,
          8.8
         ],
         "xaxis": "x",
         "y": [
          0.665,
          0.658,
          0.735,
          0.96,
          0.858,
          0.978,
          0.981,
          0.94,
          0.831,
          0.782,
          0.691,
          0.928,
          0.938,
          0.852,
          0.88,
          0.858,
          0.986,
          0.857,
          0.934,
          0.701,
          0.998,
          0.904,
          0.757,
          0.808,
          0.991,
          0.839,
          0.739,
          0.882,
          0.873,
          0.969,
          0.98,
          0.977,
          0.888,
          0.998,
          0.986,
          0.922,
          1,
          0.879,
          0.955,
          0.932,
          0.952,
          0.961
         ],
         "yaxis": "y"
        },
        {
         "customdata": [
          [
           "lost",
           "Julius Erving",
           1980,
           2,
           0.72,
           59
          ],
          [
           "lost",
           "George Gervin",
           1980,
           4.5,
           0.5,
           41
          ],
          [
           "lost",
           "Larry Bird",
           1980,
           1,
           0.744,
           61
          ],
          [
           "lost",
           "Tiny Archibald",
           1980,
           1,
           0.744,
           61
          ],
          [
           "lost",
           "Dennis Johnson",
           1980,
           2,
           0.683,
           56
          ],
          [
           "lost",
           "Dan Roundfield",
           1980,
           3,
           0.61,
           50
          ],
          [
           "lost",
           "Gus Williams",
           1980,
           2,
           0.683,
           56
          ],
          [
           "lost",
           "Moses Malone",
           1980,
           4.5,
           0.5,
           41
          ],
          [
           "lost",
           "Larry Bird",
           1981,
           1.5,
           0.756,
           62
          ],
          [
           "lost",
           "Kareem Abdul-Jabbar",
           1981,
           2,
           0.659,
           54
          ],
          [
           "lost",
           "Moses Malone",
           1981,
           5.5,
           0.488,
           40
          ],
          [
           "lost",
           "George Gervin",
           1981,
           3,
           0.634,
           52
          ],
          [
           "lost",
           "Marques Johnson",
           1981,
           3,
           0.732,
           60
          ],
          [
           "lost",
           "Robert Parish",
           1981,
           1.5,
           0.756,
           62
          ],
          [
           "lost",
           "Dennis Johnson",
           1981,
           1,
           0.695,
           57
          ],
          [
           "lost",
           "Tiny Archibald",
           1981,
           1.5,
           0.756,
           62
          ],
          [
           "lost",
           "Jamaal Wilkes",
           1981,
           2,
           0.659,
           54
          ],
          [
           "lost",
           "Magic Johnson",
           1981,
           2,
           0.659,
           54
          ],
          [
           "lost",
           "Adrian Dantley",
           1981,
           11,
           0.341,
           28
          ],
          [
           "lost",
           "Phil Ford",
           1981,
           5.5,
           0.488,
           40
          ],
          [
           "lost",
           "Bernard King",
           1981,
           7,
           0.476,
           39
          ],
          [
           "lost",
           "Kelvin Ransey",
           1981,
           4,
           0.549,
           45
          ],
          [
           "lost",
           "Jack Sikma",
           1981,
           10,
           0.415,
           34
          ],
          [
           "lost",
           "Otis Birdsong",
           1981,
           5.5,
           0.488,
           40
          ],
          [
           "lost",
           "Micheal Ray Richardson",
           1981,
           4,
           0.61,
           50
          ],
          [
           "lost",
           "Truck Robinson",
           1981,
           1,
           0.695,
           57
          ],
          [
           "lost",
           "Reggie Theus",
           1981,
           5,
           0.549,
           45
          ],
          [
           "lost",
           "Norm Nixon",
           1981,
           2,
           0.659,
           54
          ],
          [
           "lost",
           "Artis Gilmore",
           1981,
           5,
           0.549,
           45
          ],
          [
           "lost",
           "Bob Lanier",
           1981,
           3,
           0.732,
           60
          ],
          [
           "lost",
           "Michael Cooper",
           1981,
           2,
           0.659,
           54
          ],
          [
           "lost",
           "Walter Davis",
           1981,
           1,
           0.695,
           57
          ],
          [
           "lost",
           "George Johnson",
           1981,
           3,
           0.634,
           52
          ],
          [
           "lost",
           "George Johnson",
           1981,
           3,
           0.634,
           52
          ],
          [
           "lost",
           "Bobby Jones",
           1981,
           1.5,
           0.756,
           62
          ],
          [
           "lost",
           "Mike Mitchell",
           1981,
           9,
           0.341,
           28
          ],
          [
           "lost",
           "James Silas",
           1981,
           3,
           0.634,
           52
          ],
          [
           "lost",
           "Quinn Buckner",
           1981,
           3,
           0.732,
           60
          ],
          [
           "lost",
           "Caldwell Jones",
           1981,
           1.5,
           0.756,
           62
          ],
          [
           "lost",
           "Larry Bird",
           1982,
           1,
           0.768,
           63
          ],
          [
           "lost",
           "Julius Erving",
           1982,
           2,
           0.707,
           58
          ],
          [
           "lost",
           "Robert Parish",
           1982,
           1,
           0.768,
           63
          ],
          [
           "lost",
           "Gus Williams",
           1982,
           2,
           0.634,
           52
          ],
          [
           "lost",
           "George Gervin",
           1982,
           3,
           0.585,
           48
          ],
          [
           "lost",
           "Sidney Moncrief",
           1982,
           3,
           0.671,
           55
          ],
          [
           "lost",
           "Magic Johnson",
           1982,
           1,
           0.695,
           57
          ],
          [
           "lost",
           "Jack Sikma",
           1982,
           2,
           0.634,
           52
          ],
          [
           "lost",
           "Kareem Abdul-Jabbar",
           1982,
           1,
           0.695,
           57
          ],
          [
           "lost",
           "Dan Roundfield",
           1982,
           6,
           0.512,
           42
          ],
          [
           "lost",
           "Kelly Tripucka",
           1982,
           7,
           0.476,
           39
          ],
          [
           "lost",
           "Alex English",
           1982,
           5,
           0.561,
           46
          ],
          [
           "lost",
           "Bernard King",
           1982,
           7,
           0.549,
           45
          ],
          [
           "lost",
           "Adrian Dantley",
           1982,
           11,
           0.305,
           25
          ],
          [
           "lost",
           "Ray Williams",
           1982,
           4,
           0.537,
           44
          ],
          [
           "lost",
           "Michael Cooper",
           1982,
           1,
           0.695,
           57
          ],
          [
           "lost",
           "Dan Issel",
           1982,
           5,
           0.561,
           46
          ],
          [
           "lost",
           "Marques Johnson",
           1982,
           3,
           0.671,
           55
          ],
          [
           "lost",
           "Isiah Thomas",
           1982,
           7,
           0.476,
           39
          ],
          [
           "lost",
           "Dennis Johnson",
           1982,
           5,
           0.561,
           46
          ],
          [
           "lost",
           "Mychal Thompson",
           1982,
           8,
           0.512,
           42
          ],
          [
           "lost",
           "Jay Vincent",
           1982,
           10,
           0.341,
           28
          ],
          [
           "lost",
           "Jamaal Wilkes",
           1982,
           1,
           0.695,
           57
          ],
          [
           "lost",
           "Buck Williams",
           1982,
           4,
           0.537,
           44
          ],
          [
           "lost",
           "Larry Bird",
           1983,
           2,
           0.683,
           56
          ],
          [
           "lost",
           "Magic Johnson",
           1983,
           1,
           0.707,
           58
          ],
          [
           "lost",
           "Sidney Moncrief",
           1983,
           3,
           0.622,
           51
          ],
          [
           "lost",
           "Julius Erving",
           1983,
           1,
           0.793,
           65
          ],
          [
           "lost",
           "Alex English",
           1983,
           6.5,
           0.549,
           45
          ],
          [
           "lost",
           "Buck Williams",
           1983,
           4,
           0.598,
           49
          ],
          [
           "lost",
           "Artis Gilmore",
           1983,
           2.5,
           0.646,
           53
          ],
          [
           "lost",
           "George Gervin",
           1983,
           2.5,
           0.646,
           53
          ],
          [
           "lost",
           "Kareem Abdul-Jabbar",
           1983,
           1,
           0.707,
           58
          ],
          [
           "lost",
           "Jack Sikma",
           1983,
           4,
           0.585,
           48
          ],
          [
           "lost",
           "Jeff Ruland",
           1983,
           7,
           0.512,
           42
          ],
          [
           "lost",
           "Terry Cummings",
           1983,
           11,
           0.305,
           25
          ],
          [
           "lost",
           "Maurice Lucas",
           1983,
           2.5,
           0.646,
           53
          ],
          [
           "lost",
           "Alton Lister",
           1983,
           3,
           0.622,
           51
          ],
          [
           "lost",
           "Bernard King",
           1983,
           5,
           0.537,
           44
          ],
          [
           "lost",
           "Isiah Thomas",
           1983,
           8,
           0.451,
           37
          ],
          [
           "lost",
           "Larry Drew",
           1983,
           6.5,
           0.549,
           45
          ],
          [
           "lost",
           "Gus Williams",
           1983,
           4,
           0.585,
           48
          ],
          [
           "lost",
           "Dan Roundfield",
           1983,
           6,
           0.524,
           43
          ],
          [
           "lost",
           "Marques Johnson",
           1983,
           3,
           0.622,
           51
          ],
          [
           "lost",
           "Norm Nixon",
           1983,
           1,
           0.707,
           58
          ],
          [
           "lost",
           "Kiki Vandeweghe",
           1983,
           6.5,
           0.549,
           45
          ],
          [
           "lost",
           "Bernard King",
           1984,
           5,
           0.573,
           47
          ],
          [
           "lost",
           "Magic Johnson",
           1984,
           1,
           0.659,
           54
          ],
          [
           "lost",
           "Kareem Abdul-Jabbar",
           1984,
           1,
           0.659,
           54
          ],
          [
           "lost",
           "Isiah Thomas",
           1984,
           4,
           0.598,
           49
          ],
          [
           "lost",
           "Julius Erving",
           1984,
           2,
           0.634,
           52
          ],
          [
           "lost",
           "Adrian Dantley",
           1984,
           3,
           0.549,
           45
          ],
          [
           "lost",
           "Sidney Moncrief",
           1984,
           3,
           0.61,
           50
          ],
          [
           "lost",
           "Jeff Ruland",
           1984,
           8,
           0.427,
           35
          ],
          [
           "lost",
           "Moses Malone",
           1984,
           2,
           0.634,
           52
          ],
          [
           "lost",
           "Mark Aguirre",
           1984,
           4,
           0.524,
           43
          ],
          [
           "lost",
           "Bill Laimbeer",
           1984,
           4,
           0.598,
           49
          ],
          [
           "lost",
           "Rickey Green",
           1984,
           3,
           0.549,
           45
          ],
          [
           "lost",
           "World B. Free",
           1984,
           9,
           0.341,
           28
          ],
          [
           "lost",
           "Marques Johnson",
           1984,
           3,
           0.61,
           50
          ],
          [
           "lost",
           "Magic Johnson",
           1985,
           1,
           0.756,
           62
          ],
          [
           "lost",
           "Moses Malone",
           1985,
           3,
           0.707,
           58
          ],
          [
           "lost",
           "Kareem Abdul-Jabbar",
           1985,
           1,
           0.756,
           62
          ],
          [
           "lost",
           "Terry Cummings",
           1985,
           2,
           0.72,
           59
          ],
          [
           "lost",
           "Michael Jordan",
           1985,
           7,
           0.463,
           38
          ],
          [
           "lost",
           "Bernard King",
           1985,
           10,
           0.293,
           24
          ],
          [
           "lost",
           "Sidney Moncrief",
           1985,
           2,
           0.72,
           59
          ],
          [
           "lost",
           "Isiah Thomas",
           1985,
           4,
           0.561,
           46
          ],
          [
           "lost",
           "Ralph Sampson",
           1985,
           3,
           0.585,
           48
          ],
          [
           "lost",
           "Calvin Natt",
           1985,
           2,
           0.634,
           52
          ],
          [
           "lost",
           "Alex English",
           1985,
           2,
           0.634,
           52
          ],
          [
           "lost",
           "Hakeem Olajuwon",
           1985,
           3,
           0.585,
           48
          ],
          [
           "lost",
           "Micheal Ray Richardson",
           1985,
           5,
           0.512,
           42
          ],
          [
           "lost",
           "Andrew Toney",
           1985,
           3,
           0.707,
           58
          ],
          [
           "lost",
           "Mark Eaton",
           1985,
           6.5,
           0.5,
           41
          ],
          [
           "lost",
           "Paul Pressey",
           1985,
           2,
           0.72,
           59
          ],
          [
           "lost",
           "Jack Sikma",
           1985,
           10,
           0.378,
           31
          ],
          [
           "lost",
           "Dominique Wilkins",
           1985,
           9,
           0.415,
           34
          ],
          [
           "lost",
           "World B. Free",
           1985,
           8,
           0.439,
           36
          ],
          [
           "lost",
           "Purvis Short",
           1985,
           12,
           0.268,
           22
          ],
          [
           "lost",
           "Clyde Drexler",
           1985,
           5,
           0.512,
           42
          ],
          [
           "lost",
           "Julius Erving",
           1985,
           3,
           0.707,
           58
          ],
          [
           "lost",
           "Dominique Wilkins",
           1986,
           4,
           0.61,
           50
          ],
          [
           "lost",
           "Magic Johnson",
           1986,
           1,
           0.756,
           62
          ],
          [
           "lost",
           "Hakeem Olajuwon",
           1986,
           2,
           0.622,
           51
          ],
          [
           "lost",
           "Kareem Abdul-Jabbar",
           1986,
           1,
           0.756,
           62
          ],
          [
           "lost",
           "Charles Barkley",
           1986,
           3,
           0.659,
           54
          ],
          [
           "lost",
           "Sidney Moncrief",
           1986,
           2,
           0.695,
           57
          ],
          [
           "lost",
           "Alex English",
           1986,
           3,
           0.573,
           47
          ],
          [
           "lost",
           "Isiah Thomas",
           1986,
           5,
           0.561,
           46
          ],
          [
           "lost",
           "Moses Malone",
           1986,
           3,
           0.659,
           54
          ],
          [
           "lost",
           "Terry Cummings",
           1986,
           2,
           0.695,
           57
          ],
          [
           "lost",
           "James Worthy",
           1986,
           1,
           0.756,
           62
          ],
          [
           "lost",
           "Kevin McHale",
           1986,
           1,
           0.817,
           67
          ],
          [
           "lost",
           "Paul Pressey",
           1986,
           2,
           0.695,
           57
          ],
          [
           "lost",
           "Alvin Robertson",
           1986,
           8,
           0.427,
           35
          ],
          [
           "lost",
           "Adrian Dantley",
           1986,
           5,
           0.512,
           42
          ],
          [
           "lost",
           "Buck Williams",
           1986,
           6.5,
           0.476,
           39
          ],
          [
           "lost",
           "Dennis Johnson",
           1986,
           1,
           0.817,
           67
          ],
          [
           "lost",
           "Michael Jordan",
           1987,
           8,
           0.488,
           40
          ],
          [
           "lost",
           "Larry Bird",
           1987,
           1,
           0.72,
           59
          ],
          [
           "lost",
           "Kevin McHale",
           1987,
           1,
           0.72,
           59
          ],
          [
           "lost",
           "Dominique Wilkins",
           1987,
           2,
           0.695,
           57
          ],
          [
           "lost",
           "Charles Barkley",
           1987,
           5,
           0.549,
           45
          ],
          [
           "lost",
           "Hakeem Olajuwon",
           1987,
           5.5,
           0.512,
           42
          ],
          [
           "lost",
           "Isiah Thomas",
           1987,
           3,
           0.634,
           52
          ],
          [
           "lost",
           "Fat Lever",
           1987,
           8,
           0.451,
           37
          ],
          [
           "lost",
           "Moses Malone",
           1987,
           6,
           0.512,
           42
          ],
          [
           "lost",
           "Steve Johnson",
           1987,
           3,
           0.598,
           49
          ],
          [
           "lost",
           "Karl Malone",
           1987,
           4,
           0.537,
           44
          ],
          [
           "lost",
           "Robert Parish",
           1987,
           1,
           0.72,
           59
          ],
          [
           "lost",
           "Alex English",
           1987,
           8,
           0.451,
           37
          ],
          [
           "lost",
           "Mark Aguirre",
           1987,
           2,
           0.671,
           55
          ],
          [
           "lost",
           "Rolando Blackman",
           1987,
           2,
           0.671,
           55
          ],
          [
           "lost",
           "Joe Barry Carroll",
           1987,
           5.5,
           0.512,
           42
          ],
          [
           "lost",
           "Larry Bird",
           1988,
           1,
           0.695,
           57
          ],
          [
           "lost",
           "Magic Johnson",
           1988,
           1,
           0.756,
           62
          ],
          [
           "lost",
           "Charles Barkley",
           1988,
           10,
           0.439,
           36
          ],
          [
           "lost",
           "Clyde Drexler",
           1988,
           3.5,
           0.646,
           53
          ],
          [
           "lost",
           "Dominique Wilkins",
           1988,
           3.5,
           0.61,
           50
          ],
          [
           "lost",
           "Hakeem Olajuwon",
           1988,
           6,
           0.561,
           46
          ],
          [
           "lost",
           "Karl Malone",
           1988,
           5,
           0.573,
           47
          ],
          [
           "lost",
           "Fat Lever",
           1988,
           2,
           0.659,
           54
          ],
          [
           "lost",
           "John Stockton",
           1988,
           5,
           0.573,
           47
          ],
          [
           "lost",
           "Alex English",
           1988,
           2,
           0.659,
           54
          ],
          [
           "lost",
           "Isiah Thomas",
           1988,
           2,
           0.659,
           54
          ],
          [
           "lost",
           "Mark Jackson",
           1988,
           8,
           0.463,
           38
          ],
          [
           "lost",
           "Michael Adams",
           1988,
           2,
           0.659,
           54
          ],
          [
           "lost",
           "Mark Aguirre",
           1988,
           3.5,
           0.646,
           53
          ],
          [
           "lost",
           "Adrian Dantley",
           1988,
           2,
           0.659,
           54
          ],
          [
           "lost",
           "Buck Williams",
           1988,
           11,
           0.232,
           19
          ],
          [
           "lost",
           "Michael Jordan",
           1989,
           6,
           0.573,
           47
          ],
          [
           "lost",
           "Karl Malone",
           1989,
           3,
           0.622,
           51
          ],
          [
           "lost",
           "Patrick Ewing",
           1989,
           3.5,
           0.634,
           52
          ],
          [
           "lost",
           "Hakeem Olajuwon",
           1989,
           5,
           0.549,
           45
          ],
          [
           "lost",
           "Charles Barkley",
           1989,
           7,
           0.561,
           46
          ],
          [
           "lost",
           "John Stockton",
           1989,
           3,
           0.622,
           51
          ],
          [
           "lost",
           "Kevin Johnson",
           1989,
           2,
           0.671,
           55
          ],
          [
           "lost",
           "Tom Chambers",
           1989,
           2,
           0.671,
           55
          ],
          [
           "lost",
           "Mark Price",
           1989,
           2,
           0.695,
           57
          ],
          [
           "lost",
           "Brad Daugherty",
           1989,
           2,
           0.695,
           57
          ],
          [
           "lost",
           "Robert Parish",
           1989,
           8,
           0.512,
           42
          ],
          [
           "lost",
           "Mark Eaton",
           1989,
           3,
           0.622,
           51
          ],
          [
           "lost",
           "Moses Malone",
           1989,
           3.5,
           0.634,
           52
          ],
          [
           "lost",
           "Chris Mullin",
           1989,
           7,
           0.524,
           43
          ],
          [
           "lost",
           "Larry Nance",
           1989,
           2,
           0.695,
           57
          ],
          [
           "lost",
           "Terry Cummings",
           1989,
           5,
           0.598,
           49
          ],
          [
           "lost",
           "Joe Dumars",
           1989,
           1,
           0.768,
           63
          ],
          [
           "lost",
           "Isiah Thomas",
           1989,
           1,
           0.768,
           63
          ],
          [
           "lost",
           "Charles Barkley",
           1990,
           3,
           0.646,
           53
          ],
          [
           "lost",
           "Michael Jordan",
           1990,
           2,
           0.671,
           55
          ],
          [
           "lost",
           "Karl Malone",
           1990,
           4,
           0.671,
           55
          ],
          [
           "lost",
           "Patrick Ewing",
           1990,
           5,
           0.549,
           45
          ],
          [
           "lost",
           "David Robinson",
           1990,
           3,
           0.683,
           56
          ],
          [
           "lost",
           "Hakeem Olajuwon",
           1990,
           8.5,
           0.5,
           41
          ],
          [
           "lost",
           "Tom Chambers",
           1990,
           5,
           0.659,
           54
          ],
          [
           "lost",
           "John Stockton",
           1990,
           4,
           0.671,
           55
          ],
          [
           "lost",
           "Larry Bird",
           1990,
           4,
           0.634,
           52
          ],
          [
           "lost",
           "Buck Williams",
           1990,
           2,
           0.72,
           59
          ],
          [
           "lost",
           "Clyde Drexler",
           1990,
           2,
           0.72,
           59
          ],
          [
           "lost",
           "Joe Dumars",
           1990,
           1,
           0.72,
           59
          ],
          [
           "lost",
           "Isiah Thomas",
           1990,
           1,
           0.72,
           59
          ],
          [
           "lost",
           "Magic Johnson",
           1991,
           2,
           0.707,
           58
          ],
          [
           "lost",
           "David Robinson",
           1991,
           3.5,
           0.671,
           55
          ],
          [
           "lost",
           "Charles Barkley",
           1991,
           5,
           0.537,
           44
          ],
          [
           "lost",
           "Karl Malone",
           1991,
           5,
           0.659,
           54
          ],
          [
           "lost",
           "Clyde Drexler",
           1991,
           1,
           0.768,
           63
          ],
          [
           "lost",
           "Kevin Johnson",
           1991,
           3.5,
           0.671,
           55
          ],
          [
           "lost",
           "Dominique Wilkins",
           1991,
           6,
           0.524,
           43
          ],
          [
           "lost",
           "Larry Bird",
           1991,
           2,
           0.683,
           56
          ],
          [
           "lost",
           "Terry Porter",
           1991,
           1,
           0.768,
           63
          ],
          [
           "lost",
           "Patrick Ewing",
           1991,
           8,
           0.476,
           39
          ],
          [
           "lost",
           "John Stockton",
           1991,
           5,
           0.659,
           54
          ],
          [
           "lost",
           "Isiah Thomas",
           1991,
           3,
           0.61,
           50
          ],
          [
           "lost",
           "Robert Parish",
           1991,
           2,
           0.683,
           56
          ],
          [
           "lost",
           "Joe Dumars",
           1991,
           3,
           0.61,
           50
          ],
          [
           "lost",
           "Bernard King",
           1991,
           10,
           0.366,
           30
          ],
          [
           "lost",
           "Kenny Smith",
           1991,
           6,
           0.634,
           52
          ],
          [
           "lost",
           "Hakeem Olajuwon",
           1991,
           6,
           0.634,
           52
          ],
          [
           "lost",
           "Tim Hardaway",
           1991,
           7,
           0.537,
           44
          ],
          [
           "lost",
           "Kevin McHale",
           1991,
           2,
           0.683,
           56
          ],
          [
           "lost",
           "Clyde Drexler",
           1992,
           1,
           0.695,
           57
          ],
          [
           "lost",
           "David Robinson",
           1992,
           5.5,
           0.573,
           47
          ],
          [
           "lost",
           "Karl Malone",
           1992,
           2.5,
           0.671,
           55
          ],
          [
           "lost",
           "Patrick Ewing",
           1992,
           3.5,
           0.622,
           51
          ],
          [
           "lost",
           "Chris Mullin",
           1992,
           2.5,
           0.671,
           55
          ],
          [
           "lost",
           "Mark Price",
           1992,
           2,
           0.695,
           57
          ],
          [
           "lost",
           "Tim Hardaway",
           1992,
           2.5,
           0.671,
           55
          ],
          [
           "lost",
           "Scottie Pippen",
           1992,
           1,
           0.817,
           67
          ],
          [
           "lost",
           "Dennis Rodman",
           1992,
           5,
           0.585,
           48
          ],
          [
           "lost",
           "Brad Daugherty",
           1992,
           2,
           0.695,
           57
          ],
          [
           "lost",
           "Charles Barkley",
           1992,
           10,
           0.427,
           35
          ],
          [
           "lost",
           "John Stockton",
           1992,
           2.5,
           0.671,
           55
          ],
          [
           "lost",
           "Larry Bird",
           1992,
           3.5,
           0.622,
           51
          ],
          [
           "lost",
           "Kevin Johnson",
           1992,
           4,
           0.646,
           53
          ],
          [
           "lost",
           "Danny Manning",
           1992,
           7,
           0.549,
           45
          ],
          [
           "lost",
           "Detlef Schrempf",
           1992,
           6.5,
           0.488,
           40
          ],
          [
           "lost",
           "Hakeem Olajuwon",
           1993,
           2.5,
           0.671,
           55
          ],
          [
           "lost",
           "Michael Jordan",
           1993,
           2,
           0.695,
           57
          ],
          [
           "lost",
           "Patrick Ewing",
           1993,
           1,
           0.732,
           60
          ],
          [
           "lost",
           "Dominique Wilkins",
           1993,
           6.5,
           0.524,
           43
          ],
          [
           "lost",
           "David Robinson",
           1993,
           5,
           0.598,
           49
          ],
          [
           "lost",
           "Shaquille O'Neal",
           1993,
           8.5,
           0.5,
           41
          ],
          [
           "lost",
           "Karl Malone",
           1993,
           6,
           0.573,
           47
          ],
          [
           "lost",
           "Mark Price",
           1993,
           3,
           0.659,
           54
          ],
          [
           "lost",
           "Brad Daugherty",
           1993,
           3,
           0.659,
           54
          ],
          [
           "lost",
           "Clyde Drexler",
           1993,
           4,
           0.622,
           51
          ],
          [
           "lost",
           "Joe Dumars",
           1993,
           10,
           0.488,
           40
          ],
          [
           "lost",
           "Shawn Kemp",
           1993,
           2.5,
           0.671,
           55
          ],
          [
           "lost",
           "John Stockton",
           1993,
           6,
           0.573,
           47
          ],
          [
           "lost",
           "David Robinson",
           1994,
           4,
           0.671,
           55
          ],
          [
           "lost",
           "Scottie Pippen",
           1994,
           3,
           0.671,
           55
          ],
          [
           "lost",
           "Shaquille O'Neal",
           1994,
           4,
           0.61,
           50
          ],
          [
           "lost",
           "Patrick Ewing",
           1994,
           1.5,
           0.695,
           57
          ],
          [
           "lost",
           "Gary Payton",
           1994,
           1,
           0.768,
           63
          ],
          [
           "lost",
           "Shawn Kemp",
           1994,
           1,
           0.768,
           63
          ],
          [
           "lost",
           "Karl Malone",
           1994,
           5,
           0.646,
           53
          ],
          [
           "lost",
           "Mark Price",
           1994,
           5.5,
           0.573,
           47
          ],
          [
           "lost",
           "Charles Barkley",
           1994,
           3,
           0.683,
           56
          ],
          [
           "lost",
           "Mookie Blaylock",
           1994,
           1.5,
           0.695,
           57
          ],
          [
           "lost",
           "Kevin Johnson",
           1994,
           3,
           0.683,
           56
          ],
          [
           "lost",
           "Dennis Rodman",
           1994,
           4,
           0.671,
           55
          ],
          [
           "lost",
           "Latrell Sprewell",
           1994,
           6,
           0.61,
           50
          ],
          [
           "lost",
           "John Stockton",
           1994,
           5,
           0.646,
           53
          ],
          [
           "lost",
           "Kevin Willis",
           1994,
           1.5,
           0.695,
           57
          ],
          [
           "lost",
           "Shaquille O'Neal",
           1995,
           1,
           0.695,
           57
          ],
          [
           "lost",
           "Karl Malone",
           1995,
           2,
           0.732,
           60
          ],
          [
           "lost",
           "Patrick Ewing",
           1995,
           2,
           0.671,
           55
          ],
          [
           "lost",
           "Hakeem Olajuwon",
           1995,
           6,
           0.573,
           47
          ],
          [
           "lost",
           "Charles Barkley",
           1995,
           3,
           0.72,
           59
          ],
          [
           "lost",
           "Scottie Pippen",
           1995,
           5,
           0.573,
           47
          ],
          [
           "lost",
           "John Stockton",
           1995,
           2,
           0.732,
           60
          ],
          [
           "lost",
           "Gary Payton",
           1995,
           4,
           0.695,
           57
          ],
          [
           "lost",
           "Anfernee Hardaway",
           1995,
           1,
           0.695,
           57
          ],
          [
           "lost",
           "Michael Jordan",
           1995,
           5,
           0.573,
           47
          ],
          [
           "lost",
           "Dennis Rodman",
           1995,
           1,
           0.756,
           62
          ],
          [
           "lost",
           "Jason Kidd",
           1995,
           10,
           0.439,
           36
          ],
          [
           "lost",
           "Cedric Ceballos",
           1995,
           5,
           0.585,
           48
          ],
          [
           "lost",
           "David Robinson",
           1996,
           2,
           0.72,
           59
          ],
          [
           "lost",
           "Anfernee Hardaway",
           1996,
           2,
           0.732,
           60
          ],
          [
           "lost",
           "Hakeem Olajuwon",
           1996,
           5,
           0.585,
           48
          ],
          [
           "lost",
           "Scottie Pippen",
           1996,
           1,
           0.878,
           72
          ],
          [
           "lost",
           "Gary Payton",
           1996,
           1,
           0.78,
           64
          ],
          [
           "lost",
           "Karl Malone",
           1996,
           3,
           0.671,
           55
          ],
          [
           "lost",
           "Shawn Kemp",
           1996,
           1,
           0.78,
           64
          ],
          [
           "lost",
           "Grant Hill",
           1996,
           6.5,
           0.561,
           46
          ],
          [
           "lost",
           "Shaquille O'Neal",
           1996,
           2,
           0.732,
           60
          ],
          [
           "lost",
           "John Stockton",
           1996,
           3,
           0.671,
           55
          ],
          [
           "lost",
           "Charles Barkley",
           1996,
           7,
           0.5,
           41
          ],
          [
           "lost",
           "Magic Johnson",
           1996,
           4,
           0.646,
           53
          ],
          [
           "lost",
           "Alonzo Mourning",
           1996,
           8,
           0.512,
           42
          ],
          [
           "lost",
           "Dennis Rodman",
           1996,
           1,
           0.878,
           72
          ],
          [
           "lost",
           "Terrell Brandon",
           1996,
           4.5,
           0.573,
           47
          ],
          [
           "lost",
           "Mitch Richmond",
           1996,
           8,
           0.476,
           39
          ],
          [
           "lost",
           "Michael Jordan",
           1997,
           1,
           0.841,
           69
          ],
          [
           "lost",
           "Grant Hill",
           1997,
           5.5,
           0.659,
           54
          ],
          [
           "lost",
           "Tim Hardaway",
           1997,
           2,
           0.744,
           61
          ],
          [
           "lost",
           "Glen Rice",
           1997,
           5.5,
           0.659,
           54
          ],
          [
           "lost",
           "Gary Payton",
           1997,
           2.5,
           0.695,
           57
          ],
          [
           "lost",
           "Hakeem Olajuwon",
           1997,
           2.5,
           0.695,
           57
          ],
          [
           "lost",
           "Patrick Ewing",
           1997,
           3,
           0.695,
           57
          ],
          [
           "lost",
           "Anthony Mason",
           1997,
           5.5,
           0.659,
           54
          ],
          [
           "lost",
           "Shaquille O'Neal",
           1997,
           4,
           0.683,
           56
          ],
          [
           "lost",
           "Scottie Pippen",
           1997,
           1,
           0.841,
           69
          ],
          [
           "lost",
           "Alonzo Mourning",
           1997,
           2,
           0.744,
           61
          ],
          [
           "lost",
           "Dikembe Mutombo",
           1997,
           4,
           0.683,
           56
          ],
          [
           "lost",
           "Mitch Richmond",
           1997,
           9,
           0.415,
           34
          ],
          [
           "lost",
           "John Stockton",
           1997,
           1,
           0.78,
           64
          ],
          [
           "lost",
           "Charles Barkley",
           1997,
           2.5,
           0.695,
           57
          ],
          [
           "lost",
           "Tom Gugliotta",
           1997,
           6.5,
           0.488,
           40
          ],
          [
           "lost",
           "Allen Iverson",
           1997,
           14,
           0.268,
           22
          ],
          [
           "lost",
           "Kevin Johnson",
           1997,
           6.5,
           0.488,
           40
          ],
          [
           "lost",
           "Steve Smith",
           1997,
           4,
           0.683,
           56
          ],
          [
           "lost",
           "Karl Malone",
           1998,
           1,
           0.756,
           62
          ],
          [
           "lost",
           "Gary Payton",
           1998,
           2.5,
           0.744,
           61
          ],
          [
           "lost",
           "Shaquille O'Neal",
           1998,
           2.5,
           0.744,
           61
          ],
          [
           "lost",
           "Tim Duncan",
           1998,
           4.5,
           0.683,
           56
          ],
          [
           "lost",
           "Tim Hardaway",
           1998,
           3,
           0.671,
           55
          ],
          [
           "lost",
           "David Robinson",
           1998,
           4.5,
           0.683,
           56
          ],
          [
           "lost",
           "Vin Baker",
           1998,
           2.5,
           0.744,
           61
          ],
          [
           "lost",
           "Grant Hill",
           1998,
           11,
           0.451,
           37
          ],
          [
           "lost",
           "Scottie Pippen",
           1998,
           1,
           0.756,
           62
          ],
          [
           "lost",
           "Glen Rice",
           1998,
           4,
           0.622,
           51
          ],
          [
           "lost",
           "Antoine Walker",
           1998,
           12.5,
           0.439,
           36
          ],
          [
           "lost",
           "Jason Kidd",
           1998,
           4.5,
           0.683,
           56
          ],
          [
           "lost",
           "John Stockton",
           1998,
           1,
           0.756,
           62
          ],
          [
           "lost",
           "Mitch Richmond",
           1998,
           9,
           0.329,
           27
          ],
          [
           "lost",
           "Reggie Miller",
           1998,
           2,
           0.707,
           58
          ],
          [
           "lost",
           "Rik Smits",
           1998,
           2,
           0.707,
           58
          ],
          [
           "lost",
           "Michael Finley",
           1998,
           10,
           0.244,
           20
          ],
          [
           "lost",
           "Rod Strickland",
           1998,
           9,
           0.512,
           42
          ],
          [
           "lost",
           "Alonzo Mourning",
           1999,
           2,
           0.66,
           33
          ],
          [
           "lost",
           "Tim Duncan",
           1999,
           3.5,
           0.74,
           37
          ],
          [
           "lost",
           "Allen Iverson",
           1999,
           6.5,
           0.56,
           28
          ],
          [
           "lost",
           "Jason Kidd",
           1999,
           8.5,
           0.54,
           27
          ],
          [
           "lost",
           "Shaquille O'Neal",
           1999,
           6.5,
           0.62,
           31
          ],
          [
           "lost",
           "Chris Webber",
           1999,
           8.5,
           0.54,
           27
          ],
          [
           "lost",
           "Grant Hill",
           1999,
           5,
           0.58,
           29
          ],
          [
           "lost",
           "Gary Payton",
           1999,
           10.5,
           0.5,
           25
          ],
          [
           "lost",
           "Kevin Garnett",
           1999,
           10.5,
           0.5,
           25
          ],
          [
           "lost",
           "Shawn Kemp",
           1999,
           11,
           0.44,
           22
          ],
          [
           "lost",
           "David Robinson",
           1999,
           3.5,
           0.74,
           37
          ],
          [
           "lost",
           "Hakeem Olajuwon",
           1999,
           6.5,
           0.62,
           31
          ],
          [
           "lost",
           "Arvydas Sabonis",
           1999,
           5,
           0.7,
           35
          ],
          [
           "lost",
           "Darrell Armstrong",
           1999,
           2,
           0.66,
           33
          ],
          [
           "lost",
           "Vince Carter",
           1999,
           10,
           0.46,
           23
          ],
          [
           "lost",
           "Anfernee Hardaway",
           1999,
           2,
           0.66,
           33
          ],
          [
           "lost",
           "Mark Jackson",
           1999,
           2,
           0.66,
           33
          ],
          [
           "lost",
           "Glenn Robinson",
           1999,
           6.5,
           0.56,
           28
          ],
          [
           "lost",
           "Steve Smith",
           1999,
           4,
           0.62,
           31
          ],
          [
           "lost",
           "Rasheed Wallace",
           1999,
           5,
           0.7,
           35
          ],
          [
           "lost",
           "Kevin Garnett",
           2000,
           6,
           0.61,
           50
          ],
          [
           "lost",
           "Alonzo Mourning",
           2000,
           2,
           0.634,
           52
          ],
          [
           "lost",
           "Karl Malone",
           2000,
           3,
           0.671,
           55
          ],
          [
           "lost",
           "Tim Duncan",
           2000,
           4.5,
           0.646,
           53
          ],
          [
           "lost",
           "Gary Payton",
           2000,
           7,
           0.549,
           45
          ],
          [
           "lost",
           "Allen Iverson",
           2000,
           4.5,
           0.598,
           49
          ],
          [
           "lost",
           "Grant Hill",
           2000,
           7.5,
           0.512,
           42
          ],
          [
           "lost",
           "Chris Webber",
           2000,
           8,
           0.537,
           44
          ],
          [
           "lost",
           "Vince Carter",
           2000,
           6,
           0.549,
           45
          ],
          [
           "lost",
           "Jason Kidd",
           2000,
           4.5,
           0.646,
           53
          ],
          [
           "lost",
           "Kobe Bryant",
           2000,
           1,
           0.817,
           67
          ],
          [
           "lost",
           "Darrell Armstrong",
           2000,
           9,
           0.5,
           41
          ],
          [
           "lost",
           "Michael Finley",
           2000,
           9,
           0.488,
           40
          ],
          [
           "lost",
           "Reggie Miller",
           2000,
           1,
           0.683,
           56
          ],
          [
           "lost",
           "Jalen Rose",
           2000,
           1,
           0.683,
           56
          ],
          [
           "lost",
           "Tim Duncan",
           2001,
           1,
           0.707,
           58
          ],
          [
           "lost",
           "Shaquille O'Neal",
           2001,
           2,
           0.683,
           56
          ],
          [
           "lost",
           "Chris Webber",
           2001,
           3,
           0.671,
           55
          ],
          [
           "lost",
           "Kevin Garnett",
           2001,
           8,
           0.573,
           47
          ],
          [
           "lost",
           "Tracy McGrady",
           2001,
           7,
           0.524,
           43
          ],
          [
           "lost",
           "Karl Malone",
           2001,
           4.5,
           0.646,
           53
          ],
          [
           "lost",
           "Jason Kidd",
           2001,
           6,
           0.622,
           51
          ],
          [
           "lost",
           "Kobe Bryant",
           2001,
           2,
           0.683,
           56
          ],
          [
           "lost",
           "David Robinson",
           2001,
           1,
           0.707,
           58
          ],
          [
           "lost",
           "Ray Allen",
           2001,
           2,
           0.634,
           52
          ],
          [
           "lost",
           "Vince Carter",
           2001,
           5,
           0.573,
           47
          ],
          [
           "lost",
           "Paul Pierce",
           2001,
           9,
           0.439,
           36
          ],
          [
           "lost",
           "Jerry Stackhouse",
           2001,
           10,
           0.39,
           32
          ],
          [
           "lost",
           "Michael Finley",
           2001,
           4.5,
           0.646,
           53
          ],
          [
           "lost",
           "Anthony Mason",
           2001,
           3,
           0.61,
           50
          ],
          [
           "lost",
           "John Stockton",
           2001,
           4.5,
           0.646,
           53
          ],
          [
           "lost",
           "Jason Kidd",
           2002,
           1,
           0.634,
           52
          ],
          [
           "lost",
           "Shaquille O'Neal",
           2002,
           2.5,
           0.707,
           58
          ],
          [
           "lost",
           "Tracy McGrady",
           2002,
           4.5,
           0.537,
           44
          ],
          [
           "lost",
           "Kobe Bryant",
           2002,
           2.5,
           0.707,
           58
          ],
          [
           "lost",
           "Gary Payton",
           2002,
           7,
           0.549,
           45
          ],
          [
           "lost",
           "Chris Webber",
           2002,
           1,
           0.744,
           61
          ],
          [
           "lost",
           "Dirk Nowitzki",
           2002,
           4,
           0.695,
           57
          ],
          [
           "lost",
           "Allen Iverson",
           2002,
           6,
           0.524,
           43
          ],
          [
           "lost",
           "Ben Wallace",
           2002,
           2,
           0.61,
           50
          ],
          [
           "lost",
           "Paul Pierce",
           2002,
           3,
           0.598,
           49
          ],
          [
           "lost",
           "Kevin Garnett",
           2002,
           5,
           0.61,
           50
          ],
          [
           "lost",
           "Michael Jordan",
           2002,
           10,
           0.451,
           37
          ],
          [
           "lost",
           "Steve Nash",
           2002,
           4,
           0.695,
           57
          ],
          [
           "lost",
           "Jerry Stackhouse",
           2002,
           2,
           0.61,
           50
          ],
          [
           "lost",
           "Mike Bibby",
           2002,
           1,
           0.744,
           61
          ],
          [
           "lost",
           "Elton Brand",
           2002,
           9,
           0.476,
           39
          ],
          [
           "lost",
           "Peja Stojaković",
           2002,
           1,
           0.744,
           61
          ],
          [
           "lost",
           "Kevin Garnett",
           2003,
           4,
           0.622,
           51
          ],
          [
           "lost",
           "Kobe Bryant",
           2003,
           5.5,
           0.61,
           50
          ],
          [
           "lost",
           "Tracy McGrady",
           2003,
           7.5,
           0.512,
           42
          ],
          [
           "lost",
           "Shaquille O'Neal",
           2003,
           5.5,
           0.61,
           50
          ],
          [
           "lost",
           "Allen Iverson",
           2003,
           3.5,
           0.585,
           48
          ],
          [
           "lost",
           "Dirk Nowitzki",
           2003,
           1.5,
           0.732,
           60
          ],
          [
           "lost",
           "Ben Wallace",
           2003,
           1,
           0.61,
           50
          ],
          [
           "lost",
           "Jason Kidd",
           2003,
           2,
           0.598,
           49
          ],
          [
           "lost",
           "Chris Webber",
           2003,
           3,
           0.72,
           59
          ],
          [
           "lost",
           "Jamal Mashburn",
           2003,
           5,
           0.573,
           47
          ],
          [
           "lost",
           "Steve Nash",
           2003,
           1.5,
           0.732,
           60
          ],
          [
           "lost",
           "Paul Pierce",
           2003,
           6,
           0.537,
           44
          ],
          [
           "lost",
           "Tim Duncan",
           2004,
           2,
           0.695,
           57
          ],
          [
           "lost",
           "Jermaine O'Neal",
           2004,
           1,
           0.744,
           61
          ],
          [
           "lost",
           "Peja Stojaković",
           2004,
           4,
           0.671,
           55
          ],
          [
           "lost",
           "Kobe Bryant",
           2004,
           3,
           0.683,
           56
          ],
          [
           "lost",
           "Shaquille O'Neal",
           2004,
           3,
           0.683,
           56
          ],
          [
           "lost",
           "Ben Wallace",
           2004,
           2,
           0.659,
           54
          ],
          [
           "lost",
           "Jason Kidd",
           2004,
           3,
           0.573,
           47
          ],
          [
           "lost",
           "LeBron James",
           2004,
           9,
           0.427,
           35
          ],
          [
           "lost",
           "Sam Cassell",
           2004,
           1,
           0.707,
           58
          ],
          [
           "lost",
           "Baron Davis",
           2004,
           5.5,
           0.5,
           41
          ],
          [
           "lost",
           "Dirk Nowitzki",
           2004,
           5,
           0.634,
           52
          ],
          [
           "lost",
           "Andrei Kirilenko",
           2004,
           9,
           0.512,
           42
          ],
          [
           "lost",
           "Carmelo Anthony",
           2004,
           8,
           0.524,
           43
          ],
          [
           "lost",
           "Yao Ming",
           2004,
           7,
           0.549,
           45
          ],
          [
           "lost",
           "Michael Redd",
           2004,
           5.5,
           0.5,
           41
          ],
          [
           "lost",
           "Shaquille O'Neal",
           2005,
           1,
           0.72,
           59
          ],
          [
           "lost",
           "Dirk Nowitzki",
           2005,
           3,
           0.707,
           58
          ],
          [
           "lost",
           "Tim Duncan",
           2005,
           2,
           0.72,
           59
          ],
          [
           "lost",
           "Allen Iverson",
           2005,
           7,
           0.524,
           43
          ],
          [
           "lost",
           "LeBron James",
           2005,
           8.5,
           0.512,
           42
          ],
          [
           "lost",
           "Tracy McGrady",
           2005,
           5,
           0.622,
           51
          ],
          [
           "lost",
           "Dwyane Wade",
           2005,
           1,
           0.72,
           59
          ],
          [
           "lost",
           "Amar'e Stoudemire",
           2005,
           1,
           0.756,
           62
          ],
          [
           "lost",
           "Ray Allen",
           2005,
           4,
           0.634,
           52
          ],
          [
           "lost",
           "Kevin Garnett",
           2005,
           9,
           0.537,
           44
          ],
          [
           "lost",
           "Gilbert Arenas",
           2005,
           4.5,
           0.549,
           45
          ],
          [
           "lost",
           "P.J. Brown",
           2005,
           15,
           0.22,
           18
          ],
          [
           "lost",
           "Marcus Camby",
           2005,
           7,
           0.598,
           49
          ],
          [
           "lost",
           "Shawn Marion",
           2005,
           1,
           0.756,
           62
          ],
          [
           "lost",
           "LeBron James",
           2006,
           3,
           0.61,
           50
          ],
          [
           "lost",
           "Dirk Nowitzki",
           2006,
           2,
           0.732,
           60
          ],
          [
           "lost",
           "Kobe Bryant",
           2006,
           6,
           0.549,
           45
          ],
          [
           "lost",
           "Chauncey Billups",
           2006,
           1,
           0.78,
           64
          ],
          [
           "lost",
           "Dwyane Wade",
           2006,
           2,
           0.634,
           52
          ],
          [
           "lost",
           "Elton Brand",
           2006,
           5,
           0.573,
           47
          ],
          [
           "lost",
           "Tim Duncan",
           2006,
           1,
           0.768,
           63
          ],
          [
           "lost",
           "Tony Parker",
           2006,
           1,
           0.768,
           63
          ],
          [
           "lost",
           "Allen Iverson",
           2006,
           9,
           0.463,
           38
          ],
          [
           "lost",
           "Shawn Marion",
           2006,
           3,
           0.659,
           54
          ],
          [
           "lost",
           "Steve Nash",
           2007,
           2,
           0.744,
           61
          ],
          [
           "lost",
           "Kobe Bryant",
           2007,
           7.5,
           0.512,
           42
          ],
          [
           "lost",
           "Tim Duncan",
           2007,
           3,
           0.707,
           58
          ],
          [
           "lost",
           "LeBron James",
           2007,
           2,
           0.61,
           50
          ],
          [
           "lost",
           "Tracy McGrady",
           2007,
           4,
           0.634,
           52
          ],
          [
           "lost",
           "Chris Bosh",
           2007,
           4,
           0.573,
           47
          ],
          [
           "lost",
           "Gilbert Arenas",
           2007,
           6.5,
           0.5,
           41
          ],
          [
           "lost",
           "Carlos Boozer",
           2007,
           5,
           0.622,
           51
          ],
          [
           "lost",
           "Kevin Garnett",
           2007,
           12.5,
           0.39,
           32
          ],
          [
           "lost",
           "Chauncey Billups",
           2007,
           1,
           0.646,
           53
          ],
          [
           "lost",
           "Shaquille O'Neal",
           2007,
           5,
           0.537,
           44
          ],
          [
           "lost",
           "Dwyane Wade",
           2007,
           5,
           0.537,
           44
          ],
          [
           "lost",
           "Amar'e Stoudemire",
           2007,
           2,
           0.744,
           61
          ],
          [
           "lost",
           "Carmelo Anthony",
           2007,
           6,
           0.549,
           45
          ],
          [
           "lost",
           "Baron Davis",
           2007,
           7.5,
           0.512,
           42
          ],
          [
           "lost",
           "Tony Parker",
           2007,
           3,
           0.707,
           58
          ],
          [
           "lost",
           "Chris Paul",
           2008,
           2.5,
           0.683,
           56
          ],
          [
           "lost",
           "Kevin Garnett",
           2008,
           1,
           0.805,
           66
          ],
          [
           "lost",
           "LeBron James",
           2008,
           4,
           0.549,
           45
          ],
          [
           "lost",
           "Dwight Howard",
           2008,
           3,
           0.634,
           52
          ],
          [
           "lost",
           "Amar'e Stoudemire",
           2008,
           4.5,
           0.671,
           55
          ],
          [
           "lost",
           "Tim Duncan",
           2008,
           2.5,
           0.683,
           56
          ],
          [
           "lost",
           "Tracy McGrady",
           2008,
           4.5,
           0.671,
           55
          ],
          [
           "lost",
           "Steve Nash",
           2008,
           4.5,
           0.671,
           55
          ],
          [
           "lost",
           "Manu Ginóbili",
           2008,
           2.5,
           0.683,
           56
          ],
          [
           "lost",
           "Dirk Nowitzki",
           2008,
           7,
           0.622,
           51
          ],
          [
           "lost",
           "Deron Williams",
           2008,
           6,
           0.659,
           54
          ],
          [
           "lost",
           "Carmelo Anthony",
           2008,
           8,
           0.61,
           50
          ],
          [
           "lost",
           "Carlos Boozer",
           2008,
           6,
           0.659,
           54
          ],
          [
           "lost",
           "Antawn Jamison",
           2008,
           5,
           0.524,
           43
          ],
          [
           "lost",
           "Paul Pierce",
           2008,
           1,
           0.805,
           66
          ],
          [
           "lost",
           "Rasheed Wallace",
           2008,
           2,
           0.72,
           59
          ],
          [
           "lost",
           "Kobe Bryant",
           2009,
           1,
           0.793,
           65
          ],
          [
           "lost",
           "Dwyane Wade",
           2009,
           5,
           0.524,
           43
          ],
          [
           "lost",
           "Dwight Howard",
           2009,
           3,
           0.72,
           59
          ],
          [
           "lost",
           "Chris Paul",
           2009,
           7,
           0.598,
           49
          ],
          [
           "lost",
           "Paul Pierce",
           2009,
           2,
           0.756,
           62
          ],
          [
           "lost",
           "Tony Parker",
           2009,
           3,
           0.659,
           54
          ],
          [
           "lost",
           "Brandon Roy",
           2009,
           3,
           0.659,
           54
          ],
          [
           "lost",
           "Dirk Nowitzki",
           2009,
           6,
           0.61,
           50
          ],
          [
           "lost",
           "Tim Duncan",
           2009,
           3,
           0.659,
           54
          ],
          [
           "lost",
           "Yao Ming",
           2009,
           5,
           0.646,
           53
          ],
          [
           "lost",
           "Kevin Durant",
           2010,
           7,
           0.61,
           50
          ],
          [
           "lost",
           "Kobe Bryant",
           2010,
           1,
           0.695,
           57
          ],
          [
           "lost",
           "Dwight Howard",
           2010,
           2,
           0.72,
           59
          ],
          [
           "lost",
           "Dwyane Wade",
           2010,
           5,
           0.573,
           47
          ],
          [
           "lost",
           "Carmelo Anthony",
           2010,
           4.5,
           0.646,
           53
          ],
          [
           "lost",
           "Dirk Nowitzki",
           2010,
           2,
           0.671,
           55
          ],
          [
           "lost",
           "Steve Nash",
           2010,
           3,
           0.659,
           54
          ],
          [
           "lost",
           "Deron Williams",
           2010,
           4.5,
           0.646,
           53
          ],
          [
           "lost",
           "Amar'e Stoudemire",
           2010,
           3,
           0.659,
           54
          ],
          [
           "lost",
           "Manu Ginóbili",
           2010,
           7,
           0.61,
           50
          ],
          [
           "lost",
           "Chauncey Billups",
           2010,
           4.5,
           0.646,
           53
          ],
          [
           "lost",
           "Chris Bosh",
           2010,
           9,
           0.488,
           40
          ],
          [
           "lost",
           "Joe Johnson",
           2010,
           3,
           0.646,
           53
          ],
          [
           "lost",
           "Dwight Howard",
           2011,
           4,
           0.634,
           52
          ],
          [
           "lost",
           "LeBron James",
           2011,
           2,
           0.707,
           58
          ],
          [
           "lost",
           "Kobe Bryant",
           2011,
           2.5,
           0.695,
           57
          ],
          [
           "lost",
           "Kevin Durant",
           2011,
           4,
           0.671,
           55
          ],
          [
           "lost",
           "Dirk Nowitzki",
           2011,
           2.5,
           0.695,
           57
          ],
          [
           "lost",
           "Dwyane Wade",
           2011,
           2,
           0.707,
           58
          ],
          [
           "lost",
           "Manu Ginóbili",
           2011,
           1,
           0.744,
           61
          ],
          [
           "lost",
           "Amar'e Stoudemire",
           2011,
           6,
           0.512,
           42
          ],
          [
           "lost",
           "Blake Griffin",
           2011,
           13,
           0.39,
           32
          ],
          [
           "lost",
           "Rajon Rondo",
           2011,
           3,
           0.683,
           56
          ],
          [
           "lost",
           "Tony Parker",
           2011,
           1,
           0.744,
           61
          ],
          [
           "lost",
           "Chris Paul",
           2011,
           7.5,
           0.561,
           46
          ],
          [
           "lost",
           "Kevin Durant",
           2012,
           2,
           0.712,
           47
          ],
          [
           "lost",
           "Chris Paul",
           2012,
           5,
           0.606,
           40
          ],
          [
           "lost",
           "Kobe Bryant",
           2012,
           3.5,
           0.621,
           41
          ],
          [
           "lost",
           "Tony Parker",
           2012,
           1,
           0.758,
           50
          ],
          [
           "lost",
           "Kevin Love",
           2012,
           12,
           0.394,
           26
          ],
          [
           "lost",
           "Dwight Howard",
           2012,
           7,
           0.561,
           37
          ],
          [
           "lost",
           "Rajon Rondo",
           2012,
           6,
           0.591,
           39
          ],
          [
           "lost",
           "Steve Nash",
           2012,
           10,
           0.5,
           33
          ],
          [
           "lost",
           "Dwyane Wade",
           2012,
           3,
           0.697,
           46
          ],
          [
           "lost",
           "Derrick Rose",
           2012,
           2,
           0.758,
           50
          ],
          [
           "lost",
           "Dirk Nowitzki",
           2012,
           7.5,
           0.545,
           36
          ],
          [
           "lost",
           "Russell Westbrook",
           2012,
           2,
           0.712,
           47
          ],
          [
           "lost",
           "Tim Duncan",
           2012,
           1,
           0.758,
           50
          ],
          [
           "lost",
           "Joe Johnson",
           2012,
           5,
           0.606,
           40
          ],
          [
           "lost",
           "Kevin Durant",
           2013,
           1,
           0.732,
           60
          ],
          [
           "lost",
           "Carmelo Anthony",
           2013,
           2,
           0.659,
           54
          ],
          [
           "lost",
           "Chris Paul",
           2013,
           4.5,
           0.683,
           56
          ],
          [
           "lost",
           "Kobe Bryant",
           2013,
           7.5,
           0.549,
           45
          ],
          [
           "lost",
           "Tony Parker",
           2013,
           2,
           0.707,
           58
          ],
          [
           "lost",
           "Tim Duncan",
           2013,
           2,
           0.707,
           58
          ],
          [
           "lost",
           "James Harden",
           2013,
           7.5,
           0.549,
           45
          ],
          [
           "lost",
           "Russell Westbrook",
           2013,
           1,
           0.732,
           60
          ],
          [
           "lost",
           "Dwyane Wade",
           2013,
           1,
           0.805,
           66
          ],
          [
           "lost",
           "Stephen Curry",
           2013,
           6,
           0.573,
           47
          ],
          [
           "lost",
           "Kevin Garnett",
           2013,
           7,
           0.506,
           41
          ],
          [
           "lost",
           "Marc Gasol",
           2013,
           4.5,
           0.683,
           56
          ],
          [
           "lost",
           "Ty Lawson",
           2013,
           3,
           0.695,
           57
          ],
          [
           "lost",
           "David Lee",
           2013,
           6,
           0.573,
           47
          ],
          [
           "lost",
           "Joakim Noah",
           2013,
           5,
           0.549,
           45
          ],
          [
           "lost",
           "LeBron James",
           2014,
           2,
           0.659,
           54
          ],
          [
           "lost",
           "Blake Griffin",
           2014,
           3,
           0.695,
           57
          ],
          [
           "lost",
           "Joakim Noah",
           2014,
           3.5,
           0.585,
           48
          ],
          [
           "lost",
           "James Harden",
           2014,
           4.5,
           0.659,
           54
          ],
          [
           "lost",
           "Stephen Curry",
           2014,
           6,
           0.622,
           51
          ],
          [
           "lost",
           "Chris Paul",
           2014,
           3,
           0.695,
           57
          ],
          [
           "lost",
           "Al Jefferson",
           2014,
           7,
           0.524,
           43
          ],
          [
           "lost",
           "Paul George",
           2014,
           1,
           0.683,
           56
          ],
          [
           "lost",
           "LaMarcus Aldridge",
           2014,
           4.5,
           0.659,
           54
          ],
          [
           "lost",
           "Kevin Love",
           2014,
           10,
           0.488,
           40
          ],
          [
           "lost",
           "Tim Duncan",
           2014,
           1,
           0.756,
           62
          ],
          [
           "lost",
           "Tony Parker",
           2014,
           1,
           0.756,
           62
          ],
          [
           "lost",
           "Dirk Nowitzki",
           2014,
           8,
           0.598,
           49
          ],
          [
           "lost",
           "Carmelo Anthony",
           2014,
           9,
           0.451,
           37
          ],
          [
           "lost",
           "Goran Dragić",
           2014,
           9,
           0.585,
           48
          ],
          [
           "lost",
           "Mike Conley",
           2014,
           7,
           0.61,
           50
          ],
          [
           "lost",
           "James Harden",
           2015,
           2.5,
           0.683,
           56
          ],
          [
           "lost",
           "LeBron James",
           2015,
           2,
           0.646,
           53
          ],
          [
           "lost",
           "Russell Westbrook",
           2015,
           8.5,
           0.549,
           45
          ],
          [
           "lost",
           "Anthony Davis",
           2015,
           8.5,
           0.549,
           45
          ],
          [
           "lost",
           "Chris Paul",
           2015,
           2.5,
           0.683,
           56
          ],
          [
           "lost",
           "LaMarcus Aldridge",
           2015,
           6,
           0.622,
           51
          ],
          [
           "lost",
           "Marc Gasol",
           2015,
           4.5,
           0.671,
           55
          ],
          [
           "lost",
           "Blake Griffin",
           2015,
           2.5,
           0.683,
           56
          ],
          [
           "lost",
           "Tim Duncan",
           2015,
           4.5,
           0.671,
           55
          ],
          [
           "lost",
           "Kawhi Leonard",
           2015,
           4.5,
           0.671,
           55
          ],
          [
           "lost",
           "Klay Thompson",
           2015,
           1,
           0.817,
           67
          ],
          [
           "lost",
           "Kawhi Leonard",
           2016,
           2,
           0.817,
           67
          ],
          [
           "lost",
           "LeBron James",
           2016,
           1,
           0.695,
           57
          ],
          [
           "lost",
           "Russell Westbrook",
           2016,
           3,
           0.671,
           55
          ],
          [
           "lost",
           "Kevin Durant",
           2016,
           3,
           0.671,
           55
          ],
          [
           "lost",
           "Chris Paul",
           2016,
           4,
           0.646,
           53
          ],
          [
           "lost",
           "Draymond Green",
           2016,
           1,
           0.89,
           73
          ],
          [
           "lost",
           "Damian Lillard",
           2016,
           5,
           0.537,
           44
          ],
          [
           "lost",
           "James Harden",
           2016,
           8,
           0.5,
           41
          ],
          [
           "lost",
           "Kyle Lowry",
           2016,
           2,
           0.683,
           56
          ],
          [
           "lost",
           "James Harden",
           2017,
           3,
           0.671,
           55
          ],
          [
           "lost",
           "Kawhi Leonard",
           2017,
           2,
           0.744,
           61
          ],
          [
           "lost",
           "LeBron James",
           2017,
           2.5,
           0.622,
           51
          ],
          [
           "lost",
           "Isaiah Thomas",
           2017,
           1,
           0.646,
           53
          ],
          [
           "lost",
           "Stephen Curry",
           2017,
           1,
           0.817,
           67
          ],
          [
           "lost",
           "Giannis Antetokounmpo",
           2017,
           6.5,
           0.512,
           42
          ],
          [
           "lost",
           "John Wall",
           2017,
           4,
           0.598,
           49
          ],
          [
           "lost",
           "Anthony Davis",
           2017,
           10,
           0.415,
           34
          ],
          [
           "lost",
           "Kevin Durant",
           2017,
           1,
           0.817,
           67
          ],
          [
           "lost",
           "DeMar DeRozan",
           2017,
           2.5,
           0.622,
           51
          ],
          [
           "lost",
           "LeBron James",
           2018,
           4,
           0.61,
           50
          ],
          [
           "lost",
           "Anthony Davis",
           2018,
           5,
           0.585,
           48
          ],
          [
           "lost",
           "Damian Lillard",
           2018,
           3,
           0.598,
           49
          ],
          [
           "lost",
           "Russell Westbrook",
           2018,
           5,
           0.585,
           48
          ],
          [
           "lost",
           "Giannis Antetokounmpo",
           2018,
           6.5,
           0.537,
           44
          ],
          [
           "lost",
           "Kevin Durant",
           2018,
           2,
           0.707,
           58
          ],
          [
           "lost",
           "DeMar DeRozan",
           2018,
           1,
           0.72,
           59
          ],
          [
           "lost",
           "LaMarcus Aldridge",
           2018,
           7.5,
           0.573,
           47
          ],
          [
           "lost",
           "Jimmy Butler",
           2018,
           7.5,
           0.573,
           47
          ],
          [
           "lost",
           "Stephen Curry",
           2018,
           2,
           0.707,
           58
          ],
          [
           "lost",
           "Joel Embiid",
           2018,
           3,
           0.634,
           52
          ],
          [
           "lost",
           "Victor Oladipo",
           2018,
           5,
           0.585,
           48
          ],
          [
           "lost",
           "James Harden",
           2019,
           3.5,
           0.646,
           53
          ],
          [
           "lost",
           "Paul George",
           2019,
           6,
           0.598,
           49
          ],
          [
           "lost",
           "Nikola Jokić",
           2019,
           2,
           0.659,
           54
          ],
          [
           "lost",
           "Stephen Curry",
           2019,
           1,
           0.695,
           57
          ],
          [
           "lost",
           "Damian Lillard",
           2019,
           3.5,
           0.646,
           53
          ],
          [
           "lost",
           "Joel Embiid",
           2019,
           3,
           0.622,
           51
          ],
          [
           "lost",
           "Kevin Durant",
           2019,
           1,
           0.695,
           57
          ],
          [
           "lost",
           "Kawhi Leonard",
           2019,
           2,
           0.707,
           58
          ],
          [
           "lost",
           "Russell Westbrook",
           2019,
           6,
           0.598,
           49
          ],
          [
           "lost",
           "Rudy Gobert",
           2019,
           5,
           0.61,
           50
          ],
          [
           "lost",
           "LeBron James",
           2019,
           10,
           0.451,
           37
          ],
          [
           "lost",
           "LeBron James",
           2020,
           1,
           0.732,
           52
          ],
          [
           "lost",
           "James Harden",
           2020,
           5,
           0.611,
           44
          ],
          [
           "lost",
           "Luka Dončić",
           2020,
           7,
           0.573,
           43
          ],
          [
           "lost",
           "Kawhi Leonard",
           2020,
           2,
           0.681,
           49
          ],
          [
           "lost",
           "Anthony Davis",
           2020,
           1,
           0.732,
           52
          ],
          [
           "lost",
           "Chris Paul",
           2020,
           5,
           0.611,
           44
          ],
          [
           "lost",
           "Damian Lillard",
           2020,
           8,
           0.473,
           35
          ],
          [
           "lost",
           "Nikola Jokić",
           2020,
           3,
           0.63,
           46
          ],
          [
           "lost",
           "Pascal Siakam",
           2020,
           2,
           0.736,
           53
          ],
          [
           "lost",
           "Jimmy Butler",
           2020,
           5,
           0.603,
           44
          ],
          [
           "lost",
           "Jayson Tatum",
           2020,
           3,
           0.667,
           48
          ],
          [
           "lost",
           "Joel Embiid",
           2021,
           1,
           0.681,
           49
          ],
          [
           "lost",
           "Stephen Curry",
           2021,
           8,
           0.542,
           39
          ],
          [
           "lost",
           "Giannis Antetokounmpo",
           2021,
           3,
           0.639,
           46
          ],
          [
           "lost",
           "Chris Paul",
           2021,
           2,
           0.708,
           51
          ],
          [
           "lost",
           "Luka Dončić",
           2021,
           6,
           0.583,
           42
          ],
          [
           "lost",
           "Damian Lillard",
           2021,
           6,
           0.583,
           42
          ],
          [
           "lost",
           "Julius Randle",
           2021,
           4.5,
           0.569,
           41
          ],
          [
           "lost",
           "Rudy Gobert",
           2021,
           1,
           0.722,
           52
          ],
          [
           "lost",
           "Russell Westbrook",
           2021,
           8.5,
           0.472,
           34
          ],
          [
           "lost",
           "Ben Simmons",
           2021,
           1,
           0.681,
           49
          ],
          [
           "lost",
           "LeBron James",
           2021,
           6,
           0.583,
           42
          ],
          [
           "lost",
           "Kawhi Leonard",
           2021,
           3.5,
           0.653,
           47
          ]
         ],
         "hovertemplate": "value_over_replacement_player=%{x}<br>Share=%{y}<br>Player=%{customdata[1]}<br>year=%{customdata[2]}<br>seed=%{customdata[3]}<br>W/L%=%{customdata[4]}<br>W=%{customdata[5]}<extra></extra>",
         "legendgroup": "lost",
         "marker": {
          "color": "gray",
          "symbol": "circle"
         },
         "mode": "markers",
         "name": "lost",
         "orientation": "v",
         "showlegend": true,
         "type": "scatter",
         "x": [
          6.8,
          4.4,
          4.8,
          2.3,
          2.5,
          3.2,
          5,
          3.2,
          5.2,
          6.1,
          4.3,
          3.5,
          4.9,
          4.3,
          2.5,
          1.4,
          1.9,
          3.8,
          5.4,
          1.4,
          3.6,
          0.1,
          2.5,
          2.9,
          4.2,
          1,
          2.7,
          1,
          4.5,
          2.6,
          1.9,
          2.1,
          1.8,
          0.6,
          3.5,
          1.3,
          1.6,
          1.7,
          0.9,
          6.4,
          6.8,
          3.7,
          5.2,
          4.2,
          5.1,
          7,
          4.5,
          4.7,
          2.4,
          1.7,
          4.4,
          3.1,
          5,
          3.9,
          1.6,
          2.6,
          2.3,
          0.7,
          2.5,
          3.4,
          1.6,
          0.9,
          1.9,
          7.2,
          6.8,
          5.1,
          5.2,
          5,
          3,
          3.4,
          2.7,
          4.2,
          2.9,
          3.5,
          3.2,
          1.1,
          0.7,
          3.1,
          3,
          2.4,
          4.3,
          2.6,
          4.7,
          0,
          3.2,
          4.3,
          5.6,
          3.3,
          5.1,
          5.3,
          4.7,
          4.7,
          3.6,
          1.8,
          4.1,
          2.7,
          3.5,
          2,
          3.8,
          6.1,
          2.7,
          4.8,
          4.3,
          7.4,
          3.6,
          4.7,
          6.5,
          1.8,
          3.4,
          3.5,
          3,
          4.8,
          1.4,
          2.3,
          4.5,
          3.9,
          3.2,
          2.8,
          2,
          4.1,
          3.5,
          4.8,
          5.7,
          3.8,
          4.9,
          5.3,
          4.5,
          3.7,
          4.9,
          1.3,
          2,
          3.6,
          3.9,
          5.3,
          4.9,
          4.8,
          1.1,
          1.8,
          10.6,
          8.6,
          5.5,
          5.6,
          6,
          5.4,
          4,
          5.4,
          3,
          0.3,
          1.7,
          2.4,
          3.1,
          3.4,
          2.1,
          1.8,
          8.1,
          5.3,
          7.5,
          7,
          4.7,
          4.6,
          2.9,
          5.5,
          7.6,
          2.9,
          3.7,
          3.9,
          3.1,
          3.9,
          2.9,
          1.5,
          11.4,
          5.9,
          4.8,
          5.7,
          7.4,
          8.3,
          5,
          2.6,
          4.5,
          2.9,
          3.8,
          1.9,
          2.7,
          4.7,
          3.8,
          2.3,
          2.4,
          3.4,
          8,
          10.6,
          6.6,
          6,
          6.8,
          6.2,
          3.3,
          8,
          5.5,
          1.9,
          6.3,
          2.7,
          3.7,
          8.1,
          8.2,
          7,
          6.2,
          6.4,
          6,
          5.4,
          3.8,
          6.2,
          4.9,
          8.1,
          2,
          2.6,
          3.6,
          1.8,
          3.3,
          4.3,
          5.2,
          2.7,
          7.4,
          7.4,
          5.9,
          5.5,
          4.8,
          4.2,
          4.1,
          6.4,
          4,
          4.5,
          6.1,
          8.1,
          3.1,
          4,
          4.6,
          3.3,
          7.8,
          10.2,
          4,
          4.9,
          6.8,
          4.3,
          7.3,
          4.4,
          4.7,
          3.2,
          3.2,
          2.6,
          6.2,
          11.4,
          6.8,
          7.2,
          5.5,
          3.7,
          4.2,
          6.4,
          5,
          4.2,
          5.7,
          3.4,
          2.3,
          3.5,
          7.5,
          1.7,
          5.7,
          6,
          4.1,
          5.3,
          5,
          7.2,
          7.9,
          5.2,
          4.5,
          1.1,
          1.5,
          2.1,
          1.5,
          8.3,
          6.9,
          4.9,
          5.9,
          5.2,
          7.1,
          3.2,
          5.6,
          2.8,
          6.4,
          5.1,
          1.8,
          4.2,
          1.1,
          6.2,
          4.1,
          8.6,
          8,
          6.5,
          3.2,
          6.1,
          3.9,
          3.5,
          4.3,
          4.1,
          6.1,
          2.9,
          3.5,
          5.2,
          6.3,
          3.9,
          2.9,
          2.2,
          4.7,
          2.7,
          7.1,
          5.7,
          4.3,
          5.3,
          5.5,
          6.3,
          2.2,
          5.6,
          2.9,
          2.4,
          2.2,
          4,
          3.6,
          3.6,
          4.8,
          1.6,
          3.8,
          3.7,
          3,
          3.2,
          3.9,
          3.9,
          3.9,
          1.7,
          3.8,
          3.6,
          3.3,
          2.3,
          3.4,
          2.3,
          2.1,
          3.3,
          2.1,
          2.3,
          1.8,
          1.5,
          1.7,
          1.4,
          6.8,
          5,
          7.1,
          5.5,
          7.3,
          3.8,
          5.2,
          5.6,
          5.9,
          4.2,
          4.5,
          4.3,
          3.6,
          3.6,
          2.5,
          5.4,
          7.1,
          5.3,
          6.4,
          7,
          6.3,
          4.8,
          4.7,
          4.3,
          5.9,
          7.2,
          5,
          5.8,
          3.4,
          3.2,
          5.3,
          5,
          6.1,
          6.4,
          5.2,
          5.9,
          3.9,
          5.5,
          4.5,
          4.8,
          6.6,
          7.1,
          2.7,
          3.6,
          2.4,
          1.6,
          4.8,
          3.3,
          8.7,
          7.7,
          9.3,
          5.5,
          4.8,
          7.3,
          4.3,
          6.5,
          3.6,
          3.5,
          4.5,
          5.4,
          6.7,
          3.1,
          4.9,
          4.7,
          4.1,
          4.3,
          4.2,
          2.9,
          4.6,
          4.8,
          4.3,
          7.2,
          1.6,
          3.2,
          3.5,
          4.6,
          7.1,
          5.4,
          5,
          9.1,
          6.9,
          4.9,
          4.7,
          4.8,
          9.1,
          5.2,
          1.5,
          2.6,
          5.1,
          9.4,
          7.9,
          8,
          6.1,
          7.1,
          6.8,
          4.9,
          3.3,
          5.3,
          5.6,
          5.3,
          6.1,
          6.2,
          8.1,
          5.2,
          3.1,
          5,
          4.3,
          5.5,
          4.3,
          1.1,
          4.9,
          2.6,
          2.5,
          3.2,
          3.2,
          9.3,
          6,
          9.8,
          3.7,
          4.6,
          4.8,
          3.1,
          4.2,
          6,
          6,
          4.5,
          2.5,
          3.5,
          2.9,
          5,
          3.6,
          5.9,
          9.6,
          4.7,
          9.9,
          3.9,
          3.5,
          6,
          4.2,
          4.7,
          3.3,
          7.5,
          4.4,
          4.6,
          7.9,
          2.9,
          4.7,
          4.2,
          4.1,
          2.2,
          4.7,
          3.6,
          3.6,
          3.4,
          5.4,
          7.8,
          5,
          5.3,
          4.5,
          6.1,
          4.5,
          2.4,
          3.6,
          3.2,
          2.4,
          6.7,
          5.8,
          6.1,
          2.9,
          2.3,
          3.9,
          3.3,
          2.1,
          2.7,
          4,
          2.9,
          3,
          3,
          2.2,
          2.2,
          8.9,
          3.9,
          6.4,
          5,
          3.1,
          3.8,
          5.8,
          4.6,
          3.8,
          5.6,
          2.3,
          5.1,
          2.5,
          2.8,
          3.3,
          7.9,
          4.7,
          5.2,
          5.3,
          6.7,
          5.8,
          3,
          5,
          2.7,
          7.7,
          2.9,
          1.5,
          4.7,
          5.3,
          4,
          3.6,
          8.1,
          5.7,
          5.8,
          6.7,
          7.2,
          3.1,
          4.8,
          3.6,
          4,
          4.1,
          4,
          6.7,
          7.5,
          6.8,
          7.8,
          6,
          5.3,
          4.3,
          6.8,
          5.7,
          8,
          7.1,
          6.7,
          5.6,
          5.9,
          6.7,
          4.8,
          5.4,
          5.7,
          3.3,
          8.2,
          5.9,
          6.3,
          6.1,
          5.7,
          5.5,
          3.2,
          3.7,
          4.2,
          4,
          2.6,
          5,
          9.3,
          6.6,
          7,
          5.1,
          6,
          3.8,
          5.1,
          4.7,
          4.7,
          4.8,
          4.9,
          6.1,
          7.3,
          5.4,
          5.1,
          5.4,
          3.5,
          5.9,
          5.5,
          2,
          3.7,
          3.4,
          3.8,
          5.8,
          5.6,
          3.6,
          5.1,
          5,
          3.9,
          3.8,
          3.4,
          2.3,
          3.8,
          4.2
         ],
         "xaxis": "x",
         "y": [
          0.143,
          0.086,
          0.068,
          0.009,
          0.009,
          0.009,
          0.007,
          0.005,
          0.613,
          0.414,
          0.261,
          0.12,
          0.106,
          0.077,
          0.072,
          0.046,
          0.028,
          0.026,
          0.022,
          0.022,
          0.017,
          0.016,
          0.016,
          0.01,
          0.01,
          0.009,
          0.009,
          0.007,
          0.006,
          0.006,
          0.004,
          0.004,
          0.004,
          0.004,
          0.004,
          0.004,
          0.004,
          0.001,
          0.001,
          0.588,
          0.294,
          0.19,
          0.167,
          0.159,
          0.146,
          0.097,
          0.048,
          0.045,
          0.02,
          0.02,
          0.017,
          0.014,
          0.01,
          0.009,
          0.004,
          0.004,
          0.004,
          0.004,
          0.001,
          0.001,
          0.001,
          0.001,
          0.001,
          0.485,
          0.406,
          0.301,
          0.149,
          0.056,
          0.053,
          0.044,
          0.04,
          0.02,
          0.017,
          0.016,
          0.013,
          0.012,
          0.007,
          0.005,
          0.005,
          0.004,
          0.004,
          0.003,
          0.002,
          0.001,
          0.001,
          0.491,
          0.401,
          0.201,
          0.151,
          0.129,
          0.116,
          0.092,
          0.05,
          0.046,
          0.037,
          0.012,
          0.011,
          0.001,
          0.001,
          0.338,
          0.279,
          0.264,
          0.177,
          0.172,
          0.09,
          0.083,
          0.081,
          0.033,
          0.028,
          0.015,
          0.015,
          0.014,
          0.006,
          0.005,
          0.004,
          0.004,
          0.004,
          0.003,
          0.003,
          0.001,
          0.001,
          0.522,
          0.263,
          0.247,
          0.173,
          0.171,
          0.072,
          0.071,
          0.036,
          0.027,
          0.012,
          0.009,
          0.004,
          0.004,
          0.004,
          0.003,
          0.003,
          0.001,
          0.576,
          0.347,
          0.326,
          0.164,
          0.145,
          0.036,
          0.022,
          0.014,
          0.012,
          0.005,
          0.004,
          0.004,
          0.003,
          0.001,
          0.001,
          0.001,
          0.659,
          0.635,
          0.136,
          0.108,
          0.069,
          0.05,
          0.045,
          0.033,
          0.019,
          0.005,
          0.004,
          0.003,
          0.001,
          0.001,
          0.001,
          0.001,
          0.704,
          0.426,
          0.235,
          0.211,
          0.111,
          0.033,
          0.026,
          0.024,
          0.021,
          0.005,
          0.005,
          0.004,
          0.004,
          0.004,
          0.004,
          0.001,
          0.001,
          0.001,
          0.667,
          0.613,
          0.233,
          0.176,
          0.111,
          0.07,
          0.013,
          0.01,
          0.005,
          0.005,
          0.003,
          0.001,
          0.001,
          0.518,
          0.496,
          0.231,
          0.148,
          0.078,
          0.033,
          0.03,
          0.026,
          0.026,
          0.021,
          0.016,
          0.011,
          0.01,
          0.008,
          0.007,
          0.005,
          0.004,
          0.001,
          0.001,
          0.584,
          0.351,
          0.273,
          0.104,
          0.084,
          0.069,
          0.067,
          0.033,
          0.027,
          0.025,
          0.019,
          0.019,
          0.003,
          0.002,
          0.001,
          0.001,
          0.66,
          0.577,
          0.366,
          0.055,
          0.034,
          0.031,
          0.01,
          0.01,
          0.001,
          0.001,
          0.001,
          0.001,
          0.001,
          0.723,
          0.386,
          0.286,
          0.252,
          0.02,
          0.017,
          0.017,
          0.007,
          0.005,
          0.001,
          0.001,
          0.001,
          0.001,
          0.001,
          0.001,
          0.576,
          0.507,
          0.219,
          0.14,
          0.091,
          0.079,
          0.045,
          0.032,
          0.022,
          0.011,
          0.009,
          0.007,
          0.001,
          0.508,
          0.319,
          0.211,
          0.2,
          0.087,
          0.075,
          0.065,
          0.056,
          0.056,
          0.011,
          0.007,
          0.007,
          0.005,
          0.004,
          0.003,
          0.003,
          0.832,
          0.327,
          0.207,
          0.117,
          0.091,
          0.083,
          0.05,
          0.006,
          0.006,
          0.005,
          0.004,
          0.003,
          0.003,
          0.003,
          0.002,
          0.001,
          0.001,
          0.001,
          0.001,
          0.726,
          0.372,
          0.268,
          0.128,
          0.061,
          0.031,
          0.021,
          0.02,
          0.012,
          0.006,
          0.005,
          0.004,
          0.004,
          0.003,
          0.002,
          0.002,
          0.001,
          0.001,
          0.655,
          0.627,
          0.27,
          0.135,
          0.075,
          0.043,
          0.033,
          0.03,
          0.008,
          0.006,
          0.005,
          0.003,
          0.003,
          0.002,
          0.001,
          0.001,
          0.001,
          0.001,
          0.001,
          0.001,
          0.337,
          0.303,
          0.258,
          0.205,
          0.149,
          0.109,
          0.093,
          0.079,
          0.042,
          0.021,
          0.002,
          0.001,
          0.001,
          0.001,
          0.001,
          0.569,
          0.466,
          0.42,
          0.122,
          0.052,
          0.017,
          0.015,
          0.009,
          0.006,
          0.006,
          0.006,
          0.004,
          0.002,
          0.001,
          0.001,
          0.001,
          0.712,
          0.552,
          0.31,
          0.078,
          0.043,
          0.029,
          0.025,
          0.023,
          0.019,
          0.017,
          0.013,
          0.013,
          0.004,
          0.002,
          0.001,
          0.001,
          0.001,
          0.732,
          0.417,
          0.359,
          0.106,
          0.07,
          0.036,
          0.028,
          0.026,
          0.016,
          0.001,
          0.001,
          0.001,
          0.582,
          0.425,
          0.228,
          0.172,
          0.145,
          0.02,
          0.014,
          0.009,
          0.003,
          0.003,
          0.003,
          0.002,
          0.001,
          0.001,
          0.001,
          0.813,
          0.275,
          0.258,
          0.189,
          0.073,
          0.035,
          0.034,
          0.032,
          0.032,
          0.012,
          0.003,
          0.001,
          0.001,
          0.001,
          0.55,
          0.435,
          0.386,
          0.344,
          0.07,
          0.04,
          0.026,
          0.007,
          0.001,
          0.001,
          0.785,
          0.404,
          0.222,
          0.142,
          0.085,
          0.033,
          0.024,
          0.005,
          0.005,
          0.003,
          0.002,
          0.002,
          0.002,
          0.001,
          0.001,
          0.001,
          0.71,
          0.532,
          0.348,
          0.048,
          0.021,
          0.02,
          0.015,
          0.014,
          0.007,
          0.004,
          0.003,
          0.002,
          0.001,
          0.001,
          0.001,
          0.001,
          0.577,
          0.562,
          0.271,
          0.159,
          0.017,
          0.007,
          0.006,
          0.002,
          0.002,
          0.001,
          0.495,
          0.487,
          0.389,
          0.097,
          0.053,
          0.045,
          0.04,
          0.006,
          0.004,
          0.002,
          0.001,
          0.001,
          0.001,
          0.531,
          0.431,
          0.354,
          0.157,
          0.093,
          0.02,
          0.017,
          0.007,
          0.004,
          0.004,
          0.002,
          0.002,
          0.735,
          0.318,
          0.291,
          0.274,
          0.048,
          0.011,
          0.01,
          0.006,
          0.005,
          0.004,
          0.003,
          0.003,
          0.002,
          0.001,
          0.632,
          0.393,
          0.239,
          0.152,
          0.071,
          0.054,
          0.027,
          0.007,
          0.004,
          0.002,
          0.001,
          0.001,
          0.001,
          0.001,
          0.001,
          0.713,
          0.347,
          0.258,
          0.068,
          0.053,
          0.036,
          0.027,
          0.026,
          0.021,
          0.02,
          0.017,
          0.017,
          0.006,
          0.003,
          0.002,
          0.001,
          0.72,
          0.425,
          0.271,
          0.156,
          0.095,
          0.005,
          0.002,
          0.002,
          0.001,
          0.001,
          0.001,
          0.484,
          0.482,
          0.371,
          0.112,
          0.082,
          0.038,
          0.02,
          0.007,
          0.005,
          0.746,
          0.495,
          0.33,
          0.08,
          0.051,
          0.007,
          0.007,
          0.002,
          0.002,
          0.001,
          0.731,
          0.441,
          0.205,
          0.075,
          0.074,
          0.065,
          0.032,
          0.006,
          0.005,
          0.005,
          0.004,
          0.002,
          0.768,
          0.352,
          0.21,
          0.173,
          0.068,
          0.049,
          0.025,
          0.013,
          0.008,
          0.001,
          0.001,
          0.746,
          0.363,
          0.198,
          0.166,
          0.081,
          0.026,
          0.023,
          0.018,
          0.017,
          0.009,
          0.001,
          0.58,
          0.449,
          0.345,
          0.138,
          0.042,
          0.038,
          0.02,
          0.008,
          0.005,
          0.003,
          0.001,
          0.001
         ],
         "yaxis": "y"
        }
       ],
       "layout": {
        "autosize": true,
        "legend": {
         "title": {
          "text": "Win/Lose"
         },
         "tracegroupgap": 0
        },
        "margin": {
         "t": 60
        },
        "template": {
         "data": {
          "bar": [
           {
            "error_x": {
             "color": "#2a3f5f"
            },
            "error_y": {
             "color": "#2a3f5f"
            },
            "marker": {
             "line": {
              "color": "#E5ECF6",
              "width": 0.5
             },
             "pattern": {
              "fillmode": "overlay",
              "size": 10,
              "solidity": 0.2
             }
            },
            "type": "bar"
           }
          ],
          "barpolar": [
           {
            "marker": {
             "line": {
              "color": "#E5ECF6",
              "width": 0.5
             },
             "pattern": {
              "fillmode": "overlay",
              "size": 10,
              "solidity": 0.2
             }
            },
            "type": "barpolar"
           }
          ],
          "carpet": [
           {
            "aaxis": {
             "endlinecolor": "#2a3f5f",
             "gridcolor": "white",
             "linecolor": "white",
             "minorgridcolor": "white",
             "startlinecolor": "#2a3f5f"
            },
            "baxis": {
             "endlinecolor": "#2a3f5f",
             "gridcolor": "white",
             "linecolor": "white",
             "minorgridcolor": "white",
             "startlinecolor": "#2a3f5f"
            },
            "type": "carpet"
           }
          ],
          "choropleth": [
           {
            "colorbar": {
             "outlinewidth": 0,
             "ticks": ""
            },
            "type": "choropleth"
           }
          ],
          "contour": [
           {
            "colorbar": {
             "outlinewidth": 0,
             "ticks": ""
            },
            "colorscale": [
             [
              0,
              "#0d0887"
             ],
             [
              0.1111111111111111,
              "#46039f"
             ],
             [
              0.2222222222222222,
              "#7201a8"
             ],
             [
              0.3333333333333333,
              "#9c179e"
             ],
             [
              0.4444444444444444,
              "#bd3786"
             ],
             [
              0.5555555555555556,
              "#d8576b"
             ],
             [
              0.6666666666666666,
              "#ed7953"
             ],
             [
              0.7777777777777778,
              "#fb9f3a"
             ],
             [
              0.8888888888888888,
              "#fdca26"
             ],
             [
              1,
              "#f0f921"
             ]
            ],
            "type": "contour"
           }
          ],
          "contourcarpet": [
           {
            "colorbar": {
             "outlinewidth": 0,
             "ticks": ""
            },
            "type": "contourcarpet"
           }
          ],
          "heatmap": [
           {
            "colorbar": {
             "outlinewidth": 0,
             "ticks": ""
            },
            "colorscale": [
             [
              0,
              "#0d0887"
             ],
             [
              0.1111111111111111,
              "#46039f"
             ],
             [
              0.2222222222222222,
              "#7201a8"
             ],
             [
              0.3333333333333333,
              "#9c179e"
             ],
             [
              0.4444444444444444,
              "#bd3786"
             ],
             [
              0.5555555555555556,
              "#d8576b"
             ],
             [
              0.6666666666666666,
              "#ed7953"
             ],
             [
              0.7777777777777778,
              "#fb9f3a"
             ],
             [
              0.8888888888888888,
              "#fdca26"
             ],
             [
              1,
              "#f0f921"
             ]
            ],
            "type": "heatmap"
           }
          ],
          "heatmapgl": [
           {
            "colorbar": {
             "outlinewidth": 0,
             "ticks": ""
            },
            "colorscale": [
             [
              0,
              "#0d0887"
             ],
             [
              0.1111111111111111,
              "#46039f"
             ],
             [
              0.2222222222222222,
              "#7201a8"
             ],
             [
              0.3333333333333333,
              "#9c179e"
             ],
             [
              0.4444444444444444,
              "#bd3786"
             ],
             [
              0.5555555555555556,
              "#d8576b"
             ],
             [
              0.6666666666666666,
              "#ed7953"
             ],
             [
              0.7777777777777778,
              "#fb9f3a"
             ],
             [
              0.8888888888888888,
              "#fdca26"
             ],
             [
              1,
              "#f0f921"
             ]
            ],
            "type": "heatmapgl"
           }
          ],
          "histogram": [
           {
            "marker": {
             "pattern": {
              "fillmode": "overlay",
              "size": 10,
              "solidity": 0.2
             }
            },
            "type": "histogram"
           }
          ],
          "histogram2d": [
           {
            "colorbar": {
             "outlinewidth": 0,
             "ticks": ""
            },
            "colorscale": [
             [
              0,
              "#0d0887"
             ],
             [
              0.1111111111111111,
              "#46039f"
             ],
             [
              0.2222222222222222,
              "#7201a8"
             ],
             [
              0.3333333333333333,
              "#9c179e"
             ],
             [
              0.4444444444444444,
              "#bd3786"
             ],
             [
              0.5555555555555556,
              "#d8576b"
             ],
             [
              0.6666666666666666,
              "#ed7953"
             ],
             [
              0.7777777777777778,
              "#fb9f3a"
             ],
             [
              0.8888888888888888,
              "#fdca26"
             ],
             [
              1,
              "#f0f921"
             ]
            ],
            "type": "histogram2d"
           }
          ],
          "histogram2dcontour": [
           {
            "colorbar": {
             "outlinewidth": 0,
             "ticks": ""
            },
            "colorscale": [
             [
              0,
              "#0d0887"
             ],
             [
              0.1111111111111111,
              "#46039f"
             ],
             [
              0.2222222222222222,
              "#7201a8"
             ],
             [
              0.3333333333333333,
              "#9c179e"
             ],
             [
              0.4444444444444444,
              "#bd3786"
             ],
             [
              0.5555555555555556,
              "#d8576b"
             ],
             [
              0.6666666666666666,
              "#ed7953"
             ],
             [
              0.7777777777777778,
              "#fb9f3a"
             ],
             [
              0.8888888888888888,
              "#fdca26"
             ],
             [
              1,
              "#f0f921"
             ]
            ],
            "type": "histogram2dcontour"
           }
          ],
          "mesh3d": [
           {
            "colorbar": {
             "outlinewidth": 0,
             "ticks": ""
            },
            "type": "mesh3d"
           }
          ],
          "parcoords": [
           {
            "line": {
             "colorbar": {
              "outlinewidth": 0,
              "ticks": ""
             }
            },
            "type": "parcoords"
           }
          ],
          "pie": [
           {
            "automargin": true,
            "type": "pie"
           }
          ],
          "scatter": [
           {
            "marker": {
             "colorbar": {
              "outlinewidth": 0,
              "ticks": ""
             }
            },
            "type": "scatter"
           }
          ],
          "scatter3d": [
           {
            "line": {
             "colorbar": {
              "outlinewidth": 0,
              "ticks": ""
             }
            },
            "marker": {
             "colorbar": {
              "outlinewidth": 0,
              "ticks": ""
             }
            },
            "type": "scatter3d"
           }
          ],
          "scattercarpet": [
           {
            "marker": {
             "colorbar": {
              "outlinewidth": 0,
              "ticks": ""
             }
            },
            "type": "scattercarpet"
           }
          ],
          "scattergeo": [
           {
            "marker": {
             "colorbar": {
              "outlinewidth": 0,
              "ticks": ""
             }
            },
            "type": "scattergeo"
           }
          ],
          "scattergl": [
           {
            "marker": {
             "colorbar": {
              "outlinewidth": 0,
              "ticks": ""
             }
            },
            "type": "scattergl"
           }
          ],
          "scattermapbox": [
           {
            "marker": {
             "colorbar": {
              "outlinewidth": 0,
              "ticks": ""
             }
            },
            "type": "scattermapbox"
           }
          ],
          "scatterpolar": [
           {
            "marker": {
             "colorbar": {
              "outlinewidth": 0,
              "ticks": ""
             }
            },
            "type": "scatterpolar"
           }
          ],
          "scatterpolargl": [
           {
            "marker": {
             "colorbar": {
              "outlinewidth": 0,
              "ticks": ""
             }
            },
            "type": "scatterpolargl"
           }
          ],
          "scatterternary": [
           {
            "marker": {
             "colorbar": {
              "outlinewidth": 0,
              "ticks": ""
             }
            },
            "type": "scatterternary"
           }
          ],
          "surface": [
           {
            "colorbar": {
             "outlinewidth": 0,
             "ticks": ""
            },
            "colorscale": [
             [
              0,
              "#0d0887"
             ],
             [
              0.1111111111111111,
              "#46039f"
             ],
             [
              0.2222222222222222,
              "#7201a8"
             ],
             [
              0.3333333333333333,
              "#9c179e"
             ],
             [
              0.4444444444444444,
              "#bd3786"
             ],
             [
              0.5555555555555556,
              "#d8576b"
             ],
             [
              0.6666666666666666,
              "#ed7953"
             ],
             [
              0.7777777777777778,
              "#fb9f3a"
             ],
             [
              0.8888888888888888,
              "#fdca26"
             ],
             [
              1,
              "#f0f921"
             ]
            ],
            "type": "surface"
           }
          ],
          "table": [
           {
            "cells": {
             "fill": {
              "color": "#EBF0F8"
             },
             "line": {
              "color": "white"
             }
            },
            "header": {
             "fill": {
              "color": "#C8D4E3"
             },
             "line": {
              "color": "white"
             }
            },
            "type": "table"
           }
          ]
         },
         "layout": {
          "annotationdefaults": {
           "arrowcolor": "#2a3f5f",
           "arrowhead": 0,
           "arrowwidth": 1
          },
          "autotypenumbers": "strict",
          "coloraxis": {
           "colorbar": {
            "outlinewidth": 0,
            "ticks": ""
           }
          },
          "colorscale": {
           "diverging": [
            [
             0,
             "#8e0152"
            ],
            [
             0.1,
             "#c51b7d"
            ],
            [
             0.2,
             "#de77ae"
            ],
            [
             0.3,
             "#f1b6da"
            ],
            [
             0.4,
             "#fde0ef"
            ],
            [
             0.5,
             "#f7f7f7"
            ],
            [
             0.6,
             "#e6f5d0"
            ],
            [
             0.7,
             "#b8e186"
            ],
            [
             0.8,
             "#7fbc41"
            ],
            [
             0.9,
             "#4d9221"
            ],
            [
             1,
             "#276419"
            ]
           ],
           "sequential": [
            [
             0,
             "#0d0887"
            ],
            [
             0.1111111111111111,
             "#46039f"
            ],
            [
             0.2222222222222222,
             "#7201a8"
            ],
            [
             0.3333333333333333,
             "#9c179e"
            ],
            [
             0.4444444444444444,
             "#bd3786"
            ],
            [
             0.5555555555555556,
             "#d8576b"
            ],
            [
             0.6666666666666666,
             "#ed7953"
            ],
            [
             0.7777777777777778,
             "#fb9f3a"
            ],
            [
             0.8888888888888888,
             "#fdca26"
            ],
            [
             1,
             "#f0f921"
            ]
           ],
           "sequentialminus": [
            [
             0,
             "#0d0887"
            ],
            [
             0.1111111111111111,
             "#46039f"
            ],
            [
             0.2222222222222222,
             "#7201a8"
            ],
            [
             0.3333333333333333,
             "#9c179e"
            ],
            [
             0.4444444444444444,
             "#bd3786"
            ],
            [
             0.5555555555555556,
             "#d8576b"
            ],
            [
             0.6666666666666666,
             "#ed7953"
            ],
            [
             0.7777777777777778,
             "#fb9f3a"
            ],
            [
             0.8888888888888888,
             "#fdca26"
            ],
            [
             1,
             "#f0f921"
            ]
           ]
          },
          "colorway": [
           "#636efa",
           "#EF553B",
           "#00cc96",
           "#ab63fa",
           "#FFA15A",
           "#19d3f3",
           "#FF6692",
           "#B6E880",
           "#FF97FF",
           "#FECB52"
          ],
          "font": {
           "color": "#2a3f5f"
          },
          "geo": {
           "bgcolor": "white",
           "lakecolor": "white",
           "landcolor": "#E5ECF6",
           "showlakes": true,
           "showland": true,
           "subunitcolor": "white"
          },
          "hoverlabel": {
           "align": "left"
          },
          "hovermode": "closest",
          "mapbox": {
           "style": "light"
          },
          "paper_bgcolor": "white",
          "plot_bgcolor": "#E5ECF6",
          "polar": {
           "angularaxis": {
            "gridcolor": "white",
            "linecolor": "white",
            "ticks": ""
           },
           "bgcolor": "#E5ECF6",
           "radialaxis": {
            "gridcolor": "white",
            "linecolor": "white",
            "ticks": ""
           }
          },
          "scene": {
           "xaxis": {
            "backgroundcolor": "#E5ECF6",
            "gridcolor": "white",
            "gridwidth": 2,
            "linecolor": "white",
            "showbackground": true,
            "ticks": "",
            "zerolinecolor": "white"
           },
           "yaxis": {
            "backgroundcolor": "#E5ECF6",
            "gridcolor": "white",
            "gridwidth": 2,
            "linecolor": "white",
            "showbackground": true,
            "ticks": "",
            "zerolinecolor": "white"
           },
           "zaxis": {
            "backgroundcolor": "#E5ECF6",
            "gridcolor": "white",
            "gridwidth": 2,
            "linecolor": "white",
            "showbackground": true,
            "ticks": "",
            "zerolinecolor": "white"
           }
          },
          "shapedefaults": {
           "line": {
            "color": "#2a3f5f"
           }
          },
          "ternary": {
           "aaxis": {
            "gridcolor": "white",
            "linecolor": "white",
            "ticks": ""
           },
           "baxis": {
            "gridcolor": "white",
            "linecolor": "white",
            "ticks": ""
           },
           "bgcolor": "#E5ECF6",
           "caxis": {
            "gridcolor": "white",
            "linecolor": "white",
            "ticks": ""
           }
          },
          "title": {
           "x": 0.05
          },
          "xaxis": {
           "automargin": true,
           "gridcolor": "white",
           "linecolor": "white",
           "ticks": "",
           "title": {
            "standoff": 15
           },
           "zerolinecolor": "white",
           "zerolinewidth": 2
          },
          "yaxis": {
           "automargin": true,
           "gridcolor": "white",
           "linecolor": "white",
           "ticks": "",
           "title": {
            "standoff": 15
           },
           "zerolinecolor": "white",
           "zerolinewidth": 2
          }
         }
        },
        "title": {
         "text": "value_over_replacement_player vs. MVP share"
        },
        "xaxis": {
         "anchor": "y",
         "autorange": true,
         "domain": [
          0,
          1
         ],
         "range": [
          -0.7536367769064667,
          13.253636776906466
         ],
         "title": {
          "text": "value_over_replacement_player"
         },
         "type": "linear"
        },
        "yaxis": {
         "anchor": "x",
         "autorange": true,
         "domain": [
          0,
          1
         ],
         "range": [
          -0.0676516587677725,
          1.0686516587677726
         ],
         "title": {
          "text": "Share"
         },
         "type": "linear"
        }
       }
      },
      "image/png": "[encoded data removed]",
      "text/html": [
       "<div>                            <div id=\"3d4259c0-3bf7-4ccb-9778-bd953bcceb34\" class=\"plotly-graph-div\" style=\"height:500px; width:100%;\"></div>            <script type=\"text/javascript\">                require([\"plotly\"], function(Plotly) {                    window.PLOTLYENV=window.PLOTLYENV || {};                                    if (document.getElementById(\"3d4259c0-3bf7-4ccb-9778-bd953bcceb34\")) {                    Plotly.newPlot(                        \"3d4259c0-3bf7-4ccb-9778-bd953bcceb34\",                        [{\"customdata\":[[\"won\",\"Kareem Abdul-Jabbar\",1980,1.0,0.732,60.0],[\"won\",\"Julius Erving\",1981,1.5,0.756,62.0],[\"won\",\"Moses Malone\",1982,5.0,0.561,46.0],[\"won\",\"Moses Malone\",1983,1.0,0.793,65.0],[\"won\",\"Larry Bird\",1984,1.0,0.756,62.0],[\"won\",\"Larry Bird\",1985,1.0,0.768,63.0],[\"won\",\"Larry Bird\",1986,1.0,0.817,67.0],[\"won\",\"Magic Johnson\",1987,1.0,0.793,65.0],[\"won\",\"Michael Jordan\",1988,3.5,0.61,50.0],[\"won\",\"Magic Johnson\",1989,1.0,0.695,57.0],[\"won\",\"Magic Johnson\",1990,1.0,0.768,63.0],[\"won\",\"Michael Jordan\",1991,1.0,0.744,61.0],[\"won\",\"Michael Jordan\",1992,1.0,0.817,67.0],[\"won\",\"Charles Barkley\",1993,1.0,0.756,62.0],[\"won\",\"Hakeem Olajuwon\",1994,2.0,0.707,58.0],[\"won\",\"David Robinson\",1995,1.0,0.756,62.0],[\"won\",\"Michael Jordan\",1996,1.0,0.878,72.0],[\"won\",\"Karl Malone\",1997,1.0,0.78,64.0],[\"won\",\"Michael Jordan\",1998,1.0,0.756,62.0],[\"won\",\"Karl Malone\",1999,3.5,0.74,37.0],[\"won\",\"Shaquille O'Neal\",2000,1.0,0.817,67.0],[\"won\",\"Allen Iverson\",2001,1.0,0.683,56.0],[\"won\",\"Tim Duncan\",2002,2.5,0.707,58.0],[\"won\",\"Tim Duncan\",2003,1.5,0.732,60.0],[\"won\",\"Kevin Garnett\",2004,1.0,0.707,58.0],[\"won\",\"Steve Nash\",2005,1.0,0.756,62.0],[\"won\",\"Steve Nash\",2006,3.0,0.659,54.0],[\"won\",\"Dirk Nowitzki\",2007,1.0,0.817,67.0],[\"won\",\"Kobe Bryant\",2008,1.0,0.695,57.0],[\"won\",\"LeBron James\",2009,1.0,0.805,66.0],[\"won\",\"LeBron James\",2010,1.0,0.744,61.0],[\"won\",\"Derrick Rose\",2011,1.0,0.756,62.0],[\"won\",\"LeBron James\",2012,3.0,0.697,46.0],[\"won\",\"LeBron James\",2013,1.0,0.805,66.0],[\"won\",\"Kevin Durant\",2014,2.0,0.72,59.0],[\"won\",\"Stephen Curry\",2015,1.0,0.817,67.0],[\"won\",\"Stephen Curry\",2016,1.0,0.89,73.0],[\"won\",\"Russell Westbrook\",2017,6.0,0.573,47.0],[\"won\",\"James Harden\",2018,1.0,0.793,65.0],[\"won\",\"Giannis Antetokounmpo\",2019,1.0,0.732,60.0],[\"won\",\"Giannis Antetokounmpo\",2020,1.0,0.767,56.0],[\"won\",\"Nikola Joki\\u0107\",2021,3.5,0.653,47.0]],\"hovertemplate\":\"value_over_replacement_player=%{x}<br>Share=%{y}<br>Player=%{customdata[1]}<br>year=%{customdata[2]}<br>seed=%{customdata[3]}<br>W/L%=%{customdata[4]}<br>W=%{customdata[5]}<extra></extra>\",\"legendgroup\":\"won\",\"marker\":{\"color\":\"blue\",\"symbol\":\"circle\"},\"mode\":\"markers\",\"name\":\"won\",\"orientation\":\"v\",\"showlegend\":true,\"type\":\"scatter\",\"x\":[7.3,6.9,5.5,4.2,7.3,8.7,8.4,8.0,12.5,8.3,8.9,10.8,9.2,7.1,7.3,8.7,9.8,7.8,7.1,4.0,9.0,6.1,8.0,7.7,10.0,4.4,4.9,7.4,6.3,11.8,10.3,6.7,7.6,9.9,9.6,7.9,9.5,9.3,7.7,7.4,6.6,8.8],\"xaxis\":\"x\",\"y\":[0.665,0.658,0.735,0.96,0.858,0.978,0.981,0.94,0.831,0.782,0.691,0.928,0.938,0.852,0.88,0.858,0.986,0.857,0.934,0.701,0.998,0.904,0.757,0.808,0.991,0.839,0.739,0.882,0.873,0.969,0.98,0.977,0.888,0.998,0.986,0.922,1.0,0.879,0.955,0.932,0.952,0.961],\"yaxis\":\"y\"},{\"customdata\":[[\"lost\",\"Julius Erving\",1980,2.0,0.72,59.0],[\"lost\",\"George Gervin\",1980,4.5,0.5,41.0],[\"lost\",\"Larry Bird\",1980,1.0,0.744,61.0],[\"lost\",\"Tiny Archibald\",1980,1.0,0.744,61.0],[\"lost\",\"Dennis Johnson\",1980,2.0,0.683,56.0],[\"lost\",\"Dan Roundfield\",1980,3.0,0.61,50.0],[\"lost\",\"Gus Williams\",1980,2.0,0.683,56.0],[\"lost\",\"Moses Malone\",1980,4.5,0.5,41.0],[\"lost\",\"Larry Bird\",1981,1.5,0.756,62.0],[\"lost\",\"Kareem Abdul-Jabbar\",1981,2.0,0.659,54.0],[\"lost\",\"Moses Malone\",1981,5.5,0.488,40.0],[\"lost\",\"George Gervin\",1981,3.0,0.634,52.0],[\"lost\",\"Marques Johnson\",1981,3.0,0.732,60.0],[\"lost\",\"Robert Parish\",1981,1.5,0.756,62.0],[\"lost\",\"Dennis Johnson\",1981,1.0,0.695,57.0],[\"lost\",\"Tiny Archibald\",1981,1.5,0.756,62.0],[\"lost\",\"Jamaal Wilkes\",1981,2.0,0.659,54.0],[\"lost\",\"Magic Johnson\",1981,2.0,0.659,54.0],[\"lost\",\"Adrian Dantley\",1981,11.0,0.341,28.0],[\"lost\",\"Phil Ford\",1981,5.5,0.488,40.0],[\"lost\",\"Bernard King\",1981,7.0,0.476,39.0],[\"lost\",\"Kelvin Ransey\",1981,4.0,0.549,45.0],[\"lost\",\"Jack Sikma\",1981,10.0,0.415,34.0],[\"lost\",\"Otis Birdsong\",1981,5.5,0.488,40.0],[\"lost\",\"Micheal Ray Richardson\",1981,4.0,0.61,50.0],[\"lost\",\"Truck Robinson\",1981,1.0,0.695,57.0],[\"lost\",\"Reggie Theus\",1981,5.0,0.549,45.0],[\"lost\",\"Norm Nixon\",1981,2.0,0.659,54.0],[\"lost\",\"Artis Gilmore\",1981,5.0,0.549,45.0],[\"lost\",\"Bob Lanier\",1981,3.0,0.732,60.0],[\"lost\",\"Michael Cooper\",1981,2.0,0.659,54.0],[\"lost\",\"Walter Davis\",1981,1.0,0.695,57.0],[\"lost\",\"George Johnson\",1981,3.0,0.634,52.0],[\"lost\",\"George Johnson\",1981,3.0,0.634,52.0],[\"lost\",\"Bobby Jones\",1981,1.5,0.756,62.0],[\"lost\",\"Mike Mitchell\",1981,9.0,0.341,28.0],[\"lost\",\"James Silas\",1981,3.0,0.634,52.0],[\"lost\",\"Quinn Buckner\",1981,3.0,0.732,60.0],[\"lost\",\"Caldwell Jones\",1981,1.5,0.756,62.0],[\"lost\",\"Larry Bird\",1982,1.0,0.768,63.0],[\"lost\",\"Julius Erving\",1982,2.0,0.707,58.0],[\"lost\",\"Robert Parish\",1982,1.0,0.768,63.0],[\"lost\",\"Gus Williams\",1982,2.0,0.634,52.0],[\"lost\",\"George Gervin\",1982,3.0,0.585,48.0],[\"lost\",\"Sidney Moncrief\",1982,3.0,0.671,55.0],[\"lost\",\"Magic Johnson\",1982,1.0,0.695,57.0],[\"lost\",\"Jack Sikma\",1982,2.0,0.634,52.0],[\"lost\",\"Kareem Abdul-Jabbar\",1982,1.0,0.695,57.0],[\"lost\",\"Dan Roundfield\",1982,6.0,0.512,42.0],[\"lost\",\"Kelly Tripucka\",1982,7.0,0.476,39.0],[\"lost\",\"Alex English\",1982,5.0,0.561,46.0],[\"lost\",\"Bernard King\",1982,7.0,0.549,45.0],[\"lost\",\"Adrian Dantley\",1982,11.0,0.305,25.0],[\"lost\",\"Ray Williams\",1982,4.0,0.537,44.0],[\"lost\",\"Michael Cooper\",1982,1.0,0.695,57.0],[\"lost\",\"Dan Issel\",1982,5.0,0.561,46.0],[\"lost\",\"Marques Johnson\",1982,3.0,0.671,55.0],[\"lost\",\"Isiah Thomas\",1982,7.0,0.476,39.0],[\"lost\",\"Dennis Johnson\",1982,5.0,0.561,46.0],[\"lost\",\"Mychal Thompson\",1982,8.0,0.512,42.0],[\"lost\",\"Jay Vincent\",1982,10.0,0.341,28.0],[\"lost\",\"Jamaal Wilkes\",1982,1.0,0.695,57.0],[\"lost\",\"Buck Williams\",1982,4.0,0.537,44.0],[\"lost\",\"Larry Bird\",1983,2.0,0.683,56.0],[\"lost\",\"Magic Johnson\",1983,1.0,0.707,58.0],[\"lost\",\"Sidney Moncrief\",1983,3.0,0.622,51.0],[\"lost\",\"Julius Erving\",1983,1.0,0.793,65.0],[\"lost\",\"Alex English\",1983,6.5,0.549,45.0],[\"lost\",\"Buck Williams\",1983,4.0,0.598,49.0],[\"lost\",\"Artis Gilmore\",1983,2.5,0.646,53.0],[\"lost\",\"George Gervin\",1983,2.5,0.646,53.0],[\"lost\",\"Kareem Abdul-Jabbar\",1983,1.0,0.707,58.0],[\"lost\",\"Jack Sikma\",1983,4.0,0.585,48.0],[\"lost\",\"Jeff Ruland\",1983,7.0,0.512,42.0],[\"lost\",\"Terry Cummings\",1983,11.0,0.305,25.0],[\"lost\",\"Maurice Lucas\",1983,2.5,0.646,53.0],[\"lost\",\"Alton Lister\",1983,3.0,0.622,51.0],[\"lost\",\"Bernard King\",1983,5.0,0.537,44.0],[\"lost\",\"Isiah Thomas\",1983,8.0,0.451,37.0],[\"lost\",\"Larry Drew\",1983,6.5,0.549,45.0],[\"lost\",\"Gus Williams\",1983,4.0,0.585,48.0],[\"lost\",\"Dan Roundfield\",1983,6.0,0.524,43.0],[\"lost\",\"Marques Johnson\",1983,3.0,0.622,51.0],[\"lost\",\"Norm Nixon\",1983,1.0,0.707,58.0],[\"lost\",\"Kiki Vandeweghe\",1983,6.5,0.549,45.0],[\"lost\",\"Bernard King\",1984,5.0,0.573,47.0],[\"lost\",\"Magic Johnson\",1984,1.0,0.659,54.0],[\"lost\",\"Kareem Abdul-Jabbar\",1984,1.0,0.659,54.0],[\"lost\",\"Isiah Thomas\",1984,4.0,0.598,49.0],[\"lost\",\"Julius Erving\",1984,2.0,0.634,52.0],[\"lost\",\"Adrian Dantley\",1984,3.0,0.549,45.0],[\"lost\",\"Sidney Moncrief\",1984,3.0,0.61,50.0],[\"lost\",\"Jeff Ruland\",1984,8.0,0.427,35.0],[\"lost\",\"Moses Malone\",1984,2.0,0.634,52.0],[\"lost\",\"Mark Aguirre\",1984,4.0,0.524,43.0],[\"lost\",\"Bill Laimbeer\",1984,4.0,0.598,49.0],[\"lost\",\"Rickey Green\",1984,3.0,0.549,45.0],[\"lost\",\"World B. Free\",1984,9.0,0.341,28.0],[\"lost\",\"Marques Johnson\",1984,3.0,0.61,50.0],[\"lost\",\"Magic Johnson\",1985,1.0,0.756,62.0],[\"lost\",\"Moses Malone\",1985,3.0,0.707,58.0],[\"lost\",\"Kareem Abdul-Jabbar\",1985,1.0,0.756,62.0],[\"lost\",\"Terry Cummings\",1985,2.0,0.72,59.0],[\"lost\",\"Michael Jordan\",1985,7.0,0.463,38.0],[\"lost\",\"Bernard King\",1985,10.0,0.293,24.0],[\"lost\",\"Sidney Moncrief\",1985,2.0,0.72,59.0],[\"lost\",\"Isiah Thomas\",1985,4.0,0.561,46.0],[\"lost\",\"Ralph Sampson\",1985,3.0,0.585,48.0],[\"lost\",\"Calvin Natt\",1985,2.0,0.634,52.0],[\"lost\",\"Alex English\",1985,2.0,0.634,52.0],[\"lost\",\"Hakeem Olajuwon\",1985,3.0,0.585,48.0],[\"lost\",\"Micheal Ray Richardson\",1985,5.0,0.512,42.0],[\"lost\",\"Andrew Toney\",1985,3.0,0.707,58.0],[\"lost\",\"Mark Eaton\",1985,6.5,0.5,41.0],[\"lost\",\"Paul Pressey\",1985,2.0,0.72,59.0],[\"lost\",\"Jack Sikma\",1985,10.0,0.378,31.0],[\"lost\",\"Dominique Wilkins\",1985,9.0,0.415,34.0],[\"lost\",\"World B. Free\",1985,8.0,0.439,36.0],[\"lost\",\"Purvis Short\",1985,12.0,0.268,22.0],[\"lost\",\"Clyde Drexler\",1985,5.0,0.512,42.0],[\"lost\",\"Julius Erving\",1985,3.0,0.707,58.0],[\"lost\",\"Dominique Wilkins\",1986,4.0,0.61,50.0],[\"lost\",\"Magic Johnson\",1986,1.0,0.756,62.0],[\"lost\",\"Hakeem Olajuwon\",1986,2.0,0.622,51.0],[\"lost\",\"Kareem Abdul-Jabbar\",1986,1.0,0.756,62.0],[\"lost\",\"Charles Barkley\",1986,3.0,0.659,54.0],[\"lost\",\"Sidney Moncrief\",1986,2.0,0.695,57.0],[\"lost\",\"Alex English\",1986,3.0,0.573,47.0],[\"lost\",\"Isiah Thomas\",1986,5.0,0.561,46.0],[\"lost\",\"Moses Malone\",1986,3.0,0.659,54.0],[\"lost\",\"Terry Cummings\",1986,2.0,0.695,57.0],[\"lost\",\"James Worthy\",1986,1.0,0.756,62.0],[\"lost\",\"Kevin McHale\",1986,1.0,0.817,67.0],[\"lost\",\"Paul Pressey\",1986,2.0,0.695,57.0],[\"lost\",\"Alvin Robertson\",1986,8.0,0.427,35.0],[\"lost\",\"Adrian Dantley\",1986,5.0,0.512,42.0],[\"lost\",\"Buck Williams\",1986,6.5,0.476,39.0],[\"lost\",\"Dennis Johnson\",1986,1.0,0.817,67.0],[\"lost\",\"Michael Jordan\",1987,8.0,0.488,40.0],[\"lost\",\"Larry Bird\",1987,1.0,0.72,59.0],[\"lost\",\"Kevin McHale\",1987,1.0,0.72,59.0],[\"lost\",\"Dominique Wilkins\",1987,2.0,0.695,57.0],[\"lost\",\"Charles Barkley\",1987,5.0,0.549,45.0],[\"lost\",\"Hakeem Olajuwon\",1987,5.5,0.512,42.0],[\"lost\",\"Isiah Thomas\",1987,3.0,0.634,52.0],[\"lost\",\"Fat Lever\",1987,8.0,0.451,37.0],[\"lost\",\"Moses Malone\",1987,6.0,0.512,42.0],[\"lost\",\"Steve Johnson\",1987,3.0,0.598,49.0],[\"lost\",\"Karl Malone\",1987,4.0,0.537,44.0],[\"lost\",\"Robert Parish\",1987,1.0,0.72,59.0],[\"lost\",\"Alex English\",1987,8.0,0.451,37.0],[\"lost\",\"Mark Aguirre\",1987,2.0,0.671,55.0],[\"lost\",\"Rolando Blackman\",1987,2.0,0.671,55.0],[\"lost\",\"Joe Barry Carroll\",1987,5.5,0.512,42.0],[\"lost\",\"Larry Bird\",1988,1.0,0.695,57.0],[\"lost\",\"Magic Johnson\",1988,1.0,0.756,62.0],[\"lost\",\"Charles Barkley\",1988,10.0,0.439,36.0],[\"lost\",\"Clyde Drexler\",1988,3.5,0.646,53.0],[\"lost\",\"Dominique Wilkins\",1988,3.5,0.61,50.0],[\"lost\",\"Hakeem Olajuwon\",1988,6.0,0.561,46.0],[\"lost\",\"Karl Malone\",1988,5.0,0.573,47.0],[\"lost\",\"Fat Lever\",1988,2.0,0.659,54.0],[\"lost\",\"John Stockton\",1988,5.0,0.573,47.0],[\"lost\",\"Alex English\",1988,2.0,0.659,54.0],[\"lost\",\"Isiah Thomas\",1988,2.0,0.659,54.0],[\"lost\",\"Mark Jackson\",1988,8.0,0.463,38.0],[\"lost\",\"Michael Adams\",1988,2.0,0.659,54.0],[\"lost\",\"Mark Aguirre\",1988,3.5,0.646,53.0],[\"lost\",\"Adrian Dantley\",1988,2.0,0.659,54.0],[\"lost\",\"Buck Williams\",1988,11.0,0.232,19.0],[\"lost\",\"Michael Jordan\",1989,6.0,0.573,47.0],[\"lost\",\"Karl Malone\",1989,3.0,0.622,51.0],[\"lost\",\"Patrick Ewing\",1989,3.5,0.634,52.0],[\"lost\",\"Hakeem Olajuwon\",1989,5.0,0.549,45.0],[\"lost\",\"Charles Barkley\",1989,7.0,0.561,46.0],[\"lost\",\"John Stockton\",1989,3.0,0.622,51.0],[\"lost\",\"Kevin Johnson\",1989,2.0,0.671,55.0],[\"lost\",\"Tom Chambers\",1989,2.0,0.671,55.0],[\"lost\",\"Mark Price\",1989,2.0,0.695,57.0],[\"lost\",\"Brad Daugherty\",1989,2.0,0.695,57.0],[\"lost\",\"Robert Parish\",1989,8.0,0.512,42.0],[\"lost\",\"Mark Eaton\",1989,3.0,0.622,51.0],[\"lost\",\"Moses Malone\",1989,3.5,0.634,52.0],[\"lost\",\"Chris Mullin\",1989,7.0,0.524,43.0],[\"lost\",\"Larry Nance\",1989,2.0,0.695,57.0],[\"lost\",\"Terry Cummings\",1989,5.0,0.598,49.0],[\"lost\",\"Joe Dumars\",1989,1.0,0.768,63.0],[\"lost\",\"Isiah Thomas\",1989,1.0,0.768,63.0],[\"lost\",\"Charles Barkley\",1990,3.0,0.646,53.0],[\"lost\",\"Michael Jordan\",1990,2.0,0.671,55.0],[\"lost\",\"Karl Malone\",1990,4.0,0.671,55.0],[\"lost\",\"Patrick Ewing\",1990,5.0,0.549,45.0],[\"lost\",\"David Robinson\",1990,3.0,0.683,56.0],[\"lost\",\"Hakeem Olajuwon\",1990,8.5,0.5,41.0],[\"lost\",\"Tom Chambers\",1990,5.0,0.659,54.0],[\"lost\",\"John Stockton\",1990,4.0,0.671,55.0],[\"lost\",\"Larry Bird\",1990,4.0,0.634,52.0],[\"lost\",\"Buck Williams\",1990,2.0,0.72,59.0],[\"lost\",\"Clyde Drexler\",1990,2.0,0.72,59.0],[\"lost\",\"Joe Dumars\",1990,1.0,0.72,59.0],[\"lost\",\"Isiah Thomas\",1990,1.0,0.72,59.0],[\"lost\",\"Magic Johnson\",1991,2.0,0.707,58.0],[\"lost\",\"David Robinson\",1991,3.5,0.671,55.0],[\"lost\",\"Charles Barkley\",1991,5.0,0.537,44.0],[\"lost\",\"Karl Malone\",1991,5.0,0.659,54.0],[\"lost\",\"Clyde Drexler\",1991,1.0,0.768,63.0],[\"lost\",\"Kevin Johnson\",1991,3.5,0.671,55.0],[\"lost\",\"Dominique Wilkins\",1991,6.0,0.524,43.0],[\"lost\",\"Larry Bird\",1991,2.0,0.683,56.0],[\"lost\",\"Terry Porter\",1991,1.0,0.768,63.0],[\"lost\",\"Patrick Ewing\",1991,8.0,0.476,39.0],[\"lost\",\"John Stockton\",1991,5.0,0.659,54.0],[\"lost\",\"Isiah Thomas\",1991,3.0,0.61,50.0],[\"lost\",\"Robert Parish\",1991,2.0,0.683,56.0],[\"lost\",\"Joe Dumars\",1991,3.0,0.61,50.0],[\"lost\",\"Bernard King\",1991,10.0,0.366,30.0],[\"lost\",\"Kenny Smith\",1991,6.0,0.634,52.0],[\"lost\",\"Hakeem Olajuwon\",1991,6.0,0.634,52.0],[\"lost\",\"Tim Hardaway\",1991,7.0,0.537,44.0],[\"lost\",\"Kevin McHale\",1991,2.0,0.683,56.0],[\"lost\",\"Clyde Drexler\",1992,1.0,0.695,57.0],[\"lost\",\"David Robinson\",1992,5.5,0.573,47.0],[\"lost\",\"Karl Malone\",1992,2.5,0.671,55.0],[\"lost\",\"Patrick Ewing\",1992,3.5,0.622,51.0],[\"lost\",\"Chris Mullin\",1992,2.5,0.671,55.0],[\"lost\",\"Mark Price\",1992,2.0,0.695,57.0],[\"lost\",\"Tim Hardaway\",1992,2.5,0.671,55.0],[\"lost\",\"Scottie Pippen\",1992,1.0,0.817,67.0],[\"lost\",\"Dennis Rodman\",1992,5.0,0.585,48.0],[\"lost\",\"Brad Daugherty\",1992,2.0,0.695,57.0],[\"lost\",\"Charles Barkley\",1992,10.0,0.427,35.0],[\"lost\",\"John Stockton\",1992,2.5,0.671,55.0],[\"lost\",\"Larry Bird\",1992,3.5,0.622,51.0],[\"lost\",\"Kevin Johnson\",1992,4.0,0.646,53.0],[\"lost\",\"Danny Manning\",1992,7.0,0.549,45.0],[\"lost\",\"Detlef Schrempf\",1992,6.5,0.488,40.0],[\"lost\",\"Hakeem Olajuwon\",1993,2.5,0.671,55.0],[\"lost\",\"Michael Jordan\",1993,2.0,0.695,57.0],[\"lost\",\"Patrick Ewing\",1993,1.0,0.732,60.0],[\"lost\",\"Dominique Wilkins\",1993,6.5,0.524,43.0],[\"lost\",\"David Robinson\",1993,5.0,0.598,49.0],[\"lost\",\"Shaquille O'Neal\",1993,8.5,0.5,41.0],[\"lost\",\"Karl Malone\",1993,6.0,0.573,47.0],[\"lost\",\"Mark Price\",1993,3.0,0.659,54.0],[\"lost\",\"Brad Daugherty\",1993,3.0,0.659,54.0],[\"lost\",\"Clyde Drexler\",1993,4.0,0.622,51.0],[\"lost\",\"Joe Dumars\",1993,10.0,0.488,40.0],[\"lost\",\"Shawn Kemp\",1993,2.5,0.671,55.0],[\"lost\",\"John Stockton\",1993,6.0,0.573,47.0],[\"lost\",\"David Robinson\",1994,4.0,0.671,55.0],[\"lost\",\"Scottie Pippen\",1994,3.0,0.671,55.0],[\"lost\",\"Shaquille O'Neal\",1994,4.0,0.61,50.0],[\"lost\",\"Patrick Ewing\",1994,1.5,0.695,57.0],[\"lost\",\"Gary Payton\",1994,1.0,0.768,63.0],[\"lost\",\"Shawn Kemp\",1994,1.0,0.768,63.0],[\"lost\",\"Karl Malone\",1994,5.0,0.646,53.0],[\"lost\",\"Mark Price\",1994,5.5,0.573,47.0],[\"lost\",\"Charles Barkley\",1994,3.0,0.683,56.0],[\"lost\",\"Mookie Blaylock\",1994,1.5,0.695,57.0],[\"lost\",\"Kevin Johnson\",1994,3.0,0.683,56.0],[\"lost\",\"Dennis Rodman\",1994,4.0,0.671,55.0],[\"lost\",\"Latrell Sprewell\",1994,6.0,0.61,50.0],[\"lost\",\"John Stockton\",1994,5.0,0.646,53.0],[\"lost\",\"Kevin Willis\",1994,1.5,0.695,57.0],[\"lost\",\"Shaquille O'Neal\",1995,1.0,0.695,57.0],[\"lost\",\"Karl Malone\",1995,2.0,0.732,60.0],[\"lost\",\"Patrick Ewing\",1995,2.0,0.671,55.0],[\"lost\",\"Hakeem Olajuwon\",1995,6.0,0.573,47.0],[\"lost\",\"Charles Barkley\",1995,3.0,0.72,59.0],[\"lost\",\"Scottie Pippen\",1995,5.0,0.573,47.0],[\"lost\",\"John Stockton\",1995,2.0,0.732,60.0],[\"lost\",\"Gary Payton\",1995,4.0,0.695,57.0],[\"lost\",\"Anfernee Hardaway\",1995,1.0,0.695,57.0],[\"lost\",\"Michael Jordan\",1995,5.0,0.573,47.0],[\"lost\",\"Dennis Rodman\",1995,1.0,0.756,62.0],[\"lost\",\"Jason Kidd\",1995,10.0,0.439,36.0],[\"lost\",\"Cedric Ceballos\",1995,5.0,0.585,48.0],[\"lost\",\"David Robinson\",1996,2.0,0.72,59.0],[\"lost\",\"Anfernee Hardaway\",1996,2.0,0.732,60.0],[\"lost\",\"Hakeem Olajuwon\",1996,5.0,0.585,48.0],[\"lost\",\"Scottie Pippen\",1996,1.0,0.878,72.0],[\"lost\",\"Gary Payton\",1996,1.0,0.78,64.0],[\"lost\",\"Karl Malone\",1996,3.0,0.671,55.0],[\"lost\",\"Shawn Kemp\",1996,1.0,0.78,64.0],[\"lost\",\"Grant Hill\",1996,6.5,0.561,46.0],[\"lost\",\"Shaquille O'Neal\",1996,2.0,0.732,60.0],[\"lost\",\"John Stockton\",1996,3.0,0.671,55.0],[\"lost\",\"Charles Barkley\",1996,7.0,0.5,41.0],[\"lost\",\"Magic Johnson\",1996,4.0,0.646,53.0],[\"lost\",\"Alonzo Mourning\",1996,8.0,0.512,42.0],[\"lost\",\"Dennis Rodman\",1996,1.0,0.878,72.0],[\"lost\",\"Terrell Brandon\",1996,4.5,0.573,47.0],[\"lost\",\"Mitch Richmond\",1996,8.0,0.476,39.0],[\"lost\",\"Michael Jordan\",1997,1.0,0.841,69.0],[\"lost\",\"Grant Hill\",1997,5.5,0.659,54.0],[\"lost\",\"Tim Hardaway\",1997,2.0,0.744,61.0],[\"lost\",\"Glen Rice\",1997,5.5,0.659,54.0],[\"lost\",\"Gary Payton\",1997,2.5,0.695,57.0],[\"lost\",\"Hakeem Olajuwon\",1997,2.5,0.695,57.0],[\"lost\",\"Patrick Ewing\",1997,3.0,0.695,57.0],[\"lost\",\"Anthony Mason\",1997,5.5,0.659,54.0],[\"lost\",\"Shaquille O'Neal\",1997,4.0,0.683,56.0],[\"lost\",\"Scottie Pippen\",1997,1.0,0.841,69.0],[\"lost\",\"Alonzo Mourning\",1997,2.0,0.744,61.0],[\"lost\",\"Dikembe Mutombo\",1997,4.0,0.683,56.0],[\"lost\",\"Mitch Richmond\",1997,9.0,0.415,34.0],[\"lost\",\"John Stockton\",1997,1.0,0.78,64.0],[\"lost\",\"Charles Barkley\",1997,2.5,0.695,57.0],[\"lost\",\"Tom Gugliotta\",1997,6.5,0.488,40.0],[\"lost\",\"Allen Iverson\",1997,14.0,0.268,22.0],[\"lost\",\"Kevin Johnson\",1997,6.5,0.488,40.0],[\"lost\",\"Steve Smith\",1997,4.0,0.683,56.0],[\"lost\",\"Karl Malone\",1998,1.0,0.756,62.0],[\"lost\",\"Gary Payton\",1998,2.5,0.744,61.0],[\"lost\",\"Shaquille O'Neal\",1998,2.5,0.744,61.0],[\"lost\",\"Tim Duncan\",1998,4.5,0.683,56.0],[\"lost\",\"Tim Hardaway\",1998,3.0,0.671,55.0],[\"lost\",\"David Robinson\",1998,4.5,0.683,56.0],[\"lost\",\"Vin Baker\",1998,2.5,0.744,61.0],[\"lost\",\"Grant Hill\",1998,11.0,0.451,37.0],[\"lost\",\"Scottie Pippen\",1998,1.0,0.756,62.0],[\"lost\",\"Glen Rice\",1998,4.0,0.622,51.0],[\"lost\",\"Antoine Walker\",1998,12.5,0.439,36.0],[\"lost\",\"Jason Kidd\",1998,4.5,0.683,56.0],[\"lost\",\"John Stockton\",1998,1.0,0.756,62.0],[\"lost\",\"Mitch Richmond\",1998,9.0,0.329,27.0],[\"lost\",\"Reggie Miller\",1998,2.0,0.707,58.0],[\"lost\",\"Rik Smits\",1998,2.0,0.707,58.0],[\"lost\",\"Michael Finley\",1998,10.0,0.244,20.0],[\"lost\",\"Rod Strickland\",1998,9.0,0.512,42.0],[\"lost\",\"Alonzo Mourning\",1999,2.0,0.66,33.0],[\"lost\",\"Tim Duncan\",1999,3.5,0.74,37.0],[\"lost\",\"Allen Iverson\",1999,6.5,0.56,28.0],[\"lost\",\"Jason Kidd\",1999,8.5,0.54,27.0],[\"lost\",\"Shaquille O'Neal\",1999,6.5,0.62,31.0],[\"lost\",\"Chris Webber\",1999,8.5,0.54,27.0],[\"lost\",\"Grant Hill\",1999,5.0,0.58,29.0],[\"lost\",\"Gary Payton\",1999,10.5,0.5,25.0],[\"lost\",\"Kevin Garnett\",1999,10.5,0.5,25.0],[\"lost\",\"Shawn Kemp\",1999,11.0,0.44,22.0],[\"lost\",\"David Robinson\",1999,3.5,0.74,37.0],[\"lost\",\"Hakeem Olajuwon\",1999,6.5,0.62,31.0],[\"lost\",\"Arvydas Sabonis\",1999,5.0,0.7,35.0],[\"lost\",\"Darrell Armstrong\",1999,2.0,0.66,33.0],[\"lost\",\"Vince Carter\",1999,10.0,0.46,23.0],[\"lost\",\"Anfernee Hardaway\",1999,2.0,0.66,33.0],[\"lost\",\"Mark Jackson\",1999,2.0,0.66,33.0],[\"lost\",\"Glenn Robinson\",1999,6.5,0.56,28.0],[\"lost\",\"Steve Smith\",1999,4.0,0.62,31.0],[\"lost\",\"Rasheed Wallace\",1999,5.0,0.7,35.0],[\"lost\",\"Kevin Garnett\",2000,6.0,0.61,50.0],[\"lost\",\"Alonzo Mourning\",2000,2.0,0.634,52.0],[\"lost\",\"Karl Malone\",2000,3.0,0.671,55.0],[\"lost\",\"Tim Duncan\",2000,4.5,0.646,53.0],[\"lost\",\"Gary Payton\",2000,7.0,0.549,45.0],[\"lost\",\"Allen Iverson\",2000,4.5,0.598,49.0],[\"lost\",\"Grant Hill\",2000,7.5,0.512,42.0],[\"lost\",\"Chris Webber\",2000,8.0,0.537,44.0],[\"lost\",\"Vince Carter\",2000,6.0,0.549,45.0],[\"lost\",\"Jason Kidd\",2000,4.5,0.646,53.0],[\"lost\",\"Kobe Bryant\",2000,1.0,0.817,67.0],[\"lost\",\"Darrell Armstrong\",2000,9.0,0.5,41.0],[\"lost\",\"Michael Finley\",2000,9.0,0.488,40.0],[\"lost\",\"Reggie Miller\",2000,1.0,0.683,56.0],[\"lost\",\"Jalen Rose\",2000,1.0,0.683,56.0],[\"lost\",\"Tim Duncan\",2001,1.0,0.707,58.0],[\"lost\",\"Shaquille O'Neal\",2001,2.0,0.683,56.0],[\"lost\",\"Chris Webber\",2001,3.0,0.671,55.0],[\"lost\",\"Kevin Garnett\",2001,8.0,0.573,47.0],[\"lost\",\"Tracy McGrady\",2001,7.0,0.524,43.0],[\"lost\",\"Karl Malone\",2001,4.5,0.646,53.0],[\"lost\",\"Jason Kidd\",2001,6.0,0.622,51.0],[\"lost\",\"Kobe Bryant\",2001,2.0,0.683,56.0],[\"lost\",\"David Robinson\",2001,1.0,0.707,58.0],[\"lost\",\"Ray Allen\",2001,2.0,0.634,52.0],[\"lost\",\"Vince Carter\",2001,5.0,0.573,47.0],[\"lost\",\"Paul Pierce\",2001,9.0,0.439,36.0],[\"lost\",\"Jerry Stackhouse\",2001,10.0,0.39,32.0],[\"lost\",\"Michael Finley\",2001,4.5,0.646,53.0],[\"lost\",\"Anthony Mason\",2001,3.0,0.61,50.0],[\"lost\",\"John Stockton\",2001,4.5,0.646,53.0],[\"lost\",\"Jason Kidd\",2002,1.0,0.634,52.0],[\"lost\",\"Shaquille O'Neal\",2002,2.5,0.707,58.0],[\"lost\",\"Tracy McGrady\",2002,4.5,0.537,44.0],[\"lost\",\"Kobe Bryant\",2002,2.5,0.707,58.0],[\"lost\",\"Gary Payton\",2002,7.0,0.549,45.0],[\"lost\",\"Chris Webber\",2002,1.0,0.744,61.0],[\"lost\",\"Dirk Nowitzki\",2002,4.0,0.695,57.0],[\"lost\",\"Allen Iverson\",2002,6.0,0.524,43.0],[\"lost\",\"Ben Wallace\",2002,2.0,0.61,50.0],[\"lost\",\"Paul Pierce\",2002,3.0,0.598,49.0],[\"lost\",\"Kevin Garnett\",2002,5.0,0.61,50.0],[\"lost\",\"Michael Jordan\",2002,10.0,0.451,37.0],[\"lost\",\"Steve Nash\",2002,4.0,0.695,57.0],[\"lost\",\"Jerry Stackhouse\",2002,2.0,0.61,50.0],[\"lost\",\"Mike Bibby\",2002,1.0,0.744,61.0],[\"lost\",\"Elton Brand\",2002,9.0,0.476,39.0],[\"lost\",\"Peja Stojakovi\\u0107\",2002,1.0,0.744,61.0],[\"lost\",\"Kevin Garnett\",2003,4.0,0.622,51.0],[\"lost\",\"Kobe Bryant\",2003,5.5,0.61,50.0],[\"lost\",\"Tracy McGrady\",2003,7.5,0.512,42.0],[\"lost\",\"Shaquille O'Neal\",2003,5.5,0.61,50.0],[\"lost\",\"Allen Iverson\",2003,3.5,0.585,48.0],[\"lost\",\"Dirk Nowitzki\",2003,1.5,0.732,60.0],[\"lost\",\"Ben Wallace\",2003,1.0,0.61,50.0],[\"lost\",\"Jason Kidd\",2003,2.0,0.598,49.0],[\"lost\",\"Chris Webber\",2003,3.0,0.72,59.0],[\"lost\",\"Jamal Mashburn\",2003,5.0,0.573,47.0],[\"lost\",\"Steve Nash\",2003,1.5,0.732,60.0],[\"lost\",\"Paul Pierce\",2003,6.0,0.537,44.0],[\"lost\",\"Tim Duncan\",2004,2.0,0.695,57.0],[\"lost\",\"Jermaine O'Neal\",2004,1.0,0.744,61.0],[\"lost\",\"Peja Stojakovi\\u0107\",2004,4.0,0.671,55.0],[\"lost\",\"Kobe Bryant\",2004,3.0,0.683,56.0],[\"lost\",\"Shaquille O'Neal\",2004,3.0,0.683,56.0],[\"lost\",\"Ben Wallace\",2004,2.0,0.659,54.0],[\"lost\",\"Jason Kidd\",2004,3.0,0.573,47.0],[\"lost\",\"LeBron James\",2004,9.0,0.427,35.0],[\"lost\",\"Sam Cassell\",2004,1.0,0.707,58.0],[\"lost\",\"Baron Davis\",2004,5.5,0.5,41.0],[\"lost\",\"Dirk Nowitzki\",2004,5.0,0.634,52.0],[\"lost\",\"Andrei Kirilenko\",2004,9.0,0.512,42.0],[\"lost\",\"Carmelo Anthony\",2004,8.0,0.524,43.0],[\"lost\",\"Yao Ming\",2004,7.0,0.549,45.0],[\"lost\",\"Michael Redd\",2004,5.5,0.5,41.0],[\"lost\",\"Shaquille O'Neal\",2005,1.0,0.72,59.0],[\"lost\",\"Dirk Nowitzki\",2005,3.0,0.707,58.0],[\"lost\",\"Tim Duncan\",2005,2.0,0.72,59.0],[\"lost\",\"Allen Iverson\",2005,7.0,0.524,43.0],[\"lost\",\"LeBron James\",2005,8.5,0.512,42.0],[\"lost\",\"Tracy McGrady\",2005,5.0,0.622,51.0],[\"lost\",\"Dwyane Wade\",2005,1.0,0.72,59.0],[\"lost\",\"Amar'e Stoudemire\",2005,1.0,0.756,62.0],[\"lost\",\"Ray Allen\",2005,4.0,0.634,52.0],[\"lost\",\"Kevin Garnett\",2005,9.0,0.537,44.0],[\"lost\",\"Gilbert Arenas\",2005,4.5,0.549,45.0],[\"lost\",\"P.J. Brown\",2005,15.0,0.22,18.0],[\"lost\",\"Marcus Camby\",2005,7.0,0.598,49.0],[\"lost\",\"Shawn Marion\",2005,1.0,0.756,62.0],[\"lost\",\"LeBron James\",2006,3.0,0.61,50.0],[\"lost\",\"Dirk Nowitzki\",2006,2.0,0.732,60.0],[\"lost\",\"Kobe Bryant\",2006,6.0,0.549,45.0],[\"lost\",\"Chauncey Billups\",2006,1.0,0.78,64.0],[\"lost\",\"Dwyane Wade\",2006,2.0,0.634,52.0],[\"lost\",\"Elton Brand\",2006,5.0,0.573,47.0],[\"lost\",\"Tim Duncan\",2006,1.0,0.768,63.0],[\"lost\",\"Tony Parker\",2006,1.0,0.768,63.0],[\"lost\",\"Allen Iverson\",2006,9.0,0.463,38.0],[\"lost\",\"Shawn Marion\",2006,3.0,0.659,54.0],[\"lost\",\"Steve Nash\",2007,2.0,0.744,61.0],[\"lost\",\"Kobe Bryant\",2007,7.5,0.512,42.0],[\"lost\",\"Tim Duncan\",2007,3.0,0.707,58.0],[\"lost\",\"LeBron James\",2007,2.0,0.61,50.0],[\"lost\",\"Tracy McGrady\",2007,4.0,0.634,52.0],[\"lost\",\"Chris Bosh\",2007,4.0,0.573,47.0],[\"lost\",\"Gilbert Arenas\",2007,6.5,0.5,41.0],[\"lost\",\"Carlos Boozer\",2007,5.0,0.622,51.0],[\"lost\",\"Kevin Garnett\",2007,12.5,0.39,32.0],[\"lost\",\"Chauncey Billups\",2007,1.0,0.646,53.0],[\"lost\",\"Shaquille O'Neal\",2007,5.0,0.537,44.0],[\"lost\",\"Dwyane Wade\",2007,5.0,0.537,44.0],[\"lost\",\"Amar'e Stoudemire\",2007,2.0,0.744,61.0],[\"lost\",\"Carmelo Anthony\",2007,6.0,0.549,45.0],[\"lost\",\"Baron Davis\",2007,7.5,0.512,42.0],[\"lost\",\"Tony Parker\",2007,3.0,0.707,58.0],[\"lost\",\"Chris Paul\",2008,2.5,0.683,56.0],[\"lost\",\"Kevin Garnett\",2008,1.0,0.805,66.0],[\"lost\",\"LeBron James\",2008,4.0,0.549,45.0],[\"lost\",\"Dwight Howard\",2008,3.0,0.634,52.0],[\"lost\",\"Amar'e Stoudemire\",2008,4.5,0.671,55.0],[\"lost\",\"Tim Duncan\",2008,2.5,0.683,56.0],[\"lost\",\"Tracy McGrady\",2008,4.5,0.671,55.0],[\"lost\",\"Steve Nash\",2008,4.5,0.671,55.0],[\"lost\",\"Manu Gin\\u00f3bili\",2008,2.5,0.683,56.0],[\"lost\",\"Dirk Nowitzki\",2008,7.0,0.622,51.0],[\"lost\",\"Deron Williams\",2008,6.0,0.659,54.0],[\"lost\",\"Carmelo Anthony\",2008,8.0,0.61,50.0],[\"lost\",\"Carlos Boozer\",2008,6.0,0.659,54.0],[\"lost\",\"Antawn Jamison\",2008,5.0,0.524,43.0],[\"lost\",\"Paul Pierce\",2008,1.0,0.805,66.0],[\"lost\",\"Rasheed Wallace\",2008,2.0,0.72,59.0],[\"lost\",\"Kobe Bryant\",2009,1.0,0.793,65.0],[\"lost\",\"Dwyane Wade\",2009,5.0,0.524,43.0],[\"lost\",\"Dwight Howard\",2009,3.0,0.72,59.0],[\"lost\",\"Chris Paul\",2009,7.0,0.598,49.0],[\"lost\",\"Paul Pierce\",2009,2.0,0.756,62.0],[\"lost\",\"Tony Parker\",2009,3.0,0.659,54.0],[\"lost\",\"Brandon Roy\",2009,3.0,0.659,54.0],[\"lost\",\"Dirk Nowitzki\",2009,6.0,0.61,50.0],[\"lost\",\"Tim Duncan\",2009,3.0,0.659,54.0],[\"lost\",\"Yao Ming\",2009,5.0,0.646,53.0],[\"lost\",\"Kevin Durant\",2010,7.0,0.61,50.0],[\"lost\",\"Kobe Bryant\",2010,1.0,0.695,57.0],[\"lost\",\"Dwight Howard\",2010,2.0,0.72,59.0],[\"lost\",\"Dwyane Wade\",2010,5.0,0.573,47.0],[\"lost\",\"Carmelo Anthony\",2010,4.5,0.646,53.0],[\"lost\",\"Dirk Nowitzki\",2010,2.0,0.671,55.0],[\"lost\",\"Steve Nash\",2010,3.0,0.659,54.0],[\"lost\",\"Deron Williams\",2010,4.5,0.646,53.0],[\"lost\",\"Amar'e Stoudemire\",2010,3.0,0.659,54.0],[\"lost\",\"Manu Gin\\u00f3bili\",2010,7.0,0.61,50.0],[\"lost\",\"Chauncey Billups\",2010,4.5,0.646,53.0],[\"lost\",\"Chris Bosh\",2010,9.0,0.488,40.0],[\"lost\",\"Joe Johnson\",2010,3.0,0.646,53.0],[\"lost\",\"Dwight Howard\",2011,4.0,0.634,52.0],[\"lost\",\"LeBron James\",2011,2.0,0.707,58.0],[\"lost\",\"Kobe Bryant\",2011,2.5,0.695,57.0],[\"lost\",\"Kevin Durant\",2011,4.0,0.671,55.0],[\"lost\",\"Dirk Nowitzki\",2011,2.5,0.695,57.0],[\"lost\",\"Dwyane Wade\",2011,2.0,0.707,58.0],[\"lost\",\"Manu Gin\\u00f3bili\",2011,1.0,0.744,61.0],[\"lost\",\"Amar'e Stoudemire\",2011,6.0,0.512,42.0],[\"lost\",\"Blake Griffin\",2011,13.0,0.39,32.0],[\"lost\",\"Rajon Rondo\",2011,3.0,0.683,56.0],[\"lost\",\"Tony Parker\",2011,1.0,0.744,61.0],[\"lost\",\"Chris Paul\",2011,7.5,0.561,46.0],[\"lost\",\"Kevin Durant\",2012,2.0,0.712,47.0],[\"lost\",\"Chris Paul\",2012,5.0,0.606,40.0],[\"lost\",\"Kobe Bryant\",2012,3.5,0.621,41.0],[\"lost\",\"Tony Parker\",2012,1.0,0.758,50.0],[\"lost\",\"Kevin Love\",2012,12.0,0.394,26.0],[\"lost\",\"Dwight Howard\",2012,7.0,0.561,37.0],[\"lost\",\"Rajon Rondo\",2012,6.0,0.591,39.0],[\"lost\",\"Steve Nash\",2012,10.0,0.5,33.0],[\"lost\",\"Dwyane Wade\",2012,3.0,0.697,46.0],[\"lost\",\"Derrick Rose\",2012,2.0,0.758,50.0],[\"lost\",\"Dirk Nowitzki\",2012,7.5,0.545,36.0],[\"lost\",\"Russell Westbrook\",2012,2.0,0.712,47.0],[\"lost\",\"Tim Duncan\",2012,1.0,0.758,50.0],[\"lost\",\"Joe Johnson\",2012,5.0,0.606,40.0],[\"lost\",\"Kevin Durant\",2013,1.0,0.732,60.0],[\"lost\",\"Carmelo Anthony\",2013,2.0,0.659,54.0],[\"lost\",\"Chris Paul\",2013,4.5,0.683,56.0],[\"lost\",\"Kobe Bryant\",2013,7.5,0.549,45.0],[\"lost\",\"Tony Parker\",2013,2.0,0.707,58.0],[\"lost\",\"Tim Duncan\",2013,2.0,0.707,58.0],[\"lost\",\"James Harden\",2013,7.5,0.549,45.0],[\"lost\",\"Russell Westbrook\",2013,1.0,0.732,60.0],[\"lost\",\"Dwyane Wade\",2013,1.0,0.805,66.0],[\"lost\",\"Stephen Curry\",2013,6.0,0.573,47.0],[\"lost\",\"Kevin Garnett\",2013,7.0,0.506,41.0],[\"lost\",\"Marc Gasol\",2013,4.5,0.683,56.0],[\"lost\",\"Ty Lawson\",2013,3.0,0.695,57.0],[\"lost\",\"David Lee\",2013,6.0,0.573,47.0],[\"lost\",\"Joakim Noah\",2013,5.0,0.549,45.0],[\"lost\",\"LeBron James\",2014,2.0,0.659,54.0],[\"lost\",\"Blake Griffin\",2014,3.0,0.695,57.0],[\"lost\",\"Joakim Noah\",2014,3.5,0.585,48.0],[\"lost\",\"James Harden\",2014,4.5,0.659,54.0],[\"lost\",\"Stephen Curry\",2014,6.0,0.622,51.0],[\"lost\",\"Chris Paul\",2014,3.0,0.695,57.0],[\"lost\",\"Al Jefferson\",2014,7.0,0.524,43.0],[\"lost\",\"Paul George\",2014,1.0,0.683,56.0],[\"lost\",\"LaMarcus Aldridge\",2014,4.5,0.659,54.0],[\"lost\",\"Kevin Love\",2014,10.0,0.488,40.0],[\"lost\",\"Tim Duncan\",2014,1.0,0.756,62.0],[\"lost\",\"Tony Parker\",2014,1.0,0.756,62.0],[\"lost\",\"Dirk Nowitzki\",2014,8.0,0.598,49.0],[\"lost\",\"Carmelo Anthony\",2014,9.0,0.451,37.0],[\"lost\",\"Goran Dragi\\u0107\",2014,9.0,0.585,48.0],[\"lost\",\"Mike Conley\",2014,7.0,0.61,50.0],[\"lost\",\"James Harden\",2015,2.5,0.683,56.0],[\"lost\",\"LeBron James\",2015,2.0,0.646,53.0],[\"lost\",\"Russell Westbrook\",2015,8.5,0.549,45.0],[\"lost\",\"Anthony Davis\",2015,8.5,0.549,45.0],[\"lost\",\"Chris Paul\",2015,2.5,0.683,56.0],[\"lost\",\"LaMarcus Aldridge\",2015,6.0,0.622,51.0],[\"lost\",\"Marc Gasol\",2015,4.5,0.671,55.0],[\"lost\",\"Blake Griffin\",2015,2.5,0.683,56.0],[\"lost\",\"Tim Duncan\",2015,4.5,0.671,55.0],[\"lost\",\"Kawhi Leonard\",2015,4.5,0.671,55.0],[\"lost\",\"Klay Thompson\",2015,1.0,0.817,67.0],[\"lost\",\"Kawhi Leonard\",2016,2.0,0.817,67.0],[\"lost\",\"LeBron James\",2016,1.0,0.695,57.0],[\"lost\",\"Russell Westbrook\",2016,3.0,0.671,55.0],[\"lost\",\"Kevin Durant\",2016,3.0,0.671,55.0],[\"lost\",\"Chris Paul\",2016,4.0,0.646,53.0],[\"lost\",\"Draymond Green\",2016,1.0,0.89,73.0],[\"lost\",\"Damian Lillard\",2016,5.0,0.537,44.0],[\"lost\",\"James Harden\",2016,8.0,0.5,41.0],[\"lost\",\"Kyle Lowry\",2016,2.0,0.683,56.0],[\"lost\",\"James Harden\",2017,3.0,0.671,55.0],[\"lost\",\"Kawhi Leonard\",2017,2.0,0.744,61.0],[\"lost\",\"LeBron James\",2017,2.5,0.622,51.0],[\"lost\",\"Isaiah Thomas\",2017,1.0,0.646,53.0],[\"lost\",\"Stephen Curry\",2017,1.0,0.817,67.0],[\"lost\",\"Giannis Antetokounmpo\",2017,6.5,0.512,42.0],[\"lost\",\"John Wall\",2017,4.0,0.598,49.0],[\"lost\",\"Anthony Davis\",2017,10.0,0.415,34.0],[\"lost\",\"Kevin Durant\",2017,1.0,0.817,67.0],[\"lost\",\"DeMar DeRozan\",2017,2.5,0.622,51.0],[\"lost\",\"LeBron James\",2018,4.0,0.61,50.0],[\"lost\",\"Anthony Davis\",2018,5.0,0.585,48.0],[\"lost\",\"Damian Lillard\",2018,3.0,0.598,49.0],[\"lost\",\"Russell Westbrook\",2018,5.0,0.585,48.0],[\"lost\",\"Giannis Antetokounmpo\",2018,6.5,0.537,44.0],[\"lost\",\"Kevin Durant\",2018,2.0,0.707,58.0],[\"lost\",\"DeMar DeRozan\",2018,1.0,0.72,59.0],[\"lost\",\"LaMarcus Aldridge\",2018,7.5,0.573,47.0],[\"lost\",\"Jimmy Butler\",2018,7.5,0.573,47.0],[\"lost\",\"Stephen Curry\",2018,2.0,0.707,58.0],[\"lost\",\"Joel Embiid\",2018,3.0,0.634,52.0],[\"lost\",\"Victor Oladipo\",2018,5.0,0.585,48.0],[\"lost\",\"James Harden\",2019,3.5,0.646,53.0],[\"lost\",\"Paul George\",2019,6.0,0.598,49.0],[\"lost\",\"Nikola Joki\\u0107\",2019,2.0,0.659,54.0],[\"lost\",\"Stephen Curry\",2019,1.0,0.695,57.0],[\"lost\",\"Damian Lillard\",2019,3.5,0.646,53.0],[\"lost\",\"Joel Embiid\",2019,3.0,0.622,51.0],[\"lost\",\"Kevin Durant\",2019,1.0,0.695,57.0],[\"lost\",\"Kawhi Leonard\",2019,2.0,0.707,58.0],[\"lost\",\"Russell Westbrook\",2019,6.0,0.598,49.0],[\"lost\",\"Rudy Gobert\",2019,5.0,0.61,50.0],[\"lost\",\"LeBron James\",2019,10.0,0.451,37.0],[\"lost\",\"LeBron James\",2020,1.0,0.732,52.0],[\"lost\",\"James Harden\",2020,5.0,0.611,44.0],[\"lost\",\"Luka Don\\u010di\\u0107\",2020,7.0,0.573,43.0],[\"lost\",\"Kawhi Leonard\",2020,2.0,0.681,49.0],[\"lost\",\"Anthony Davis\",2020,1.0,0.732,52.0],[\"lost\",\"Chris Paul\",2020,5.0,0.611,44.0],[\"lost\",\"Damian Lillard\",2020,8.0,0.473,35.0],[\"lost\",\"Nikola Joki\\u0107\",2020,3.0,0.63,46.0],[\"lost\",\"Pascal Siakam\",2020,2.0,0.736,53.0],[\"lost\",\"Jimmy Butler\",2020,5.0,0.603,44.0],[\"lost\",\"Jayson Tatum\",2020,3.0,0.667,48.0],[\"lost\",\"Joel Embiid\",2021,1.0,0.681,49.0],[\"lost\",\"Stephen Curry\",2021,8.0,0.542,39.0],[\"lost\",\"Giannis Antetokounmpo\",2021,3.0,0.639,46.0],[\"lost\",\"Chris Paul\",2021,2.0,0.708,51.0],[\"lost\",\"Luka Don\\u010di\\u0107\",2021,6.0,0.583,42.0],[\"lost\",\"Damian Lillard\",2021,6.0,0.583,42.0],[\"lost\",\"Julius Randle\",2021,4.5,0.569,41.0],[\"lost\",\"Rudy Gobert\",2021,1.0,0.722,52.0],[\"lost\",\"Russell Westbrook\",2021,8.5,0.472,34.0],[\"lost\",\"Ben Simmons\",2021,1.0,0.681,49.0],[\"lost\",\"LeBron James\",2021,6.0,0.583,42.0],[\"lost\",\"Kawhi Leonard\",2021,3.5,0.653,47.0]],\"hovertemplate\":\"value_over_replacement_player=%{x}<br>Share=%{y}<br>Player=%{customdata[1]}<br>year=%{customdata[2]}<br>seed=%{customdata[3]}<br>W/L%=%{customdata[4]}<br>W=%{customdata[5]}<extra></extra>\",\"legendgroup\":\"lost\",\"marker\":{\"color\":\"gray\",\"symbol\":\"circle\"},\"mode\":\"markers\",\"name\":\"lost\",\"orientation\":\"v\",\"showlegend\":true,\"type\":\"scatter\",\"x\":[6.8,4.4,4.8,2.3,2.5,3.2,5.0,3.2,5.2,6.1,4.3,3.5,4.9,4.3,2.5,1.4,1.9,3.8,5.4,1.4,3.6,0.1,2.5,2.9,4.2,1.0,2.7,1.0,4.5,2.6,1.9,2.1,1.8,0.6,3.5,1.3,1.6,1.7,0.9,6.4,6.8,3.7,5.2,4.2,5.1,7.0,4.5,4.7,2.4,1.7,4.4,3.1,5.0,3.9,1.6,2.6,2.3,0.7,2.5,3.4,1.6,0.9,1.9,7.2,6.8,5.1,5.2,5.0,3.0,3.4,2.7,4.2,2.9,3.5,3.2,1.1,0.7,3.1,3.0,2.4,4.3,2.6,4.7,0.0,3.2,4.3,5.6,3.3,5.1,5.3,4.7,4.7,3.6,1.8,4.1,2.7,3.5,2.0,3.8,6.1,2.7,4.8,4.3,7.4,3.6,4.7,6.5,1.8,3.4,3.5,3.0,4.8,1.4,2.3,4.5,3.9,3.2,2.8,2.0,4.1,3.5,4.8,5.7,3.8,4.9,5.3,4.5,3.7,4.9,1.3,2.0,3.6,3.9,5.3,4.9,4.8,1.1,1.8,10.6,8.6,5.5,5.6,6.0,5.4,4.0,5.4,3.0,0.3,1.7,2.4,3.1,3.4,2.1,1.8,8.1,5.3,7.5,7.0,4.7,4.6,2.9,5.5,7.6,2.9,3.7,3.9,3.1,3.9,2.9,1.5,11.4,5.9,4.8,5.7,7.4,8.3,5.0,2.6,4.5,2.9,3.8,1.9,2.7,4.7,3.8,2.3,2.4,3.4,8.0,10.6,6.6,6.0,6.8,6.2,3.3,8.0,5.5,1.9,6.3,2.7,3.7,8.1,8.2,7.0,6.2,6.4,6.0,5.4,3.8,6.2,4.9,8.1,2.0,2.6,3.6,1.8,3.3,4.3,5.2,2.7,7.4,7.4,5.9,5.5,4.8,4.2,4.1,6.4,4.0,4.5,6.1,8.1,3.1,4.0,4.6,3.3,7.8,10.2,4.0,4.9,6.8,4.3,7.3,4.4,4.7,3.2,3.2,2.6,6.2,11.4,6.8,7.2,5.5,3.7,4.2,6.4,5.0,4.2,5.7,3.4,2.3,3.5,7.5,1.7,5.7,6.0,4.1,5.3,5.0,7.2,7.9,5.2,4.5,1.1,1.5,2.1,1.5,8.3,6.9,4.9,5.9,5.2,7.1,3.2,5.6,2.8,6.4,5.1,1.8,4.2,1.1,6.2,4.1,8.6,8.0,6.5,3.2,6.1,3.9,3.5,4.3,4.1,6.1,2.9,3.5,5.2,6.3,3.9,2.9,2.2,4.7,2.7,7.1,5.7,4.3,5.3,5.5,6.3,2.2,5.6,2.9,2.4,2.2,4.0,3.6,3.6,4.8,1.6,3.8,3.7,3.0,3.2,3.9,3.9,3.9,1.7,3.8,3.6,3.3,2.3,3.4,2.3,2.1,3.3,2.1,2.3,1.8,1.5,1.7,1.4,6.8,5.0,7.1,5.5,7.3,3.8,5.2,5.6,5.9,4.2,4.5,4.3,3.6,3.6,2.5,5.4,7.1,5.3,6.4,7.0,6.3,4.8,4.7,4.3,5.9,7.2,5.0,5.8,3.4,3.2,5.3,5.0,6.1,6.4,5.2,5.9,3.9,5.5,4.5,4.8,6.6,7.1,2.7,3.6,2.4,1.6,4.8,3.3,8.7,7.7,9.3,5.5,4.8,7.3,4.3,6.5,3.6,3.5,4.5,5.4,6.7,3.1,4.9,4.7,4.1,4.3,4.2,2.9,4.6,4.8,4.3,7.2,1.6,3.2,3.5,4.6,7.1,5.4,5.0,9.1,6.9,4.9,4.7,4.8,9.1,5.2,1.5,2.6,5.1,9.4,7.9,8.0,6.1,7.1,6.8,4.9,3.3,5.3,5.6,5.3,6.1,6.2,8.1,5.2,3.1,5.0,4.3,5.5,4.3,1.1,4.9,2.6,2.5,3.2,3.2,9.3,6.0,9.8,3.7,4.6,4.8,3.1,4.2,6.0,6.0,4.5,2.5,3.5,2.9,5.0,3.6,5.9,9.6,4.7,9.9,3.9,3.5,6.0,4.2,4.7,3.3,7.5,4.4,4.6,7.9,2.9,4.7,4.2,4.1,2.2,4.7,3.6,3.6,3.4,5.4,7.8,5.0,5.3,4.5,6.1,4.5,2.4,3.6,3.2,2.4,6.7,5.8,6.1,2.9,2.3,3.9,3.3,2.1,2.7,4.0,2.9,3.0,3.0,2.2,2.2,8.9,3.9,6.4,5.0,3.1,3.8,5.8,4.6,3.8,5.6,2.3,5.1,2.5,2.8,3.3,7.9,4.7,5.2,5.3,6.7,5.8,3.0,5.0,2.7,7.7,2.9,1.5,4.7,5.3,4.0,3.6,8.1,5.7,5.8,6.7,7.2,3.1,4.8,3.6,4.0,4.1,4.0,6.7,7.5,6.8,7.8,6.0,5.3,4.3,6.8,5.7,8.0,7.1,6.7,5.6,5.9,6.7,4.8,5.4,5.7,3.3,8.2,5.9,6.3,6.1,5.7,5.5,3.2,3.7,4.2,4.0,2.6,5.0,9.3,6.6,7.0,5.1,6.0,3.8,5.1,4.7,4.7,4.8,4.9,6.1,7.3,5.4,5.1,5.4,3.5,5.9,5.5,2.0,3.7,3.4,3.8,5.8,5.6,3.6,5.1,5.0,3.9,3.8,3.4,2.3,3.8,4.2],\"xaxis\":\"x\",\"y\":[0.143,0.086,0.068,0.009,0.009,0.009,0.007,0.005,0.613,0.414,0.261,0.12,0.106,0.077,0.072,0.046,0.028,0.026,0.022,0.022,0.017,0.016,0.016,0.01,0.01,0.009,0.009,0.007,0.006,0.006,0.004,0.004,0.004,0.004,0.004,0.004,0.004,0.001,0.001,0.588,0.294,0.19,0.167,0.159,0.146,0.097,0.048,0.045,0.02,0.02,0.017,0.014,0.01,0.009,0.004,0.004,0.004,0.004,0.001,0.001,0.001,0.001,0.001,0.485,0.406,0.301,0.149,0.056,0.053,0.044,0.04,0.02,0.017,0.016,0.013,0.012,0.007,0.005,0.005,0.004,0.004,0.003,0.002,0.001,0.001,0.491,0.401,0.201,0.151,0.129,0.116,0.092,0.05,0.046,0.037,0.012,0.011,0.001,0.001,0.338,0.279,0.264,0.177,0.172,0.09,0.083,0.081,0.033,0.028,0.015,0.015,0.014,0.006,0.005,0.004,0.004,0.004,0.003,0.003,0.001,0.001,0.522,0.263,0.247,0.173,0.171,0.072,0.071,0.036,0.027,0.012,0.009,0.004,0.004,0.004,0.003,0.003,0.001,0.576,0.347,0.326,0.164,0.145,0.036,0.022,0.014,0.012,0.005,0.004,0.004,0.003,0.001,0.001,0.001,0.659,0.635,0.136,0.108,0.069,0.05,0.045,0.033,0.019,0.005,0.004,0.003,0.001,0.001,0.001,0.001,0.704,0.426,0.235,0.211,0.111,0.033,0.026,0.024,0.021,0.005,0.005,0.004,0.004,0.004,0.004,0.001,0.001,0.001,0.667,0.613,0.233,0.176,0.111,0.07,0.013,0.01,0.005,0.005,0.003,0.001,0.001,0.518,0.496,0.231,0.148,0.078,0.033,0.03,0.026,0.026,0.021,0.016,0.011,0.01,0.008,0.007,0.005,0.004,0.001,0.001,0.584,0.351,0.273,0.104,0.084,0.069,0.067,0.033,0.027,0.025,0.019,0.019,0.003,0.002,0.001,0.001,0.66,0.577,0.366,0.055,0.034,0.031,0.01,0.01,0.001,0.001,0.001,0.001,0.001,0.723,0.386,0.286,0.252,0.02,0.017,0.017,0.007,0.005,0.001,0.001,0.001,0.001,0.001,0.001,0.576,0.507,0.219,0.14,0.091,0.079,0.045,0.032,0.022,0.011,0.009,0.007,0.001,0.508,0.319,0.211,0.2,0.087,0.075,0.065,0.056,0.056,0.011,0.007,0.007,0.005,0.004,0.003,0.003,0.832,0.327,0.207,0.117,0.091,0.083,0.05,0.006,0.006,0.005,0.004,0.003,0.003,0.003,0.002,0.001,0.001,0.001,0.001,0.726,0.372,0.268,0.128,0.061,0.031,0.021,0.02,0.012,0.006,0.005,0.004,0.004,0.003,0.002,0.002,0.001,0.001,0.655,0.627,0.27,0.135,0.075,0.043,0.033,0.03,0.008,0.006,0.005,0.003,0.003,0.002,0.001,0.001,0.001,0.001,0.001,0.001,0.337,0.303,0.258,0.205,0.149,0.109,0.093,0.079,0.042,0.021,0.002,0.001,0.001,0.001,0.001,0.569,0.466,0.42,0.122,0.052,0.017,0.015,0.009,0.006,0.006,0.006,0.004,0.002,0.001,0.001,0.001,0.712,0.552,0.31,0.078,0.043,0.029,0.025,0.023,0.019,0.017,0.013,0.013,0.004,0.002,0.001,0.001,0.001,0.732,0.417,0.359,0.106,0.07,0.036,0.028,0.026,0.016,0.001,0.001,0.001,0.582,0.425,0.228,0.172,0.145,0.02,0.014,0.009,0.003,0.003,0.003,0.002,0.001,0.001,0.001,0.813,0.275,0.258,0.189,0.073,0.035,0.034,0.032,0.032,0.012,0.003,0.001,0.001,0.001,0.55,0.435,0.386,0.344,0.07,0.04,0.026,0.007,0.001,0.001,0.785,0.404,0.222,0.142,0.085,0.033,0.024,0.005,0.005,0.003,0.002,0.002,0.002,0.001,0.001,0.001,0.71,0.532,0.348,0.048,0.021,0.02,0.015,0.014,0.007,0.004,0.003,0.002,0.001,0.001,0.001,0.001,0.577,0.562,0.271,0.159,0.017,0.007,0.006,0.002,0.002,0.001,0.495,0.487,0.389,0.097,0.053,0.045,0.04,0.006,0.004,0.002,0.001,0.001,0.001,0.531,0.431,0.354,0.157,0.093,0.02,0.017,0.007,0.004,0.004,0.002,0.002,0.735,0.318,0.291,0.274,0.048,0.011,0.01,0.006,0.005,0.004,0.003,0.003,0.002,0.001,0.632,0.393,0.239,0.152,0.071,0.054,0.027,0.007,0.004,0.002,0.001,0.001,0.001,0.001,0.001,0.713,0.347,0.258,0.068,0.053,0.036,0.027,0.026,0.021,0.02,0.017,0.017,0.006,0.003,0.002,0.001,0.72,0.425,0.271,0.156,0.095,0.005,0.002,0.002,0.001,0.001,0.001,0.484,0.482,0.371,0.112,0.082,0.038,0.02,0.007,0.005,0.746,0.495,0.33,0.08,0.051,0.007,0.007,0.002,0.002,0.001,0.731,0.441,0.205,0.075,0.074,0.065,0.032,0.006,0.005,0.005,0.004,0.002,0.768,0.352,0.21,0.173,0.068,0.049,0.025,0.013,0.008,0.001,0.001,0.746,0.363,0.198,0.166,0.081,0.026,0.023,0.018,0.017,0.009,0.001,0.58,0.449,0.345,0.138,0.042,0.038,0.02,0.008,0.005,0.003,0.001,0.001],\"yaxis\":\"y\"}],                        {\"height\":500,\"legend\":{\"title\":{\"text\":\"Win/Lose\"},\"tracegroupgap\":0},\"margin\":{\"t\":60},\"template\":{\"data\":{\"bar\":[{\"error_x\":{\"color\":\"#2a3f5f\"},\"error_y\":{\"color\":\"#2a3f5f\"},\"marker\":{\"line\":{\"color\":\"#E5ECF6\",\"width\":0.5},\"pattern\":{\"fillmode\":\"overlay\",\"size\":10,\"solidity\":0.2}},\"type\":\"bar\"}],\"barpolar\":[{\"marker\":{\"line\":{\"color\":\"#E5ECF6\",\"width\":0.5},\"pattern\":{\"fillmode\":\"overlay\",\"size\":10,\"solidity\":0.2}},\"type\":\"barpolar\"}],\"carpet\":[{\"aaxis\":{\"endlinecolor\":\"#2a3f5f\",\"gridcolor\":\"white\",\"linecolor\":\"white\",\"minorgridcolor\":\"white\",\"startlinecolor\":\"#2a3f5f\"},\"baxis\":{\"endlinecolor\":\"#2a3f5f\",\"gridcolor\":\"white\",\"linecolor\":\"white\",\"minorgridcolor\":\"white\",\"startlinecolor\":\"#2a3f5f\"},\"type\":\"carpet\"}],\"choropleth\":[{\"colorbar\":{\"outlinewidth\":0,\"ticks\":\"\"},\"type\":\"choropleth\"}],\"contour\":[{\"colorbar\":{\"outlinewidth\":0,\"ticks\":\"\"},\"colorscale\":[[0.0,\"#0d0887\"],[0.1111111111111111,\"#46039f\"],[0.2222222222222222,\"#7201a8\"],[0.3333333333333333,\"#9c179e\"],[0.4444444444444444,\"#bd3786\"],[0.5555555555555556,\"#d8576b\"],[0.6666666666666666,\"#ed7953\"],[0.7777777777777778,\"#fb9f3a\"],[0.8888888888888888,\"#fdca26\"],[1.0,\"#f0f921\"]],\"type\":\"contour\"}],\"contourcarpet\":[{\"colorbar\":{\"outlinewidth\":0,\"ticks\":\"\"},\"type\":\"contourcarpet\"}],\"heatmap\":[{\"colorbar\":{\"outlinewidth\":0,\"ticks\":\"\"},\"colorscale\":[[0.0,\"#0d0887\"],[0.1111111111111111,\"#46039f\"],[0.2222222222222222,\"#7201a8\"],[0.3333333333333333,\"#9c179e\"],[0.4444444444444444,\"#bd3786\"],[0.5555555555555556,\"#d8576b\"],[0.6666666666666666,\"#ed7953\"],[0.7777777777777778,\"#fb9f3a\"],[0.8888888888888888,\"#fdca26\"],[1.0,\"#f0f921\"]],\"type\":\"heatmap\"}],\"heatmapgl\":[{\"colorbar\":{\"outlinewidth\":0,\"ticks\":\"\"},\"colorscale\":[[0.0,\"#0d0887\"],[0.1111111111111111,\"#46039f\"],[0.2222222222222222,\"#7201a8\"],[0.3333333333333333,\"#9c179e\"],[0.4444444444444444,\"#bd3786\"],[0.5555555555555556,\"#d8576b\"],[0.6666666666666666,\"#ed7953\"],[0.7777777777777778,\"#fb9f3a\"],[0.8888888888888888,\"#fdca26\"],[1.0,\"#f0f921\"]],\"type\":\"heatmapgl\"}],\"histogram\":[{\"marker\":{\"pattern\":{\"fillmode\":\"overlay\",\"size\":10,\"solidity\":0.2}},\"type\":\"histogram\"}],\"histogram2d\":[{\"colorbar\":{\"outlinewidth\":0,\"ticks\":\"\"},\"colorscale\":[[0.0,\"#0d0887\"],[0.1111111111111111,\"#46039f\"],[0.2222222222222222,\"#7201a8\"],[0.3333333333333333,\"#9c179e\"],[0.4444444444444444,\"#bd3786\"],[0.5555555555555556,\"#d8576b\"],[0.6666666666666666,\"#ed7953\"],[0.7777777777777778,\"#fb9f3a\"],[0.8888888888888888,\"#fdca26\"],[1.0,\"#f0f921\"]],\"type\":\"histogram2d\"}],\"histogram2dcontour\":[{\"colorbar\":{\"outlinewidth\":0,\"ticks\":\"\"},\"colorscale\":[[0.0,\"#0d0887\"],[0.1111111111111111,\"#46039f\"],[0.2222222222222222,\"#7201a8\"],[0.3333333333333333,\"#9c179e\"],[0.4444444444444444,\"#bd3786\"],[0.5555555555555556,\"#d8576b\"],[0.6666666666666666,\"#ed7953\"],[0.7777777777777778,\"#fb9f3a\"],[0.8888888888888888,\"#fdca26\"],[1.0,\"#f0f921\"]],\"type\":\"histogram2dcontour\"}],\"mesh3d\":[{\"colorbar\":{\"outlinewidth\":0,\"ticks\":\"\"},\"type\":\"mesh3d\"}],\"parcoords\":[{\"line\":{\"colorbar\":{\"outlinewidth\":0,\"ticks\":\"\"}},\"type\":\"parcoords\"}],\"pie\":[{\"automargin\":true,\"type\":\"pie\"}],\"scatter\":[{\"marker\":{\"colorbar\":{\"outlinewidth\":0,\"ticks\":\"\"}},\"type\":\"scatter\"}],\"scatter3d\":[{\"line\":{\"colorbar\":{\"outlinewidth\":0,\"ticks\":\"\"}},\"marker\":{\"colorbar\":{\"outlinewidth\":0,\"ticks\":\"\"}},\"type\":\"scatter3d\"}],\"scattercarpet\":[{\"marker\":{\"colorbar\":{\"outlinewidth\":0,\"ticks\":\"\"}},\"type\":\"scattercarpet\"}],\"scattergeo\":[{\"marker\":{\"colorbar\":{\"outlinewidth\":0,\"ticks\":\"\"}},\"type\":\"scattergeo\"}],\"scattergl\":[{\"marker\":{\"colorbar\":{\"outlinewidth\":0,\"ticks\":\"\"}},\"type\":\"scattergl\"}],\"scattermapbox\":[{\"marker\":{\"colorbar\":{\"outlinewidth\":0,\"ticks\":\"\"}},\"type\":\"scattermapbox\"}],\"scatterpolar\":[{\"marker\":{\"colorbar\":{\"outlinewidth\":0,\"ticks\":\"\"}},\"type\":\"scatterpolar\"}],\"scatterpolargl\":[{\"marker\":{\"colorbar\":{\"outlinewidth\":0,\"ticks\":\"\"}},\"type\":\"scatterpolargl\"}],\"scatterternary\":[{\"marker\":{\"colorbar\":{\"outlinewidth\":0,\"ticks\":\"\"}},\"type\":\"scatterternary\"}],\"surface\":[{\"colorbar\":{\"outlinewidth\":0,\"ticks\":\"\"},\"colorscale\":[[0.0,\"#0d0887\"],[0.1111111111111111,\"#46039f\"],[0.2222222222222222,\"#7201a8\"],[0.3333333333333333,\"#9c179e\"],[0.4444444444444444,\"#bd3786\"],[0.5555555555555556,\"#d8576b\"],[0.6666666666666666,\"#ed7953\"],[0.7777777777777778,\"#fb9f3a\"],[0.8888888888888888,\"#fdca26\"],[1.0,\"#f0f921\"]],\"type\":\"surface\"}],\"table\":[{\"cells\":{\"fill\":{\"color\":\"#EBF0F8\"},\"line\":{\"color\":\"white\"}},\"header\":{\"fill\":{\"color\":\"#C8D4E3\"},\"line\":{\"color\":\"white\"}},\"type\":\"table\"}]},\"layout\":{\"annotationdefaults\":{\"arrowcolor\":\"#2a3f5f\",\"arrowhead\":0,\"arrowwidth\":1},\"autotypenumbers\":\"strict\",\"coloraxis\":{\"colorbar\":{\"outlinewidth\":0,\"ticks\":\"\"}},\"colorscale\":{\"diverging\":[[0,\"#8e0152\"],[0.1,\"#c51b7d\"],[0.2,\"#de77ae\"],[0.3,\"#f1b6da\"],[0.4,\"#fde0ef\"],[0.5,\"#f7f7f7\"],[0.6,\"#e6f5d0\"],[0.7,\"#b8e186\"],[0.8,\"#7fbc41\"],[0.9,\"#4d9221\"],[1,\"#276419\"]],\"sequential\":[[0.0,\"#0d0887\"],[0.1111111111111111,\"#46039f\"],[0.2222222222222222,\"#7201a8\"],[0.3333333333333333,\"#9c179e\"],[0.4444444444444444,\"#bd3786\"],[0.5555555555555556,\"#d8576b\"],[0.6666666666666666,\"#ed7953\"],[0.7777777777777778,\"#fb9f3a\"],[0.8888888888888888,\"#fdca26\"],[1.0,\"#f0f921\"]],\"sequentialminus\":[[0.0,\"#0d0887\"],[0.1111111111111111,\"#46039f\"],[0.2222222222222222,\"#7201a8\"],[0.3333333333333333,\"#9c179e\"],[0.4444444444444444,\"#bd3786\"],[0.5555555555555556,\"#d8576b\"],[0.6666666666666666,\"#ed7953\"],[0.7777777777777778,\"#fb9f3a\"],[0.8888888888888888,\"#fdca26\"],[1.0,\"#f0f921\"]]},\"colorway\":[\"#636efa\",\"#EF553B\",\"#00cc96\",\"#ab63fa\",\"#FFA15A\",\"#19d3f3\",\"#FF6692\",\"#B6E880\",\"#FF97FF\",\"#FECB52\"],\"font\":{\"color\":\"#2a3f5f\"},\"geo\":{\"bgcolor\":\"white\",\"lakecolor\":\"white\",\"landcolor\":\"#E5ECF6\",\"showlakes\":true,\"showland\":true,\"subunitcolor\":\"white\"},\"hoverlabel\":{\"align\":\"left\"},\"hovermode\":\"closest\",\"mapbox\":{\"style\":\"light\"},\"paper_bgcolor\":\"white\",\"plot_bgcolor\":\"#E5ECF6\",\"polar\":{\"angularaxis\":{\"gridcolor\":\"white\",\"linecolor\":\"white\",\"ticks\":\"\"},\"bgcolor\":\"#E5ECF6\",\"radialaxis\":{\"gridcolor\":\"white\",\"linecolor\":\"white\",\"ticks\":\"\"}},\"scene\":{\"xaxis\":{\"backgroundcolor\":\"#E5ECF6\",\"gridcolor\":\"white\",\"gridwidth\":2,\"linecolor\":\"white\",\"showbackground\":true,\"ticks\":\"\",\"zerolinecolor\":\"white\"},\"yaxis\":{\"backgroundcolor\":\"#E5ECF6\",\"gridcolor\":\"white\",\"gridwidth\":2,\"linecolor\":\"white\",\"showbackground\":true,\"ticks\":\"\",\"zerolinecolor\":\"white\"},\"zaxis\":{\"backgroundcolor\":\"#E5ECF6\",\"gridcolor\":\"white\",\"gridwidth\":2,\"linecolor\":\"white\",\"showbackground\":true,\"ticks\":\"\",\"zerolinecolor\":\"white\"}},\"shapedefaults\":{\"line\":{\"color\":\"#2a3f5f\"}},\"ternary\":{\"aaxis\":{\"gridcolor\":\"white\",\"linecolor\":\"white\",\"ticks\":\"\"},\"baxis\":{\"gridcolor\":\"white\",\"linecolor\":\"white\",\"ticks\":\"\"},\"bgcolor\":\"#E5ECF6\",\"caxis\":{\"gridcolor\":\"white\",\"linecolor\":\"white\",\"ticks\":\"\"}},\"title\":{\"x\":0.05},\"xaxis\":{\"automargin\":true,\"gridcolor\":\"white\",\"linecolor\":\"white\",\"ticks\":\"\",\"title\":{\"standoff\":15},\"zerolinecolor\":\"white\",\"zerolinewidth\":2},\"yaxis\":{\"automargin\":true,\"gridcolor\":\"white\",\"linecolor\":\"white\",\"ticks\":\"\",\"title\":{\"standoff\":15},\"zerolinecolor\":\"white\",\"zerolinewidth\":2}}},\"title\":{\"text\":\"value_over_replacement_player vs. MVP share\"},\"xaxis\":{\"anchor\":\"y\",\"domain\":[0.0,1.0],\"title\":{\"text\":\"value_over_replacement_player\"}},\"yaxis\":{\"anchor\":\"x\",\"domain\":[0.0,1.0],\"title\":{\"text\":\"Share\"}}},                        {\"responsive\": true}                    ).then(function(){\n",
       "                            \n",
       "var gd = document.getElementById('3d4259c0-3bf7-4ccb-9778-bd953bcceb34');\n",
       "var x = new MutationObserver(function (mutations, observer) {{\n",
       "        var display = window.getComputedStyle(gd).display;\n",
       "        if (!display || display === 'none') {{\n",
       "            console.log([gd, 'removed!']);\n",
       "            Plotly.purge(gd);\n",
       "            observer.disconnect();\n",
       "        }}\n",
       "}});\n",
       "\n",
       "// Listen for the removal of the full notebook cells\n",
       "var notebookContainer = gd.closest('#notebook-container');\n",
       "if (notebookContainer) {{\n",
       "    x.observe(notebookContainer, {childList: true});\n",
       "}}\n",
       "\n",
       "// Listen for the clearing of the current output cell\n",
       "var outputEl = gd.closest('.output');\n",
       "if (outputEl) {{\n",
       "    x.observe(outputEl, {childList: true});\n",
       "}}\n",
       "\n",
       "                        })                };                });            </script>        </div>"
      ]
     },
     "metadata": {},
     "output_type": "display_data"
    }
   ],
   "source": [
    "fig_vorp.show()"
   ]
  },
  {
   "cell_type": "code",
   "execution_count": 24,
   "id": "ae9b5faa-52af-42a8-b8b6-b96a2120cc52",
   "metadata": {},
   "outputs": [
    {
     "data": {
      "text/plain": [
       "'https://plotly.com/~dbtjdals/1/'"
      ]
     },
     "execution_count": 24,
     "metadata": {},
     "output_type": "execute_result"
    }
   ],
   "source": [
    "py.plot(fig_vorp, filename=\"nba_vorp_vs_mvp_shares\", auto_open = True)\n"
   ]
  },
  {
   "cell_type": "code",
   "execution_count": 25,
   "id": "b459e87d-98ad-424a-a8ef-f0436feb694a",
   "metadata": {},
   "outputs": [
    {
     "data": {
      "text/plain": [
       "'https://plotly.com/~dbtjdals/3/'"
      ]
     },
     "execution_count": 25,
     "metadata": {},
     "output_type": "execute_result"
    }
   ],
   "source": [
    "py.plot(fig_seed, filename=\"nba_seed_vs_mvp_shares\", auto_open = True)\n"
   ]
  },
  {
   "cell_type": "code",
   "execution_count": 27,
   "id": "6bcb2af8-796f-4965-9d9e-87d877b29095",
   "metadata": {},
   "outputs": [
    {
     "data": {
      "text/plain": [
       "'https://plotly.com/~dbtjdals/7/'"
      ]
     },
     "execution_count": 27,
     "metadata": {},
     "output_type": "execute_result"
    }
   ],
   "source": [
    "py.plot(fig_w, filename=\"nba_w_vs_mvp_shares\", auto_open = True)\n"
   ]
  },
  {
   "cell_type": "code",
   "execution_count": 26,
   "id": "42ca4d9c-6a14-49a9-9b64-1c4e1d7d0139",
   "metadata": {},
   "outputs": [
    {
     "data": {
      "text/plain": [
       "'https://plotly.com/~dbtjdals/5/'"
      ]
     },
     "execution_count": 26,
     "metadata": {},
     "output_type": "execute_result"
    }
   ],
   "source": [
    "py.plot(fig_usage_percentage, filename=\"nba_usage_vs_mvp_shares\", auto_open = True)\n"
   ]
  }
 ],
 "metadata": {
  "kernelspec": {
   "display_name": "Python (nba_mvp_prediction)",
   "language": "python",
   "name": "nba_mvp_prediction"
  },
  "language_info": {
   "codemirror_mode": {
    "name": "ipython",
    "version": 3
   },
   "file_extension": ".py",
   "mimetype": "text/x-python",
   "name": "python",
   "nbconvert_exporter": "python",
   "pygments_lexer": "ipython3",
   "version": "3.8.10"
  }
 },
 "nbformat": 4,
 "nbformat_minor": 5
}
